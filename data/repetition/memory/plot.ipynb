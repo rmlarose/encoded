{
 "cells": [
  {
   "cell_type": "markdown",
   "metadata": {},
   "source": [
    "# Analyze and plot repetition code memory experiment data"
   ]
  },
  {
   "cell_type": "code",
   "execution_count": 1,
   "metadata": {},
   "outputs": [],
   "source": [
    "from typing import Dict, List\n",
    "\n",
    "import collections\n",
    "import itertools\n",
    "import functools\n",
    "\n",
    "import matplotlib.pyplot as plt; plt.rcParams.update({\"font.family\": \"serif\"})\n",
    "import numpy as np\n",
    "import pickle\n",
    "\n",
    "import cirq\n",
    "import qiskit"
   ]
  },
  {
   "cell_type": "markdown",
   "metadata": {},
   "source": [
    "## Helper functions"
   ]
  },
  {
   "cell_type": "code",
   "execution_count": 15,
   "metadata": {},
   "outputs": [],
   "source": [
    "def get_counts_for(qubit: int, counts: collections.Counter[str, int]) -> collections.Counter[int, int]:\n",
    "    qubit_counts = collections.Counter()\n",
    "    for key, value in counts.items():\n",
    "        k = list(key)[qubit]\n",
    "        qubit_counts[int(k)] += value\n",
    "    return qubit_counts\n",
    "\n",
    "\n",
    "def generate_stabilizer_elements(generators: List[cirq.PauliString]) -> List[cirq.PauliString]:\n",
    "    elements = []\n",
    "    for string in itertools.chain.from_iterable(itertools.combinations(generators, r) for r in range(len(generators) + 1)):\n",
    "        elements.append(\n",
    "            functools.reduce(lambda a, b: a * b, string, cirq.PauliString())\n",
    "        )\n",
    "    return elements\n",
    "\n",
    "\n",
    "def compute_expectation(\n",
    "    pauli: cirq.PauliString,\n",
    "    counts: Dict[str, int],\n",
    ") -> float:\n",
    "    if pauli is cirq.PauliString():\n",
    "        return 1.0\n",
    "\n",
    "    expectation = 0.0\n",
    "\n",
    "    indices = [q.x for q in pauli.qubits]\n",
    "    for key, value in counts.items():\n",
    "        key = list(map(int, list(key)))\n",
    "        expectation += (-1) ** sum([key[i] for i in indices]) * value\n",
    "\n",
    "    return expectation / sum(counts.values())"
   ]
  },
  {
   "cell_type": "markdown",
   "metadata": {},
   "source": [
    "## Load data"
   ]
  },
  {
   "cell_type": "code",
   "execution_count": 2,
   "metadata": {},
   "outputs": [],
   "source": [
    "# Set data directory (job id).\n",
    "job_id = \"ctwgnt7seb10008x520g\""
   ]
  },
  {
   "cell_type": "code",
   "execution_count": 11,
   "metadata": {},
   "outputs": [],
   "source": [
    "with open(f\"{job_id}/{job_id}.pkl\", \"rb\") as f:\n",
    "    result = qiskit.result.Result.from_dict(pickle.load(f))\n",
    "\n",
    "\n",
    "nqubits = int(np.loadtxt(f\"{job_id}/nqubits.txt\"))\n",
    "depths = [int(d) for d in np.loadtxt(f\"{job_id}/depths.txt\")]\n",
    "nvals = [int(n) for n in np.loadtxt(f\"{job_id}/nvals.txt\")]\n",
    "physical_qubits = [int(q) for q in np.loadtxt(f\"{job_id}/physical_qubits.txt\")]\n",
    "nshots = int(np.loadtxt(f\"{job_id}/nshots.txt\"))"
   ]
  },
  {
   "cell_type": "markdown",
   "metadata": {},
   "source": [
    "## Visualize physical results"
   ]
  },
  {
   "cell_type": "code",
   "execution_count": 12,
   "metadata": {},
   "outputs": [],
   "source": [
    "expectations = {q: [] for q in range(nqubits)}\n",
    "\n",
    "for counts in result.get_counts():  # Loop over circuit depth.\n",
    "    for qubit in expectations.keys():\n",
    "        qubit_counts = get_counts_for(qubit, counts)\n",
    "        expectations[qubit].append(\n",
    "            (qubit_counts.get(0) - qubit_counts.get(1)) / nshots\n",
    "        )\n",
    "\n",
    "expectations = {q: np.array(v) for q, v in expectations.items()}"
   ]
  },
  {
   "cell_type": "code",
   "execution_count": null,
   "metadata": {},
   "outputs": [],
   "source": [
    "for qubit, expectation in expectations.items():\n",
    "    plt.plot(depths, expectation, \"--o\", label=f\"Qubit {physical_qubits[qubit]}\", alpha=0.75, mec=\"black\")\n",
    "\n",
    "plt.title(result.header.backend_name + \"\\njob id: \" + job_id)\n",
    "\n",
    "plt.xlabel(\"Depth\")\n",
    "plt.ylabel(r\"$\\langle Z \\rangle$\")\n",
    "plt.legend(ncol=2);"
   ]
  },
  {
   "cell_type": "code",
   "execution_count": null,
   "metadata": {},
   "outputs": [],
   "source": [
    "all_expectations = np.array([v for _, v in expectations.items()])\n",
    "\n",
    "plt.errorbar(\n",
    "    x=depths,\n",
    "    y=np.average(all_expectations, axis=0),\n",
    "    yerr=np.std(all_expectations, axis=0, ddof=1),\n",
    "    capsize=8,\n",
    "    lw=2,\n",
    ")\n",
    "\n",
    "plt.title(result.header.backend_name + \"\\njob id: \" + job_id)\n",
    "\n",
    "plt.xlabel(\"Depth\")\n",
    "plt.ylabel(r\"Average $\\langle Z \\rangle$\");\n"
   ]
  },
  {
   "cell_type": "markdown",
   "metadata": {},
   "source": [
    "## Post-processing"
   ]
  },
  {
   "cell_type": "code",
   "execution_count": 16,
   "metadata": {},
   "outputs": [],
   "source": [
    "# # Post-process by applying the codespace projector directly. Note that for this experiment this equivalent to the (much) faster post-processing by post-selection below.\n",
    "# all_lst_values = {}\n",
    "\n",
    "# for n in nvals:\n",
    "#     print(f\"Post-processing status: n = {n}\")\n",
    "#     q = cirq.LineQubit.range(n)\n",
    "#     observable = cirq.Z.on(q[0])\n",
    "#     generators = [\n",
    "#         cirq.Z.on(q[i]) * cirq.Z.on(q[i + 1]) for i in range(len(q) - 1)\n",
    "#     ]\n",
    "#     elements = generate_stabilizer_elements(generators)\n",
    "#     paulis = [observable * p for p in elements]\n",
    "#     lst_values = []\n",
    "\n",
    "#     for counts in result.get_counts():\n",
    "#         denominator = sum(\n",
    "#             compute_expectation(e, counts) for e in elements\n",
    "#         ) / 4.0\n",
    "#         numerator = sum(\n",
    "#             compute_expectation(p, counts) for p in paulis\n",
    "#         ) / 4.0\n",
    "#         lst_values.append(numerator / denominator)\n",
    "\n",
    "#     print(lst_values)\n",
    "#     all_lst_values[n] = lst_values"
   ]
  },
  {
   "cell_type": "code",
   "execution_count": null,
   "metadata": {},
   "outputs": [],
   "source": [
    "# Post-process by post-selection.\n",
    "all_lst_values = {}\n",
    "\n",
    "for n in nvals:\n",
    "    print(f\"Post-processing status: n = {n}\")\n",
    "    post_selection_values = [] = []\n",
    "\n",
    "    for counts in result.get_counts():\n",
    "        subselected = collections.Counter()\n",
    "        for k, v in counts.items():\n",
    "            subselected[k[:n]] += v\n",
    "\n",
    "        num_zero = subselected.get(\"0\" * n, 0)\n",
    "        num_one   = subselected.get(\"1\" * n, 0)\n",
    "\n",
    "        total = num_zero + num_one\n",
    "        eval = (num_zero - num_one) / total\n",
    "        post_selection_values.append(eval)\n",
    "\n",
    "    all_lst_values[n] = post_selection_values"
   ]
  },
  {
   "cell_type": "markdown",
   "metadata": {},
   "source": [
    "## Plotting"
   ]
  },
  {
   "cell_type": "code",
   "execution_count": null,
   "metadata": {},
   "outputs": [],
   "source": [
    "# Plot average physical expectation values.\n",
    "plt.errorbar(\n",
    "    x=depths,\n",
    "    y=np.average(all_expectations, axis=0),\n",
    "    yerr=np.std(all_expectations, axis=0, ddof=1),\n",
    "    capsize=8,\n",
    "    lw=2,\n",
    "    label=\"Physical\",\n",
    ")\n",
    "\n",
    "# Plot LST expectation values.\n",
    "for n, lst_values in all_lst_values.items():\n",
    "    plt.plot(depths, lst_values, \"--s\", markersize=10, label=f\"$n = {n}$\", alpha=0.75, mec=\"black\")\n",
    "\n",
    "# Format.\n",
    "# plt.title(result.header.backend_name + \"\\njob id: \" + job_id)\n",
    "plt.xlabel(\"$d$\")\n",
    "plt.ylabel(r\"$\\langle Z \\rangle$\")\n",
    "plt.legend();\n",
    "plt.savefig(f\"{job_id}_d.pdf\")"
   ]
  },
  {
   "cell_type": "code",
   "execution_count": null,
   "metadata": {},
   "outputs": [],
   "source": [
    "lst_vals = np.array([v for _, v in all_lst_values.items()]).T\n",
    "for i, vals in enumerate(lst_vals):\n",
    "    plt.plot(nvals, vals, \"--o\", label=f\"$d = {depths[i]}$\", markersize=8, mec=\"black\", alpha=0.75)\n",
    "\n",
    "\n",
    "plt.xticks(np.arange(min(nvals), max(nvals) + 1, 1))\n",
    "plt.xlabel(\"$n$\")\n",
    "plt.ylabel(r\"$\\langle Z \\rangle$\")\n",
    "plt.legend();\n",
    "plt.savefig(f\"{job_id}_n.pdf\")"
   ]
  },
  {
   "cell_type": "markdown",
   "metadata": {},
   "source": []
  }
 ],
 "metadata": {
  "kernelspec": {
   "display_name": "envencoded",
   "language": "python",
   "name": "envencoded"
  },
  "language_info": {
   "codemirror_mode": {
    "name": "ipython",
    "version": 3
   },
   "file_extension": ".py",
   "mimetype": "text/x-python",
   "name": "python",
   "nbconvert_exporter": "python",
   "pygments_lexer": "ipython3",
   "version": "3.10.12"
  }
 },
 "nbformat": 4,
 "nbformat_minor": 2
}
