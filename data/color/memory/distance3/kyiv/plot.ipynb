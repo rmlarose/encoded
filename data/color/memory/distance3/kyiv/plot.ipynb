{
 "cells": [
  {
   "cell_type": "markdown",
   "metadata": {},
   "source": [
    "# Analyze and plot data"
   ]
  },
  {
   "cell_type": "markdown",
   "metadata": {},
   "source": [
    "## Setup"
   ]
  },
  {
   "cell_type": "code",
   "execution_count": 1,
   "metadata": {},
   "outputs": [],
   "source": [
    "import glob\n",
    "import pickle\n",
    "\n",
    "import matplotlib.pyplot as plt\n",
    "import numpy as np"
   ]
  },
  {
   "cell_type": "code",
   "execution_count": null,
   "metadata": {},
   "outputs": [],
   "source": [
    "evals_raw_fname = \"expectation_values_raw.pkl\"\n",
    "evals_encoded_fname = \"expectation_values_encoded.txt\"\n",
    "evals_dd_fname = \"expectation_values_encoded_dd.txt\""
   ]
  },
  {
   "cell_type": "markdown",
   "metadata": {},
   "source": [
    "## Select data"
   ]
  },
  {
   "cell_type": "code",
   "execution_count": 8,
   "metadata": {},
   "outputs": [],
   "source": [
    "# Load experiment data matching these parameters.\n",
    "depths = np.arange(0, 100 + 1, 20)\n",
    "pattern = \"./distance3/fez/*\""
   ]
  },
  {
   "cell_type": "code",
   "execution_count": 11,
   "metadata": {},
   "outputs": [],
   "source": [
    "dir = glob.glob(pattern)[0]"
   ]
  },
  {
   "cell_type": "markdown",
   "metadata": {},
   "source": [
    "## Load data"
   ]
  },
  {
   "cell_type": "code",
   "execution_count": 14,
   "metadata": {},
   "outputs": [],
   "source": [
    "all_counts = []\n",
    "for depth in depths:\n",
    "    counts = pickle.load(open(f\"{dir}/depth_{depth}_counts.pkl\", \"rb\"))\n",
    "    all_counts.append(counts)"
   ]
  },
  {
   "cell_type": "code",
   "execution_count": null,
   "metadata": {},
   "outputs": [],
   "source": []
  },
  {
   "cell_type": "code",
   "execution_count": null,
   "metadata": {},
   "outputs": [],
   "source": [
    "all_evals_raw = []\n",
    "all_evals_encoded = []\n",
    "all_evals_dd = []\n",
    "for dir in glob.glob(pattern):\n",
    "    if not np.allclose(depths, np.loadtxt(f\"{dir}/depths.txt\")):\n",
    "        continue\n",
    "\n",
    "    with open(f\"{dir}/{evals_raw_fname}\", \"rb\") as f:\n",
    "        all_evals = pickle.load(f)\n",
    "\n",
    "    all_evals_raw.append(np.array(list(all_evals.values())).mean(axis=0))\n",
    "    all_evals_encoded.append(np.loadtxt(f\"{dir}/{evals_encoded_fname}\"))\n",
    "    all_evals_dd.append(np.loadtxt(f\"{dir}/{evals_dd_fname}\"))\n",
    "\n",
    "ntrials = len(all_evals_raw)\n",
    "print(f\"Loaded data from {ntrials} experiment(s).\")"
   ]
  },
  {
   "cell_type": "code",
   "execution_count": null,
   "metadata": {},
   "outputs": [],
   "source": [
    "all_evals_raw = np.array(all_evals_raw)\n",
    "all_evals_encoded = np.array(all_evals_encoded)\n",
    "all_evals_dd = np.array(all_evals_dd)\n",
    "\n",
    "evals_raw_avg = np.average(all_evals_raw, axis=0)\n",
    "evals_encoded_avg = np.average(all_evals_encoded, axis=0)\n",
    "evals_dd_avg = np.average(all_evals_dd, axis=0)\n",
    "\n",
    "evals_raw_std = np.std(all_evals_raw, axis=0, ddof=1)\n",
    "evals_encoded_std = np.std(all_evals_encoded, axis=0, ddof=1)\n",
    "evals_dd_std = np.std(all_evals_encoded, axis=0, ddof=1)"
   ]
  },
  {
   "cell_type": "markdown",
   "metadata": {},
   "source": [
    "## Plot"
   ]
  },
  {
   "cell_type": "code",
   "execution_count": null,
   "metadata": {},
   "outputs": [],
   "source": [
    "plt.rcParams.update({\"font.family\": \"serif\", \"font.size\": 12})\n",
    "colors = [\"xkcd:blue\", \"xkcd:orange\", \"xkcd:red\"]\n",
    "alpha: float = 0.75\n",
    "\n",
    "plt.axhline(1.0, label=\"Ideal\", alpha=alpha, color=\"xkcd:darkgreen\")\n",
    "plt.plot(depths, evals_raw_avg, \"--o\", alpha=alpha, label=\"Physical (Average)\")\n",
    "plt.fill_between(depths, y1=evals_raw_avg - evals_raw_std, y2=evals_raw_avg + evals_raw_std, alpha=0.15)\n",
    "# plt.plot(depths, all_evals[121], \"--o\", alpha=alpha, label=\"Physical (Best)\")\n",
    "plt.plot(depths, evals_encoded_avg, \"--o\", alpha=alpha, label=\"Encoded\")\n",
    "plt.fill_between(depths, y1=evals_encoded_avg - evals_encoded_std, y2=evals_encoded_avg + evals_encoded_std, alpha=0.15)\n",
    "plt.plot(depths, evals_dd_avg, \"--o\", alpha=alpha, label=\"Encoded + DD\")\n",
    "plt.fill_between(depths, y1=evals_dd_avg - evals_dd_std, y2=evals_dd_avg + evals_dd_std, alpha=0.15)\n",
    "\n",
    "plt.ylabel(r\"$\\langle \\bar{Z} \\rangle$\")\n",
    "plt.xlabel(\"Depth\")\n",
    "\n",
    "plt.tight_layout()\n",
    "plt.legend();\n",
    "# plt.savefig(\"color_code_distance_three_memory_z_averages.pdf\")"
   ]
  },
  {
   "cell_type": "markdown",
   "metadata": {},
   "source": []
  }
 ],
 "metadata": {
  "kernelspec": {
   "display_name": "envencoded",
   "language": "python",
   "name": "python3"
  },
  "language_info": {
   "codemirror_mode": {
    "name": "ipython",
    "version": 3
   },
   "file_extension": ".py",
   "mimetype": "text/x-python",
   "name": "python",
   "nbconvert_exporter": "python",
   "pygments_lexer": "ipython3",
   "version": "3.10.12"
  }
 },
 "nbformat": 4,
 "nbformat_minor": 2
}
