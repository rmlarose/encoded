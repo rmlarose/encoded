{
 "cells": [
  {
   "cell_type": "markdown",
   "metadata": {},
   "source": [
    "# Memory experiment: Compute $ \\langle \\bar{0} | \\bar{Z} | \\bar{0} \\rangle$ with the five-qubit code"
   ]
  },
  {
   "cell_type": "code",
   "execution_count": 1,
   "metadata": {},
   "outputs": [],
   "source": [
    "import collections\n",
    "from typing import List, Dict, Sequence\n",
    "import itertools\n",
    "import functools\n",
    "\n",
    "import numpy as np\n",
    "import cirq\n",
    "import qiskit\n",
    "from qiskit.circuit.library import Barrier\n",
    "import qiskit_ibm_runtime\n",
    "from qiskit_ibm_runtime import SamplerV2 as Sampler\n",
    "\n",
    "import matplotlib.pyplot as plt; plt.rcParams.update({\"font.family\": \"serif\"})\n",
    "\n",
    "from mitiq import PauliString\n",
    "import stim\n",
    "import stimcirq\n",
    "\n",
    "from encoded.LST import int_to_bin_list"
   ]
  },
  {
   "cell_type": "code",
   "execution_count": 2,
   "metadata": {},
   "outputs": [],
   "source": [
    "import datetime\n",
    "\n",
    "\n",
    "time_key = datetime.datetime.now().strftime(\"%m_%d_%Y_%H:%M:%S\")  # For saving results."
   ]
  },
  {
   "cell_type": "markdown",
   "metadata": {},
   "source": [
    "## Set parameters"
   ]
  },
  {
   "cell_type": "code",
   "execution_count": 3,
   "metadata": {},
   "outputs": [],
   "source": [
    "n = 5                                   # Number of physical qubits\n",
    "nshots = 50_000                         # Number of samples/shots\n",
    "depths = np.arange(0, 100 + 1, 10)      # Number of X (NOT) gates to perform (each depth should be even to implement a noisy identity)\n",
    "k = 1                                   # Number of logical qubits.\n",
    "# obs: str = \"Z\"  # TODO: Add.\n",
    "ibm_computer: str = \"ibm_kyiv\"\n",
    "use_simulator: bool = True"
   ]
  },
  {
   "cell_type": "code",
   "execution_count": 4,
   "metadata": {},
   "outputs": [],
   "source": [
    "# Computer and qubits to use.\n",
    "service = qiskit_ibm_runtime.QiskitRuntimeService()  # This assumes a saved account.\n",
    "computer = service.backend(ibm_computer)\n",
    "\n",
    "if use_simulator:\n",
    "    from qiskit_aer import AerSimulator\n",
    "\n",
    "\n",
    "    computer = AerSimulator().from_backend(computer)\n",
    "sampler = Sampler(computer)\n",
    "\n",
    "# See calibration data at https://quantum.ibm.com/services/resources to select good qubits.\n",
    "layout = {\n",
    "    5: [14, 0, 1, 2, 3]\n",
    "    # 7: [99, 100, 101, 110, 117, 118, 119]\n",
    "    # 7 : [3, 2, 1, 0, 14, 18, 19],\n",
    "}\n",
    "\n",
    "\n",
    "# Good qubits in Sherbrooke Jan 24.\n",
    "# layout = {\n",
    "#     7 : [99, 100, 101, 110, 117, 118, 119],\n",
    "# }"
   ]
  },
  {
   "cell_type": "markdown",
   "metadata": {},
   "source": [
    "## Helper functions"
   ]
  },
  {
   "cell_type": "code",
   "execution_count": 35,
   "metadata": {},
   "outputs": [],
   "source": [
    "def int_to_bin_str(x, length):\n",
    "    return functools.reduce(lambda a, b: a + b, [str(b) for b in int_to_bin_list(x, length)])\n",
    "\n",
    "\n",
    "def get_counts_for(qubit: int, counts: collections.Counter[str, int]) -> collections.Counter[int, int]:\n",
    "    qubit_counts = collections.Counter()\n",
    "    for key, value in counts.items():\n",
    "        k = list(key)[qubit]\n",
    "        qubit_counts[int(k)] += value\n",
    "    return qubit_counts\n",
    "\n",
    "\n",
    "# Expectation of pauli on bitstring measured in diagonal basis.\n",
    "def compute_expectation(\n",
    "    pauli: cirq.PauliString,\n",
    "    counts: Dict[str, int],\n",
    ") -> float:\n",
    "    # print(\"In compute expectation:\")\n",
    "    # print(\"pauli =\", pauli)\n",
    "    # print(\"counts =\")\n",
    "    # print(counts)\n",
    "    if pauli is cirq.PauliString():\n",
    "        return 1.0\n",
    "\n",
    "    expectation = 0.0\n",
    "\n",
    "    indices = [q.x for q in pauli.qubits]\n",
    "    # print(\"indices = \", indices)\n",
    "    for key, value in counts.items():\n",
    "        key = list(map(int, list(key[::-1])))\n",
    "        expectation += (-1) ** sum([key[i] for i in indices]) * value\n",
    "\n",
    "    eval = pauli.coefficient * expectation / sum(counts.values())\n",
    "    return float(np.real_if_close(eval))\n",
    "\n",
    "def parity_check_matrix_to_stabilizers(matrix: np.ndarray) -> List[stim.PauliString]:\n",
    "    num_rows, num_cols = matrix.shape\n",
    "    assert num_cols % 2 == 0\n",
    "    num_qubits = num_cols // 2\n",
    "\n",
    "    matrix = matrix.astype(np.bool8)  # indicate the data isn't bit packed\n",
    "    return [\n",
    "        stim.PauliString.from_numpy(\n",
    "            xs=matrix[row, :num_qubits],\n",
    "            zs=matrix[row, num_qubits:],\n",
    "        )\n",
    "        for row in range(num_rows)\n",
    "    ]\n",
    "\n",
    "# Prepares logical |0> state on Steane Code\n",
    "def encode_five(qreg: Sequence[cirq.Qid]) -> cirq.Circuit:\n",
    "    a= stim.PauliString(\"+ZX_XZ\")\n",
    "    b=stim.PauliString(\"+XZZX_\")\n",
    "    c= stim.PauliString(\"+_XZZX\")\n",
    "    d=stim.PauliString(\"+X_XZZ\")\n",
    "    # a= stim.PauliString(\"+XZZX_\")\n",
    "    # b=stim.PauliString(\"+_XZZX\")\n",
    "    # c= stim.PauliString(\"+X_XZZ\")\n",
    "    # d=stim.PauliString(\"+ZX_XZ\")\n",
    "    tableau = stim.Tableau.from_stabilizers(\n",
    "        [a, b, c, d],\n",
    "        allow_underconstrained=True,\n",
    "    )\n",
    "    stim_circuit = tableau.to_circuit(method='graph_state')\n",
    "    circuit = stimcirq.stim_circuit_to_cirq_circuit(stim_circuit)\n",
    "    circuit.append(cirq.X.on_each(qreg))\n",
    "    \n",
    "    return circuit\n",
    "\n",
    "def noisy_identity(qreg, depth):\n",
    "    circuit = cirq.Circuit()\n",
    "    if depth == 0:\n",
    "        circuit.append(cirq.I.on_each(qreg))\n",
    "    for _ in range(depth):\n",
    "        circuit.append(cirq.X.on_each(qreg))\n",
    "    return circuit\n",
    "\n",
    "def strs_to_paulis(pauli_strs : List[str]) -> List[cirq.PauliString]:\n",
    "    stab_list = []\n",
    "    for stab_str in pauli_strs:\n",
    "        stab_list.append(PauliString(stab_str)._pauli)\n",
    "    return stab_list\n",
    "\n",
    "def generate_stabilizer_elements(generators: List[cirq.PauliString]) -> List[cirq.PauliString]:\n",
    "    elements = []\n",
    "    for string in itertools.chain.from_iterable(itertools.combinations(generators, r) for r in range(len(generators) + 1)):\n",
    "        elements.append(\n",
    "            functools.reduce(lambda a, b: a * b, string, cirq.PauliString())\n",
    "        )\n",
    "    return elements\n",
    "\n",
    "# For qiskit circuits\n",
    "def get_active_qubits(circ):\n",
    "    dag = qiskit.converters.circuit_to_dag(circ)\n",
    "    active_qubits = [qubit for qubit in circ.qubits if qubit not in dag.idle_wires()]\n",
    "    return active_qubits\n",
    "\n",
    "def get_lst_ev(counts, observables, stabilizers):\n",
    "    numerator = 0\n",
    "    for obs in observables:\n",
    "        numerator += compute_expectation(obs, counts) / len(observables)\n",
    "    denominator = 0\n",
    "    for stab in stabilizers:\n",
    "        denominator += compute_expectation(stab, counts) / len(stabilizers)\n",
    "    return float(np.real_if_close(numerator / denominator))"
   ]
  },
  {
   "cell_type": "code",
   "execution_count": 6,
   "metadata": {},
   "outputs": [],
   "source": [
    "qreg = cirq.LineQubit.range(n)\n",
    "\n",
    "to_run_raw = []\n",
    "for depth in depths:\n",
    "    circuit = noisy_identity(qreg, depth)\n",
    "\n",
    "    circuit = qiskit.QuantumCircuit.from_qasm_str(circuit.to_qasm())\n",
    "    circuit.measure_active()\n",
    "    # Compile to device.\n",
    "    compiled_raw = qiskit.transpile(\n",
    "        circuit, \n",
    "        backend=computer,\n",
    "        initial_layout=layout[n],\n",
    "        routing_method=\"sabre\",\n",
    "        # scheduling_method=\"asap\",\n",
    "        optimization_level=0,\n",
    "    )\n",
    "    to_run_raw.append(compiled_raw)"
   ]
  },
  {
   "cell_type": "code",
   "execution_count": 7,
   "metadata": {},
   "outputs": [
    {
     "data": {
      "text/html": [
       "<pre style=\"word-wrap: normal;white-space: pre;background: #fff0;line-height: 1.1;font-family: &quot;Courier New&quot;,Courier,monospace\">           ┌───┐┌───┐┌───┐┌───┐┌───┐┌───┐┌───┐┌───┐┌───┐┌───┐┌───┐┌───┐┌───┐┌───┐┌───┐┌───┐┌───┐┌───┐┌───┐┌───┐┌───┐┌───┐┌───┐┌───┐┌───┐┌───┐┌───┐┌───┐┌───┐┌───┐┌───┐┌───┐┌───┐┌───┐┌───┐┌───┐┌───┐┌───┐┌───┐┌───┐┌───┐┌───┐┌───┐┌───┐┌───┐┌───┐┌───┐┌───┐┌───┐┌───┐┌───┐┌───┐┌───┐┌───┐┌───┐┌───┐┌───┐┌───┐┌───┐┌───┐┌───┐┌───┐┌───┐┌───┐┌───┐┌───┐┌───┐┌───┐┌───┐┌───┐┌───┐┌───┐┌───┐┌───┐┌───┐┌───┐┌───┐┌───┐┌───┐┌───┐┌───┐┌───┐┌───┐┌───┐┌───┐┌───┐┌───┐┌───┐┌───┐┌───┐┌───┐┌───┐┌───┐┌───┐┌───┐┌───┐┌───┐┌───┐┌───┐┌───┐ ░    ┌─┐         \n",
       "  q_1 -> 0 ┤ X ├┤ X ├┤ X ├┤ X ├┤ X ├┤ X ├┤ X ├┤ X ├┤ X ├┤ X ├┤ X ├┤ X ├┤ X ├┤ X ├┤ X ├┤ X ├┤ X ├┤ X ├┤ X ├┤ X ├┤ X ├┤ X ├┤ X ├┤ X ├┤ X ├┤ X ├┤ X ├┤ X ├┤ X ├┤ X ├┤ X ├┤ X ├┤ X ├┤ X ├┤ X ├┤ X ├┤ X ├┤ X ├┤ X ├┤ X ├┤ X ├┤ X ├┤ X ├┤ X ├┤ X ├┤ X ├┤ X ├┤ X ├┤ X ├┤ X ├┤ X ├┤ X ├┤ X ├┤ X ├┤ X ├┤ X ├┤ X ├┤ X ├┤ X ├┤ X ├┤ X ├┤ X ├┤ X ├┤ X ├┤ X ├┤ X ├┤ X ├┤ X ├┤ X ├┤ X ├┤ X ├┤ X ├┤ X ├┤ X ├┤ X ├┤ X ├┤ X ├┤ X ├┤ X ├┤ X ├┤ X ├┤ X ├┤ X ├┤ X ├┤ X ├┤ X ├┤ X ├┤ X ├┤ X ├┤ X ├┤ X ├┤ X ├┤ X ├┤ X ├┤ X ├┤ X ├┤ X ├┤ X ├┤ X ├┤ X ├─░────┤M├─────────\n",
       "           ├───┤├───┤├───┤├───┤├───┤├───┤├───┤├───┤├───┤├───┤├───┤├───┤├───┤├───┤├───┤├───┤├───┤├───┤├───┤├───┤├───┤├───┤├───┤├───┤├───┤├───┤├───┤├───┤├───┤├───┤├───┤├───┤├───┤├───┤├───┤├───┤├───┤├───┤├───┤├───┤├───┤├───┤├───┤├───┤├───┤├───┤├───┤├───┤├───┤├───┤├───┤├───┤├───┤├───┤├───┤├───┤├───┤├───┤├───┤├───┤├───┤├───┤├───┤├───┤├───┤├───┤├───┤├───┤├───┤├───┤├───┤├───┤├───┤├───┤├───┤├───┤├───┤├───┤├───┤├───┤├───┤├───┤├───┤├───┤├───┤├───┤├───┤├───┤├───┤├───┤├───┤├───┤├───┤├───┤├───┤├───┤├───┤├───┤├───┤├───┤ ░    └╥┘┌─┐      \n",
       "  q_2 -> 1 ┤ X ├┤ X ├┤ X ├┤ X ├┤ X ├┤ X ├┤ X ├┤ X ├┤ X ├┤ X ├┤ X ├┤ X ├┤ X ├┤ X ├┤ X ├┤ X ├┤ X ├┤ X ├┤ X ├┤ X ├┤ X ├┤ X ├┤ X ├┤ X ├┤ X ├┤ X ├┤ X ├┤ X ├┤ X ├┤ X ├┤ X ├┤ X ├┤ X ├┤ X ├┤ X ├┤ X ├┤ X ├┤ X ├┤ X ├┤ X ├┤ X ├┤ X ├┤ X ├┤ X ├┤ X ├┤ X ├┤ X ├┤ X ├┤ X ├┤ X ├┤ X ├┤ X ├┤ X ├┤ X ├┤ X ├┤ X ├┤ X ├┤ X ├┤ X ├┤ X ├┤ X ├┤ X ├┤ X ├┤ X ├┤ X ├┤ X ├┤ X ├┤ X ├┤ X ├┤ X ├┤ X ├┤ X ├┤ X ├┤ X ├┤ X ├┤ X ├┤ X ├┤ X ├┤ X ├┤ X ├┤ X ├┤ X ├┤ X ├┤ X ├┤ X ├┤ X ├┤ X ├┤ X ├┤ X ├┤ X ├┤ X ├┤ X ├┤ X ├┤ X ├┤ X ├┤ X ├┤ X ├┤ X ├┤ X ├┤ X ├─░─────╫─┤M├──────\n",
       "           ├───┤├───┤├───┤├───┤├───┤├───┤├───┤├───┤├───┤├───┤├───┤├───┤├───┤├───┤├───┤├───┤├───┤├───┤├───┤├───┤├───┤├───┤├───┤├───┤├───┤├───┤├───┤├───┤├───┤├───┤├───┤├───┤├───┤├───┤├───┤├───┤├───┤├───┤├───┤├───┤├───┤├───┤├───┤├───┤├───┤├───┤├───┤├───┤├───┤├───┤├───┤├───┤├───┤├───┤├───┤├───┤├───┤├───┤├───┤├───┤├───┤├───┤├───┤├───┤├───┤├───┤├───┤├───┤├───┤├───┤├───┤├───┤├───┤├───┤├───┤├───┤├───┤├───┤├───┤├───┤├───┤├───┤├───┤├───┤├───┤├───┤├───┤├───┤├───┤├───┤├───┤├───┤├───┤├───┤├───┤├───┤├───┤├───┤├───┤├───┤ ░     ║ └╥┘┌─┐   \n",
       "  q_3 -> 2 ┤ X ├┤ X ├┤ X ├┤ X ├┤ X ├┤ X ├┤ X ├┤ X ├┤ X ├┤ X ├┤ X ├┤ X ├┤ X ├┤ X ├┤ X ├┤ X ├┤ X ├┤ X ├┤ X ├┤ X ├┤ X ├┤ X ├┤ X ├┤ X ├┤ X ├┤ X ├┤ X ├┤ X ├┤ X ├┤ X ├┤ X ├┤ X ├┤ X ├┤ X ├┤ X ├┤ X ├┤ X ├┤ X ├┤ X ├┤ X ├┤ X ├┤ X ├┤ X ├┤ X ├┤ X ├┤ X ├┤ X ├┤ X ├┤ X ├┤ X ├┤ X ├┤ X ├┤ X ├┤ X ├┤ X ├┤ X ├┤ X ├┤ X ├┤ X ├┤ X ├┤ X ├┤ X ├┤ X ├┤ X ├┤ X ├┤ X ├┤ X ├┤ X ├┤ X ├┤ X ├┤ X ├┤ X ├┤ X ├┤ X ├┤ X ├┤ X ├┤ X ├┤ X ├┤ X ├┤ X ├┤ X ├┤ X ├┤ X ├┤ X ├┤ X ├┤ X ├┤ X ├┤ X ├┤ X ├┤ X ├┤ X ├┤ X ├┤ X ├┤ X ├┤ X ├┤ X ├┤ X ├┤ X ├┤ X ├┤ X ├─░─────╫──╫─┤M├───\n",
       "           ├───┤├───┤├───┤├───┤├───┤├───┤├───┤├───┤├───┤├───┤├───┤├───┤├───┤├───┤├───┤├───┤├───┤├───┤├───┤├───┤├───┤├───┤├───┤├───┤├───┤├───┤├───┤├───┤├───┤├───┤├───┤├───┤├───┤├───┤├───┤├───┤├───┤├───┤├───┤├───┤├───┤├───┤├───┤├───┤├───┤├───┤├───┤├───┤├───┤├───┤├───┤├───┤├───┤├───┤├───┤├───┤├───┤├───┤├───┤├───┤├───┤├───┤├───┤├───┤├───┤├───┤├───┤├───┤├───┤├───┤├───┤├───┤├───┤├───┤├───┤├───┤├───┤├───┤├───┤├───┤├───┤├───┤├───┤├───┤├───┤├───┤├───┤├───┤├───┤├───┤├───┤├───┤├───┤├───┤├───┤├───┤├───┤├───┤├───┤├───┤ ░     ║  ║ └╥┘┌─┐\n",
       "  q_4 -> 3 ┤ X ├┤ X ├┤ X ├┤ X ├┤ X ├┤ X ├┤ X ├┤ X ├┤ X ├┤ X ├┤ X ├┤ X ├┤ X ├┤ X ├┤ X ├┤ X ├┤ X ├┤ X ├┤ X ├┤ X ├┤ X ├┤ X ├┤ X ├┤ X ├┤ X ├┤ X ├┤ X ├┤ X ├┤ X ├┤ X ├┤ X ├┤ X ├┤ X ├┤ X ├┤ X ├┤ X ├┤ X ├┤ X ├┤ X ├┤ X ├┤ X ├┤ X ├┤ X ├┤ X ├┤ X ├┤ X ├┤ X ├┤ X ├┤ X ├┤ X ├┤ X ├┤ X ├┤ X ├┤ X ├┤ X ├┤ X ├┤ X ├┤ X ├┤ X ├┤ X ├┤ X ├┤ X ├┤ X ├┤ X ├┤ X ├┤ X ├┤ X ├┤ X ├┤ X ├┤ X ├┤ X ├┤ X ├┤ X ├┤ X ├┤ X ├┤ X ├┤ X ├┤ X ├┤ X ├┤ X ├┤ X ├┤ X ├┤ X ├┤ X ├┤ X ├┤ X ├┤ X ├┤ X ├┤ X ├┤ X ├┤ X ├┤ X ├┤ X ├┤ X ├┤ X ├┤ X ├┤ X ├┤ X ├┤ X ├┤ X ├─░─────╫──╫──╫─┤M├\n",
       "           ├───┤├───┤├───┤├───┤├───┤├───┤├───┤├───┤├───┤├───┤├───┤├───┤├───┤├───┤├───┤├───┤├───┤├───┤├───┤├───┤├───┤├───┤├───┤├───┤├───┤├───┤├───┤├───┤├───┤├───┤├───┤├───┤├───┤├───┤├───┤├───┤├───┤├───┤├───┤├───┤├───┤├───┤├───┤├───┤├───┤├───┤├───┤├───┤├───┤├───┤├───┤├───┤├───┤├───┤├───┤├───┤├───┤├───┤├───┤├───┤├───┤├───┤├───┤├───┤├───┤├───┤├───┤├───┤├───┤├───┤├───┤├───┤├───┤├───┤├───┤├───┤├───┤├───┤├───┤├───┤├───┤├───┤├───┤├───┤├───┤├───┤├───┤├───┤├───┤├───┤├───┤├───┤├───┤├───┤├───┤├───┤├───┤├───┤├───┤├───┤ ░ ┌─┐ ║  ║  ║ └╥┘\n",
       " q_0 -> 14 ┤ X ├┤ X ├┤ X ├┤ X ├┤ X ├┤ X ├┤ X ├┤ X ├┤ X ├┤ X ├┤ X ├┤ X ├┤ X ├┤ X ├┤ X ├┤ X ├┤ X ├┤ X ├┤ X ├┤ X ├┤ X ├┤ X ├┤ X ├┤ X ├┤ X ├┤ X ├┤ X ├┤ X ├┤ X ├┤ X ├┤ X ├┤ X ├┤ X ├┤ X ├┤ X ├┤ X ├┤ X ├┤ X ├┤ X ├┤ X ├┤ X ├┤ X ├┤ X ├┤ X ├┤ X ├┤ X ├┤ X ├┤ X ├┤ X ├┤ X ├┤ X ├┤ X ├┤ X ├┤ X ├┤ X ├┤ X ├┤ X ├┤ X ├┤ X ├┤ X ├┤ X ├┤ X ├┤ X ├┤ X ├┤ X ├┤ X ├┤ X ├┤ X ├┤ X ├┤ X ├┤ X ├┤ X ├┤ X ├┤ X ├┤ X ├┤ X ├┤ X ├┤ X ├┤ X ├┤ X ├┤ X ├┤ X ├┤ X ├┤ X ├┤ X ├┤ X ├┤ X ├┤ X ├┤ X ├┤ X ├┤ X ├┤ X ├┤ X ├┤ X ├┤ X ├┤ X ├┤ X ├┤ X ├┤ X ├┤ X ├─░─┤M├─╫──╫──╫──╫─\n",
       "           └───┘└───┘└───┘└───┘└───┘└───┘└───┘└───┘└───┘└───┘└───┘└───┘└───┘└───┘└───┘└───┘└───┘└───┘└───┘└───┘└───┘└───┘└───┘└───┘└───┘└───┘└───┘└───┘└───┘└───┘└───┘└───┘└───┘└───┘└───┘└───┘└───┘└───┘└───┘└───┘└───┘└───┘└───┘└───┘└───┘└───┘└───┘└───┘└───┘└───┘└───┘└───┘└───┘└───┘└───┘└───┘└───┘└───┘└───┘└───┘└───┘└───┘└───┘└───┘└───┘└───┘└───┘└───┘└───┘└───┘└───┘└───┘└───┘└───┘└───┘└───┘└───┘└───┘└───┘└───┘└───┘└───┘└───┘└───┘└───┘└───┘└───┘└───┘└───┘└───┘└───┘└───┘└───┘└───┘└───┘└───┘└───┘└───┘└───┘└───┘ ░ └╥┘ ║  ║  ║  ║ \n",
       "measure: 5/════════════════════════════════════════════════════════════════════════════════════════════════════════════════════════════════════════════════════════════════════════════════════════════════════════════════════════════════════════════════════════════════════════════════════════════════════════════════════════════════════════════════════════════════════════════════════════════════════════════════════════════════════════════════════════════════════════════════════════════════════════════════════════╩══╩══╩══╩══╩═\n",
       "                                                                                                                                                                                                                                                                                                                                                                                                                                                                                                                                   0  1  2  3  4 </pre>"
      ],
      "text/plain": [
       "           ┌───┐┌───┐┌───┐┌───┐┌───┐┌───┐┌───┐┌───┐┌───┐┌───┐┌───┐┌───┐┌───┐┌───┐┌───┐┌───┐┌───┐┌───┐┌───┐┌───┐┌───┐┌───┐┌───┐┌───┐┌───┐┌───┐┌───┐┌───┐┌───┐┌───┐┌───┐┌───┐┌───┐┌───┐┌───┐┌───┐┌───┐┌───┐┌───┐┌───┐┌───┐┌───┐┌───┐┌───┐┌───┐┌───┐┌───┐┌───┐┌───┐┌───┐┌───┐┌───┐┌───┐┌───┐┌───┐┌───┐┌───┐┌───┐┌───┐┌───┐┌───┐┌───┐┌───┐┌───┐┌───┐┌───┐┌───┐┌───┐┌───┐┌───┐┌───┐┌───┐┌───┐┌───┐┌───┐┌───┐┌───┐┌───┐┌───┐┌───┐┌───┐┌───┐┌───┐┌───┐┌───┐┌───┐┌───┐┌───┐┌───┐┌───┐┌───┐┌───┐┌───┐┌───┐┌───┐┌───┐┌───┐┌───┐┌───┐┌───┐ ░    ┌─┐         \n",
       "  q_1 -> 0 ┤ X ├┤ X ├┤ X ├┤ X ├┤ X ├┤ X ├┤ X ├┤ X ├┤ X ├┤ X ├┤ X ├┤ X ├┤ X ├┤ X ├┤ X ├┤ X ├┤ X ├┤ X ├┤ X ├┤ X ├┤ X ├┤ X ├┤ X ├┤ X ├┤ X ├┤ X ├┤ X ├┤ X ├┤ X ├┤ X ├┤ X ├┤ X ├┤ X ├┤ X ├┤ X ├┤ X ├┤ X ├┤ X ├┤ X ├┤ X ├┤ X ├┤ X ├┤ X ├┤ X ├┤ X ├┤ X ├┤ X ├┤ X ├┤ X ├┤ X ├┤ X ├┤ X ├┤ X ├┤ X ├┤ X ├┤ X ├┤ X ├┤ X ├┤ X ├┤ X ├┤ X ├┤ X ├┤ X ├┤ X ├┤ X ├┤ X ├┤ X ├┤ X ├┤ X ├┤ X ├┤ X ├┤ X ├┤ X ├┤ X ├┤ X ├┤ X ├┤ X ├┤ X ├┤ X ├┤ X ├┤ X ├┤ X ├┤ X ├┤ X ├┤ X ├┤ X ├┤ X ├┤ X ├┤ X ├┤ X ├┤ X ├┤ X ├┤ X ├┤ X ├┤ X ├┤ X ├┤ X ├┤ X ├┤ X ├┤ X ├─░────┤M├─────────\n",
       "           ├───┤├───┤├───┤├───┤├───┤├───┤├───┤├───┤├───┤├───┤├───┤├───┤├───┤├───┤├───┤├───┤├───┤├───┤├───┤├───┤├───┤├───┤├───┤├───┤├───┤├───┤├───┤├───┤├───┤├───┤├───┤├───┤├───┤├───┤├───┤├───┤├───┤├───┤├───┤├───┤├───┤├───┤├───┤├───┤├───┤├───┤├───┤├───┤├───┤├───┤├───┤├───┤├───┤├───┤├───┤├───┤├───┤├───┤├───┤├───┤├───┤├───┤├───┤├───┤├───┤├───┤├───┤├───┤├───┤├───┤├───┤├───┤├───┤├───┤├───┤├───┤├───┤├───┤├───┤├───┤├───┤├───┤├───┤├───┤├───┤├───┤├───┤├───┤├───┤├───┤├───┤├───┤├───┤├───┤├───┤├───┤├───┤├───┤├───┤├───┤ ░    └╥┘┌─┐      \n",
       "  q_2 -> 1 ┤ X ├┤ X ├┤ X ├┤ X ├┤ X ├┤ X ├┤ X ├┤ X ├┤ X ├┤ X ├┤ X ├┤ X ├┤ X ├┤ X ├┤ X ├┤ X ├┤ X ├┤ X ├┤ X ├┤ X ├┤ X ├┤ X ├┤ X ├┤ X ├┤ X ├┤ X ├┤ X ├┤ X ├┤ X ├┤ X ├┤ X ├┤ X ├┤ X ├┤ X ├┤ X ├┤ X ├┤ X ├┤ X ├┤ X ├┤ X ├┤ X ├┤ X ├┤ X ├┤ X ├┤ X ├┤ X ├┤ X ├┤ X ├┤ X ├┤ X ├┤ X ├┤ X ├┤ X ├┤ X ├┤ X ├┤ X ├┤ X ├┤ X ├┤ X ├┤ X ├┤ X ├┤ X ├┤ X ├┤ X ├┤ X ├┤ X ├┤ X ├┤ X ├┤ X ├┤ X ├┤ X ├┤ X ├┤ X ├┤ X ├┤ X ├┤ X ├┤ X ├┤ X ├┤ X ├┤ X ├┤ X ├┤ X ├┤ X ├┤ X ├┤ X ├┤ X ├┤ X ├┤ X ├┤ X ├┤ X ├┤ X ├┤ X ├┤ X ├┤ X ├┤ X ├┤ X ├┤ X ├┤ X ├┤ X ├┤ X ├─░─────╫─┤M├──────\n",
       "           ├───┤├───┤├───┤├───┤├───┤├───┤├───┤├───┤├───┤├───┤├───┤├───┤├───┤├───┤├───┤├───┤├───┤├───┤├───┤├───┤├───┤├───┤├───┤├───┤├───┤├───┤├───┤├───┤├───┤├───┤├───┤├───┤├───┤├───┤├───┤├───┤├───┤├───┤├───┤├───┤├───┤├───┤├───┤├───┤├───┤├───┤├───┤├───┤├───┤├───┤├───┤├───┤├───┤├───┤├───┤├───┤├───┤├───┤├───┤├───┤├───┤├───┤├───┤├───┤├───┤├───┤├───┤├───┤├───┤├───┤├───┤├───┤├───┤├───┤├───┤├───┤├───┤├───┤├───┤├───┤├───┤├───┤├───┤├───┤├───┤├───┤├───┤├───┤├───┤├───┤├───┤├───┤├───┤├───┤├───┤├───┤├───┤├───┤├───┤├───┤ ░     ║ └╥┘┌─┐   \n",
       "  q_3 -> 2 ┤ X ├┤ X ├┤ X ├┤ X ├┤ X ├┤ X ├┤ X ├┤ X ├┤ X ├┤ X ├┤ X ├┤ X ├┤ X ├┤ X ├┤ X ├┤ X ├┤ X ├┤ X ├┤ X ├┤ X ├┤ X ├┤ X ├┤ X ├┤ X ├┤ X ├┤ X ├┤ X ├┤ X ├┤ X ├┤ X ├┤ X ├┤ X ├┤ X ├┤ X ├┤ X ├┤ X ├┤ X ├┤ X ├┤ X ├┤ X ├┤ X ├┤ X ├┤ X ├┤ X ├┤ X ├┤ X ├┤ X ├┤ X ├┤ X ├┤ X ├┤ X ├┤ X ├┤ X ├┤ X ├┤ X ├┤ X ├┤ X ├┤ X ├┤ X ├┤ X ├┤ X ├┤ X ├┤ X ├┤ X ├┤ X ├┤ X ├┤ X ├┤ X ├┤ X ├┤ X ├┤ X ├┤ X ├┤ X ├┤ X ├┤ X ├┤ X ├┤ X ├┤ X ├┤ X ├┤ X ├┤ X ├┤ X ├┤ X ├┤ X ├┤ X ├┤ X ├┤ X ├┤ X ├┤ X ├┤ X ├┤ X ├┤ X ├┤ X ├┤ X ├┤ X ├┤ X ├┤ X ├┤ X ├┤ X ├┤ X ├─░─────╫──╫─┤M├───\n",
       "           ├───┤├───┤├───┤├───┤├───┤├───┤├───┤├───┤├───┤├───┤├───┤├───┤├───┤├───┤├───┤├───┤├───┤├───┤├───┤├───┤├───┤├───┤├───┤├───┤├───┤├───┤├───┤├───┤├───┤├───┤├───┤├───┤├───┤├───┤├───┤├───┤├───┤├───┤├───┤├───┤├───┤├───┤├───┤├───┤├───┤├───┤├───┤├───┤├───┤├───┤├───┤├───┤├───┤├───┤├───┤├───┤├───┤├───┤├───┤├───┤├───┤├───┤├───┤├───┤├───┤├───┤├───┤├───┤├───┤├───┤├───┤├───┤├───┤├───┤├───┤├───┤├───┤├───┤├───┤├───┤├───┤├───┤├───┤├───┤├───┤├───┤├───┤├───┤├───┤├───┤├───┤├───┤├───┤├───┤├───┤├───┤├───┤├───┤├───┤├───┤ ░     ║  ║ └╥┘┌─┐\n",
       "  q_4 -> 3 ┤ X ├┤ X ├┤ X ├┤ X ├┤ X ├┤ X ├┤ X ├┤ X ├┤ X ├┤ X ├┤ X ├┤ X ├┤ X ├┤ X ├┤ X ├┤ X ├┤ X ├┤ X ├┤ X ├┤ X ├┤ X ├┤ X ├┤ X ├┤ X ├┤ X ├┤ X ├┤ X ├┤ X ├┤ X ├┤ X ├┤ X ├┤ X ├┤ X ├┤ X ├┤ X ├┤ X ├┤ X ├┤ X ├┤ X ├┤ X ├┤ X ├┤ X ├┤ X ├┤ X ├┤ X ├┤ X ├┤ X ├┤ X ├┤ X ├┤ X ├┤ X ├┤ X ├┤ X ├┤ X ├┤ X ├┤ X ├┤ X ├┤ X ├┤ X ├┤ X ├┤ X ├┤ X ├┤ X ├┤ X ├┤ X ├┤ X ├┤ X ├┤ X ├┤ X ├┤ X ├┤ X ├┤ X ├┤ X ├┤ X ├┤ X ├┤ X ├┤ X ├┤ X ├┤ X ├┤ X ├┤ X ├┤ X ├┤ X ├┤ X ├┤ X ├┤ X ├┤ X ├┤ X ├┤ X ├┤ X ├┤ X ├┤ X ├┤ X ├┤ X ├┤ X ├┤ X ├┤ X ├┤ X ├┤ X ├┤ X ├─░─────╫──╫──╫─┤M├\n",
       "           ├───┤├───┤├───┤├───┤├───┤├───┤├───┤├───┤├───┤├───┤├───┤├───┤├───┤├───┤├───┤├───┤├───┤├───┤├───┤├───┤├───┤├───┤├───┤├───┤├───┤├───┤├───┤├───┤├───┤├───┤├───┤├───┤├───┤├───┤├───┤├───┤├───┤├───┤├───┤├───┤├───┤├───┤├───┤├───┤├───┤├───┤├───┤├───┤├───┤├───┤├───┤├───┤├───┤├───┤├───┤├───┤├───┤├───┤├───┤├───┤├───┤├───┤├───┤├───┤├───┤├───┤├───┤├───┤├───┤├───┤├───┤├───┤├───┤├───┤├───┤├───┤├───┤├───┤├───┤├───┤├───┤├───┤├───┤├───┤├───┤├───┤├───┤├───┤├───┤├───┤├───┤├───┤├───┤├───┤├───┤├───┤├───┤├───┤├───┤├───┤ ░ ┌─┐ ║  ║  ║ └╥┘\n",
       " q_0 -> 14 ┤ X ├┤ X ├┤ X ├┤ X ├┤ X ├┤ X ├┤ X ├┤ X ├┤ X ├┤ X ├┤ X ├┤ X ├┤ X ├┤ X ├┤ X ├┤ X ├┤ X ├┤ X ├┤ X ├┤ X ├┤ X ├┤ X ├┤ X ├┤ X ├┤ X ├┤ X ├┤ X ├┤ X ├┤ X ├┤ X ├┤ X ├┤ X ├┤ X ├┤ X ├┤ X ├┤ X ├┤ X ├┤ X ├┤ X ├┤ X ├┤ X ├┤ X ├┤ X ├┤ X ├┤ X ├┤ X ├┤ X ├┤ X ├┤ X ├┤ X ├┤ X ├┤ X ├┤ X ├┤ X ├┤ X ├┤ X ├┤ X ├┤ X ├┤ X ├┤ X ├┤ X ├┤ X ├┤ X ├┤ X ├┤ X ├┤ X ├┤ X ├┤ X ├┤ X ├┤ X ├┤ X ├┤ X ├┤ X ├┤ X ├┤ X ├┤ X ├┤ X ├┤ X ├┤ X ├┤ X ├┤ X ├┤ X ├┤ X ├┤ X ├┤ X ├┤ X ├┤ X ├┤ X ├┤ X ├┤ X ├┤ X ├┤ X ├┤ X ├┤ X ├┤ X ├┤ X ├┤ X ├┤ X ├┤ X ├┤ X ├─░─┤M├─╫──╫──╫──╫─\n",
       "           └───┘└───┘└───┘└───┘└───┘└───┘└───┘└───┘└───┘└───┘└───┘└───┘└───┘└───┘└───┘└───┘└───┘└───┘└───┘└───┘└───┘└───┘└───┘└───┘└───┘└───┘└───┘└───┘└───┘└───┘└───┘└───┘└───┘└───┘└───┘└───┘└───┘└───┘└───┘└───┘└───┘└───┘└───┘└───┘└───┘└───┘└───┘└───┘└───┘└───┘└───┘└───┘└───┘└───┘└───┘└───┘└───┘└───┘└───┘└───┘└───┘└───┘└───┘└───┘└───┘└───┘└───┘└───┘└───┘└───┘└───┘└───┘└───┘└───┘└───┘└───┘└───┘└───┘└───┘└───┘└───┘└───┘└───┘└───┘└───┘└───┘└───┘└───┘└───┘└───┘└───┘└───┘└───┘└───┘└───┘└───┘└───┘└───┘└───┘└───┘ ░ └╥┘ ║  ║  ║  ║ \n",
       "measure: 5/════════════════════════════════════════════════════════════════════════════════════════════════════════════════════════════════════════════════════════════════════════════════════════════════════════════════════════════════════════════════════════════════════════════════════════════════════════════════════════════════════════════════════════════════════════════════════════════════════════════════════════════════════════════════════════════════════════════════════════════════════════════════════════╩══╩══╩══╩══╩═\n",
       "                                                                                                                                                                                                                                                                                                                                                                                                                                                                                                                                   0  1  2  3  4 "
      ]
     },
     "execution_count": 7,
     "metadata": {},
     "output_type": "execute_result"
    }
   ],
   "source": [
    "to_run_raw[-1].draw(fold=-1, idle_wires=False)"
   ]
  },
  {
   "cell_type": "code",
   "execution_count": 8,
   "metadata": {},
   "outputs": [],
   "source": [
    "job_raw = sampler.run(\n",
    "    to_run_raw,\n",
    "    shots=nshots,\n",
    ")\n",
    "# job_raw = service.job(\"cuajqngtk14s73b60ms0\")"
   ]
  },
  {
   "cell_type": "code",
   "execution_count": 9,
   "metadata": {},
   "outputs": [],
   "source": [
    "all_counts_raw = [result.data.measure.get_counts() for result in job_raw.result()]"
   ]
  },
  {
   "cell_type": "code",
   "execution_count": 10,
   "metadata": {},
   "outputs": [],
   "source": [
    "all_evals = {}\n",
    "\n",
    "for i, q in enumerate(layout[n]):\n",
    "    evals = []\n",
    "    for counts in all_counts_raw:\n",
    "        counts = get_counts_for(i, counts)\n",
    "        eval = (counts.get(0, 0) - counts.get(1, 0)) / nshots\n",
    "        evals.append(eval)\n",
    "    all_evals[q] = evals"
   ]
  },
  {
   "cell_type": "code",
   "execution_count": 11,
   "metadata": {},
   "outputs": [
    {
     "data": {
      "image/png": "[encoded data removed]",
      "text/plain": [
       "<Figure size 640x480 with 1 Axes>"
      ]
     },
     "metadata": {},
     "output_type": "display_data"
    }
   ],
   "source": [
    "for qubit, evals in all_evals.items():\n",
    "    plt.plot(depths, evals, \"--o\", alpha=0.5, label=f\"Qubit {qubit}\")\n",
    "\n",
    "evals_raw_avg = np.array(list(all_evals.values())).mean(axis=0)\n",
    "plt.plot(depths, evals_raw_avg, \"--o\", ms=8, lw=2, color=\"black\", label=\"Average\")\n",
    "plt.legend();\n",
    "# plt.savefig(\"physical_evals.pdf\")"
   ]
  },
  {
   "cell_type": "markdown",
   "metadata": {},
   "source": [
    "# Run encoded experiment"
   ]
  },
  {
   "cell_type": "code",
   "execution_count": 12,
   "metadata": {},
   "outputs": [
    {
     "name": "stdout",
     "output_type": "stream",
     "text": [
      "I\n",
      "X(q(0))*Z(q(1))*Z(q(2))*X(q(3))\n",
      "X(q(1))*Z(q(2))*Z(q(3))*X(q(4))\n",
      "X(q(0))*X(q(2))*Z(q(3))*Z(q(4))\n",
      "Z(q(0))*X(q(1))*X(q(3))*Z(q(4))\n",
      "X(q(0))*Y(q(1))*Y(q(3))*X(q(4))\n",
      "Z(q(1))*Y(q(2))*Y(q(3))*Z(q(4))\n",
      "Y(q(0))*Y(q(1))*Z(q(2))*Z(q(4))\n",
      "X(q(0))*X(q(1))*Y(q(2))*Y(q(4))\n",
      "Z(q(0))*Z(q(2))*Y(q(3))*Y(q(4))\n",
      "Y(q(0))*X(q(1))*X(q(2))*Y(q(3))\n",
      "Y(q(1))*X(q(2))*X(q(3))*Y(q(4))\n",
      "Y(q(0))*Z(q(1))*Z(q(3))*Y(q(4))\n",
      "Z(q(0))*Y(q(1))*Y(q(2))*Z(q(3))\n",
      "Y(q(0))*Y(q(2))*X(q(3))*X(q(4))\n",
      "Z(q(0))*Z(q(1))*X(q(2))*X(q(4))\n",
      "Z(q(0))*Z(q(1))*Z(q(2))*Z(q(3))*Z(q(4))\n",
      "-Y(q(0))*Y(q(3))*Z(q(4))\n",
      "-Z(q(0))*Y(q(1))*Y(q(4))\n",
      "-Y(q(0))*Z(q(1))*Y(q(2))\n",
      "-Y(q(1))*Z(q(2))*Y(q(3))\n",
      "Y(q(0))*X(q(1))*Z(q(2))*X(q(3))*Y(q(4))\n",
      "-Z(q(0))*X(q(2))*X(q(3))\n",
      "-X(q(0))*X(q(1))*Z(q(3))\n",
      "Y(q(0))*Y(q(1))*X(q(2))*Z(q(3))*X(q(4))\n",
      "-Z(q(1))*X(q(3))*X(q(4))\n",
      "X(q(0))*Y(q(1))*Y(q(2))*X(q(3))*Z(q(4))\n",
      "Z(q(0))*X(q(1))*Y(q(2))*Y(q(3))*X(q(4))\n",
      "-X(q(0))*Z(q(2))*X(q(4))\n",
      "-X(q(1))*X(q(2))*Z(q(4))\n",
      "X(q(0))*Z(q(1))*X(q(2))*Y(q(3))*Y(q(4))\n",
      "-Y(q(2))*Z(q(3))*Y(q(4))\n"
     ]
    }
   ],
   "source": [
    "generator_strs = [\n",
    "    \"XZZXI\",\n",
    "    \"IXZZX\",\n",
    "    \"XIXZZ\",\n",
    "    \"ZXIXZ\",\n",
    "]\n",
    "# generator_strs = [\n",
    "#     \"ZXIXZ\",\n",
    "#     \"XZZXI\",\n",
    "#     \"IXZZX\",\n",
    "#     \"XIXZZ\",\n",
    "# ]\n",
    "observable = PauliString(\"Z\" * n)._pauli\n",
    "\n",
    "qreg = cirq.LineQubit.range(n)\n",
    "\n",
    "stabilizer_generators = strs_to_paulis(generator_strs)\n",
    "stabilizer_elements = generate_stabilizer_elements(stabilizer_generators)\n",
    "for stab in stabilizer_elements:\n",
    "    print(stab)\n",
    "\n",
    "observable_elements = [stab * observable for stab in stabilizer_elements]\n",
    "for obs in observable_elements:\n",
    "    print(obs)"
   ]
  },
  {
   "cell_type": "code",
   "execution_count": 13,
   "metadata": {},
   "outputs": [
    {
     "name": "stdout",
     "output_type": "stream",
     "text": [
      "0: ───RX───@───@───────────────H───X───\n",
      "           │   │\n",
      "1: ───RX───┼───┼───@───@───────H───X───\n",
      "           │   │   │   │\n",
      "2: ───RX───@───┼───┼───┼───@───H───X───\n",
      "               │   │   │   │\n",
      "3: ───RX───────@───@───┼───┼───H───X───\n",
      "                       │   │\n",
      "4: ───RX───────────────@───@───H───X───\n"
     ]
    },
    {
     "data": {
      "text/html": [
       "<pre style=\"overflow: auto; white-space: pre;\">0: ───H───@───@───────────────H───X───\n",
       "          │   │\n",
       "1: ───H───┼───┼───@───@───────H───X───\n",
       "          │   │   │   │\n",
       "2: ───H───@───┼───┼───┼───@───H───X───\n",
       "              │   │   │   │\n",
       "3: ───H───────@───@───┼───┼───H───X───\n",
       "                      │   │\n",
       "4: ───H───────────────@───@───H───X───</pre>"
      ],
      "text/plain": [
       "0: ───H───@───@───────────────H───X───\n",
       "          │   │\n",
       "1: ───H───┼───┼───@───@───────H───X───\n",
       "          │   │   │   │\n",
       "2: ───H───@───┼───┼───┼───@───H───X───\n",
       "              │   │   │   │\n",
       "3: ───H───────@───@───┼───┼───H───X───\n",
       "                      │   │\n",
       "4: ───H───────────────@───@───H───X───"
      ]
     },
     "execution_count": 13,
     "metadata": {},
     "output_type": "execute_result"
    }
   ],
   "source": [
    "qreg = cirq.LineQubit.range(n)\n",
    "circuit = encode_five(qreg)\n",
    "\n",
    "print(circuit)\n",
    "\n",
    "# Hacky fix to replace non-unitary RX gates at the start of the Stim circuit to Hadamard gates.\n",
    "circuit = cirq.Circuit(\n",
    "    cirq.H.on_each(qreg),\n",
    "    circuit[1:],\n",
    ")\n",
    "# circuit.append(cirq.H.on_each(qreg))\n",
    "circuit"
   ]
  },
  {
   "cell_type": "markdown",
   "metadata": {},
   "source": [
    "## Compute the numerator ($\\langle \\tilde{O} \\rangle$)"
   ]
  },
  {
   "cell_type": "code",
   "execution_count": 50,
   "metadata": {},
   "outputs": [
    {
     "name": "stdout",
     "output_type": "stream",
     "text": [
      "Z(q(0))*Z(q(1))*Z(q(2))*Z(q(3))*Z(q(4))\n",
      "-Y(q(0))*Y(q(3))*Z(q(4))\n",
      "-Z(q(0))*Y(q(1))*Y(q(4))\n",
      "-Y(q(0))*Z(q(1))*Y(q(2))\n",
      "-Y(q(1))*Z(q(2))*Y(q(3))\n",
      "Y(q(0))*X(q(1))*Z(q(2))*X(q(3))*Y(q(4))\n",
      "-Z(q(0))*X(q(2))*X(q(3))\n",
      "-X(q(0))*X(q(1))*Z(q(3))\n",
      "Y(q(0))*Y(q(1))*X(q(2))*Z(q(3))*X(q(4))\n",
      "-Z(q(1))*X(q(3))*X(q(4))\n",
      "X(q(0))*Y(q(1))*Y(q(2))*X(q(3))*Z(q(4))\n",
      "Z(q(0))*X(q(1))*Y(q(2))*Y(q(3))*X(q(4))\n",
      "-X(q(0))*Z(q(2))*X(q(4))\n",
      "-X(q(1))*X(q(2))*Z(q(4))\n",
      "X(q(0))*Z(q(1))*X(q(2))*Y(q(3))*Y(q(4))\n",
      "-Y(q(2))*Z(q(3))*Y(q(4))\n"
     ]
    }
   ],
   "source": [
    "num_circuits = []\n",
    "for pauli in observable_elements:\n",
    "    c = circuit.copy()\n",
    "    print(pauli)\n",
    "    for q, p in pauli.items():\n",
    "        if p is cirq.X:\n",
    "            c.append(cirq.H.on(q))\n",
    "        elif p is cirq.Y:\n",
    "            c.append(cirq.S.on(q)**-1)\n",
    "            c.append(cirq.H.on(q))\n",
    "    qc = qiskit.QuantumCircuit.from_qasm_str(c.to_qasm())\n",
    "    qc.measure_active()\n",
    "    # print(c)\n",
    "    num_circuits.append(qc)"
   ]
  },
  {
   "cell_type": "code",
   "execution_count": 51,
   "metadata": {},
   "outputs": [
    {
     "data": {
      "text/html": [
       "<pre style=\"word-wrap: normal;white-space: pre;background: #fff0;line-height: 1.1;font-family: &quot;Courier New&quot;,Courier,monospace\">           ┌───┐      ┌───┐┌───┐                                 ░ ┌─┐            \n",
       "      q_0: ┤ H ├─■──■─┤ H ├┤ X ├─────────────────────────────────░─┤M├────────────\n",
       "           ├───┤ │  │ └───┘└───┘┌───┐┌───┐                       ░ └╥┘┌─┐         \n",
       "      q_1: ┤ H ├─┼──┼───■────■──┤ H ├┤ X ├───────────────────────░──╫─┤M├─────────\n",
       "           ├───┤ │  │   │    │  └───┘└───┘┌───┐┌───┐┌─────┐┌───┐ ░  ║ └╥┘┌─┐      \n",
       "      q_2: ┤ H ├─■──┼───┼────┼─────────■──┤ H ├┤ X ├┤ Sdg ├┤ H ├─░──╫──╫─┤M├──────\n",
       "           ├───┤    │   │    │  ┌───┐  │  ├───┤└───┘└─────┘└───┘ ░  ║  ║ └╥┘┌─┐   \n",
       "      q_3: ┤ H ├────■───■────┼──┤ H ├──┼──┤ X ├──────────────────░──╫──╫──╫─┤M├───\n",
       "           ├───┤             │  └───┘  │  ├───┤┌───┐┌─────┐┌───┐ ░  ║  ║  ║ └╥┘┌─┐\n",
       "      q_4: ┤ H ├─────────────■─────────■──┤ H ├┤ X ├┤ Sdg ├┤ H ├─░──╫──╫──╫──╫─┤M├\n",
       "           └───┘                          └───┘└───┘└─────┘└───┘ ░  ║  ║  ║  ║ └╥┘\n",
       "measure: 5/═════════════════════════════════════════════════════════╩══╩══╩══╩══╩═\n",
       "                                                                    0  1  2  3  4 </pre>"
      ],
      "text/plain": [
       "           ┌───┐      ┌───┐┌───┐                                 ░ ┌─┐            \n",
       "      q_0: ┤ H ├─■──■─┤ H ├┤ X ├─────────────────────────────────░─┤M├────────────\n",
       "           ├───┤ │  │ └───┘└───┘┌───┐┌───┐                       ░ └╥┘┌─┐         \n",
       "      q_1: ┤ H ├─┼──┼───■────■──┤ H ├┤ X ├───────────────────────░──╫─┤M├─────────\n",
       "           ├───┤ │  │   │    │  └───┘└───┘┌───┐┌───┐┌─────┐┌───┐ ░  ║ └╥┘┌─┐      \n",
       "      q_2: ┤ H ├─■──┼───┼────┼─────────■──┤ H ├┤ X ├┤ Sdg ├┤ H ├─░──╫──╫─┤M├──────\n",
       "           ├───┤    │   │    │  ┌───┐  │  ├───┤└───┘└─────┘└───┘ ░  ║  ║ └╥┘┌─┐   \n",
       "      q_3: ┤ H ├────■───■────┼──┤ H ├──┼──┤ X ├──────────────────░──╫──╫──╫─┤M├───\n",
       "           ├───┤             │  └───┘  │  ├───┤┌───┐┌─────┐┌───┐ ░  ║  ║  ║ └╥┘┌─┐\n",
       "      q_4: ┤ H ├─────────────■─────────■──┤ H ├┤ X ├┤ Sdg ├┤ H ├─░──╫──╫──╫──╫─┤M├\n",
       "           └───┘                          └───┘└───┘└─────┘└───┘ ░  ║  ║  ║  ║ └╥┘\n",
       "measure: 5/═════════════════════════════════════════════════════════╩══╩══╩══╩══╩═\n",
       "                                                                    0  1  2  3  4 "
      ]
     },
     "execution_count": 51,
     "metadata": {},
     "output_type": "execute_result"
    }
   ],
   "source": [
    "num_circuits[-1].draw(fold=-1)"
   ]
  },
  {
   "cell_type": "code",
   "execution_count": 52,
   "metadata": {},
   "outputs": [
    {
     "data": {
      "text/html": [
       "<pre style=\"word-wrap: normal;white-space: pre;background: #fff0;line-height: 1.1;font-family: &quot;Courier New&quot;,Courier,monospace\">global phase: π/4\n",
       "           ┌─────────┐┌────┐                ┌──────┐┌──────────┐┌────┐┌────────┐┌──────┐┌─────────┐ ┌────┐┌─────────┐┌──────┐  ┌───┐   ┌─────────┐            ┌──────┐ ┌────────┐    ┌────┐     ┌──────────┐                                                           ┌──────┐┌──────────┐┌────┐┌────────┐┌──────┐┌─────────┐ ┌────┐┌─────────┐┌──────┐┌────────┐            ┌──────┐┌──────────┐   ┌───┐                                                                                                                      ┌──────┐  ┌─────────┐  ┌────┐    ┌──────────┐                                                                                                                                                                               ░          ┌─┐   \n",
       "  q_1 -> 0 ┤ Rz(π/2) ├┤ √X ├────────────────┤0     ├┤ Rz(-π/2) ├┤ √X ├┤ Rz(-π) ├┤0     ├┤ Rz(π/2) ├─┤ √X ├┤ Rz(π/2) ├┤0     ├──┤ X ├───┤ Rz(π/2) ├────────────┤0     ├─┤ Rz(-π) ├────┤ √X ├─────┤ Rz(-π/2) ├───────────────────────────────────────────────────────────┤0     ├┤ Rz(-π/2) ├┤ √X ├┤ Rz(-π) ├┤0     ├┤ Rz(π/2) ├─┤ √X ├┤ Rz(π/2) ├┤0     ├┤ Rz(-π) ├────────────┤0     ├┤ Rz(-π/2) ├───┤ X ├──────────────────────────────────────────────────────────────────────────────────────────────────────────────────────┤0     ├──┤ Rz(π/2) ├──┤ √X ├────┤ Rz(-π/2) ├───────────────────────────────────────────────────────────────────────────────────────────────────────────────────────────────────────────────────────────────────────────────░──────────┤M├───\n",
       "           ├─────────┤├────┤   ┌────────┐   │  Ecr │├─────────┬┘├────┤└────────┘│  Ecr │├─────────┴┐└────┘└─────────┘│  Ecr │┌─┴───┴──┐└──┬────┬─┘┌──────────┐│      │ └┬──────┬┘ ┌──┴────┴──┐  └──┬────┬──┘ ┌────────┐  ┌──────┐ ┌─────────┐ ┌────┐┌─────────┐┌──────┐│  Ecr │├─────────┬┘├────┤└────────┘│  Ecr │├─────────┴┐└────┘└─────────┘│  Ecr │└─┬───┬──┘┌──────────┐│      │└─┬──────┬─┘┌──┴───┴───┐     ┌────┐    ┌────────┐  ┌──────┐ ┌─────────┐ ┌────┐┌─────────┐┌──────┐┌─────────────┐   ┌────┐   ┌──────────┐  │  Ecr │  ├─────────┤  ├────┤  ┌─┴──────────┴─┐                                                                                ┌──────┐ ┌─────────┐ ┌────┐  ┌─────────┐                                                     ░    ┌─┐   └╥┘   \n",
       "  q_2 -> 1 ┤ Rz(π/2) ├┤ √X ├───┤ Rz(-π) ├───┤1     ├┤ Rz(π/2) ├─┤ √X ├──────────┤1     ├┤ Rz(-π/2) ├─────────────────┤1     ├┤ Rz(-π) ├───┤ √X ├──┤ Rz(-π/2) ├┤      ├──┤0     ├──┤ Rz(-π/2) ├─────┤ √X ├────┤ Rz(-π) ├──┤0     ├─┤ Rz(π/2) ├─┤ √X ├┤ Rz(π/2) ├┤0     ├┤1     ├┤ Rz(π/2) ├─┤ √X ├──────────┤1     ├┤ Rz(-π/2) ├─────────────────┤1     ├──┤ X ├───┤ Rz(-π/2) ├┤      ├──┤0     ├──┤ Rz(-π/2) ├─────┤ √X ├────┤ Rz(-π) ├──┤0     ├─┤ Rz(π/2) ├─┤ √X ├┤ Rz(π/2) ├┤0     ├┤ Rz(-2.2791) ├───┤ √X ├───┤ Rz(-π/2) ├──┤1     ├──┤ Rz(π/2) ├──┤ √X ├──┤ Rz(-0.70826) ├────────────────────────────────────────────────────────────────────────────────┤0     ├─┤ Rz(π/2) ├─┤ √X ├──┤ Rz(π/2) ├─────────────────────────────────────────────────────░────┤M├────╫────\n",
       "           ├─────────┤├────┤   ├────────┤   └──────┘└─────────┘ └────┘          └──────┘└──────────┘                 └──────┘└────────┘   └────┘  └──────────┘│      │  │  Ecr │  ├─────────┬┘     ├────┤    └────────┘  │  Ecr │ ├─────────┴┐└────┘└─────────┘│  Ecr │└┬────┬┘└─────────┘ └────┘          └──────┘└──────────┘                 └──────┘  └───┘   └──────────┘│      │  │  Ecr │  ├─────────┬┘     ├────┤    └────────┘  │  Ecr │ ├─────────┴┐└────┘└─────────┘│  Ecr │└────┬───┬────┘┌──┴────┴──┐└─┬──────┬─┘┌─┴──────┴─┐└──┬────┬─┘┌─┴────┴─┐└───┬──────┬───┘┌─────────┐ ┌────┐┌─────────┐┌──────┐┌────────────┐     ┌────┐    ┌──────────┐  │  Ecr │ ├─────────┴┐├────┤┌─┴─────────┴─┐┌──────┐   ┌────┐  ┌────────┐                      ░    └╥┘    ║ ┌─┐\n",
       "  q_3 -> 2 ┤ Rz(π/2) ├┤ √X ├───┤ Rz(-π) ├─────────────────────────────────────────────────────────────────────────────────────────────────────────────────────┤  Ecr ├──┤1     ├──┤ Rz(π/2) ├──────┤ √X ├────────────────┤1     ├─┤ Rz(-π/2) ├─────────────────┤1     ├─┤ √X ├────────────────────────────────────────────────────────────────────────────────────────────────┤  Ecr ├──┤1     ├──┤ Rz(π/2) ├──────┤ √X ├────────────────┤1     ├─┤ Rz(-π/2) ├─────────────────┤1     ├─────┤ X ├─────┤ Rz(-π/2) ├──┤0     ├──┤ Rz(-π/2) ├───┤ √X ├──┤ Rz(-π) ├────┤0     ├────┤ Rz(π/2) ├─┤ √X ├┤ Rz(π/2) ├┤0     ├┤ Rz(1.9755) ├─────┤ √X ├────┤ Rz(-π/2) ├──┤1     ├─┤ Rz(-π/2) ├┤ √X ├┤ Rz(-1.9755) ├┤0     ├───┤ √X ├──┤ Rz(-π) ├──────────────────────░─────╫─────╫─┤M├\n",
       "           ├─────────┤├────┤   ├────────┤                                                                                                                     │      │  └──────┘  └─────────┘      └────┘                └──────┘ └──────────┘                 └──────┘ └────┘                                                                                                │      │  └──────┘  └─────────┘      └────┘                └──────┘ └──────────┘                 └──────┘     └───┘     └──────────┘  │  Ecr │  ├─────────┬┘   ├────┤  └────────┘    │  Ecr │    ├─────────┴┐└────┘└─────────┘│  Ecr │└───┬────┬───┘┌────┴────┴───┐└──┬────┬──┘┌─┴──────┴┐└──────────┘└────┘└─────────────┘│  Ecr │┌──┴────┴─┐└─┬────┬─┘┌─────────────┐┌────┐ ░     ║ ┌─┐ ║ └╥┘\n",
       "  q_4 -> 3 ┤ Rz(π/2) ├┤ √X ├───┤ Rz(-π) ├─────────────────────────────────────────────────────────────────────────────────────────────────────────────────────┤      ├────────────────────────────────────────────────────────────────────────────────────────────────────────────────────────────────────────────────────────────────────────────────────────────────────────┤      ├──────────────────────────────────────────────────────────────────────────────────────────────────────────────────────────────┤1     ├──┤ Rz(π/2) ├────┤ √X ├────────────────┤1     ├────┤ Rz(-π/2) ├─────────────────┤1     ├────┤ √X ├────┤ Rz(0.69764) ├───┤ √X ├───┤ Rz(π/2) ├─────────────────────────────────┤1     ├┤ Rz(π/2) ├──┤ √X ├──┤ Rz(-2.2684) ├┤ √X ├─░─────╫─┤M├─╫──╫─\n",
       "           ├─────────┤├────┤┌──┴────────┴──┐ ┌────┐ ┌─────────┐                                                                                               │      │┌──────────┐   ┌────┐   ┌─────────────┐  ┌────┐  ┌─────────┐                                                                                                                                            │      │┌──────────┐   ┌────┐   ┌─────────────┐  ┌────┐  ┌─────────┐                                                                  └──────┘  └─────────┘    └────┘                └──────┘    └──────────┘                 └──────┘    └────┘    └─────────────┘   └────┘   └─────────┘                                 └──────┘└─────────┘  └────┘  └─────────────┘└────┘ ░ ┌─┐ ║ └╥┘ ║  ║ \n",
       " q_0 -> 14 ┤ Rz(π/2) ├┤ √X ├┤ Rz(-0.14373) ├─┤ √X ├─┤ Rz(π/2) ├───────────────────────────────────────────────────────────────────────────────────────────────┤1     ├┤ Rz(-π/2) ├───┤ √X ├───┤ Rz(-2.8594) ├──┤ √X ├──┤ Rz(π/2) ├────────────────────────────────────────────────────────────────────────────────────────────────────────────────────────────────────────────┤1     ├┤ Rz(-π/2) ├───┤ √X ├───┤ Rz(-2.7156) ├──┤ √X ├──┤ Rz(π/2) ├──────────────────────────────────────────────────────────────────────────────────────────────────────────────────────────────────────────────────────────────────────────────────────────────────────────────────────────────────────────────────────────────────────────────────────────────────────────░─┤M├─╫──╫──╫──╫─\n",
       "           └─────────┘└────┘└──────────────┘ └────┘ └─────────┘                                                                                               └──────┘└──────────┘   └────┘   └─────────────┘  └────┘  └─────────┘                                                                                                                                            └──────┘└──────────┘   └────┘   └─────────────┘  └────┘  └─────────┘                                                                                                                                                                                                                                                                                                          ░ └╥┘ ║  ║  ║  ║ \n",
       "measure: 5/════════════════════════════════════════════════════════════════════════════════════════════════════════════════════════════════════════════════════════════════════════════════════════════════════════════════════════════════════════════════════════════════════════════════════════════════════════════════════════════════════════════════════════════════════════════════════════════════════════════════════════════════════════════════════════════════════════════════════════════════════════════════════════════════════════════════════════════════════════════════════════════════════════════════════════════════════════════════════════════════════════════════════════════════════════════════════════════════════════════════════╩══╩══╩══╩══╩═\n",
       "                                                                                                                                                                                                                                                                                                                                                                                                                                                                                                                                                                                                                                                                                                                                                               0  1  2  3  4 </pre>"
      ],
      "text/plain": [
       "global phase: π/4\n",
       "           ┌─────────┐┌────┐                ┌──────┐┌──────────┐┌────┐┌────────┐┌──────┐┌─────────┐ ┌────┐┌─────────┐┌──────┐  ┌───┐   ┌─────────┐            ┌──────┐ ┌────────┐    ┌────┐     ┌──────────┐                                                           ┌──────┐┌──────────┐┌────┐┌────────┐┌──────┐┌─────────┐ ┌────┐┌─────────┐┌──────┐┌────────┐            ┌──────┐┌──────────┐   ┌───┐                                                                                                                      ┌──────┐  ┌─────────┐  ┌────┐    ┌──────────┐                                                                                                                                                                               ░          ┌─┐   \n",
       "  q_1 -> 0 ┤ Rz(π/2) ├┤ √X ├────────────────┤0     ├┤ Rz(-π/2) ├┤ √X ├┤ Rz(-π) ├┤0     ├┤ Rz(π/2) ├─┤ √X ├┤ Rz(π/2) ├┤0     ├──┤ X ├───┤ Rz(π/2) ├────────────┤0     ├─┤ Rz(-π) ├────┤ √X ├─────┤ Rz(-π/2) ├───────────────────────────────────────────────────────────┤0     ├┤ Rz(-π/2) ├┤ √X ├┤ Rz(-π) ├┤0     ├┤ Rz(π/2) ├─┤ √X ├┤ Rz(π/2) ├┤0     ├┤ Rz(-π) ├────────────┤0     ├┤ Rz(-π/2) ├───┤ X ├──────────────────────────────────────────────────────────────────────────────────────────────────────────────────────┤0     ├──┤ Rz(π/2) ├──┤ √X ├────┤ Rz(-π/2) ├───────────────────────────────────────────────────────────────────────────────────────────────────────────────────────────────────────────────────────────────────────────────░──────────┤M├───\n",
       "           ├─────────┤├────┤   ┌────────┐   │  Ecr │├─────────┬┘├────┤└────────┘│  Ecr │├─────────┴┐└────┘└─────────┘│  Ecr │┌─┴───┴──┐└──┬────┬─┘┌──────────┐│      │ └┬──────┬┘ ┌──┴────┴──┐  └──┬────┬──┘ ┌────────┐  ┌──────┐ ┌─────────┐ ┌────┐┌─────────┐┌──────┐│  Ecr │├─────────┬┘├────┤└────────┘│  Ecr │├─────────┴┐└────┘└─────────┘│  Ecr │└─┬───┬──┘┌──────────┐│      │└─┬──────┬─┘┌──┴───┴───┐     ┌────┐    ┌────────┐  ┌──────┐ ┌─────────┐ ┌────┐┌─────────┐┌──────┐┌─────────────┐   ┌────┐   ┌──────────┐  │  Ecr │  ├─────────┤  ├────┤  ┌─┴──────────┴─┐                                                                                ┌──────┐ ┌─────────┐ ┌────┐  ┌─────────┐                                                     ░    ┌─┐   └╥┘   \n",
       "  q_2 -> 1 ┤ Rz(π/2) ├┤ √X ├───┤ Rz(-π) ├───┤1     ├┤ Rz(π/2) ├─┤ √X ├──────────┤1     ├┤ Rz(-π/2) ├─────────────────┤1     ├┤ Rz(-π) ├───┤ √X ├──┤ Rz(-π/2) ├┤      ├──┤0     ├──┤ Rz(-π/2) ├─────┤ √X ├────┤ Rz(-π) ├──┤0     ├─┤ Rz(π/2) ├─┤ √X ├┤ Rz(π/2) ├┤0     ├┤1     ├┤ Rz(π/2) ├─┤ √X ├──────────┤1     ├┤ Rz(-π/2) ├─────────────────┤1     ├──┤ X ├───┤ Rz(-π/2) ├┤      ├──┤0     ├──┤ Rz(-π/2) ├─────┤ √X ├────┤ Rz(-π) ├──┤0     ├─┤ Rz(π/2) ├─┤ √X ├┤ Rz(π/2) ├┤0     ├┤ Rz(-2.2791) ├───┤ √X ├───┤ Rz(-π/2) ├──┤1     ├──┤ Rz(π/2) ├──┤ √X ├──┤ Rz(-0.70826) ├────────────────────────────────────────────────────────────────────────────────┤0     ├─┤ Rz(π/2) ├─┤ √X ├──┤ Rz(π/2) ├─────────────────────────────────────────────────────░────┤M├────╫────\n",
       "           ├─────────┤├────┤   ├────────┤   └──────┘└─────────┘ └────┘          └──────┘└──────────┘                 └──────┘└────────┘   └────┘  └──────────┘│      │  │  Ecr │  ├─────────┬┘     ├────┤    └────────┘  │  Ecr │ ├─────────┴┐└────┘└─────────┘│  Ecr │└┬────┬┘└─────────┘ └────┘          └──────┘└──────────┘                 └──────┘  └───┘   └──────────┘│      │  │  Ecr │  ├─────────┬┘     ├────┤    └────────┘  │  Ecr │ ├─────────┴┐└────┘└─────────┘│  Ecr │└────┬───┬────┘┌──┴────┴──┐└─┬──────┬─┘┌─┴──────┴─┐└──┬────┬─┘┌─┴────┴─┐└───┬──────┬───┘┌─────────┐ ┌────┐┌─────────┐┌──────┐┌────────────┐     ┌────┐    ┌──────────┐  │  Ecr │ ├─────────┴┐├────┤┌─┴─────────┴─┐┌──────┐   ┌────┐  ┌────────┐                      ░    └╥┘    ║ ┌─┐\n",
       "  q_3 -> 2 ┤ Rz(π/2) ├┤ √X ├───┤ Rz(-π) ├─────────────────────────────────────────────────────────────────────────────────────────────────────────────────────┤  Ecr ├──┤1     ├──┤ Rz(π/2) ├──────┤ √X ├────────────────┤1     ├─┤ Rz(-π/2) ├─────────────────┤1     ├─┤ √X ├────────────────────────────────────────────────────────────────────────────────────────────────┤  Ecr ├──┤1     ├──┤ Rz(π/2) ├──────┤ √X ├────────────────┤1     ├─┤ Rz(-π/2) ├─────────────────┤1     ├─────┤ X ├─────┤ Rz(-π/2) ├──┤0     ├──┤ Rz(-π/2) ├───┤ √X ├──┤ Rz(-π) ├────┤0     ├────┤ Rz(π/2) ├─┤ √X ├┤ Rz(π/2) ├┤0     ├┤ Rz(1.9755) ├─────┤ √X ├────┤ Rz(-π/2) ├──┤1     ├─┤ Rz(-π/2) ├┤ √X ├┤ Rz(-1.9755) ├┤0     ├───┤ √X ├──┤ Rz(-π) ├──────────────────────░─────╫─────╫─┤M├\n",
       "           ├─────────┤├────┤   ├────────┤                                                                                                                     │      │  └──────┘  └─────────┘      └────┘                └──────┘ └──────────┘                 └──────┘ └────┘                                                                                                │      │  └──────┘  └─────────┘      └────┘                └──────┘ └──────────┘                 └──────┘     └───┘     └──────────┘  │  Ecr │  ├─────────┬┘   ├────┤  └────────┘    │  Ecr │    ├─────────┴┐└────┘└─────────┘│  Ecr │└───┬────┬───┘┌────┴────┴───┐└──┬────┬──┘┌─┴──────┴┐└──────────┘└────┘└─────────────┘│  Ecr │┌──┴────┴─┐└─┬────┬─┘┌─────────────┐┌────┐ ░     ║ ┌─┐ ║ └╥┘\n",
       "  q_4 -> 3 ┤ Rz(π/2) ├┤ √X ├───┤ Rz(-π) ├─────────────────────────────────────────────────────────────────────────────────────────────────────────────────────┤      ├────────────────────────────────────────────────────────────────────────────────────────────────────────────────────────────────────────────────────────────────────────────────────────────────────────┤      ├──────────────────────────────────────────────────────────────────────────────────────────────────────────────────────────────┤1     ├──┤ Rz(π/2) ├────┤ √X ├────────────────┤1     ├────┤ Rz(-π/2) ├─────────────────┤1     ├────┤ √X ├────┤ Rz(0.69764) ├───┤ √X ├───┤ Rz(π/2) ├─────────────────────────────────┤1     ├┤ Rz(π/2) ├──┤ √X ├──┤ Rz(-2.2684) ├┤ √X ├─░─────╫─┤M├─╫──╫─\n",
       "           ├─────────┤├────┤┌──┴────────┴──┐ ┌────┐ ┌─────────┐                                                                                               │      │┌──────────┐   ┌────┐   ┌─────────────┐  ┌────┐  ┌─────────┐                                                                                                                                            │      │┌──────────┐   ┌────┐   ┌─────────────┐  ┌────┐  ┌─────────┐                                                                  └──────┘  └─────────┘    └────┘                └──────┘    └──────────┘                 └──────┘    └────┘    └─────────────┘   └────┘   └─────────┘                                 └──────┘└─────────┘  └────┘  └─────────────┘└────┘ ░ ┌─┐ ║ └╥┘ ║  ║ \n",
       " q_0 -> 14 ┤ Rz(π/2) ├┤ √X ├┤ Rz(-0.14373) ├─┤ √X ├─┤ Rz(π/2) ├───────────────────────────────────────────────────────────────────────────────────────────────┤1     ├┤ Rz(-π/2) ├───┤ √X ├───┤ Rz(-2.8594) ├──┤ √X ├──┤ Rz(π/2) ├────────────────────────────────────────────────────────────────────────────────────────────────────────────────────────────────────────────┤1     ├┤ Rz(-π/2) ├───┤ √X ├───┤ Rz(-2.7156) ├──┤ √X ├──┤ Rz(π/2) ├──────────────────────────────────────────────────────────────────────────────────────────────────────────────────────────────────────────────────────────────────────────────────────────────────────────────────────────────────────────────────────────────────────────────────────────────────────────░─┤M├─╫──╫──╫──╫─\n",
       "           └─────────┘└────┘└──────────────┘ └────┘ └─────────┘                                                                                               └──────┘└──────────┘   └────┘   └─────────────┘  └────┘  └─────────┘                                                                                                                                            └──────┘└──────────┘   └────┘   └─────────────┘  └────┘  └─────────┘                                                                                                                                                                                                                                                                                                          ░ └╥┘ ║  ║  ║  ║ \n",
       "measure: 5/════════════════════════════════════════════════════════════════════════════════════════════════════════════════════════════════════════════════════════════════════════════════════════════════════════════════════════════════════════════════════════════════════════════════════════════════════════════════════════════════════════════════════════════════════════════════════════════════════════════════════════════════════════════════════════════════════════════════════════════════════════════════════════════════════════════════════════════════════════════════════════════════════════════════════════════════════════════════════════════════════════════════════════════════════════════════════════════════════════════════════╩══╩══╩══╩══╩═\n",
       "                                                                                                                                                                                                                                                                                                                                                                                                                                                                                                                                                                                                                                                                                                                                                               0  1  2  3  4 "
      ]
     },
     "execution_count": 52,
     "metadata": {},
     "output_type": "execute_result"
    }
   ],
   "source": [
    "compiled_num = [\n",
    "    qiskit.transpile(\n",
    "        circuit,\n",
    "        backend=computer,\n",
    "        initial_layout=layout[n],\n",
    "        optimization_level=3\n",
    "    ) for circuit in num_circuits\n",
    "]\n",
    "\n",
    "compiled_num[-1].draw(fold=-1, idle_wires=False)"
   ]
  },
  {
   "cell_type": "code",
   "execution_count": 53,
   "metadata": {},
   "outputs": [],
   "source": [
    "job = sampler.run(compiled_num, shots=nshots)"
   ]
  },
  {
   "cell_type": "code",
   "execution_count": 54,
   "metadata": {},
   "outputs": [],
   "source": [
    "all_counts_num = [result.data.measure.get_counts() for result in job.result()]"
   ]
  },
  {
   "cell_type": "code",
   "execution_count": 55,
   "metadata": {},
   "outputs": [
    {
     "name": "stdout",
     "output_type": "stream",
     "text": [
      "0.76368\n",
      "0.80912\n",
      "0.77796\n",
      "0.79072\n",
      "0.80192\n",
      "0.8078\n",
      "0.85512\n",
      "0.87368\n",
      "0.76048\n",
      "0.85564\n",
      "0.76564\n",
      "0.78216\n",
      "0.8414\n",
      "0.90444\n",
      "0.77172\n",
      "0.80428\n"
     ]
    }
   ],
   "source": [
    "evals_numerator = []\n",
    "for pauli, counts in zip(observable_elements, all_counts_num):\n",
    "    # print(pauli)\n",
    "    eval = compute_expectation(pauli, counts)\n",
    "    print(eval)\n",
    "    evals_numerator.append(eval)"
   ]
  },
  {
   "cell_type": "markdown",
   "metadata": {},
   "source": [
    "## Compute the denominator"
   ]
  },
  {
   "cell_type": "code",
   "execution_count": 56,
   "metadata": {},
   "outputs": [
    {
     "name": "stdout",
     "output_type": "stream",
     "text": [
      "I\n",
      "X(q(0))*Z(q(1))*Z(q(2))*X(q(3))\n",
      "X(q(1))*Z(q(2))*Z(q(3))*X(q(4))\n",
      "X(q(0))*X(q(2))*Z(q(3))*Z(q(4))\n",
      "Z(q(0))*X(q(1))*X(q(3))*Z(q(4))\n",
      "X(q(0))*Y(q(1))*Y(q(3))*X(q(4))\n",
      "Z(q(1))*Y(q(2))*Y(q(3))*Z(q(4))\n",
      "Y(q(0))*Y(q(1))*Z(q(2))*Z(q(4))\n",
      "X(q(0))*X(q(1))*Y(q(2))*Y(q(4))\n",
      "Z(q(0))*Z(q(2))*Y(q(3))*Y(q(4))\n",
      "Y(q(0))*X(q(1))*X(q(2))*Y(q(3))\n",
      "Y(q(1))*X(q(2))*X(q(3))*Y(q(4))\n",
      "Y(q(0))*Z(q(1))*Z(q(3))*Y(q(4))\n",
      "Z(q(0))*Y(q(1))*Y(q(2))*Z(q(3))\n",
      "Y(q(0))*Y(q(2))*X(q(3))*X(q(4))\n",
      "Z(q(0))*Z(q(1))*X(q(2))*X(q(4))\n"
     ]
    }
   ],
   "source": [
    "den_circuits = []\n",
    "for pauli in stabilizer_elements:\n",
    "    c = circuit.copy()\n",
    "    print(pauli)\n",
    "    for q, p in pauli.items():\n",
    "        if p is cirq.X:\n",
    "            c.append(cirq.H.on(q))\n",
    "        elif p is cirq.Y:\n",
    "            c.append(cirq.S.on(q)**-1)\n",
    "            c.append(cirq.H.on(q))\n",
    "    qc = qiskit.QuantumCircuit.from_qasm_str(c.to_qasm())\n",
    "    qc.measure_active()\n",
    "    # print(c)\n",
    "    den_circuits.append(qc)"
   ]
  },
  {
   "cell_type": "code",
   "execution_count": 57,
   "metadata": {},
   "outputs": [],
   "source": [
    "compiled_den = [\n",
    "    qiskit.transpile(\n",
    "        circuit,\n",
    "        backend=computer,\n",
    "        initial_layout=layout[n],\n",
    "        optimization_level=3\n",
    "    ) for circuit in den_circuits\n",
    "]"
   ]
  },
  {
   "cell_type": "code",
   "execution_count": 58,
   "metadata": {},
   "outputs": [],
   "source": [
    "job = sampler.run(compiled_den, shots=nshots)"
   ]
  },
  {
   "cell_type": "code",
   "execution_count": 59,
   "metadata": {},
   "outputs": [],
   "source": [
    "all_counts_den = [result.data.measure.get_counts() for result in job.result()]"
   ]
  },
  {
   "cell_type": "code",
   "execution_count": 60,
   "metadata": {},
   "outputs": [
    {
     "name": "stdout",
     "output_type": "stream",
     "text": [
      "1.0\n",
      "0.78404\n",
      "0.79264\n",
      "0.84212\n",
      "0.81296\n",
      "0.81376\n",
      "0.77936\n",
      "0.78032\n",
      "0.80732\n",
      "0.7992\n",
      "0.7952\n",
      "0.81484\n",
      "0.7618\n",
      "0.78024\n",
      "0.83504\n",
      "0.7746\n"
     ]
    }
   ],
   "source": [
    "evals_denominator = []\n",
    "for pauli, counts in zip(stabilizer_elements, all_counts_den):\n",
    "    # print(pauli)\n",
    "    eval = compute_expectation(pauli, counts)\n",
    "    print(eval)\n",
    "    evals_denominator.append(eval)"
   ]
  },
  {
   "cell_type": "code",
   "execution_count": 61,
   "metadata": {},
   "outputs": [
    {
     "data": {
      "text/plain": [
       "0.9994080213112331"
      ]
     },
     "execution_count": 61,
     "metadata": {},
     "output_type": "execute_result"
    }
   ],
   "source": [
    "sum(evals_numerator) / sum(evals_denominator)"
   ]
  },
  {
   "cell_type": "code",
   "execution_count": null,
   "metadata": {},
   "outputs": [],
   "source": []
  }
 ],
 "metadata": {
  "kernelspec": {
   "display_name": ".venv",
   "language": "python",
   "name": "python3"
  },
  "language_info": {
   "codemirror_mode": {
    "name": "ipython",
    "version": 3
   },
   "file_extension": ".py",
   "mimetype": "text/x-python",
   "name": "python",
   "nbconvert_exporter": "python",
   "pygments_lexer": "ipython3",
   "version": "3.9.5"
  }
 },
 "nbformat": 4,
 "nbformat_minor": 2
}
