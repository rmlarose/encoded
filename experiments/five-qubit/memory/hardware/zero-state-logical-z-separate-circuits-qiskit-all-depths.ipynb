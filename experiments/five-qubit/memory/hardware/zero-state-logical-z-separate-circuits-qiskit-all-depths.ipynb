{
 "cells": [
  {
   "cell_type": "markdown",
   "metadata": {},
   "source": [
    "# Memory experiment: Compute $ \\langle \\bar{0} | \\bar{Z} | \\bar{0} \\rangle$ with the five-qubit code"
   ]
  },
  {
   "cell_type": "code",
   "execution_count": 1,
   "metadata": {},
   "outputs": [],
   "source": [
    "import collections\n",
    "from typing import List, Dict, Sequence\n",
    "import itertools\n",
    "import functools\n",
    "\n",
    "import numpy as np\n",
    "import cirq\n",
    "import qiskit\n",
    "import qiskit_ibm_runtime\n",
    "from qiskit_ibm_runtime import SamplerV2 as Sampler\n",
    "\n",
    "import matplotlib.pyplot as plt; plt.rcParams.update({\"font.family\": \"serif\"})\n",
    "\n",
    "from mitiq import PauliString\n",
    "import stim\n",
    "import stimcirq\n",
    "\n",
    "from encoded.LST import int_to_bin_list"
   ]
  },
  {
   "cell_type": "code",
   "execution_count": 2,
   "metadata": {},
   "outputs": [],
   "source": [
    "import datetime\n",
    "\n",
    "\n",
    "time_key = datetime.datetime.now().strftime(\"%m_%d_%Y_%H:%M:%S\")  # For saving results."
   ]
  },
  {
   "cell_type": "markdown",
   "metadata": {},
   "source": [
    "## Set parameters"
   ]
  },
  {
   "cell_type": "code",
   "execution_count": 3,
   "metadata": {},
   "outputs": [],
   "source": [
    "n = 5                                   # Number of physical qubits\n",
    "nshots = 20_000                         # Number of samples/shots\n",
    "depths = list(range(0, 100 + 1, 10))    # Number of X (NOT) gates to perform (each depth should be even to implement a noisy identity)\n",
    "k = 1                                   # Number of logical qubits.\n",
    "# obs: str = \"Z\"  # TODO: Add.\n",
    "ibm_computer: str = \"ibm_fez\"\n",
    "use_simulator: bool = False"
   ]
  },
  {
   "cell_type": "code",
   "execution_count": 4,
   "metadata": {},
   "outputs": [],
   "source": [
    "# Computer and qubits to use.\n",
    "service = qiskit_ibm_runtime.QiskitRuntimeService()  # This assumes a saved account.\n",
    "computer = service.backend(ibm_computer)\n",
    "\n",
    "if use_simulator:\n",
    "    from qiskit_aer import AerSimulator\n",
    "\n",
    "\n",
    "    computer = AerSimulator().from_backend(computer)\n",
    "sampler = Sampler(computer)\n",
    "\n",
    "# See calibration data at https://quantum.ibm.com/services/resources to select good qubits.\n",
    "layout = {\n",
    "    5 : [3, 16, 22, 23, 24],\n",
    "    # 7: [99, 100, 101, 110, 117, 118, 119]\n",
    "    # 7 : [3, 2, 1, 0, 14, 18, 19],\n",
    "}\n",
    "\n",
    "\n",
    "# Good qubits in Sherbrooke Jan 24.\n",
    "# layout = {\n",
    "#     7 : [99, 100, 101, 110, 117, 118, 119],\n",
    "# }"
   ]
  },
  {
   "cell_type": "markdown",
   "metadata": {},
   "source": [
    "## Helper functions"
   ]
  },
  {
   "cell_type": "code",
   "execution_count": 5,
   "metadata": {},
   "outputs": [],
   "source": [
    "def int_to_bin_str(x, length):\n",
    "    return functools.reduce(lambda a, b: a + b, [str(b) for b in int_to_bin_list(x, length)])\n",
    "\n",
    "\n",
    "def get_counts_for(qubit: int, counts: collections.Counter[str, int]) -> collections.Counter[int, int]:\n",
    "    qubit_counts = collections.Counter()\n",
    "    for key, value in counts.items():\n",
    "        k = list(key)[qubit]\n",
    "        qubit_counts[int(k)] += value\n",
    "    return qubit_counts\n",
    "\n",
    "\n",
    "# Expectation of pauli on bitstring measured in diagonal basis.\n",
    "def compute_expectation(\n",
    "    pauli: cirq.PauliString,\n",
    "    counts: Dict[str, int],\n",
    ") -> float:\n",
    "    # print(\"In compute expectation:\")\n",
    "    # print(\"pauli =\", pauli)\n",
    "    # print(\"counts =\")\n",
    "    # print(counts)\n",
    "    if pauli is cirq.PauliString():\n",
    "        return 1.0\n",
    "\n",
    "    expectation = 0.0\n",
    "\n",
    "    indices = [q.x for q in pauli.qubits]\n",
    "    # print(\"indices = \", indices)\n",
    "    for key, value in counts.items():\n",
    "        key = list(map(int, list(key[::-1])))\n",
    "        expectation += (-1) ** sum([key[i] for i in indices]) * value\n",
    "\n",
    "    eval = pauli.coefficient * expectation / sum(counts.values())\n",
    "    return float(np.real_if_close(eval))\n",
    "\n",
    "def parity_check_matrix_to_stabilizers(matrix: np.ndarray) -> List[stim.PauliString]:\n",
    "    num_rows, num_cols = matrix.shape\n",
    "    assert num_cols % 2 == 0\n",
    "    num_qubits = num_cols // 2\n",
    "\n",
    "    matrix = matrix.astype(np.bool8)  # indicate the data isn't bit packed\n",
    "    return [\n",
    "        stim.PauliString.from_numpy(\n",
    "            xs=matrix[row, :num_qubits],\n",
    "            zs=matrix[row, num_qubits:],\n",
    "        )\n",
    "        for row in range(num_rows)\n",
    "    ]\n",
    "\n",
    "# Prepares logical |0> state on Steane Code\n",
    "def encode_five(qreg: Sequence[cirq.Qid]) -> cirq.Circuit:\n",
    "    a= stim.PauliString(\"+ZX_XZ\")\n",
    "    b=stim.PauliString(\"+XZZX_\")\n",
    "    c= stim.PauliString(\"+_XZZX\")\n",
    "    d=stim.PauliString(\"+X_XZZ\")\n",
    "    # a= stim.PauliString(\"+XZZX_\")\n",
    "    # b=stim.PauliString(\"+_XZZX\")\n",
    "    # c= stim.PauliString(\"+X_XZZ\")\n",
    "    # d=stim.PauliString(\"+ZX_XZ\")\n",
    "    tableau = stim.Tableau.from_stabilizers(\n",
    "        [a, b, c, d],\n",
    "        allow_underconstrained=True,\n",
    "    )\n",
    "    stim_circuit = tableau.to_circuit(method='graph_state')\n",
    "    circuit = stimcirq.stim_circuit_to_cirq_circuit(stim_circuit)\n",
    "    circuit.append(cirq.X.on_each(qreg))\n",
    "    \n",
    "    return circuit\n",
    "\n",
    "def noisy_identity(qreg, depth):\n",
    "    circuit = cirq.Circuit()\n",
    "    if depth == 0:\n",
    "        circuit.append(cirq.I.on_each(qreg))\n",
    "    for _ in range(depth):\n",
    "        circuit.append(cirq.X.on_each(qreg))\n",
    "    return circuit\n",
    "\n",
    "def strs_to_paulis(pauli_strs : List[str]) -> List[cirq.PauliString]:\n",
    "    stab_list = []\n",
    "    for stab_str in pauli_strs:\n",
    "        stab_list.append(PauliString(stab_str)._pauli)\n",
    "    return stab_list\n",
    "\n",
    "def generate_stabilizer_elements(generators: List[cirq.PauliString]) -> List[cirq.PauliString]:\n",
    "    elements = []\n",
    "    for string in itertools.chain.from_iterable(itertools.combinations(generators, r) for r in range(len(generators) + 1)):\n",
    "        elements.append(\n",
    "            functools.reduce(lambda a, b: a * b, string, cirq.PauliString())\n",
    "        )\n",
    "    return elements\n",
    "\n",
    "# For qiskit circuits\n",
    "def get_active_qubits(circ):\n",
    "    dag = qiskit.converters.circuit_to_dag(circ)\n",
    "    active_qubits = [qubit for qubit in circ.qubits if qubit not in dag.idle_wires()]\n",
    "    return active_qubits\n",
    "\n",
    "def get_lst_ev(counts, observables, stabilizers):\n",
    "    numerator = 0\n",
    "    for obs in observables:\n",
    "        numerator += compute_expectation(obs, counts) / len(observables)\n",
    "    denominator = 0\n",
    "    for stab in stabilizers:\n",
    "        denominator += compute_expectation(stab, counts) / len(stabilizers)\n",
    "    return float(np.real_if_close(numerator / denominator))"
   ]
  },
  {
   "cell_type": "code",
   "execution_count": 6,
   "metadata": {},
   "outputs": [
    {
     "data": {
      "text/html": [
       "<pre style=\"word-wrap: normal;white-space: pre;background: #fff0;line-height: 1.1;font-family: &quot;Courier New&quot;,Courier,monospace\">           ┌───┐┌───┐┌───┐┌───┐┌───┐┌───┐┌───┐┌───┐┌───┐┌───┐┌───┐┌───┐┌───┐┌───┐┌───┐┌───┐┌───┐┌───┐┌───┐┌───┐┌───┐┌───┐┌───┐┌───┐┌───┐┌───┐┌───┐┌───┐┌───┐┌───┐┌───┐┌───┐┌───┐┌───┐┌───┐┌───┐┌───┐┌───┐┌───┐┌───┐┌───┐┌───┐┌───┐┌───┐┌───┐┌───┐┌───┐┌───┐┌───┐┌───┐┌───┐┌───┐┌───┐┌───┐┌───┐┌───┐┌───┐┌───┐┌───┐┌───┐┌───┐┌───┐┌───┐┌───┐┌───┐┌───┐┌───┐┌───┐┌───┐┌───┐┌───┐┌───┐┌───┐┌───┐┌───┐┌───┐┌───┐┌───┐┌───┐┌───┐┌───┐┌───┐┌───┐┌───┐┌───┐┌───┐┌───┐┌───┐┌───┐┌───┐┌───┐┌───┐┌───┐┌───┐┌───┐┌───┐┌───┐┌───┐┌───┐┌───┐ ░ ┌─┐            \n",
       "  q_0 -> 3 ┤ X ├┤ X ├┤ X ├┤ X ├┤ X ├┤ X ├┤ X ├┤ X ├┤ X ├┤ X ├┤ X ├┤ X ├┤ X ├┤ X ├┤ X ├┤ X ├┤ X ├┤ X ├┤ X ├┤ X ├┤ X ├┤ X ├┤ X ├┤ X ├┤ X ├┤ X ├┤ X ├┤ X ├┤ X ├┤ X ├┤ X ├┤ X ├┤ X ├┤ X ├┤ X ├┤ X ├┤ X ├┤ X ├┤ X ├┤ X ├┤ X ├┤ X ├┤ X ├┤ X ├┤ X ├┤ X ├┤ X ├┤ X ├┤ X ├┤ X ├┤ X ├┤ X ├┤ X ├┤ X ├┤ X ├┤ X ├┤ X ├┤ X ├┤ X ├┤ X ├┤ X ├┤ X ├┤ X ├┤ X ├┤ X ├┤ X ├┤ X ├┤ X ├┤ X ├┤ X ├┤ X ├┤ X ├┤ X ├┤ X ├┤ X ├┤ X ├┤ X ├┤ X ├┤ X ├┤ X ├┤ X ├┤ X ├┤ X ├┤ X ├┤ X ├┤ X ├┤ X ├┤ X ├┤ X ├┤ X ├┤ X ├┤ X ├┤ X ├┤ X ├┤ X ├┤ X ├┤ X ├┤ X ├┤ X ├┤ X ├─░─┤M├────────────\n",
       "           ├───┤├───┤├───┤├───┤├───┤├───┤├───┤├───┤├───┤├───┤├───┤├───┤├───┤├───┤├───┤├───┤├───┤├───┤├───┤├───┤├───┤├───┤├───┤├───┤├───┤├───┤├───┤├───┤├───┤├───┤├───┤├───┤├───┤├───┤├───┤├───┤├───┤├───┤├───┤├───┤├───┤├───┤├───┤├───┤├───┤├───┤├───┤├───┤├───┤├───┤├───┤├───┤├───┤├───┤├───┤├───┤├───┤├───┤├───┤├───┤├───┤├───┤├───┤├───┤├───┤├───┤├───┤├───┤├───┤├───┤├───┤├───┤├───┤├───┤├───┤├───┤├───┤├───┤├───┤├───┤├───┤├───┤├───┤├───┤├───┤├───┤├───┤├───┤├───┤├───┤├───┤├───┤├───┤├───┤├───┤├───┤├───┤├───┤├───┤├───┤ ░ └╥┘┌─┐         \n",
       " q_1 -> 16 ┤ X ├┤ X ├┤ X ├┤ X ├┤ X ├┤ X ├┤ X ├┤ X ├┤ X ├┤ X ├┤ X ├┤ X ├┤ X ├┤ X ├┤ X ├┤ X ├┤ X ├┤ X ├┤ X ├┤ X ├┤ X ├┤ X ├┤ X ├┤ X ├┤ X ├┤ X ├┤ X ├┤ X ├┤ X ├┤ X ├┤ X ├┤ X ├┤ X ├┤ X ├┤ X ├┤ X ├┤ X ├┤ X ├┤ X ├┤ X ├┤ X ├┤ X ├┤ X ├┤ X ├┤ X ├┤ X ├┤ X ├┤ X ├┤ X ├┤ X ├┤ X ├┤ X ├┤ X ├┤ X ├┤ X ├┤ X ├┤ X ├┤ X ├┤ X ├┤ X ├┤ X ├┤ X ├┤ X ├┤ X ├┤ X ├┤ X ├┤ X ├┤ X ├┤ X ├┤ X ├┤ X ├┤ X ├┤ X ├┤ X ├┤ X ├┤ X ├┤ X ├┤ X ├┤ X ├┤ X ├┤ X ├┤ X ├┤ X ├┤ X ├┤ X ├┤ X ├┤ X ├┤ X ├┤ X ├┤ X ├┤ X ├┤ X ├┤ X ├┤ X ├┤ X ├┤ X ├┤ X ├┤ X ├┤ X ├┤ X ├─░──╫─┤M├─────────\n",
       "           ├───┤├───┤├───┤├───┤├───┤├───┤├───┤├───┤├───┤├───┤├───┤├───┤├───┤├───┤├───┤├───┤├───┤├───┤├───┤├───┤├───┤├───┤├───┤├───┤├───┤├───┤├───┤├───┤├───┤├───┤├───┤├───┤├───┤├───┤├───┤├───┤├───┤├───┤├───┤├───┤├───┤├───┤├───┤├───┤├───┤├───┤├───┤├───┤├───┤├───┤├───┤├───┤├───┤├───┤├───┤├───┤├───┤├───┤├───┤├───┤├───┤├───┤├───┤├───┤├───┤├───┤├───┤├───┤├───┤├───┤├───┤├───┤├───┤├───┤├───┤├───┤├───┤├───┤├───┤├───┤├───┤├───┤├───┤├───┤├───┤├───┤├───┤├───┤├───┤├───┤├───┤├───┤├───┤├───┤├───┤├───┤├───┤├───┤├───┤├───┤ ░  ║ └╥┘┌─┐      \n",
       " q_2 -> 22 ┤ X ├┤ X ├┤ X ├┤ X ├┤ X ├┤ X ├┤ X ├┤ X ├┤ X ├┤ X ├┤ X ├┤ X ├┤ X ├┤ X ├┤ X ├┤ X ├┤ X ├┤ X ├┤ X ├┤ X ├┤ X ├┤ X ├┤ X ├┤ X ├┤ X ├┤ X ├┤ X ├┤ X ├┤ X ├┤ X ├┤ X ├┤ X ├┤ X ├┤ X ├┤ X ├┤ X ├┤ X ├┤ X ├┤ X ├┤ X ├┤ X ├┤ X ├┤ X ├┤ X ├┤ X ├┤ X ├┤ X ├┤ X ├┤ X ├┤ X ├┤ X ├┤ X ├┤ X ├┤ X ├┤ X ├┤ X ├┤ X ├┤ X ├┤ X ├┤ X ├┤ X ├┤ X ├┤ X ├┤ X ├┤ X ├┤ X ├┤ X ├┤ X ├┤ X ├┤ X ├┤ X ├┤ X ├┤ X ├┤ X ├┤ X ├┤ X ├┤ X ├┤ X ├┤ X ├┤ X ├┤ X ├┤ X ├┤ X ├┤ X ├┤ X ├┤ X ├┤ X ├┤ X ├┤ X ├┤ X ├┤ X ├┤ X ├┤ X ├┤ X ├┤ X ├┤ X ├┤ X ├┤ X ├┤ X ├┤ X ├─░──╫──╫─┤M├──────\n",
       "           ├───┤├───┤├───┤├───┤├───┤├───┤├───┤├───┤├───┤├───┤├───┤├───┤├───┤├───┤├───┤├───┤├───┤├───┤├───┤├───┤├───┤├───┤├───┤├───┤├───┤├───┤├───┤├───┤├───┤├───┤├───┤├───┤├───┤├───┤├───┤├───┤├───┤├───┤├───┤├───┤├───┤├───┤├───┤├───┤├───┤├───┤├───┤├───┤├───┤├───┤├───┤├───┤├───┤├───┤├───┤├───┤├───┤├───┤├───┤├───┤├───┤├───┤├───┤├───┤├───┤├───┤├───┤├───┤├───┤├───┤├───┤├───┤├───┤├───┤├───┤├───┤├───┤├───┤├───┤├───┤├───┤├───┤├───┤├───┤├───┤├───┤├───┤├───┤├───┤├───┤├───┤├───┤├───┤├───┤├───┤├───┤├───┤├───┤├───┤├───┤ ░  ║  ║ └╥┘┌─┐   \n",
       " q_3 -> 23 ┤ X ├┤ X ├┤ X ├┤ X ├┤ X ├┤ X ├┤ X ├┤ X ├┤ X ├┤ X ├┤ X ├┤ X ├┤ X ├┤ X ├┤ X ├┤ X ├┤ X ├┤ X ├┤ X ├┤ X ├┤ X ├┤ X ├┤ X ├┤ X ├┤ X ├┤ X ├┤ X ├┤ X ├┤ X ├┤ X ├┤ X ├┤ X ├┤ X ├┤ X ├┤ X ├┤ X ├┤ X ├┤ X ├┤ X ├┤ X ├┤ X ├┤ X ├┤ X ├┤ X ├┤ X ├┤ X ├┤ X ├┤ X ├┤ X ├┤ X ├┤ X ├┤ X ├┤ X ├┤ X ├┤ X ├┤ X ├┤ X ├┤ X ├┤ X ├┤ X ├┤ X ├┤ X ├┤ X ├┤ X ├┤ X ├┤ X ├┤ X ├┤ X ├┤ X ├┤ X ├┤ X ├┤ X ├┤ X ├┤ X ├┤ X ├┤ X ├┤ X ├┤ X ├┤ X ├┤ X ├┤ X ├┤ X ├┤ X ├┤ X ├┤ X ├┤ X ├┤ X ├┤ X ├┤ X ├┤ X ├┤ X ├┤ X ├┤ X ├┤ X ├┤ X ├┤ X ├┤ X ├┤ X ├┤ X ├┤ X ├─░──╫──╫──╫─┤M├───\n",
       "           ├───┤├───┤├───┤├───┤├───┤├───┤├───┤├───┤├───┤├───┤├───┤├───┤├───┤├───┤├───┤├───┤├───┤├───┤├───┤├───┤├───┤├───┤├───┤├───┤├───┤├───┤├───┤├───┤├───┤├───┤├───┤├───┤├───┤├───┤├───┤├───┤├───┤├───┤├───┤├───┤├───┤├───┤├───┤├───┤├───┤├───┤├───┤├───┤├───┤├───┤├───┤├───┤├───┤├───┤├───┤├───┤├───┤├───┤├───┤├───┤├───┤├───┤├───┤├───┤├───┤├───┤├───┤├───┤├───┤├───┤├───┤├───┤├───┤├───┤├───┤├───┤├───┤├───┤├───┤├───┤├───┤├───┤├───┤├───┤├───┤├───┤├───┤├───┤├───┤├───┤├───┤├───┤├───┤├───┤├───┤├───┤├───┤├───┤├───┤├───┤ ░  ║  ║  ║ └╥┘┌─┐\n",
       " q_4 -> 24 ┤ X ├┤ X ├┤ X ├┤ X ├┤ X ├┤ X ├┤ X ├┤ X ├┤ X ├┤ X ├┤ X ├┤ X ├┤ X ├┤ X ├┤ X ├┤ X ├┤ X ├┤ X ├┤ X ├┤ X ├┤ X ├┤ X ├┤ X ├┤ X ├┤ X ├┤ X ├┤ X ├┤ X ├┤ X ├┤ X ├┤ X ├┤ X ├┤ X ├┤ X ├┤ X ├┤ X ├┤ X ├┤ X ├┤ X ├┤ X ├┤ X ├┤ X ├┤ X ├┤ X ├┤ X ├┤ X ├┤ X ├┤ X ├┤ X ├┤ X ├┤ X ├┤ X ├┤ X ├┤ X ├┤ X ├┤ X ├┤ X ├┤ X ├┤ X ├┤ X ├┤ X ├┤ X ├┤ X ├┤ X ├┤ X ├┤ X ├┤ X ├┤ X ├┤ X ├┤ X ├┤ X ├┤ X ├┤ X ├┤ X ├┤ X ├┤ X ├┤ X ├┤ X ├┤ X ├┤ X ├┤ X ├┤ X ├┤ X ├┤ X ├┤ X ├┤ X ├┤ X ├┤ X ├┤ X ├┤ X ├┤ X ├┤ X ├┤ X ├┤ X ├┤ X ├┤ X ├┤ X ├┤ X ├┤ X ├┤ X ├─░──╫──╫──╫──╫─┤M├\n",
       "           └───┘└───┘└───┘└───┘└───┘└───┘└───┘└───┘└───┘└───┘└───┘└───┘└───┘└───┘└───┘└───┘└───┘└───┘└───┘└───┘└───┘└───┘└───┘└───┘└───┘└───┘└───┘└───┘└───┘└───┘└───┘└───┘└───┘└───┘└───┘└───┘└───┘└───┘└───┘└───┘└───┘└───┘└───┘└───┘└───┘└───┘└───┘└───┘└───┘└───┘└───┘└───┘└───┘└───┘└───┘└───┘└───┘└───┘└───┘└───┘└───┘└───┘└───┘└───┘└───┘└───┘└───┘└───┘└───┘└───┘└───┘└───┘└───┘└───┘└───┘└───┘└───┘└───┘└───┘└───┘└───┘└───┘└───┘└───┘└───┘└───┘└───┘└───┘└───┘└───┘└───┘└───┘└───┘└───┘└───┘└───┘└───┘└───┘└───┘└───┘ ░  ║  ║  ║  ║ └╥┘\n",
       "measure: 5/════════════════════════════════════════════════════════════════════════════════════════════════════════════════════════════════════════════════════════════════════════════════════════════════════════════════════════════════════════════════════════════════════════════════════════════════════════════════════════════════════════════════════════════════════════════════════════════════════════════════════════════════════════════════════════════════════════════════════════════════════════════════════════╩══╩══╩══╩══╩═\n",
       "                                                                                                                                                                                                                                                                                                                                                                                                                                                                                                                                   0  1  2  3  4 </pre>"
      ],
      "text/plain": [
       "           ┌───┐┌───┐┌───┐┌───┐┌───┐┌───┐┌───┐┌───┐┌───┐┌───┐┌───┐┌───┐┌───┐┌───┐┌───┐┌───┐┌───┐┌───┐┌───┐┌───┐┌───┐┌───┐┌───┐┌───┐┌───┐┌───┐┌───┐┌───┐┌───┐┌───┐┌───┐┌───┐┌───┐┌───┐┌───┐┌───┐┌───┐┌───┐┌───┐┌───┐┌───┐┌───┐┌───┐┌───┐┌───┐┌───┐┌───┐┌───┐┌───┐┌───┐┌───┐┌───┐┌───┐┌───┐┌───┐┌───┐┌───┐┌───┐┌───┐┌───┐┌───┐┌───┐┌───┐┌───┐┌───┐┌───┐┌───┐┌───┐┌───┐┌───┐┌───┐┌───┐┌───┐┌───┐┌───┐┌───┐┌───┐┌───┐┌───┐┌───┐┌───┐┌───┐┌───┐┌───┐┌───┐┌───┐┌───┐┌───┐┌───┐┌───┐┌───┐┌───┐┌───┐┌───┐┌───┐┌───┐┌───┐┌───┐┌───┐┌───┐ ░ ┌─┐            \n",
       "  q_0 -> 3 ┤ X ├┤ X ├┤ X ├┤ X ├┤ X ├┤ X ├┤ X ├┤ X ├┤ X ├┤ X ├┤ X ├┤ X ├┤ X ├┤ X ├┤ X ├┤ X ├┤ X ├┤ X ├┤ X ├┤ X ├┤ X ├┤ X ├┤ X ├┤ X ├┤ X ├┤ X ├┤ X ├┤ X ├┤ X ├┤ X ├┤ X ├┤ X ├┤ X ├┤ X ├┤ X ├┤ X ├┤ X ├┤ X ├┤ X ├┤ X ├┤ X ├┤ X ├┤ X ├┤ X ├┤ X ├┤ X ├┤ X ├┤ X ├┤ X ├┤ X ├┤ X ├┤ X ├┤ X ├┤ X ├┤ X ├┤ X ├┤ X ├┤ X ├┤ X ├┤ X ├┤ X ├┤ X ├┤ X ├┤ X ├┤ X ├┤ X ├┤ X ├┤ X ├┤ X ├┤ X ├┤ X ├┤ X ├┤ X ├┤ X ├┤ X ├┤ X ├┤ X ├┤ X ├┤ X ├┤ X ├┤ X ├┤ X ├┤ X ├┤ X ├┤ X ├┤ X ├┤ X ├┤ X ├┤ X ├┤ X ├┤ X ├┤ X ├┤ X ├┤ X ├┤ X ├┤ X ├┤ X ├┤ X ├┤ X ├┤ X ├─░─┤M├────────────\n",
       "           ├───┤├───┤├───┤├───┤├───┤├───┤├───┤├───┤├───┤├───┤├───┤├───┤├───┤├───┤├───┤├───┤├───┤├───┤├───┤├───┤├───┤├───┤├───┤├───┤├───┤├───┤├───┤├───┤├───┤├───┤├───┤├───┤├───┤├───┤├───┤├───┤├───┤├───┤├───┤├───┤├───┤├───┤├───┤├───┤├───┤├───┤├───┤├───┤├───┤├───┤├───┤├───┤├───┤├───┤├───┤├───┤├───┤├───┤├───┤├───┤├───┤├───┤├───┤├───┤├───┤├───┤├───┤├───┤├───┤├───┤├───┤├───┤├───┤├───┤├───┤├───┤├───┤├───┤├───┤├───┤├───┤├───┤├───┤├───┤├───┤├───┤├───┤├───┤├───┤├───┤├───┤├───┤├───┤├───┤├───┤├───┤├───┤├───┤├───┤├───┤ ░ └╥┘┌─┐         \n",
       " q_1 -> 16 ┤ X ├┤ X ├┤ X ├┤ X ├┤ X ├┤ X ├┤ X ├┤ X ├┤ X ├┤ X ├┤ X ├┤ X ├┤ X ├┤ X ├┤ X ├┤ X ├┤ X ├┤ X ├┤ X ├┤ X ├┤ X ├┤ X ├┤ X ├┤ X ├┤ X ├┤ X ├┤ X ├┤ X ├┤ X ├┤ X ├┤ X ├┤ X ├┤ X ├┤ X ├┤ X ├┤ X ├┤ X ├┤ X ├┤ X ├┤ X ├┤ X ├┤ X ├┤ X ├┤ X ├┤ X ├┤ X ├┤ X ├┤ X ├┤ X ├┤ X ├┤ X ├┤ X ├┤ X ├┤ X ├┤ X ├┤ X ├┤ X ├┤ X ├┤ X ├┤ X ├┤ X ├┤ X ├┤ X ├┤ X ├┤ X ├┤ X ├┤ X ├┤ X ├┤ X ├┤ X ├┤ X ├┤ X ├┤ X ├┤ X ├┤ X ├┤ X ├┤ X ├┤ X ├┤ X ├┤ X ├┤ X ├┤ X ├┤ X ├┤ X ├┤ X ├┤ X ├┤ X ├┤ X ├┤ X ├┤ X ├┤ X ├┤ X ├┤ X ├┤ X ├┤ X ├┤ X ├┤ X ├┤ X ├┤ X ├┤ X ├─░──╫─┤M├─────────\n",
       "           ├───┤├───┤├───┤├───┤├───┤├───┤├───┤├───┤├───┤├───┤├───┤├───┤├───┤├───┤├───┤├───┤├───┤├───┤├───┤├───┤├───┤├───┤├───┤├───┤├───┤├───┤├───┤├───┤├───┤├───┤├───┤├───┤├───┤├───┤├───┤├───┤├───┤├───┤├───┤├───┤├───┤├───┤├───┤├───┤├───┤├───┤├───┤├───┤├───┤├───┤├───┤├───┤├───┤├───┤├───┤├───┤├───┤├───┤├───┤├───┤├───┤├───┤├───┤├───┤├───┤├───┤├───┤├───┤├───┤├───┤├───┤├───┤├───┤├───┤├───┤├───┤├───┤├───┤├───┤├───┤├───┤├───┤├───┤├───┤├───┤├───┤├───┤├───┤├───┤├───┤├───┤├───┤├───┤├───┤├───┤├───┤├───┤├───┤├───┤├───┤ ░  ║ └╥┘┌─┐      \n",
       " q_2 -> 22 ┤ X ├┤ X ├┤ X ├┤ X ├┤ X ├┤ X ├┤ X ├┤ X ├┤ X ├┤ X ├┤ X ├┤ X ├┤ X ├┤ X ├┤ X ├┤ X ├┤ X ├┤ X ├┤ X ├┤ X ├┤ X ├┤ X ├┤ X ├┤ X ├┤ X ├┤ X ├┤ X ├┤ X ├┤ X ├┤ X ├┤ X ├┤ X ├┤ X ├┤ X ├┤ X ├┤ X ├┤ X ├┤ X ├┤ X ├┤ X ├┤ X ├┤ X ├┤ X ├┤ X ├┤ X ├┤ X ├┤ X ├┤ X ├┤ X ├┤ X ├┤ X ├┤ X ├┤ X ├┤ X ├┤ X ├┤ X ├┤ X ├┤ X ├┤ X ├┤ X ├┤ X ├┤ X ├┤ X ├┤ X ├┤ X ├┤ X ├┤ X ├┤ X ├┤ X ├┤ X ├┤ X ├┤ X ├┤ X ├┤ X ├┤ X ├┤ X ├┤ X ├┤ X ├┤ X ├┤ X ├┤ X ├┤ X ├┤ X ├┤ X ├┤ X ├┤ X ├┤ X ├┤ X ├┤ X ├┤ X ├┤ X ├┤ X ├┤ X ├┤ X ├┤ X ├┤ X ├┤ X ├┤ X ├┤ X ├┤ X ├─░──╫──╫─┤M├──────\n",
       "           ├───┤├───┤├───┤├───┤├───┤├───┤├───┤├───┤├───┤├───┤├───┤├───┤├───┤├───┤├───┤├───┤├───┤├───┤├───┤├───┤├───┤├───┤├───┤├───┤├───┤├───┤├───┤├───┤├───┤├───┤├───┤├───┤├───┤├───┤├───┤├───┤├───┤├───┤├───┤├───┤├───┤├───┤├───┤├───┤├───┤├───┤├───┤├───┤├───┤├───┤├───┤├───┤├───┤├───┤├───┤├───┤├───┤├───┤├───┤├───┤├───┤├───┤├───┤├───┤├───┤├───┤├───┤├───┤├───┤├───┤├───┤├───┤├───┤├───┤├───┤├───┤├───┤├───┤├───┤├───┤├───┤├───┤├───┤├───┤├───┤├───┤├───┤├───┤├───┤├───┤├───┤├───┤├───┤├───┤├───┤├───┤├───┤├───┤├───┤├───┤ ░  ║  ║ └╥┘┌─┐   \n",
       " q_3 -> 23 ┤ X ├┤ X ├┤ X ├┤ X ├┤ X ├┤ X ├┤ X ├┤ X ├┤ X ├┤ X ├┤ X ├┤ X ├┤ X ├┤ X ├┤ X ├┤ X ├┤ X ├┤ X ├┤ X ├┤ X ├┤ X ├┤ X ├┤ X ├┤ X ├┤ X ├┤ X ├┤ X ├┤ X ├┤ X ├┤ X ├┤ X ├┤ X ├┤ X ├┤ X ├┤ X ├┤ X ├┤ X ├┤ X ├┤ X ├┤ X ├┤ X ├┤ X ├┤ X ├┤ X ├┤ X ├┤ X ├┤ X ├┤ X ├┤ X ├┤ X ├┤ X ├┤ X ├┤ X ├┤ X ├┤ X ├┤ X ├┤ X ├┤ X ├┤ X ├┤ X ├┤ X ├┤ X ├┤ X ├┤ X ├┤ X ├┤ X ├┤ X ├┤ X ├┤ X ├┤ X ├┤ X ├┤ X ├┤ X ├┤ X ├┤ X ├┤ X ├┤ X ├┤ X ├┤ X ├┤ X ├┤ X ├┤ X ├┤ X ├┤ X ├┤ X ├┤ X ├┤ X ├┤ X ├┤ X ├┤ X ├┤ X ├┤ X ├┤ X ├┤ X ├┤ X ├┤ X ├┤ X ├┤ X ├┤ X ├┤ X ├─░──╫──╫──╫─┤M├───\n",
       "           ├───┤├───┤├───┤├───┤├───┤├───┤├───┤├───┤├───┤├───┤├───┤├───┤├───┤├───┤├───┤├───┤├───┤├───┤├───┤├───┤├───┤├───┤├───┤├───┤├───┤├───┤├───┤├───┤├───┤├───┤├───┤├───┤├───┤├───┤├───┤├───┤├───┤├───┤├───┤├───┤├───┤├───┤├───┤├───┤├───┤├───┤├───┤├───┤├───┤├───┤├───┤├───┤├───┤├───┤├───┤├───┤├───┤├───┤├───┤├───┤├───┤├───┤├───┤├───┤├───┤├───┤├───┤├───┤├───┤├───┤├───┤├───┤├───┤├───┤├───┤├───┤├───┤├───┤├───┤├───┤├───┤├───┤├───┤├───┤├───┤├───┤├───┤├───┤├───┤├───┤├───┤├───┤├───┤├───┤├───┤├───┤├───┤├───┤├───┤├───┤ ░  ║  ║  ║ └╥┘┌─┐\n",
       " q_4 -> 24 ┤ X ├┤ X ├┤ X ├┤ X ├┤ X ├┤ X ├┤ X ├┤ X ├┤ X ├┤ X ├┤ X ├┤ X ├┤ X ├┤ X ├┤ X ├┤ X ├┤ X ├┤ X ├┤ X ├┤ X ├┤ X ├┤ X ├┤ X ├┤ X ├┤ X ├┤ X ├┤ X ├┤ X ├┤ X ├┤ X ├┤ X ├┤ X ├┤ X ├┤ X ├┤ X ├┤ X ├┤ X ├┤ X ├┤ X ├┤ X ├┤ X ├┤ X ├┤ X ├┤ X ├┤ X ├┤ X ├┤ X ├┤ X ├┤ X ├┤ X ├┤ X ├┤ X ├┤ X ├┤ X ├┤ X ├┤ X ├┤ X ├┤ X ├┤ X ├┤ X ├┤ X ├┤ X ├┤ X ├┤ X ├┤ X ├┤ X ├┤ X ├┤ X ├┤ X ├┤ X ├┤ X ├┤ X ├┤ X ├┤ X ├┤ X ├┤ X ├┤ X ├┤ X ├┤ X ├┤ X ├┤ X ├┤ X ├┤ X ├┤ X ├┤ X ├┤ X ├┤ X ├┤ X ├┤ X ├┤ X ├┤ X ├┤ X ├┤ X ├┤ X ├┤ X ├┤ X ├┤ X ├┤ X ├┤ X ├┤ X ├─░──╫──╫──╫──╫─┤M├\n",
       "           └───┘└───┘└───┘└───┘└───┘└───┘└───┘└───┘└───┘└───┘└───┘└───┘└───┘└───┘└───┘└───┘└───┘└───┘└───┘└───┘└───┘└───┘└───┘└───┘└───┘└───┘└───┘└───┘└───┘└───┘└───┘└───┘└───┘└───┘└───┘└───┘└───┘└───┘└───┘└───┘└───┘└───┘└───┘└───┘└───┘└───┘└───┘└───┘└───┘└───┘└───┘└───┘└───┘└───┘└───┘└───┘└───┘└───┘└───┘└───┘└───┘└───┘└───┘└───┘└───┘└───┘└───┘└───┘└───┘└───┘└───┘└───┘└───┘└───┘└───┘└───┘└───┘└───┘└───┘└───┘└───┘└───┘└───┘└───┘└───┘└───┘└───┘└───┘└───┘└───┘└───┘└───┘└───┘└───┘└───┘└───┘└───┘└───┘└───┘└───┘ ░  ║  ║  ║  ║ └╥┘\n",
       "measure: 5/════════════════════════════════════════════════════════════════════════════════════════════════════════════════════════════════════════════════════════════════════════════════════════════════════════════════════════════════════════════════════════════════════════════════════════════════════════════════════════════════════════════════════════════════════════════════════════════════════════════════════════════════════════════════════════════════════════════════════════════════════════════════════════╩══╩══╩══╩══╩═\n",
       "                                                                                                                                                                                                                                                                                                                                                                                                                                                                                                                                   0  1  2  3  4 "
      ]
     },
     "execution_count": 6,
     "metadata": {},
     "output_type": "execute_result"
    }
   ],
   "source": [
    "qreg = cirq.LineQubit.range(n)\n",
    "\n",
    "to_run_raw = []\n",
    "for depth in depths:\n",
    "    circuit = noisy_identity(qreg, depth)\n",
    "\n",
    "    circuit = qiskit.QuantumCircuit.from_qasm_str(circuit.to_qasm())\n",
    "    circuit.measure_active()\n",
    "    # Compile to device.\n",
    "    compiled_raw = qiskit.transpile(\n",
    "        circuit, \n",
    "        backend=computer,\n",
    "        initial_layout=layout[n],\n",
    "        routing_method=\"sabre\",\n",
    "        # scheduling_method=\"asap\",\n",
    "        optimization_level=0,\n",
    "    )\n",
    "    to_run_raw.append(compiled_raw)\n",
    "to_run_raw[-1].draw(fold=-1, idle_wires=False)"
   ]
  },
  {
   "cell_type": "code",
   "execution_count": 7,
   "metadata": {},
   "outputs": [],
   "source": [
    "job_raw = sampler.run(\n",
    "    to_run_raw,\n",
    "    shots=nshots,\n",
    ")"
   ]
  },
  {
   "cell_type": "code",
   "execution_count": 17,
   "metadata": {},
   "outputs": [],
   "source": [
    "all_counts_raw = [result.data.measure.get_counts() for result in job_raw.result()]"
   ]
  },
  {
   "cell_type": "code",
   "execution_count": 18,
   "metadata": {},
   "outputs": [],
   "source": [
    "all_evals = {}\n",
    "\n",
    "for i, q in enumerate(layout[n]):\n",
    "    evals = []\n",
    "    for counts in all_counts_raw:\n",
    "        counts = get_counts_for(i, counts)\n",
    "        eval = (counts.get(0, 0) - counts.get(1, 0)) / nshots\n",
    "        evals.append(eval)\n",
    "    all_evals[q] = evals"
   ]
  },
  {
   "cell_type": "code",
   "execution_count": 19,
   "metadata": {},
   "outputs": [
    {
     "data": {
      "image/png": "[encoded data removed]",
      "text/plain": [
       "<Figure size 640x480 with 1 Axes>"
      ]
     },
     "metadata": {},
     "output_type": "display_data"
    }
   ],
   "source": [
    "for qubit, evals in all_evals.items():\n",
    "    plt.plot(depths, evals, \"--o\", alpha=0.5, label=f\"Qubit {qubit}\")\n",
    "\n",
    "evals_raw_avg = np.array(list(all_evals.values())).mean(axis=0)\n",
    "plt.plot(depths, evals_raw_avg, \"--o\", ms=8, lw=2, color=\"black\", label=\"Average\")\n",
    "plt.xlabel(\"Delay time\")\n",
    "plt.ylabel(r\"$\\langle Z_q \\rangle$\")\n",
    "plt.legend();\n",
    "# plt.savefig(\"physical_evals_delay_gate_test.pdf\")"
   ]
  },
  {
   "cell_type": "markdown",
   "metadata": {},
   "source": [
    "# Run encoded experiment"
   ]
  },
  {
   "cell_type": "code",
   "execution_count": 8,
   "metadata": {},
   "outputs": [],
   "source": [
    "generator_strs = [\n",
    "    \"XZZXI\",\n",
    "    \"IXZZX\",\n",
    "    \"XIXZZ\",\n",
    "    \"ZXIXZ\",\n",
    "]\n",
    "# generator_strs = [\n",
    "#     \"ZXIXZ\",\n",
    "#     \"XZZXI\",\n",
    "#     \"IXZZX\",\n",
    "#     \"XIXZZ\",\n",
    "# ]\n",
    "observable = PauliString(\"Z\" * n)._pauli\n",
    "\n",
    "qreg = cirq.LineQubit.range(n)\n",
    "\n",
    "stabilizer_generators = strs_to_paulis(generator_strs)\n",
    "stabilizer_elements = generate_stabilizer_elements(stabilizer_generators)\n",
    "# for stab in stabilizer_elements:\n",
    "#     print(stab)\n",
    "\n",
    "observable_elements = [stab * observable for stab in stabilizer_elements]\n",
    "# for obs in observable_elements:\n",
    "#     print(obs)"
   ]
  },
  {
   "cell_type": "code",
   "execution_count": 9,
   "metadata": {},
   "outputs": [
    {
     "name": "stdout",
     "output_type": "stream",
     "text": [
      "0: ───RX───@───@───────────────H───X───\n",
      "           │   │\n",
      "1: ───RX───┼───┼───@───@───────H───X───\n",
      "           │   │   │   │\n",
      "2: ───RX───@───┼───┼───┼───@───H───X───\n",
      "               │   │   │   │\n",
      "3: ───RX───────@───@───┼───┼───H───X───\n",
      "                       │   │\n",
      "4: ───RX───────────────@───@───H───X───\n"
     ]
    },
    {
     "data": {
      "text/html": [
       "<pre style=\"overflow: auto; white-space: pre;\">0: ───H───@───@───────────────H───X───\n",
       "          │   │\n",
       "1: ───H───┼───┼───@───@───────H───X───\n",
       "          │   │   │   │\n",
       "2: ───H───@───┼───┼───┼───@───H───X───\n",
       "              │   │   │   │\n",
       "3: ───H───────@───@───┼───┼───H───X───\n",
       "                      │   │\n",
       "4: ───H───────────────@───@───H───X───</pre>"
      ],
      "text/plain": [
       "0: ───H───@───@───────────────H───X───\n",
       "          │   │\n",
       "1: ───H───┼───┼───@───@───────H───X───\n",
       "          │   │   │   │\n",
       "2: ───H───@───┼───┼───┼───@───H───X───\n",
       "              │   │   │   │\n",
       "3: ───H───────@───@───┼───┼───H───X───\n",
       "                      │   │\n",
       "4: ───H───────────────@───@───H───X───"
      ]
     },
     "execution_count": 9,
     "metadata": {},
     "output_type": "execute_result"
    }
   ],
   "source": [
    "qreg = cirq.LineQubit.range(n)\n",
    "circuit = encode_five(qreg)\n",
    "\n",
    "print(circuit)\n",
    "\n",
    "# Hacky fix to replace non-unitary RX gates at the start of the Stim circuit to Hadamard gates.\n",
    "circuit = cirq.Circuit(\n",
    "    cirq.H.on_each(qreg),\n",
    "    circuit[1:],\n",
    ")\n",
    "# circuit.append(cirq.H.on_each(qreg))\n",
    "circuit"
   ]
  },
  {
   "cell_type": "markdown",
   "metadata": {},
   "source": [
    "## Compute the numerator ($\\langle \\tilde{O} \\rangle$)"
   ]
  },
  {
   "cell_type": "code",
   "execution_count": 10,
   "metadata": {},
   "outputs": [
    {
     "name": "stdout",
     "output_type": "stream",
     "text": [
      "Status: On depth 0\n",
      "Status: On depth 10\n",
      "Status: On depth 20\n",
      "Status: On depth 30\n",
      "Status: On depth 40\n",
      "Status: On depth 50\n",
      "Status: On depth 60\n",
      "Status: On depth 70\n",
      "Status: On depth 80\n",
      "Status: On depth 90\n",
      "Status: On depth 100\n"
     ]
    }
   ],
   "source": [
    "all_to_run = {}\n",
    "all_to_run_list = []\n",
    "for depth in depths:\n",
    "    print(\"Status: On depth\", depth)\n",
    "\n",
    "    circuit = circuit.copy()\n",
    "    # =============================\n",
    "    # Build numerator circuits.\n",
    "    # =============================\n",
    "    num_circuits = []\n",
    "    for pauli in observable_elements:\n",
    "        c = circuit.copy()\n",
    "        # print(pauli)\n",
    "        for q, p in pauli.items():\n",
    "            if p is cirq.X:\n",
    "                c.append(cirq.H.on(q))\n",
    "            elif p is cirq.Y:\n",
    "                c.append(cirq.S.on(q)**-1)\n",
    "                c.append(cirq.H.on(q))\n",
    "        qc = qiskit.QuantumCircuit.from_qasm_str(c.to_qasm())\n",
    "        qubits = get_active_qubits(qc)\n",
    "        qc.barrier(qubits)\n",
    "        for _ in range(depth):\n",
    "            qc.x(qubits)\n",
    "            qc.barrier(qubits)\n",
    "        qc.measure_active()\n",
    "        num_circuits.append(qc)\n",
    "    \n",
    "    compiled_num = [\n",
    "        qiskit.transpile(\n",
    "            circuit,\n",
    "            backend=computer,\n",
    "            initial_layout=layout[n],\n",
    "            optimization_level=3,\n",
    "        ) for circuit in num_circuits\n",
    "    ]\n",
    "\n",
    "    # ===========================\n",
    "    # Build denominator circuits.\n",
    "    # ===========================\n",
    "    den_circuits = []\n",
    "    for pauli in stabilizer_elements:\n",
    "        c = circuit.copy()\n",
    "        for q, p in pauli.items():\n",
    "            if p is cirq.X:\n",
    "                c.append(cirq.H.on(q))\n",
    "            elif p is cirq.Y:\n",
    "                c.append(cirq.S.on(q)**-1)\n",
    "                c.append(cirq.H.on(q))\n",
    "        qc = qiskit.QuantumCircuit.from_qasm_str(c.to_qasm())\n",
    "        qubits = get_active_qubits(qc)\n",
    "        qc.barrier(qubits)\n",
    "        for _ in range(depth):\n",
    "            qc.x(qubits)\n",
    "            qc.barrier(qubits)\n",
    "        qc.measure_active()\n",
    "        den_circuits.append(qc)\n",
    "\n",
    "    compiled_den = [\n",
    "        qiskit.transpile(\n",
    "            circuit,\n",
    "            backend=computer,\n",
    "            initial_layout=layout[n],\n",
    "            optimization_level=3\n",
    "        ) for circuit in den_circuits\n",
    "    ]\n",
    "\n",
    "    # =================================================================\n",
    "    # Collect all numerator and denominator circuits to run in one job.\n",
    "    # =================================================================\n",
    "    to_run = compiled_num + compiled_den\n",
    "    all_to_run[depth] = to_run\n",
    "    all_to_run_list.extend(to_run)"
   ]
  },
  {
   "cell_type": "markdown",
   "metadata": {},
   "source": [
    "## Run all depths on noisy simulator"
   ]
  },
  {
   "cell_type": "code",
   "execution_count": null,
   "metadata": {},
   "outputs": [],
   "source": [
    "len(all_to_run_list)"
   ]
  },
  {
   "cell_type": "code",
   "execution_count": 30,
   "metadata": {},
   "outputs": [],
   "source": [
    "if use_simulator:\n",
    "    job_all = sampler.run(all_to_run_list, shots=nshots)\n",
    "    counts_all = [result.data.measure.get_counts() for result in job_all.result()]"
   ]
  },
  {
   "cell_type": "markdown",
   "metadata": {},
   "source": [
    "### Post-process results"
   ]
  },
  {
   "cell_type": "code",
   "execution_count": 34,
   "metadata": {},
   "outputs": [],
   "source": [
    "nobservables = len(observable_elements)\n",
    "results = list(np.array(counts_all).reshape(len(depths), len(observable_elements) + len(stabilizer_elements)))"
   ]
  },
  {
   "cell_type": "code",
   "execution_count": null,
   "metadata": {},
   "outputs": [],
   "source": [
    "encoded_values = []\n",
    "\n",
    "for depth, result in zip(depths, results):\n",
    "    all_counts_num = result[:nobservables]\n",
    "    all_counts_den = result[nobservables:]\n",
    "\n",
    "    evals_numerator = []\n",
    "    for pauli, counts in zip(observable_elements, all_counts_num):\n",
    "        # print(pauli)\n",
    "        eval = compute_expectation(pauli, counts)\n",
    "        # print(eval)\n",
    "        evals_numerator.append(eval)\n",
    "    \n",
    "    evals_denominator = []\n",
    "    for pauli, counts in zip(stabilizer_elements, all_counts_den):\n",
    "        # print(pauli)\n",
    "        eval = compute_expectation(pauli, counts)\n",
    "        # print(eval)\n",
    "        evals_denominator.append(eval)\n",
    "    \n",
    "    lst_value = sum(evals_numerator) / sum(evals_denominator)\n",
    "    encoded_values.append(lst_value)\n",
    "    print(f\"Encoded value at depth {depth}:\", lst_value)"
   ]
  },
  {
   "cell_type": "markdown",
   "metadata": {},
   "source": [
    "## Plotting"
   ]
  },
  {
   "cell_type": "code",
   "execution_count": null,
   "metadata": {},
   "outputs": [],
   "source": [
    "for qubit, evals in all_evals.items():\n",
    "    plt.plot(depths, evals, \"--o\", alpha=0.40, mec=\"black\", label=f\"Qubit {qubit}\")\n",
    "\n",
    "evals_raw_avg = np.array(list(all_evals.values())).mean(axis=0)\n",
    "plt.plot(depths, evals_raw_avg, \"--o\", ms=8, alpha=0.75, lw=1.5, color=\"xkcd:blue\", mec=\"black\", label=\"Average\")\n",
    "\n",
    "plt.plot(depths, encoded_values, \"--s\", ms=10, color=\"black\", mec=\"black\", alpha=0.75, label=\"Encoded\")\n",
    "plt.axhline(1.0, color=\"xkcd:darkgreen\", label=\"Ideal\")\n",
    "\n",
    "plt.xlabel(\"Depth\")\n",
    "plt.ylabel(r\"$\\langle Z \\rangle$\")\n",
    "plt.legend();\n",
    "# plt.savefig(\"physical_evals_delay_gate_test.pdf\")"
   ]
  },
  {
   "cell_type": "markdown",
   "metadata": {},
   "source": [
    "## Run some results on hardware"
   ]
  },
  {
   "cell_type": "code",
   "execution_count": 37,
   "metadata": {},
   "outputs": [],
   "source": [
    "service = qiskit_ibm_runtime.QiskitRuntimeService()  # This assumes a saved account.\n",
    "computer = service.backend(ibm_computer)\n",
    "sampler = Sampler(computer)"
   ]
  },
  {
   "cell_type": "code",
   "execution_count": 38,
   "metadata": {},
   "outputs": [],
   "source": [
    "sampler.options.dynamical_decoupling.enable = True\n",
    "sampler.options.dynamical_decoupling.sequence_type = \"XpXm\""
   ]
  },
  {
   "cell_type": "code",
   "execution_count": 12,
   "metadata": {},
   "outputs": [
    {
     "data": {
      "text/plain": [
       "32"
      ]
     },
     "execution_count": 12,
     "metadata": {},
     "output_type": "execute_result"
    }
   ],
   "source": [
    "len(all_to_run[0])"
   ]
  },
  {
   "cell_type": "code",
   "execution_count": 20,
   "metadata": {},
   "outputs": [],
   "source": [
    "# job_hardware0 = sampler.run(all_to_run[0], shots=nshots)\n",
    "job_hardware0 = service.job('cv462q0f113c738agvpg')"
   ]
  },
  {
   "cell_type": "code",
   "execution_count": null,
   "metadata": {},
   "outputs": [],
   "source": [
    "job_hardware0.inputs[\"pubs\"][1][0].draw(fold=-1, idle_wires=False)"
   ]
  },
  {
   "cell_type": "code",
   "execution_count": 21,
   "metadata": {},
   "outputs": [],
   "source": [
    "nobservables = len(observable_elements)"
   ]
  },
  {
   "cell_type": "code",
   "execution_count": 22,
   "metadata": {},
   "outputs": [
    {
     "data": {
      "text/plain": [
       "0.996310866748823"
      ]
     },
     "execution_count": 22,
     "metadata": {},
     "output_type": "execute_result"
    }
   ],
   "source": [
    "counts_hardware = [result.data.measure.get_counts() for result in job_hardware0.result()]\n",
    "all_counts_num = counts_hardware[:nobservables]\n",
    "all_counts_den = counts_hardware[nobservables:]\n",
    "\n",
    "evals_numerator = []\n",
    "for pauli, counts in zip(observable_elements, all_counts_num):\n",
    "    # print(pauli)\n",
    "    eval = compute_expectation(pauli, counts)\n",
    "    # print(eval)\n",
    "    evals_numerator.append(eval)\n",
    "\n",
    "evals_denominator = []\n",
    "for pauli, counts in zip(stabilizer_elements, all_counts_den):\n",
    "    # print(pauli)\n",
    "    eval = compute_expectation(pauli, counts)\n",
    "    # print(eval)\n",
    "    evals_denominator.append(eval)\n",
    "\n",
    "hardware0 = sum(evals_numerator) / sum(evals_denominator)\n",
    "hardware0"
   ]
  },
  {
   "cell_type": "code",
   "execution_count": null,
   "metadata": {},
   "outputs": [],
   "source": [
    "len(all_to_run[10])"
   ]
  },
  {
   "cell_type": "code",
   "execution_count": 23,
   "metadata": {},
   "outputs": [],
   "source": [
    "# job_hardware10 = sampler.run(all_to_run[10], shots=nshots)\n",
    "job_hardware10 = service.job(\"cv4632jgvb2s73a12ut0\")"
   ]
  },
  {
   "cell_type": "code",
   "execution_count": null,
   "metadata": {},
   "outputs": [],
   "source": [
    "job_hardware10.inputs[\"pubs\"][1][0].draw(fold=-1, idle_wires=False)"
   ]
  },
  {
   "cell_type": "code",
   "execution_count": 24,
   "metadata": {},
   "outputs": [
    {
     "data": {
      "text/plain": [
       "0.9985735197466691"
      ]
     },
     "execution_count": 24,
     "metadata": {},
     "output_type": "execute_result"
    }
   ],
   "source": [
    "counts_hardware = [result.data.measure.get_counts() for result in job_hardware10.result()]\n",
    "all_counts_num = counts_hardware[:nobservables]\n",
    "all_counts_den = counts_hardware[nobservables:]\n",
    "\n",
    "evals_numerator = []\n",
    "for pauli, counts in zip(observable_elements, all_counts_num):\n",
    "    # print(pauli)\n",
    "    eval = compute_expectation(pauli, counts)\n",
    "    # print(eval)\n",
    "    evals_numerator.append(eval)\n",
    "\n",
    "evals_denominator = []\n",
    "for pauli, counts in zip(stabilizer_elements, all_counts_den):\n",
    "    # print(pauli)\n",
    "    eval = compute_expectation(pauli, counts)\n",
    "    # print(eval)\n",
    "    evals_denominator.append(eval)\n",
    "\n",
    "hardware10 = sum(evals_numerator) / sum(evals_denominator)\n",
    "hardware10"
   ]
  },
  {
   "cell_type": "code",
   "execution_count": 13,
   "metadata": {},
   "outputs": [
    {
     "data": {
      "text/plain": [
       "32"
      ]
     },
     "execution_count": 13,
     "metadata": {},
     "output_type": "execute_result"
    }
   ],
   "source": [
    "len(all_to_run[50])"
   ]
  },
  {
   "cell_type": "code",
   "execution_count": 14,
   "metadata": {},
   "outputs": [],
   "source": [
    "job_hardware50 = sampler.run(all_to_run[50], shots=nshots)"
   ]
  },
  {
   "cell_type": "code",
   "execution_count": 25,
   "metadata": {},
   "outputs": [
    {
     "data": {
      "text/plain": [
       "0.986267549049685"
      ]
     },
     "execution_count": 25,
     "metadata": {},
     "output_type": "execute_result"
    }
   ],
   "source": [
    "counts_hardware = [result.data.measure.get_counts() for result in job_hardware50.result()]\n",
    "all_counts_num = counts_hardware[:nobservables]\n",
    "all_counts_den = counts_hardware[nobservables:]\n",
    "\n",
    "evals_numerator = []\n",
    "for pauli, counts in zip(observable_elements, all_counts_num):\n",
    "    # print(pauli)\n",
    "    eval = compute_expectation(pauli, counts)\n",
    "    # print(eval)\n",
    "    evals_numerator.append(eval)\n",
    "\n",
    "evals_denominator = []\n",
    "for pauli, counts in zip(stabilizer_elements, all_counts_den):\n",
    "    # print(pauli)\n",
    "    eval = compute_expectation(pauli, counts)\n",
    "    # print(eval)\n",
    "    evals_denominator.append(eval)\n",
    "\n",
    "hardware50 = sum(evals_numerator) / sum(evals_denominator)\n",
    "hardware50"
   ]
  },
  {
   "cell_type": "code",
   "execution_count": 15,
   "metadata": {},
   "outputs": [
    {
     "data": {
      "text/plain": [
       "32"
      ]
     },
     "execution_count": 15,
     "metadata": {},
     "output_type": "execute_result"
    }
   ],
   "source": [
    "len(all_to_run[100])"
   ]
  },
  {
   "cell_type": "code",
   "execution_count": 16,
   "metadata": {},
   "outputs": [],
   "source": [
    "job_hardware100 = sampler.run(all_to_run[100], shots=nshots)"
   ]
  },
  {
   "cell_type": "code",
   "execution_count": 26,
   "metadata": {},
   "outputs": [
    {
     "data": {
      "text/plain": [
       "0.8902716817600977"
      ]
     },
     "execution_count": 26,
     "metadata": {},
     "output_type": "execute_result"
    }
   ],
   "source": [
    "counts_hardware = [result.data.measure.get_counts() for result in job_hardware100.result()]\n",
    "all_counts_num = counts_hardware[:nobservables]\n",
    "all_counts_den = counts_hardware[nobservables:]\n",
    "\n",
    "evals_numerator = []\n",
    "for pauli, counts in zip(observable_elements, all_counts_num):\n",
    "    # print(pauli)\n",
    "    eval = compute_expectation(pauli, counts)\n",
    "    # print(eval)\n",
    "    evals_numerator.append(eval)\n",
    "\n",
    "evals_denominator = []\n",
    "for pauli, counts in zip(stabilizer_elements, all_counts_den):\n",
    "    # print(pauli)\n",
    "    eval = compute_expectation(pauli, counts)\n",
    "    # print(eval)\n",
    "    evals_denominator.append(eval)\n",
    "\n",
    "hardware100 = sum(evals_numerator) / sum(evals_denominator)\n",
    "hardware100"
   ]
  },
  {
   "cell_type": "code",
   "execution_count": 27,
   "metadata": {},
   "outputs": [],
   "source": [
    "stop: int = 11"
   ]
  },
  {
   "cell_type": "code",
   "execution_count": 29,
   "metadata": {},
   "outputs": [
    {
     "data": {
      "image/png": "[encoded data removed]",
      "text/plain": [
       "<Figure size 640x480 with 1 Axes>"
      ]
     },
     "metadata": {},
     "output_type": "display_data"
    }
   ],
   "source": [
    "for qubit, evals in all_evals.items():\n",
    "    plt.plot(depths[:stop], evals[:stop], \"--o\", alpha=0.20, mec=\"black\", label=f\"Qubit {qubit}\")\n",
    "\n",
    "evals_raw_avg = np.array(list(all_evals.values())).mean(axis=0)\n",
    "plt.plot(depths[:stop], evals_raw_avg[:stop], \"--o\", ms=8, alpha=0.95, lw=1.5, color=\"grey\", mec=\"black\", label=\"Physical (Average)\")\n",
    "\n",
    "# plt.plot(depths[:stop], encoded_values[:stop], \"--s\", ms=8, color=\"lightblue\", mec=\"black\", alpha=0.75, label=\"Encoded (Simulator)\")\n",
    "\n",
    "plt.scatter(0, hardware0, alpha=0.75, color=\"xkcd:blue\", ec=\"black\", marker=\"*\", s=200, label=\"Encoded\", zorder=3)\n",
    "plt.scatter(10, hardware10, alpha=0.75, color=\"xkcd:blue\", ec=\"black\", marker=\"*\", s=200, zorder=3)\n",
    "plt.scatter(50, hardware50, alpha=0.75, color=\"xkcd:blue\", ec=\"black\", marker=\"*\", s=200, zorder=3)\n",
    "plt.scatter(100, hardware100, alpha=0.75, color=\"xkcd:blue\", ec=\"black\", marker=\"*\", s=200, zorder=3)\n",
    "# plt.scatter(200, hardware200, alpha=0.75, color=\"xkcd:blue\", ec=\"black\", marker=\"*\", s=200, zorder=3)\n",
    "\n",
    "plt.axhline(1.0, color=\"xkcd:darkgreen\", label=\"Ideal\")\n",
    "\n",
    "plt.xlabel(\"Depth\")\n",
    "plt.ylabel(r\"$\\langle Z \\rangle$\")\n",
    "plt.legend();\n",
    "plt.savefig(\"five_qubit_memory_separate_circuits.pdf\")"
   ]
  },
  {
   "cell_type": "markdown",
   "metadata": {},
   "source": [
    "## Save data"
   ]
  },
  {
   "cell_type": "code",
   "execution_count": 30,
   "metadata": {},
   "outputs": [],
   "source": [
    "import os\n",
    "\n",
    "import pickle"
   ]
  },
  {
   "cell_type": "code",
   "execution_count": 31,
   "metadata": {},
   "outputs": [],
   "source": [
    "save_key = f\"memory_five_qubit_code_zero_state_z_separate_circuits_{computer.name}_{time_key}_job_raw_id_{job_raw.job_id()}\""
   ]
  },
  {
   "cell_type": "code",
   "execution_count": 32,
   "metadata": {},
   "outputs": [],
   "source": [
    "os.mkdir(save_key)"
   ]
  },
  {
   "cell_type": "code",
   "execution_count": 33,
   "metadata": {},
   "outputs": [],
   "source": [
    "np.savetxt(f\"{save_key}/physical_qubits.txt\", layout[n])\n",
    "np.savetxt(f\"{save_key}/depths.txt\", depths)\n",
    "np.savetxt(f\"{save_key}/nshots.txt\", [nshots])"
   ]
  },
  {
   "cell_type": "code",
   "execution_count": 34,
   "metadata": {},
   "outputs": [],
   "source": [
    "with open(f\"{save_key}/expectation_values_raw.pkl\", \"wb\") as f:\n",
    "    pickle.dump(all_evals, f)"
   ]
  },
  {
   "cell_type": "code",
   "execution_count": 35,
   "metadata": {},
   "outputs": [],
   "source": [
    "evals_encoded_depths = [0, 10, 50, 100]\n",
    "evals_encoded = [hardware0, hardware10, hardware50, hardware100]\n",
    "\n",
    "np.savetxt(f\"{save_key}/evals_encoded_depths.txt\", evals_encoded_depths)\n",
    "np.savetxt(f\"{save_key}/evals_encoded.txt\", evals_encoded)"
   ]
  },
  {
   "cell_type": "markdown",
   "metadata": {},
   "source": []
  }
 ],
 "metadata": {
  "kernelspec": {
   "display_name": "envencode",
   "language": "python",
   "name": "python3"
  },
  "language_info": {
   "codemirror_mode": {
    "name": "ipython",
    "version": 3
   },
   "file_extension": ".py",
   "mimetype": "text/x-python",
   "name": "python",
   "nbconvert_exporter": "python",
   "pygments_lexer": "ipython3",
   "version": "3.10.13"
  }
 },
 "nbformat": 4,
 "nbformat_minor": 2
}
