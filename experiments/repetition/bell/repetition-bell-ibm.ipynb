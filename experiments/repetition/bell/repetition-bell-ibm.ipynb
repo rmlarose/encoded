{
 "cells": [
  {
   "cell_type": "markdown",
   "metadata": {},
   "source": [
    "# Repetition code Bell state experiment"
   ]
  },
  {
   "cell_type": "markdown",
   "metadata": {},
   "source": [
    "## Setup"
   ]
  },
  {
   "cell_type": "code",
   "execution_count": 1,
   "metadata": {},
   "outputs": [],
   "source": [
    "import functools\n",
    "import itertools\n",
    "\n",
    "from typing import List, Dict\n",
    "\n",
    "import matplotlib.pyplot as plt; plt.rcParams.update({\"font.family\": \"serif\",\"font.size\": 12})\n",
    "import cirq\n",
    "import qiskit\n",
    "import qiskit_ibm_runtime\n",
    "from qiskit_ibm_runtime import SamplerV2 as Sampler\n",
    "\n",
    "from encoded.repetition_code import logical_H, logical_CNOT\n",
    "from encoded.LST import int_to_bin_list"
   ]
  },
  {
   "cell_type": "code",
   "execution_count": 2,
   "metadata": {},
   "outputs": [],
   "source": [
    "import datetime\n",
    "\n",
    "\n",
    "time_key = datetime.datetime.now().strftime(\"%m_%d_%Y_%H:%M:%S\")  # For saving results."
   ]
  },
  {
   "cell_type": "markdown",
   "metadata": {},
   "source": [
    "## Set experiment parameters"
   ]
  },
  {
   "cell_type": "code",
   "execution_count": 3,
   "metadata": {},
   "outputs": [],
   "source": [
    "# IBM service, computer, and qubits to use.\n",
    "service = qiskit_ibm_runtime.QiskitRuntimeService()  # This assumes a saved account.\n",
    "computer = service.backend(\"ibm_kyiv\")\n",
    "sampler = Sampler(computer)\n",
    "\n",
    "# See calibration data at https://quantum.ibm.com/services/resources to select good qubits.\n",
    "layout = {\n",
    "    1: [3, 4],\n",
    "    3: [3, 4, 5, 15, 21, 22],\n",
    "    5: [3, 4, 5, 6, 15, 20, 21, 22, 23, 24],\n",
    "    7: [0, 1, 2, 3, 4, 5, 6, 14, 15, 18, 19, 20, 21, 22],\n",
    "}"
   ]
  },
  {
   "cell_type": "code",
   "execution_count": 21,
   "metadata": {},
   "outputs": [],
   "source": [
    "nvals = [3, 5, 7]      # Numbers of physical qubits (distances of repetition code) to use.\n",
    "\n",
    "depth: int = 0         # How many times to repeat the circuit U (U^dag U) ^ depth where U is the logical Bell state preparation circuit.\n",
    "nshots: int = 20_000   # Number of samples.\n",
    "k = 2                  # Number of logical qubits."
   ]
  },
  {
   "cell_type": "markdown",
   "metadata": {},
   "source": [
    "### Helper functions"
   ]
  },
  {
   "cell_type": "code",
   "execution_count": 22,
   "metadata": {},
   "outputs": [],
   "source": [
    "def generate_stabilizer_elements(generators: List[cirq.PauliString]) -> List[cirq.PauliString]:\n",
    "    elements = []\n",
    "    for string in itertools.chain.from_iterable(itertools.combinations(generators, r) for r in range(len(generators) + 1)):\n",
    "        elements.append(\n",
    "            functools.reduce(lambda a, b: a * b, string, cirq.PauliString())\n",
    "        )\n",
    "    return elements\n",
    "\n",
    "\n",
    "def compute_expectation(\n",
    "    pauli: cirq.PauliString,\n",
    "    counts: Dict[str, int],\n",
    ") -> float:\n",
    "    if pauli is cirq.PauliString():\n",
    "        return 1.0\n",
    "\n",
    "    expectation = 0.0\n",
    "\n",
    "    indices = [q.x for q in pauli.qubits]\n",
    "    for key, value in counts.items():\n",
    "        key = list(map(int, list(key)))\n",
    "        expectation += (-1) ** sum([key[i] for i in indices]) * value\n",
    "\n",
    "    return expectation / sum(counts.values())\n",
    "\n",
    "def int_to_bin_str(x, length):\n",
    "    return functools.reduce(lambda a, b: a + b, [str(b) for b in int_to_bin_list(x, length)])\n",
    "\n",
    "\n",
    "def logical_observable(\n",
    "    paulistring: str,\n",
    "    n: int\n",
    ") -> cirq.PauliString:\n",
    "    q = cirq.LineQubit.range(n*len(paulistring))\n",
    "    string = cirq.PauliString()\n",
    "    for i, p in enumerate(paulistring):\n",
    "        if p == \"X\":\n",
    "            string *= functools.reduce(lambda a, b: a * b, [cirq.X.on(q[j]) for j in range(n*i, n*(i+1))])\n",
    "        elif p == \"Z\":\n",
    "            string *= cirq.Z.on(q[n*i])\n",
    "    return string"
   ]
  },
  {
   "cell_type": "markdown",
   "metadata": {},
   "source": [
    "## Run the unmitigated / unencoded experiment as a baseline"
   ]
  },
  {
   "cell_type": "code",
   "execution_count": null,
   "metadata": {},
   "outputs": [],
   "source": [
    "qreg = cirq.LineQubit.range(k)\n",
    "circuit = cirq.Circuit(\n",
    "    cirq.H.on(qreg[0]),\n",
    "    cirq.CNOT.on(*qreg),\n",
    ")\n",
    "circuit = qiskit.QuantumCircuit.from_qasm_str(circuit.to_qasm())\n",
    "circuit.draw()"
   ]
  },
  {
   "cell_type": "code",
   "execution_count": null,
   "metadata": {},
   "outputs": [],
   "source": [
    "# Compile to device.\n",
    "compiled_raw = qiskit.transpile(\n",
    "    circuit, \n",
    "    backend=computer,\n",
    "    initial_layout=layout[1],  # Hardcode n = 1 (i.e., no encoding) to get layout.\n",
    "    routing_method=\"sabre\",\n",
    "    # scheduling_method=\"asap\",\n",
    "    optimization_level=3,\n",
    ")\n",
    "\n",
    "# Optionally repeat the circuit U -> U (U^\\dag U)^depth.\n",
    "base = compiled_raw.copy()\n",
    "for _ in range(depth):\n",
    "    compiled_raw = compiled_raw.compose(base.inverse())\n",
    "    compiled_raw = compiled_raw.compose(base)\n",
    "compiled_raw.measure_active()\n",
    "\n",
    "# Compile one more time with optimization_level=0 (some inverse gates may not be supported).\n",
    "compiled_raw = qiskit.transpile(compiled_raw, backend=computer, optimization_level=0)\n",
    "\n",
    "compiled_raw.draw(fold=-1, idle_wires=False)"
   ]
  },
  {
   "cell_type": "code",
   "execution_count": 32,
   "metadata": {},
   "outputs": [],
   "source": [
    "\"\"\"Run the job.\"\"\"\n",
    "job = sampler.run(\n",
    "    [compiled_raw],\n",
    "    shots=nshots,\n",
    ")\n",
    "# job = service.job(job_id=\"cshov4tfltjvipt17ch0\")"
   ]
  },
  {
   "cell_type": "code",
   "execution_count": null,
   "metadata": {},
   "outputs": [],
   "source": [
    "counts = [result.data.measure.get_counts() for result in job.result()][0]\n",
    "counts"
   ]
  },
  {
   "cell_type": "code",
   "execution_count": null,
   "metadata": {},
   "outputs": [],
   "source": [
    "raw_value = compute_expectation(cirq.Z.on(qreg[0]) * cirq.Z.on(qreg[1]), counts)\n",
    "raw_value"
   ]
  },
  {
   "cell_type": "markdown",
   "metadata": {},
   "source": [
    "## Run the mitigated experiment"
   ]
  },
  {
   "cell_type": "code",
   "execution_count": 39,
   "metadata": {},
   "outputs": [],
   "source": [
    "to_run = []\n",
    "all_elements = []\n",
    "all_observables = []\n",
    "all_paulis = []\n",
    "for n in nvals:\n",
    "    # Build the stabilizer group and elements.\n",
    "    qubits = cirq.LineQubit.range(n * k)\n",
    "    generators = []\n",
    "    for i in range(k):\n",
    "        generators += [cirq.Z.on(qubits[i*n + j]) * cirq.Z.on(qubits[i*n + j + 1]) for j in range(n - 1)]\n",
    "\n",
    "    elements = generate_stabilizer_elements(generators)  # TODO: Do this in blocks (see Fig. 1 of LST paper).\n",
    "    all_elements.append(elements)\n",
    "\n",
    "    # Build the observable and circuit.\n",
    "    observable = logical_observable(\"ZZ\", n)\n",
    "    all_observables.append(observable)\n",
    "    paulis = [observable * p for p in elements]\n",
    "    all_paulis.append(paulis)\n",
    "\n",
    "    circuit = cirq.Circuit()\n",
    "    logical_H(circuit, qubits, n, qi=0)\n",
    "    logical_CNOT(circuit, qubits, n, 0, 1)\n",
    "    circuit = circuit[n - 1:]  # Simplify logical H at start of circuit.\n",
    "    \n",
    "    # Convert to Qiskit.\n",
    "    circuit = qiskit.QuantumCircuit.from_qasm_str(circuit.to_qasm())\n",
    "\n",
    "    # Compile to device.\n",
    "    compiled = qiskit.transpile(\n",
    "        circuit, \n",
    "        backend=computer,\n",
    "        initial_layout=layout[n],\n",
    "        routing_method=\"sabre\",\n",
    "        # scheduling_method=\"asap\",\n",
    "        optimization_level=3,\n",
    "    )\n",
    "\n",
    "    # Optionally repeat the circuit U -> U (U^\\dag U)^depth.\n",
    "    base = compiled.copy()\n",
    "    for _ in range(depth):\n",
    "        compiled = compiled.compose(base.inverse())\n",
    "        compiled = compiled.compose(base)\n",
    "    compiled.measure_active()\n",
    "    \n",
    "    # Compile one more time with optimization_level=0 (some inverse gates may not be supported).\n",
    "    compiled = qiskit.transpile(compiled, backend=computer, optimization_level=0)\n",
    "\n",
    "    to_run.append(compiled)"
   ]
  },
  {
   "cell_type": "code",
   "execution_count": null,
   "metadata": {},
   "outputs": [],
   "source": [
    "to_run[2].draw(fold=-1, idle_wires=False)"
   ]
  },
  {
   "cell_type": "code",
   "execution_count": 41,
   "metadata": {},
   "outputs": [],
   "source": [
    "\"\"\"Run the batch.\"\"\"\n",
    "job_batch = sampler.run(\n",
    "    to_run,\n",
    "    shots=nshots,\n",
    ")\n",
    "# job_batch = service.job(job_id=\"cshov7ej0jilb25h7hgg\")"
   ]
  },
  {
   "cell_type": "code",
   "execution_count": null,
   "metadata": {},
   "outputs": [],
   "source": [
    "job_batch.status()"
   ]
  },
  {
   "cell_type": "code",
   "execution_count": 47,
   "metadata": {},
   "outputs": [],
   "source": [
    "all_counts = [result.data.measure.get_counts() for result in job_batch.result()]"
   ]
  },
  {
   "cell_type": "code",
   "execution_count": null,
   "metadata": {},
   "outputs": [],
   "source": [
    "all_counts"
   ]
  },
  {
   "cell_type": "code",
   "execution_count": null,
   "metadata": {},
   "outputs": [],
   "source": [
    "# Run the post-processing.\n",
    "lst_values = []\n",
    "for i in range(len(all_counts)):\n",
    "    counts = all_counts[i]\n",
    "    elements = all_elements[i]\n",
    "    observable = all_observables[i]\n",
    "    paulis = all_paulis[i]\n",
    "\n",
    "    # Compute the error-mitigated estimate.\n",
    "    numerator = sum(\n",
    "        compute_expectation(p, counts) for p in paulis\n",
    "    ) / len(paulis)\n",
    "    denominator = sum(\n",
    "        compute_expectation(e, counts) for e in elements\n",
    "    ) / len(elements)\n",
    "\n",
    "    print(numerator / denominator)\n",
    "    lst_values.append(numerator / denominator)\n",
    "print(lst_values)"
   ]
  },
  {
   "cell_type": "code",
   "execution_count": null,
   "metadata": {},
   "outputs": [],
   "source": [
    "# Post-process by post-selection.\n",
    "post_selection_values = []\n",
    "\n",
    "for i in range(len(nvals)):\n",
    "    num_zero_zero = all_counts[i].get(\"0\" * nvals[i] + \"0\" * nvals[i], 0)\n",
    "    num_zero_one  = all_counts[i].get(\"0\" * nvals[i] + \"1\" * nvals[i], 0)\n",
    "    num_one_zero  = all_counts[i].get(\"1\" * nvals[i] + \"0\" * nvals[i], 0)\n",
    "    num_one_one   = all_counts[i].get(\"1\" * nvals[i] + \"1\" * nvals[i], 0)\n",
    "\n",
    "    total = num_zero_zero + num_zero_one + num_one_zero + num_one_one\n",
    "\n",
    "    eval = (num_zero_zero - num_zero_one - num_one_zero + num_one_one) / total\n",
    "    post_selection_values.append(eval)\n",
    "\n",
    "print(post_selection_values)\n",
    "lst_values = post_selection_values"
   ]
  },
  {
   "cell_type": "code",
   "execution_count": null,
   "metadata": {},
   "outputs": [],
   "source": [
    "for i in range(len(nvals)):\n",
    "    nzeros = all_counts[i].get(\"0\" * nvals[i] * k)\n",
    "    nones  =  all_counts[i].get(\"1\" * nvals[i] * k)\n",
    "\n",
    "    print((nzeros - nones) / (nzeros + nones))"
   ]
  },
  {
   "cell_type": "markdown",
   "metadata": {},
   "source": [
    "## Plot results"
   ]
  },
  {
   "cell_type": "code",
   "execution_count": null,
   "metadata": {},
   "outputs": [],
   "source": [
    "import numpy as np\n",
    "\n",
    "xvals = [1] + nvals\n",
    "yvals = [raw_value] + lst_values\n",
    "\n",
    "save_key = f\"{computer.name}_logical_bell_n357_depth_{depth}_{time_key}_job_id_{job.job_id()}_batch_job_id_{job_batch.job_id()}\"\n",
    "\n",
    "plt.plot(xvals, yvals, \"--o\", ms=10, mec=\"black\", alpha=0.88)\n",
    "\n",
    "plt.xlabel(\"$n$\")\n",
    "plt.ylabel(r\"$\\langle \\bar{Z} \\bar{Z} \\rangle$\");\n",
    "plt.title(f\"{computer.name}\\nJob ids {job.job_id()} & {job_batch.job_id()}\")\n",
    "# plt.savefig(f\"{save_key}.pdf\")"
   ]
  },
  {
   "cell_type": "code",
   "execution_count": null,
   "metadata": {},
   "outputs": [],
   "source": [
    "for n, counts in zip(nvals, all_counts):\n",
    "    print(n, counts.get(\"0\" * n * k))"
   ]
  },
  {
   "cell_type": "code",
   "execution_count": null,
   "metadata": {},
   "outputs": [],
   "source": [
    "opcounts = []\n",
    "for nqubits, circuit in zip(xvals, [compiled_raw] + to_run):\n",
    "    print(circuit.count_ops())\n",
    "    oneq = 0\n",
    "    twoq = 0\n",
    "    for gate, count in list(circuit.count_ops().items()):\n",
    "        if gate in (\"rz\", \"sx\", \"x\"):\n",
    "            oneq += count\n",
    "        if gate in (\"ecr\", \"cz\", \"cx\"):\n",
    "            twoq += count\n",
    "    print(\"Oneq:\", oneq)\n",
    "    print(\"Twoq:\", twoq)\n",
    "    print(\"Total:\", oneq + twoq)\n",
    "    opcounts.append([nqubits, oneq, twoq])"
   ]
  },
  {
   "cell_type": "markdown",
   "metadata": {},
   "source": [
    "## Save all data"
   ]
  },
  {
   "cell_type": "code",
   "execution_count": 20,
   "metadata": {},
   "outputs": [],
   "source": [
    "# Save the opcounts.\n",
    "np.savetxt(f\"{save_key}_counts.txt\", opcounts, header=\"nqubits, one-qubit gates, two-qubit gates\")"
   ]
  },
  {
   "cell_type": "code",
   "execution_count": 21,
   "metadata": {},
   "outputs": [],
   "source": [
    "# Save the nqubits, expectation values data.\n",
    "data = np.array([xvals, yvals]).T\n",
    "\n",
    "np.savetxt(f\"{save_key}_expectation_values.txt\", data)"
   ]
  },
  {
   "cell_type": "code",
   "execution_count": 22,
   "metadata": {},
   "outputs": [],
   "source": [
    "# Save the qubits used.\n",
    "qubits = [list(x) for x in layout.values()]\n",
    "\n",
    "import pandas as pd\n",
    "\n",
    "df = pd.DataFrame(qubits)\n",
    "df.to_csv(f\"{save_key}_qubits.txt\", header=False)"
   ]
  },
  {
   "cell_type": "markdown",
   "metadata": {},
   "source": []
  }
 ],
 "metadata": {
  "kernelspec": {
   "display_name": "envencoded",
   "language": "python",
   "name": "envencoded"
  },
  "language_info": {
   "codemirror_mode": {
    "name": "ipython",
    "version": 3
   },
   "file_extension": ".py",
   "mimetype": "text/x-python",
   "name": "python",
   "nbconvert_exporter": "python",
   "pygments_lexer": "ipython3",
   "version": "3.10.12"
  }
 },
 "nbformat": 4,
 "nbformat_minor": 2
}
