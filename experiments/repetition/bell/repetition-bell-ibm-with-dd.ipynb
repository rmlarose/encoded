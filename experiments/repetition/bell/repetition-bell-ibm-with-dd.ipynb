{
 "cells": [
  {
   "cell_type": "markdown",
   "metadata": {},
   "source": [
    "# LST with the repetition code on GHZ states"
   ]
  },
  {
   "cell_type": "markdown",
   "metadata": {},
   "source": [
    "## Setup"
   ]
  },
  {
   "cell_type": "code",
   "execution_count": 1,
   "metadata": {},
   "outputs": [],
   "source": [
    "import functools\n",
    "import itertools\n",
    "\n",
    "from typing import List, Dict\n",
    "\n",
    "import matplotlib.pyplot as plt; plt.rcParams.update({\"font.family\": \"serif\",\"font.size\": 12})\n",
    "import cirq\n",
    "import qiskit\n",
    "import qiskit_ibm_runtime\n",
    "\n",
    "import sys\n",
    "sys.path.append(\"src/\")\n",
    "from repetition_code import logical_H, logical_CNOT\n",
    "from LST import int_to_bin_list\n",
    "sys.path.append(\"notebooks/analog/h2_exp/\")"
   ]
  },
  {
   "cell_type": "code",
   "execution_count": 2,
   "metadata": {},
   "outputs": [],
   "source": [
    "import datetime\n",
    "\n",
    "\n",
    "time_key = datetime.datetime.now().strftime(\"%m_%d_%Y_%H:%M:%S\")  # For saving results."
   ]
  },
  {
   "cell_type": "markdown",
   "metadata": {},
   "source": [
    "## Set experiment parameters"
   ]
  },
  {
   "cell_type": "code",
   "execution_count": null,
   "metadata": {},
   "outputs": [],
   "source": [
    "# IBM service, computer, and qubits to use.\n",
    "service = qiskit_ibm_runtime.QiskitRuntimeService(\n",
    "    channel=\"your\",\n",
    "    token=\"info\",\n",
    "    instance=\"here\",\n",
    ")\n",
    "computer = service.backend(\"\")\n",
    "\n",
    "# See calibration data at https://quantum.ibm.com/services/resources to select good qubits.\n",
    "layout = {\n",
    "    1: [3, 4],\n",
    "    3: [3, 4, 5, 15, 21, 22],\n",
    "    5: [3, 4, 5, 6, 15, 20, 21, 22, 23, 24],\n",
    "    7: [0, 1, 2, 3, 4, 5, 6, 14, 15, 18, 19, 20, 21, 22],\n",
    "}"
   ]
  },
  {
   "cell_type": "code",
   "execution_count": null,
   "metadata": {},
   "outputs": [],
   "source": [
    "nvals = [3, 5, 7]      # Numbers of physical qubits (distances of repetition code) to use.\n",
    "\n",
    "depth: int = 0         # How many times to repeat the circuit U (U^dag U) ^ depth where U is the logical Bell state preparation circuit.\n",
    "nshots: int = 20_000   # Number of samples.\n",
    "k = 2                  # Number of logical qubits."
   ]
  },
  {
   "cell_type": "markdown",
   "metadata": {},
   "source": [
    "### Helper functions"
   ]
  },
  {
   "cell_type": "code",
   "execution_count": 3,
   "metadata": {},
   "outputs": [],
   "source": [
    "def generate_stabilizer_elements(generators: List[cirq.PauliString]) -> List[cirq.PauliString]:\n",
    "    elements = []\n",
    "    for string in itertools.chain.from_iterable(itertools.combinations(generators, r) for r in range(len(generators) + 1)):\n",
    "        elements.append(\n",
    "            functools.reduce(lambda a, b: a * b, string, cirq.PauliString())\n",
    "        )\n",
    "    return elements\n",
    "\n",
    "\n",
    "def compute_expectation(\n",
    "    pauli: cirq.PauliString,\n",
    "    counts: Dict[str, int],\n",
    ") -> float:\n",
    "    if pauli is cirq.PauliString():\n",
    "        return 1.0\n",
    "\n",
    "    expectation = 0.0\n",
    "\n",
    "    indices = [q.x for q in pauli.qubits]\n",
    "    for key, value in counts.items():\n",
    "        key = list(map(int, list(key)))\n",
    "        expectation += (-1) ** sum([key[i] for i in indices]) * value\n",
    "\n",
    "    return expectation / sum(counts.values())\n",
    "\n",
    "def int_to_bin_str(x, length):\n",
    "    return functools.reduce(lambda a, b: a + b, [str(b) for b in int_to_bin_list(x, length)])\n",
    "\n",
    "\n",
    "def logical_observable(\n",
    "    paulistring: str,\n",
    "    n: int\n",
    ") -> cirq.PauliString:\n",
    "    q = cirq.LineQubit.range(n*len(paulistring))\n",
    "    string = cirq.PauliString()\n",
    "    for i, p in enumerate(paulistring):\n",
    "        if p == \"X\":\n",
    "            string *= functools.reduce(lambda a, b: a * b, [cirq.X.on(q[j]) for j in range(n*i, n*(i+1))])\n",
    "        elif p == \"Z\":\n",
    "            string *= cirq.Z.on(q[n*i])\n",
    "    return string"
   ]
  },
  {
   "cell_type": "markdown",
   "metadata": {},
   "source": [
    "## Run the unmitigated / unencoded experiment as a baseline"
   ]
  },
  {
   "cell_type": "code",
   "execution_count": 6,
   "metadata": {},
   "outputs": [
    {
     "data": {
      "text/html": [
       "<pre style=\"word-wrap: normal;white-space: pre;background: #fff0;line-height: 1.1;font-family: &quot;Courier New&quot;,Courier,monospace\">     ┌───┐     \n",
       "q_0: ┤ H ├──■──\n",
       "     └───┘┌─┴─┐\n",
       "q_1: ─────┤ X ├\n",
       "          └───┘</pre>"
      ],
      "text/plain": [
       "     ┌───┐     \n",
       "q_0: ┤ H ├──■──\n",
       "     └───┘┌─┴─┐\n",
       "q_1: ─────┤ X ├\n",
       "          └───┘"
      ]
     },
     "execution_count": 6,
     "metadata": {},
     "output_type": "execute_result"
    }
   ],
   "source": [
    "qreg = cirq.LineQubit.range(k)\n",
    "circuit = cirq.Circuit(\n",
    "    cirq.H.on(qreg[0]),\n",
    "    cirq.CNOT.on(*qreg),\n",
    ")\n",
    "circuit = qiskit.QuantumCircuit.from_qasm_str(circuit.to_qasm())\n",
    "circuit.draw()"
   ]
  },
  {
   "cell_type": "code",
   "execution_count": 7,
   "metadata": {},
   "outputs": [
    {
     "data": {
      "text/html": [
       "<pre style=\"word-wrap: normal;white-space: pre;background: #fff0;line-height: 1.1;font-family: &quot;Courier New&quot;,Courier,monospace\">global phase: 2π\n",
       "           ┌──────────┐┌────┐┌─────────────┐┌────┐┌──────────┐┌──────┐  ┌─────────┐   ┌────┐┌─────────────┐ ░ ┌─┐   \n",
       "  q_3 -> 3 ┤ Rz(-π/2) ├┤ √X ├┤ Rz(-2.0153) ├┤ √X ├┤ Rz(-π/2) ├┤1     ├──┤ Rz(π/2) ├───┤ √X ├┤ Rz(-2.0153) ├─░─┤M├───\n",
       "           ├──────────┤├────┤├─────────────┤└────┘└──────────┘│  Ecr │┌─┴─────────┴──┐├────┤└─┬─────────┬─┘ ░ └╥┘┌─┐\n",
       "  q_4 -> 4 ┤ Rz(-π/2) ├┤ √X ├┤ Rz(-2.5564) ├──────────────────┤0     ├┤ Rz(-0.98561) ├┤ √X ├──┤ Rz(π/2) ├───░──╫─┤M├\n",
       "           └──────────┘└────┘└─────────────┘                  └──────┘└──────────────┘└────┘  └─────────┘   ░  ║ └╥┘\n",
       "measure: 2/════════════════════════════════════════════════════════════════════════════════════════════════════╩══╩═\n",
       "                                                                                                               0  1 </pre>"
      ],
      "text/plain": [
       "global phase: 2π\n",
       "           ┌──────────┐┌────┐┌─────────────┐┌────┐┌──────────┐┌──────┐  ┌─────────┐   ┌────┐┌─────────────┐ ░ ┌─┐   \n",
       "  q_3 -> 3 ┤ Rz(-π/2) ├┤ √X ├┤ Rz(-2.0153) ├┤ √X ├┤ Rz(-π/2) ├┤1     ├──┤ Rz(π/2) ├───┤ √X ├┤ Rz(-2.0153) ├─░─┤M├───\n",
       "           ├──────────┤├────┤├─────────────┤└────┘└──────────┘│  Ecr │┌─┴─────────┴──┐├────┤└─┬─────────┬─┘ ░ └╥┘┌─┐\n",
       "  q_4 -> 4 ┤ Rz(-π/2) ├┤ √X ├┤ Rz(-2.5564) ├──────────────────┤0     ├┤ Rz(-0.98561) ├┤ √X ├──┤ Rz(π/2) ├───░──╫─┤M├\n",
       "           └──────────┘└────┘└─────────────┘                  └──────┘└──────────────┘└────┘  └─────────┘   ░  ║ └╥┘\n",
       "measure: 2/════════════════════════════════════════════════════════════════════════════════════════════════════╩══╩═\n",
       "                                                                                                               0  1 "
      ]
     },
     "execution_count": 7,
     "metadata": {},
     "output_type": "execute_result"
    }
   ],
   "source": [
    "# Compile to device.\n",
    "compiled_raw = qiskit.transpile(\n",
    "    circuit, \n",
    "    backend=computer,\n",
    "    initial_layout=layout[1],  # Hardcode n = 1 (i.e., no encoding) to get layout.\n",
    "    routing_method=\"sabre\",\n",
    "    # scheduling_method=\"asap\",\n",
    "    optimization_level=3,\n",
    ")\n",
    "\n",
    "# Optionally repeat the circuit U -> U (U^\\dag U)^depth.\n",
    "base = compiled_raw.copy()\n",
    "for _ in range(depth):\n",
    "    compiled_raw = compiled_raw.compose(base.inverse())\n",
    "    compiled_raw = compiled_raw.compose(base)\n",
    "compiled_raw.measure_active()\n",
    "\n",
    "# Compile one more time with optimization_level=0 (some inverse gates may not be supported).\n",
    "compiled_raw = qiskit.transpile(compiled_raw, backend=computer, optimization_level=0)\n",
    "\n",
    "compiled_raw.draw(fold=-1, idle_wires=False)"
   ]
  },
  {
   "cell_type": "code",
   "execution_count": 8,
   "metadata": {},
   "outputs": [
    {
     "name": "stderr",
     "output_type": "stream",
     "text": [
      "/tmp/ipykernel_38788/2532403488.py:2: DeprecationWarning: backend.run() and related sessions methods are deprecated  as of qiskit-ibm-runtime 0.23 and will be removed no sooner than 6 months after the release date. More details can be found in the primitives migration guide https://docs.quantum.ibm.com/migration-guides/qiskit-runtime.\n",
      "  job = computer.run(\n"
     ]
    }
   ],
   "source": [
    "\"\"\"Run the job.\"\"\"\n",
    "job = computer.run(\n",
    "    compiled_raw,\n",
    "    shots=nshots,\n",
    "    memory=True,\n",
    ")\n",
    "# job = service.job(job_id=\"cshov4tfltjvipt17ch0\")"
   ]
  },
  {
   "cell_type": "code",
   "execution_count": 16,
   "metadata": {},
   "outputs": [
    {
     "data": {
      "text/plain": [
       "{'00': 9584, '10': 242, '01': 403, '11': 9771}"
      ]
     },
     "execution_count": 16,
     "metadata": {},
     "output_type": "execute_result"
    }
   ],
   "source": [
    "counts = job.result().get_counts()\n",
    "counts"
   ]
  },
  {
   "cell_type": "code",
   "execution_count": 17,
   "metadata": {},
   "outputs": [
    {
     "data": {
      "text/plain": [
       "0.9355"
      ]
     },
     "execution_count": 17,
     "metadata": {},
     "output_type": "execute_result"
    }
   ],
   "source": [
    "raw_value = compute_expectation(cirq.Z.on(qreg[0]) * cirq.Z.on(qreg[1]), counts)\n",
    "raw_value"
   ]
  },
  {
   "cell_type": "markdown",
   "metadata": {},
   "source": [
    "## Run the mitigated experiment"
   ]
  },
  {
   "cell_type": "code",
   "execution_count": 9,
   "metadata": {},
   "outputs": [],
   "source": [
    "from qiskit_ibm_runtime import SamplerV2 as Sampler"
   ]
  },
  {
   "cell_type": "code",
   "execution_count": 10,
   "metadata": {},
   "outputs": [],
   "source": [
    "sampler = Sampler(computer)"
   ]
  },
  {
   "cell_type": "code",
   "execution_count": 11,
   "metadata": {},
   "outputs": [],
   "source": [
    "sampler.options.dynamical_decoupling.enable = True\n",
    "sampler.options.dynamical_decoupling.sequence_type = \"XpXm\""
   ]
  },
  {
   "cell_type": "code",
   "execution_count": 12,
   "metadata": {},
   "outputs": [
    {
     "data": {
      "text/html": [
       "<pre>SamplerOptions<0x7f4c02d113c0></pre>\n",
       "<table>\n",
       "  <tr>\n",
       "    <td style='text-align: left; vertical-align: top;'><div style='width: 20px; display: inline-block; text-align: right; margin-right: 10px;'></div>max_execution_time</td>\n",
       "    <td style='text-align: left; vertical-align: top;'>Unset</td>\n",
       "  </tr>\n",
       "  <tr>\n",
       "    <td style='text-align: left; vertical-align: top;'><div style='width: 20px; display: inline-block; text-align: right; margin-right: 10px;'></div>default_shots</td>\n",
       "    <td style='text-align: left; vertical-align: top;'>Unset</td>\n",
       "  </tr>\n",
       "  <tr>\n",
       "    <td style='text-align: left; vertical-align: top;'><div style='width: 20px; display: inline-block; text-align: right; margin-right: 10px;'></div>experimental</td>\n",
       "    <td style='text-align: left; vertical-align: top;'>Unset</td>\n",
       "  </tr>\n",
       "  <tr>\n",
       "    <th style='text-align: left; vertical-align: top; font-weight: bold;'><div style='width: 20px; display: inline-block; text-align: right; margin-right: 10px;'>▸</div>environment</th>\n",
       "    <th style='text-align: left; vertical-align: top; font-weight: bold;'>EnvironmentOptions</th>\n",
       "  </tr>\n",
       "  <tr>\n",
       "    <td style='text-align: left; vertical-align: top;'><div style='width: 40px; display: inline-block; text-align: right; margin-right: 10px;'></div>log_level</td>\n",
       "    <td style='text-align: left; vertical-align: top;'>'WARNING'</td>\n",
       "  </tr>\n",
       "  <tr>\n",
       "    <td style='text-align: left; vertical-align: top;'><div style='width: 40px; display: inline-block; text-align: right; margin-right: 10px;'></div>callback</td>\n",
       "    <td style='text-align: left; vertical-align: top;'>None</td>\n",
       "  </tr>\n",
       "  <tr>\n",
       "    <td style='text-align: left; vertical-align: top;'><div style='width: 40px; display: inline-block; text-align: right; margin-right: 10px;'></div>job_tags</td>\n",
       "    <td style='text-align: left; vertical-align: top;'>None</td>\n",
       "  </tr>\n",
       "  <tr>\n",
       "    <td style='text-align: left; vertical-align: top;'><div style='width: 40px; display: inline-block; text-align: right; margin-right: 10px;'></div>private</td>\n",
       "    <td style='text-align: left; vertical-align: top;'>False</td>\n",
       "  </tr>\n",
       "  <tr>\n",
       "    <th style='text-align: left; vertical-align: top; font-weight: bold;'><div style='width: 20px; display: inline-block; text-align: right; margin-right: 10px;'>▸</div>simulator</th>\n",
       "    <th style='text-align: left; vertical-align: top; font-weight: bold;'>SimulatorOptions</th>\n",
       "  </tr>\n",
       "  <tr>\n",
       "    <td style='text-align: left; vertical-align: top;'><div style='width: 40px; display: inline-block; text-align: right; margin-right: 10px;'></div>noise_model</td>\n",
       "    <td style='text-align: left; vertical-align: top;'>Unset</td>\n",
       "  </tr>\n",
       "  <tr>\n",
       "    <td style='text-align: left; vertical-align: top;'><div style='width: 40px; display: inline-block; text-align: right; margin-right: 10px;'></div>seed_simulator</td>\n",
       "    <td style='text-align: left; vertical-align: top;'>Unset</td>\n",
       "  </tr>\n",
       "  <tr>\n",
       "    <td style='text-align: left; vertical-align: top;'><div style='width: 40px; display: inline-block; text-align: right; margin-right: 10px;'></div>coupling_map</td>\n",
       "    <td style='text-align: left; vertical-align: top;'>Unset</td>\n",
       "  </tr>\n",
       "  <tr>\n",
       "    <td style='text-align: left; vertical-align: top;'><div style='width: 40px; display: inline-block; text-align: right; margin-right: 10px;'></div>basis_gates</td>\n",
       "    <td style='text-align: left; vertical-align: top;'>Unset</td>\n",
       "  </tr>\n",
       "  <tr>\n",
       "    <th style='text-align: left; vertical-align: top; font-weight: bold;'><div style='width: 20px; display: inline-block; text-align: right; margin-right: 10px;'>▸</div>dynamical_decoupling</th>\n",
       "    <th style='text-align: left; vertical-align: top; font-weight: bold;'>DynamicalDecouplingOptions</th>\n",
       "  </tr>\n",
       "  <tr>\n",
       "    <td style='text-align: left; vertical-align: top;'><div style='width: 40px; display: inline-block; text-align: right; margin-right: 10px;'></div>enable</td>\n",
       "    <td style='text-align: left; vertical-align: top;'>True</td>\n",
       "  </tr>\n",
       "  <tr>\n",
       "    <td style='text-align: left; vertical-align: top;'><div style='width: 40px; display: inline-block; text-align: right; margin-right: 10px;'></div>sequence_type</td>\n",
       "    <td style='text-align: left; vertical-align: top;'>'XpXm'</td>\n",
       "  </tr>\n",
       "  <tr>\n",
       "    <td style='text-align: left; vertical-align: top;'><div style='width: 40px; display: inline-block; text-align: right; margin-right: 10px;'></div>extra_slack_distribution</td>\n",
       "    <td style='text-align: left; vertical-align: top;'>Unset</td>\n",
       "  </tr>\n",
       "  <tr>\n",
       "    <td style='text-align: left; vertical-align: top;'><div style='width: 40px; display: inline-block; text-align: right; margin-right: 10px;'></div>scheduling_method</td>\n",
       "    <td style='text-align: left; vertical-align: top;'>Unset</td>\n",
       "  </tr>\n",
       "  <tr>\n",
       "    <th style='text-align: left; vertical-align: top; font-weight: bold;'><div style='width: 20px; display: inline-block; text-align: right; margin-right: 10px;'>▸</div>execution</th>\n",
       "    <th style='text-align: left; vertical-align: top; font-weight: bold;'>SamplerExecutionOptionsV2</th>\n",
       "  </tr>\n",
       "  <tr>\n",
       "    <td style='text-align: left; vertical-align: top;'><div style='width: 40px; display: inline-block; text-align: right; margin-right: 10px;'></div>init_qubits</td>\n",
       "    <td style='text-align: left; vertical-align: top;'>Unset</td>\n",
       "  </tr>\n",
       "  <tr>\n",
       "    <td style='text-align: left; vertical-align: top;'><div style='width: 40px; display: inline-block; text-align: right; margin-right: 10px;'></div>rep_delay</td>\n",
       "    <td style='text-align: left; vertical-align: top;'>Unset</td>\n",
       "  </tr>\n",
       "  <tr>\n",
       "    <td style='text-align: left; vertical-align: top;'><div style='width: 40px; display: inline-block; text-align: right; margin-right: 10px;'></div>meas_type</td>\n",
       "    <td style='text-align: left; vertical-align: top;'>Unset</td>\n",
       "  </tr>\n",
       "  <tr>\n",
       "    <th style='text-align: left; vertical-align: top; font-weight: bold;'><div style='width: 20px; display: inline-block; text-align: right; margin-right: 10px;'>▸</div>twirling</th>\n",
       "    <th style='text-align: left; vertical-align: top; font-weight: bold;'>TwirlingOptions</th>\n",
       "  </tr>\n",
       "  <tr>\n",
       "    <td style='text-align: left; vertical-align: top;'><div style='width: 40px; display: inline-block; text-align: right; margin-right: 10px;'></div>enable_gates</td>\n",
       "    <td style='text-align: left; vertical-align: top;'>Unset</td>\n",
       "  </tr>\n",
       "  <tr>\n",
       "    <td style='text-align: left; vertical-align: top;'><div style='width: 40px; display: inline-block; text-align: right; margin-right: 10px;'></div>enable_measure</td>\n",
       "    <td style='text-align: left; vertical-align: top;'>Unset</td>\n",
       "  </tr>\n",
       "  <tr>\n",
       "    <td style='text-align: left; vertical-align: top;'><div style='width: 40px; display: inline-block; text-align: right; margin-right: 10px;'></div>num_randomizations</td>\n",
       "    <td style='text-align: left; vertical-align: top;'>Unset</td>\n",
       "  </tr>\n",
       "  <tr>\n",
       "    <td style='text-align: left; vertical-align: top;'><div style='width: 40px; display: inline-block; text-align: right; margin-right: 10px;'></div>shots_per_randomization</td>\n",
       "    <td style='text-align: left; vertical-align: top;'>Unset</td>\n",
       "  </tr>\n",
       "  <tr>\n",
       "    <td style='text-align: left; vertical-align: top;'><div style='width: 40px; display: inline-block; text-align: right; margin-right: 10px;'></div>strategy</td>\n",
       "    <td style='text-align: left; vertical-align: top;'>Unset</td>\n",
       "  </tr>\n",
       "</table>"
      ],
      "text/plain": [
       "SamplerOptions(_VERSION=2, max_execution_time=Unset, environment=EnvironmentOptions(log_level='WARNING', callback=None, job_tags=None, private=False), simulator=SimulatorOptions(noise_model=Unset, seed_simulator=Unset, coupling_map=Unset, basis_gates=Unset), default_shots=Unset, dynamical_decoupling=DynamicalDecouplingOptions(enable=True, sequence_type='XpXm', extra_slack_distribution=Unset, scheduling_method=Unset), execution=SamplerExecutionOptionsV2(init_qubits=Unset, rep_delay=Unset, meas_type=Unset), twirling=TwirlingOptions(enable_gates=Unset, enable_measure=Unset, num_randomizations=Unset, shots_per_randomization=Unset, strategy=Unset), experimental=Unset)"
      ]
     },
     "execution_count": 12,
     "metadata": {},
     "output_type": "execute_result"
    }
   ],
   "source": [
    "sampler.options"
   ]
  },
  {
   "cell_type": "code",
   "execution_count": 13,
   "metadata": {},
   "outputs": [],
   "source": [
    "to_run = []\n",
    "all_elements = []\n",
    "all_observables = []\n",
    "all_paulis = []\n",
    "\n",
    "for n in nvals:\n",
    "    # Build the stabilizer group and elements.\n",
    "    qubits = cirq.LineQubit.range(n * k)\n",
    "    generators = []\n",
    "    for i in range(k):\n",
    "        generators += [cirq.Z.on(qubits[i*n + j]) * cirq.Z.on(qubits[i*n + j + 1]) for j in range(n - 1)]\n",
    "\n",
    "    elements = generate_stabilizer_elements(generators)  # TODO: Do this in blocks (see Fig. 1 of LST paper).\n",
    "    all_elements.append(elements)\n",
    "\n",
    "    # Build the observable and circuit.\n",
    "    observable = logical_observable(\"ZZ\", n)\n",
    "    all_observables.append(observable)\n",
    "    paulis = [observable * p for p in elements]\n",
    "    all_paulis.append(paulis)\n",
    "\n",
    "    circuit = cirq.Circuit()\n",
    "    logical_H(circuit, qubits, n, qi=0)\n",
    "    logical_CNOT(circuit, qubits, n, 0, 1)\n",
    "    circuit = circuit[n - 1:]  # Simplify logical H at start of circuit.\n",
    "    \n",
    "    # Convert to Qiskit.\n",
    "    circuit = qiskit.QuantumCircuit.from_qasm_str(circuit.to_qasm())\n",
    "\n",
    "    # Compile to device.\n",
    "    compiled = qiskit.transpile(\n",
    "        circuit, \n",
    "        backend=computer,\n",
    "        initial_layout=layout[n],\n",
    "        routing_method=\"sabre\",\n",
    "        # scheduling_method=\"asap\",\n",
    "        optimization_level=3,\n",
    "    )\n",
    "\n",
    "    # Optionally repeat the circuit U -> U (U^\\dag U)^depth.\n",
    "    base = compiled.copy()\n",
    "    for _ in range(depth):\n",
    "        compiled = compiled.compose(base.inverse())\n",
    "        compiled = compiled.compose(base)\n",
    "    compiled.measure_active()\n",
    "\n",
    "    # Compile one more time with optimization_level=0 (some inverse gates may not be supported).\n",
    "    compiled = qiskit.transpile(compiled, backend=computer, optimization_level=0)\n",
    "\n",
    "    to_run.append(compiled)"
   ]
  },
  {
   "cell_type": "code",
   "execution_count": 14,
   "metadata": {},
   "outputs": [
    {
     "data": {
      "text/html": [
       "<pre style=\"word-wrap: normal;white-space: pre;background: #fff0;line-height: 1.1;font-family: &quot;Courier New&quot;,Courier,monospace\">global phase: 3π/2\n",
       "            ┌─────────┐ ┌────┐               ┌──────┐┌─────────┐         ┌──────┐ ┌────────┐  ┌────┐   ┌─────────┐                                                                                                                                                           ┌──────┐┌──────────┐ ┌────┐  ┌────────┐     ┌──────┐   ┌─────────┐      ┌────┐     ┌─────────┐  ┌──────┐  ┌──────────┐   ┌────┐                      ┌──────┐┌──────────┐   ┌────┐    ┌────────┐           ┌──────┐┌─────────┐  ┌────┐ ┌─────────┐          ┌──────┐    ┌────┐   ┌──────────┐                                                                                                                                                                                                                                                                                                                                                                                                                                                                                                           ░ ┌─┐                                       \n",
       "   q_0 -> 0 ┤ Rz(π/2) ├─┤ √X ├───────────────┤0     ├┤ Rz(π/2) ├─────────┤0     ├─┤ Rz(-π) ├──┤ √X ├───┤ Rz(π/2) ├───────────────────────────────────────────────────────────────────────────────────────────────────────────────────────────────────────────────────────────┤0     ├┤ Rz(-π/2) ├─┤ √X ├──┤ Rz(-π) ├─────┤0     ├───┤ Rz(π/2) ├──────┤ √X ├─────┤ Rz(π/2) ├──┤0     ├──┤ Rz(-π/2) ├───┤ √X ├──────────────────────┤0     ├┤ Rz(-π/2) ├───┤ √X ├────┤ Rz(-π) ├───────────┤0     ├┤ Rz(π/2) ├──┤ √X ├─┤ Rz(π/2) ├──────────┤0     ├────┤ √X ├───┤ Rz(-π/2) ├───────────────────────────────────────────────────────────────────────────────────────────────────────────────────────────────────────────────────────────────────────────────────────────────────────────────────────────────────────────────────────────────────────────────────────────────────────────────────────────────────────────────────────────────────────────────────────────────────────────────────────────────────────────────────────────────────────────────────────────────────────────░─┤M├───────────────────────────────────────\n",
       "            └┬────────┤ ├────┤   ┌────────┐  │  Ecr │├─────────┴┐┌──────┐│      │ ├────────┤  ├────┤   └┬────────┤                        ┌──────┐ ┌──────────┐  ┌────┐    ┌────────┐  ┌──────┐  ┌─────────┐  ┌────┐┌─────────┐┌──────┐    ┌────────┐   ┌────┐  ┌─────────┐  │  Ecr │├─────────┬┘ ├────┤  └────────┘     │  Ecr │   ├─────────┴┐     └────┘     └─────────┘  │  Ecr │  └┬────────┬┘   ├────┤                      │      │└──────────┘   └────┘    └────────┘           │      │└─────────┘  └────┘ └─────────┘          │      │    └────┘   └──────────┘                                                                                                                                                                                                                                                                                                                                                                                                                                                                                                           ░ └╥┘┌─┐                                    \n",
       "   q_1 -> 1 ─┤ Rz(-π) ├─┤ √X ├───┤ Rz(-π) ├──┤1     ├┤ Rz(-π/2) ├┤0     ├┤      ├─┤ Rz(-π) ├──┤ √X ├────┤ Rz(-π) ├────────────────────────┤0     ├─┤ Rz(-π/2) ├──┤ √X ├────┤ Rz(-π) ├──┤0     ├──┤ Rz(π/2) ├──┤ √X ├┤ Rz(π/2) ├┤0     ├────┤ Rz(-π) ├───┤ √X ├──┤ Rz(π/2) ├──┤1     ├┤ Rz(π/2) ├──┤ √X ├─────────────────┤1     ├───┤ Rz(-π/2) ├─────────────────────────────┤1     ├───┤ Rz(-π) ├────┤ √X ├──────────────────────┤      ├──────────────────────────────────────────────┤      ├─────────────────────────────────────────┤      ├────────────────────────────────────────────────────────────────────────────────────────────────────────────────────────────────────────────────────────────────────────────────────────────────────────────────────────────────────────────────────────────────────────────────────────────────────────────────────────────────────────────────────────────────────────────────────────────────────────────────────────────────────────────────────────────────────────────────────────────────────────────────────────────────────░──╫─┤M├────────────────────────────────────\n",
       "             ├────────┤ ├────┤   ├────────┤  └──────┘└──────────┘│  Ecr ││      │┌┴────────┴┐┌┴────┴┐  ┌┴────────┤   ┌────┐  ┌─────────┐  │  Ecr │ ├─────────┬┘  ├────┤    └────────┘  │  Ecr │  ├─────────┴┐ └────┘└─────────┘│  Ecr │   ┌┴────────┤   ├────┤  ├─────────┴┐ └──────┘└─────────┘  └────┘                 └──────┘   └──────────┘                             └──────┘   └────────┘    └────┘                      │      │                                              │      │                                         │      │                                     ┌──────┐  ┌───┐                                                                                                                                                                                                                                                                                                                                                                                                                                                                                ░  ║ └╥┘┌─┐                                 \n",
       "   q_2 -> 2 ─┤ Rz(-π) ├─┤ √X ├───┤ Rz(-π) ├──────────────────────┤1     ├┤      ├┤ Rz(-π/2) ├┤0     ├──┤ Rz(π/2) ├───┤ √X ├──┤ Rz(π/2) ├──┤1     ├─┤ Rz(π/2) ├───┤ √X ├────────────────┤1     ├──┤ Rz(-π/2) ├──────────────────┤1     ├───┤ Rz(π/2) ├───┤ √X ├──┤ Rz(-π/2) ├──────────────────────────────────────────────────────────────────────────────────────────────────────────────────────────────────────────────────────┤      ├──────────────────────────────────────────────┤      ├─────────────────────────────────────────┤      ├─────────────────────────────────────┤0     ├──┤ X ├────────────────────────────────────────────────────────────────────────────────────────────────────────────────────────────────────────────────────────────────────────────────────────────────────────────────────────────────────────────────────────────────────────────────────────────────────────────────────────────────────────────────────────────────────────────────────────────────────────────────────────────────────────────────────────────────────────────────░──╫──╫─┤M├─────────────────────────────────\n",
       "            ┌┴────────┤ ├────┤ ┌─┴────────┴─┐ ┌────┐ ┌─────────┐ └──────┘│      │└──────────┘│  Ecr │┌─┴─────────┴──┐├────┤┌─┴─────────┴─┐└┬────┬┘┌┴─────────┴─┐┌┴────┴┐  ┌─────────┐  └┬────┬┘┌─┴──────────┴┐                 └──────┘   └─────────┘   └────┘  └──────────┘                                                                                                                                                      │      │              ┌──────┐  ┌─────────┐   ┌────┐  │      │            ┌──────┐┌──────────┐         │      │               ┌──────┐   ┌────────┐ │  Ecr │  └───┘                                                                                                                                                                                                                                                                                                                                                                                                                                                                                ░  ║  ║ └╥┘┌─┐                              \n",
       "   q_3 -> 3 ┤ Rz(π/2) ├─┤ √X ├─┤ Rz(-1.578) ├─┤ √X ├─┤ Rz(π/2) ├─────────┤      ├────────────┤1     ├┤ Rz(-0.86642) ├┤ √X ├┤ Rz(-1.5763) ├─┤ √X ├─┤ Rz(3.1369) ├┤1     ├──┤ Rz(π/2) ├───┤ √X ├─┤ Rz(0.86643) ├────────────────────────────────────────────────────────────────────────────────────────────────────────────────────────────────────────────────────────────────────────────────────────────────────────────────────┤      ├──────────────┤1     ├──┤ Rz(π/2) ├───┤ √X ├──┤      ├────────────┤1     ├┤ Rz(-π/2) ├─────────┤      ├───────────────┤1     ├───┤ Rz(-π) ├─┤1     ├───────────────────────────────────────────────────────────────────────────────────────────────────────────────────────────────────────────────────────────────────────────────────────────────────────────────────────────────────────────────────────────────────────────────────────────────────────────────────────────────────────────────────────────────────────────────────────────────────────────────────────────────────────────────────────────────────────────────────────░──╫──╫──╫─┤M├──────────────────────────────\n",
       "            ├─────────┤ ├────┤┌┴────────────┤ └────┘ └─────────┘         │  Ecr │            └──────┘└──────────────┘└────┘└─────────────┘ └────┘ └────────────┘│  Ecr │┌─┴─────────┴─┐ ├────┤ ├─────────────┤┌────┐┌─────────┐┌──────┐   ┌─────────┐   ┌────┐ ┌────────────┐ ┌────┐             ┌──────┐┌──────────┐     ┌────┐     ┌────────┐                   ┌──────┐ ┌─────────┐    ┌────┐   ┌─────────┐┌──────┐ ┌────────┐ │  Ecr │   ┌────┐     │  Ecr │  ├─────────┴┐  ├────┤  │  Ecr │ ┌────────┐ │  Ecr │├─────────┬┘ ┌────┐  │  Ecr │ ┌─────────┐   │  Ecr │  ┌┴────────┴┐└┬────┬┘ ┌──────┐ ┌──────────┐   ┌────┐   ┌────────┐  ┌──────┐ ┌─────────┐   ┌────┐  ┌─────────┐┌──────┐ ┌────────┐ ┌────┐┌─────────┐    ┌──────┐   ┌─────────┐   ┌────┐              ┌──────┐  ┌──────────┐                       ┌──────┐  ┌────────┐  ┌────┐ ┌──────────┐┌──────┐  ┌───┐                                                                                                                                                                                                    ░  ║  ║  ║ └╥┘┌─┐                           \n",
       "   q_4 -> 4 ┤ Rz(π/2) ├─┤ √X ├┤ Rz(-1.5059) ├────────────────────────────┤      ├───────────────────────────────────────────────────────────────────────────────┤0     ├┤ Rz(-3.0767) ├─┤ √X ├─┤ Rz(-2.1199) ├┤ √X ├┤ Rz(π/2) ├┤1     ├───┤ Rz(π/2) ├───┤ √X ├─┤ Rz(2.1199) ├─┤ √X ├─────────────┤0     ├┤ Rz(-π/2) ├─────┤ √X ├─────┤ Rz(-π) ├───────────────────┤0     ├─┤ Rz(π/2) ├────┤ √X ├───┤ Rz(π/2) ├┤0     ├─┤ Rz(-π) ├─┤      ├───┤ √X ├─────┤0     ├──┤ Rz(-π/2) ├──┤ √X ├──┤      ├─┤ Rz(-π) ├─┤0     ├┤ Rz(π/2) ├──┤ √X ├──┤      ├─┤ Rz(π/2) ├───┤0     ├──┤ Rz(-π/2) ├─┤ √X ├──┤0     ├─┤ Rz(-π/2) ├───┤ √X ├───┤ Rz(-π) ├──┤0     ├─┤ Rz(π/2) ├───┤ √X ├──┤ Rz(π/2) ├┤0     ├─┤ Rz(-π) ├─┤ √X ├┤ Rz(π/2) ├────┤1     ├───┤ Rz(π/2) ├───┤ √X ├──────────────┤1     ├──┤ Rz(-π/2) ├───────────────────────┤1     ├──┤ Rz(-π) ├──┤ √X ├─┤ Rz(-π/2) ├┤0     ├──┤ X ├────────────────────────────────────────────────────────────────────────────────────────────────────────────────────────────────────────────────────────────────────────────────────────────────────░──╫──╫──╫──╫─┤M├───────────────────────────\n",
       "            ├─────────┤ ├────┤└┬────────────┤                            │      │                                                                               └──────┘└─────────────┘ └────┘ └─────────────┘└────┘└─────────┘│  Ecr │┌──┴─────────┴──┐├────┤┌┴────────────┤ ├────┤ ┌─────────┐ │      │└─┬──────┬─┘  ┌──┴────┴─┐   └─┬────┬─┘ ┌──────────────┐  │      │ └──┬────┬─┘ ┌──┴────┴─┐ └─────────┘│      │ └────────┘ │      │   └────┘     └──────┘  └──────────┘  └────┘  │      │ └────────┘ └──────┘└─────────┘  └────┘  │      │ └─────────┘   └──────┘  └──────────┘ └────┘  │      │ └──────────┘   └────┘   └────────┘  │      │ └─────────┘   └────┘  └─────────┘│      │ └────────┘ └────┘└─────────┘    │  Ecr │   ├─────────┴┐  ├────┤  ┌────────┐  │  Ecr │  ├─────────┬┘   ┌────┐  ┌─────────┐ │  Ecr │ ┌┴────────┤  ├────┤ └┬────────┬┘│      │ ┌┴───┴─┐                                                                                                                                                                                                  ░  ║  ║  ║  ║ └╥┘┌─┐                        \n",
       "   q_5 -> 5 ┤ Rz(π/2) ├─┤ √X ├─┤ Rz(-1.643) ├────────────────────────────┤      ├──────────────────────────────────────────────────────────────────────────────────────────────────────────────────────────────────────────────┤0     ├┤ Rz(-0.072184) ├┤ √X ├┤ Rz(-2.3134) ├─┤ √X ├─┤ Rz(π/2) ├─┤      ├──┤1     ├────┤ Rz(π/2) ├─────┤ √X ├───┤ Rz(-0.82818) ├──┤      ├────┤ √X ├───┤ Rz(π/2) ├────────────┤      ├────────────┤      ├──────────────────────────────────────────────┤      ├─────────────────────────────────────────┤      ├──────────────────────────────────────────────┤      ├─────────────────────────────────────┤      ├──────────────────────────────────┤      ├─────────────────────────────────┤0     ├───┤ Rz(-π/2) ├──┤ √X ├──┤ Rz(-π) ├──┤0     ├──┤ Rz(π/2) ├────┤ √X ├──┤ Rz(π/2) ├─┤0     ├─┤ Rz(π/2) ├──┤ √X ├──┤ Rz(-π) ├─┤      ├─┤1     ├──────────────────────────────────────────────────────────────────────────────────────────────────────────────────────────────────────────────────────────────────────────────────────────────────░──╫──╫──╫──╫──╫─┤M├────────────────────────\n",
       "            ├─────────┴┐├────┤┌┴────────────┤                            │      │                                                                                                                                              └──────┘└───────────────┘└────┘└─────────────┘ └────┘ └─────────┘ │      │  │  Ecr │  ┌─┴─────────┴─┐   ├────┤   └──────────────┘  │      │    └────┘   └─────────┘            │      │            │      │                                              │      │                                         │      │                                              │      │                                     │      │                                  │      │                                 └──────┘   └──────────┘  └────┘  └────────┘  └──────┘  └─────────┘    └────┘  └─────────┘ └──────┘ └─────────┘  └────┘  └────────┘ │      │ │  Ecr │  ┌───┐                                                                                                                                                                                           ░  ║  ║  ║  ║  ║ └╥┘┌─┐                     \n",
       "   q_6 -> 6 ┤ Rz(-π/2) ├┤ √X ├┤ Rz(-1.8814) ├────────────────────────────┤      ├────────────────────────────────────────────────────────────────────────────────────────────────────────────────────────────────────────────────────────────────────────────────────────────────────────────────┤  Ecr ├──┤0     ├──┤ Rz(-0.3106) ├───┤ √X ├─────────────────────┤  Ecr ├────────────────────────────────────┤  Ecr ├────────────┤      ├──────────────────────────────────────────────┤      ├─────────────────────────────────────────┤      ├──────────────────────────────────────────────┤  Ecr ├─────────────────────────────────────┤  Ecr ├──────────────────────────────────┤  Ecr ├────────────────────────────────────────────────────────────────────────────────────────────────────────────────────────────────────────────────────────────────────┤  Ecr ├─┤0     ├──┤ X ├───────────────────────────────────────────────────────────────────────────────────────────────────────────────────────────────────────────────────────────────────────────────────────────░──╫──╫──╫──╫──╫──╫─┤M├─────────────────────\n",
       "            ├─────────┬┘├────┤├─────────────┤ ┌────┐ ┌─────────┐         │      │┌─────────┐  ┌────┐ ┌─────────────┐                                                                                                                                                                             │      │  └──────┘  └─────────────┘   └────┘                     │      │                                    │      │            │      │┌─────────┐    ┌────┐                         │      │┌──────────┐                             │      │ ┌─────────┐    ┌────┐   ┌──────────┐┌──────┐ │      │    ┌───┐                            │      │                                  │      │                                                                                                                                                                    │      │ └──────┘  └───┘                                                                                                                                                                                           ░  ║  ║  ║  ║  ║  ║ └╥┘┌─┐                  \n",
       " q_14 -> 14 ┤ Rz(π/2) ├─┤ √X ├┤ Rz(-1.8121) ├─┤ √X ├─┤ Rz(π/2) ├─────────┤1     ├┤ Rz(π/2) ├──┤ √X ├─┤ Rz(-1.3295) ├─────────────────────────────────────────────────────────────────────────────────────────────────────────────────────────────────────────────────────────────────────────────┤      ├─────────────────────────────────────────────────────────┤      ├────────────────────────────────────┤      ├────────────┤1     ├┤ Rz(π/2) ├────┤ √X ├─────────────────────────┤1     ├┤ Rz(-π/2) ├─────────────────────────────┤1     ├─┤ Rz(π/2) ├────┤ √X ├───┤ Rz(-π/2) ├┤0     ├─┤      ├────┤ X ├────────────────────────────┤      ├──────────────────────────────────┤      ├────────────────────────────────────────────────────────────────────────────────────────────────────────────────────────────────────────────────────────────────────┤      ├───────────────────────────────────────────────────────────────────────────────────────────────────────────────────────────────────────────────────────────────────────────────────────────────────────────░──╫──╫──╫──╫──╫──╫──╫─┤M├──────────────────\n",
       "            ├─────────┤ ├────┤└──┬────────┬─┘ └────┘ └─────────┘         └──────┘└─────────┘  └────┘ └─────────────┘                                                                                                                                                                             │      │┌─────────┐      ┌────┐                                  │      │ ┌──────────┐                       │      │┌──────────┐└┬────┬┘└─┬──────┬┘ ┌──┴────┴─┐    ┌────┐             ├──────┤├──────────┤                    ┌──────┐┌┴──────┴┐└──┬───┬──┘    └────┘   └──────────┘│      │ │      │ ┌──┴───┴──┐    ┌────┐               │      │ ┌──────────┐                     │      │┌──────────┐┌────┐  ┌──────┐   ┌─────────┐     ┌────┐              ┌──────┐ ┌──────────┐                         ┌──────┐ ┌────────┐                                │      │                                                                                                                                                                                                           ░  ║  ║  ║  ║  ║  ║  ║ └╥┘┌─┐               \n",
       " q_15 -> 15 ┤ Rz(π/2) ├─┤ √X ├───┤ Rz(-π) ├──────────────────────────────────────────────────────────────────────────────────────────────────────────────────────────────────────────────────────────────────────────────────────────────────────────────────────────────────────────────────────┤1     ├┤ Rz(π/2) ├──────┤ √X ├──────────────────────────────────┤1     ├─┤ Rz(-π/2) ├───────────────────────┤1     ├┤ Rz(-π/2) ├─┤ √X ├───┤1     ├──┤ Rz(π/2) ├────┤ √X ├─────────────┤1     ├┤ Rz(-π/2) ├────────────────────┤1     ├┤ Rz(-π) ├───┤ X ├────────────────────────────┤  Ecr ├─┤1     ├─┤ Rz(π/2) ├────┤ √X ├───────────────┤1     ├─┤ Rz(-π/2) ├─────────────────────┤1     ├┤ Rz(-π/2) ├┤ √X ├──┤1     ├───┤ Rz(π/2) ├─────┤ √X ├──────────────┤1     ├─┤ Rz(-π/2) ├─────────────────────────┤1     ├─┤ Rz(-π) ├────────────────────────────────┤1     ├───────────────────────────────────────────────────────────────────────────────────────────────────────────────────────────────────────────────────────────────────────────────────────────────────────────░──╫──╫──╫──╫──╫──╫──╫──╫─┤M├───────────────\n",
       "            └┬────────┤ ├────┤   ├────────┤                                                                                                                                                                                                                                                      └──────┘└─────────┘      └────┘                                  └──────┘ └──────────┘                       └──────┘└──────────┘ └────┘   │      │  └─────────┘    └────┘             │      │└──────────┘                    │      │└────────┘   └───┘                            │      │ └──────┘ └─────────┘    └────┘               └──────┘ └──────────┘                     └──────┘└──────────┘└────┘  │      │   └─────────┘     └────┘              │      │ └──────────┘                         │      │ └────────┘                                └──────┘                                                                                                                                                                                                           ░  ║  ║  ║  ║  ║  ║  ║  ║ └╥┘┌─┐            \n",
       " q_18 -> 18 ─┤ Rz(-π) ├─┤ √X ├───┤ Rz(-π) ├─────────────────────────────────────────────────────────────────────────────────────────────────────────────────────────────────────────────────────────────────────────────────────────────────────────────────────────────────────────────────────────────────────────────────────────────────────────────────────────────────────────────────────────────────────────────────────────────────┤      ├────────────────────────────────────┤      ├────────────────────────────────┤      ├──────────────────────────────────────────────┤1     ├────────────────────────────────────────────────────────────────────────────────────────────────────────────────────┤      ├───────────────────────────────────────┤      ├──────────────────────────────────────┤      ├──────────────────────────────────────────────────────────────────────────────────────────────────────────────────────────────────────────────────────────────────────────────────────────────────────────────────────────────────────────────────────────────░──╫──╫──╫──╫──╫──╫──╫──╫──╫─┤M├────────────\n",
       "             ├────────┤ ├────┤   ├────────┤                                                                                                                                                                                                                                                                                                                                                                                                 │      │                                    │      │                                │      │                                              └──────┘                                                                                                                    │      │                                       │      │                                      │      │                                                                                                                                                                                                                                                ┌──────┐      ░  ║  ║  ║  ║  ║  ║  ║  ║  ║ └╥┘┌─┐         \n",
       " q_19 -> 19 ─┤ Rz(-π) ├─┤ √X ├───┤ Rz(-π) ├─────────────────────────────────────────────────────────────────────────────────────────────────────────────────────────────────────────────────────────────────────────────────────────────────────────────────────────────────────────────────────────────────────────────────────────────────────────────────────────────────────────────────────────────────────────────────────────────────┤      ├────────────────────────────────────┤      ├────────────────────────────────┤      ├──────────────────────────────────────────────────────────────────────────────────────────────────────────────────────────────────────────────────────────────────────────┤      ├───────────────────────────────────────┤      ├──────────────────────────────────────┤      ├────────────────────────────────────────────────────────────────────────────────────────────────────────────────────────────────────────────────────────────────────────────────────────────────────────────────────────────────────────────────┤1     ├──────░──╫──╫──╫──╫──╫──╫──╫──╫──╫──╫─┤M├─────────\n",
       "            ┌┴────────┤ ├────┤┌──┴────────┴─┐ ┌────┐ ┌─────────┐                                                                                                                                                                                                                                                                                                                                                                            │  Ecr │                                    │  Ecr │                                │  Ecr │                                                                                                                                              ┌──────┐┌─────────┐ ┌────┐  │  Ecr │ ┌─────────────┐                       │  Ecr │                                      │  Ecr │                                                                                                                            ┌──────┐┌─────────┐ ┌────┐          ┌──────┐┌──────────┐                 ┌──────┐┌─────────┐   ┌────┐   ┌──────────┐│  Ecr │┌───┐ ░  ║  ║  ║  ║  ║  ║  ║  ║  ║  ║ └╥┘┌─┐      \n",
       " q_20 -> 20 ┤ Rz(π/2) ├─┤ √X ├┤ Rz(-1.8121) ├─┤ √X ├─┤ Rz(π/2) ├────────────────────────────────────────────────────────────────────────────────────────────────────────────────────────────────────────────────────────────────────────────────────────────────────────────────────────────────────────────────────────────────────────────────────────────────────────────────────────────────────────────────────────────────────────────┤      ├────────────────────────────────────┤      ├────────────────────────────────┤      ├──────────────────────────────────────────────────────────────────────────────────────────────────────────────────────────────────────────────┤1     ├┤ Rz(π/2) ├─┤ √X ├──┤      ├─┤ Rz(-1.3295) ├───────────────────────┤      ├──────────────────────────────────────┤      ├────────────────────────────────────────────────────────────────────────────────────────────────────────────────────────────┤1     ├┤ Rz(π/2) ├─┤ √X ├──────────┤1     ├┤ Rz(-π/2) ├─────────────────┤1     ├┤ Rz(π/2) ├───┤ √X ├───┤ Rz(-π/2) ├┤0     ├┤ X ├─░──╫──╫──╫──╫──╫──╫──╫──╫──╫──╫──╫─┤M├──────\n",
       "            ├─────────┤ ├────┤└─────────────┘ └────┘ └─────────┘                                                                                                                                                                                                                                                                                                                                                                            │      │                                    │      │                                │      │                        ┌──────┐  ┌──────────┐ ┌────┐ ┌────────┐  ┌──────┐  ┌─────────┐   ┌────┐  ┌─────────┐  ┌──────┐  ┌────────┐   ┌────┐  │  Ecr │└┬────────┤ ├────┤  │      │ └─┬─────────┬─┘                       │      │                                      │      │                       ┌──────┐┌──────────┐ ┌────┐ ┌────────┐┌──────┐┌─────────┐ ┌────┐┌─────────┐┌──────┐┌──────────┐┌────┐│  Ecr │├─────────┴┐├────┤┌────────┐│  Ecr │├─────────┬┘┌────┐┌─────────┐│  Ecr │└──┬────┬─┘┌──┴────┴──┐└──────────┘└──────┘└───┘ ░  ║  ║  ║  ║  ║  ║  ║  ║  ║  ║  ║ └╥┘┌─┐   \n",
       " q_21 -> 21 ┤ Rz(π/2) ├─┤ √X ├──────────────────────────────────────────────────────────────────────────────────────────────────────────────────────────────────────────────────────────────────────────────────────────────────────────────────────────────────────────────────────────────────────────────────────────────────────────────────────────────────────────────────────────────────────────────────────────────────────────────┤      ├────────────────────────────────────┤      ├────────────────────────────────┤      ├────────────────────────┤0     ├──┤ Rz(-π/2) ├─┤ √X ├─┤ Rz(-π) ├──┤0     ├──┤ Rz(π/2) ├───┤ √X ├──┤ Rz(π/2) ├──┤0     ├──┤ Rz(-π) ├───┤ √X ├──┤0     ├─┤ Rz(-π) ├─┤ √X ├──┤      ├───┤ Rz(π/2) ├─────────────────────────┤      ├──────────────────────────────────────┤      ├───────────────────────┤0     ├┤ Rz(-π/2) ├─┤ √X ├─┤ Rz(-π) ├┤0     ├┤ Rz(π/2) ├─┤ √X ├┤ Rz(π/2) ├┤0     ├┤ Rz(-π/2) ├┤ √X ├┤0     ├┤ Rz(-π/2) ├┤ √X ├┤ Rz(-π) ├┤0     ├┤ Rz(π/2) ├─┤ √X ├┤ Rz(π/2) ├┤0     ├───┤ √X ├──┤ Rz(-π/2) ├──────────────────────────░──╫──╫──╫──╫──╫──╫──╫──╫──╫──╫──╫──╫─┤M├───\n",
       "            ├─────────┤ ├────┤                                                                                                                                                                                                                                                                                                                                                                                                              │      │  ┌──────────┐   ┌────┐   ┌────────┐│      │┌─────────┐  ┌────┐ ┌─────────┐ │      │  ┌────┐  ┌──────────┐  │  Ecr │  ├─────────┬┘ ├────┤ └────────┘  │  Ecr │  ├─────────┴┐  └────┘  └─────────┘  │  Ecr │  └─┬────┬─┘   └────┘  └──────┘ └────────┘ └────┘  │      │   ├─────────┴┐    ┌────┐   ┌────────┐ │      │ ┌─────────┐    ┌────┐   ┌─────────┐  │      │   ┌───┐   ┌──────────┐│  Ecr │├─────────┬┘ ├────┤ └────────┘│  Ecr │├─────────┴┐└────┘└─────────┘│  Ecr │└┬────────┬┘├────┤└──────┘└──────────┘└────┘└────────┘└──────┘└─────────┘ └────┘└─────────┘└──────┘   └────┘  └──────────┘                          ░  ║  ║  ║  ║  ║  ║  ║  ║  ║  ║  ║  ║ └╥┘┌─┐\n",
       " q_22 -> 22 ┤ Rz(π/2) ├─┤ √X ├──────────────────────────────────────────────────────────────────────────────────────────────────────────────────────────────────────────────────────────────────────────────────────────────────────────────────────────────────────────────────────────────────────────────────────────────────────────────────────────────────────────────────────────────────────────────────────────────────────────────┤0     ├──┤ Rz(-π/2) ├───┤ √X ├───┤ Rz(-π) ├┤0     ├┤ Rz(π/2) ├──┤ √X ├─┤ Rz(π/2) ├─┤0     ├──┤ √X ├──┤ Rz(-π/2) ├──┤1     ├──┤ Rz(π/2) ├──┤ √X ├─────────────┤1     ├──┤ Rz(-π/2) ├───────────────────────┤1     ├────┤ √X ├─────────────────────────────────────────┤0     ├───┤ Rz(-π/2) ├────┤ √X ├───┤ Rz(-π) ├─┤0     ├─┤ Rz(π/2) ├────┤ √X ├───┤ Rz(π/2) ├──┤0     ├───┤ X ├───┤ Rz(-π/2) ├┤1     ├┤ Rz(π/2) ├──┤ √X ├───────────┤1     ├┤ Rz(-π/2) ├─────────────────┤1     ├─┤ Rz(-π) ├─┤ √X ├──────────────────────────────────────────────────────────────────────────────────────────────────────────────────────────────────░──╫──╫──╫──╫──╫──╫──╫──╫──╫──╫──╫──╫──╫─┤M├\n",
       "            └─────────┘ └────┘                                                                                                                                                                                                                                                                                                                                                                                                              └──────┘  └──────────┘   └────┘   └────────┘└──────┘└─────────┘  └────┘ └─────────┘ └──────┘  └────┘  └──────────┘  └──────┘  └─────────┘  └────┘             └──────┘  └──────────┘                       └──────┘    └────┘                                         └──────┘   └──────────┘    └────┘   └────────┘ └──────┘ └─────────┘    └────┘   └─────────┘  └──────┘   └───┘   └──────────┘└──────┘└─────────┘  └────┘           └──────┘└──────────┘                 └──────┘ └────────┘ └────┘                                                                                                                                  ░  ║  ║  ║  ║  ║  ║  ║  ║  ║  ║  ║  ║  ║ └╥┘\n",
       "measure: 14/════════════════════════════════════════════════════════════════════════════════════════════════════════════════════════════════════════════════════════════════════════════════════════════════════════════════════════════════════════════════════════════════════════════════════════════════════════════════════════════════════════════════════════════════════════════════════════════════════════════════════════════════════════════════════════════════════════════════════════════════════════════════════════════════════════════════════════════════════════════════════════════════════════════════════════════════════════════════════════════════════════════════════════════════════════════════════════════════════════════════════════════════════════════════════════════════════════════════════════════════════════════════════════════════════════════════════════════════════════════════════════════════════════════════════════════════════════════════════════════════════════════════════════════════════════════════════════════════════════════╩══╩══╩══╩══╩══╩══╩══╩══╩══╩══╩══╩══╩══╩═\n",
       "                                                                                                                                                                                                                                                                                                                                                                                                                                                                                                                                                                                                                                                                                                                                                                                                                                                                                                                                                                                                                                                                                        0  1  2  3  4  5  6  7  8  9  10 11 12 13</pre>"
      ],
      "text/plain": [
       "global phase: 3π/2\n",
       "            ┌─────────┐ ┌────┐               ┌──────┐┌─────────┐         ┌──────┐ ┌────────┐  ┌────┐   ┌─────────┐                                                                                                                                                           ┌──────┐┌──────────┐ ┌────┐  ┌────────┐     ┌──────┐   ┌─────────┐      ┌────┐     ┌─────────┐  ┌──────┐  ┌──────────┐   ┌────┐                      ┌──────┐┌──────────┐   ┌────┐    ┌────────┐           ┌──────┐┌─────────┐  ┌────┐ ┌─────────┐          ┌──────┐    ┌────┐   ┌──────────┐                                                                                                                                                                                                                                                                                                                                                                                                                                                                                                           ░ ┌─┐                                       \n",
       "   q_0 -> 0 ┤ Rz(π/2) ├─┤ √X ├───────────────┤0     ├┤ Rz(π/2) ├─────────┤0     ├─┤ Rz(-π) ├──┤ √X ├───┤ Rz(π/2) ├───────────────────────────────────────────────────────────────────────────────────────────────────────────────────────────────────────────────────────────┤0     ├┤ Rz(-π/2) ├─┤ √X ├──┤ Rz(-π) ├─────┤0     ├───┤ Rz(π/2) ├──────┤ √X ├─────┤ Rz(π/2) ├──┤0     ├──┤ Rz(-π/2) ├───┤ √X ├──────────────────────┤0     ├┤ Rz(-π/2) ├───┤ √X ├────┤ Rz(-π) ├───────────┤0     ├┤ Rz(π/2) ├──┤ √X ├─┤ Rz(π/2) ├──────────┤0     ├────┤ √X ├───┤ Rz(-π/2) ├───────────────────────────────────────────────────────────────────────────────────────────────────────────────────────────────────────────────────────────────────────────────────────────────────────────────────────────────────────────────────────────────────────────────────────────────────────────────────────────────────────────────────────────────────────────────────────────────────────────────────────────────────────────────────────────────────────────────────────────────────────────░─┤M├───────────────────────────────────────\n",
       "            └┬────────┤ ├────┤   ┌────────┐  │  Ecr │├─────────┴┐┌──────┐│      │ ├────────┤  ├────┤   └┬────────┤                        ┌──────┐ ┌──────────┐  ┌────┐    ┌────────┐  ┌──────┐  ┌─────────┐  ┌────┐┌─────────┐┌──────┐    ┌────────┐   ┌────┐  ┌─────────┐  │  Ecr │├─────────┬┘ ├────┤  └────────┘     │  Ecr │   ├─────────┴┐     └────┘     └─────────┘  │  Ecr │  └┬────────┬┘   ├────┤                      │      │└──────────┘   └────┘    └────────┘           │      │└─────────┘  └────┘ └─────────┘          │      │    └────┘   └──────────┘                                                                                                                                                                                                                                                                                                                                                                                                                                                                                                           ░ └╥┘┌─┐                                    \n",
       "   q_1 -> 1 ─┤ Rz(-π) ├─┤ √X ├───┤ Rz(-π) ├──┤1     ├┤ Rz(-π/2) ├┤0     ├┤      ├─┤ Rz(-π) ├──┤ √X ├────┤ Rz(-π) ├────────────────────────┤0     ├─┤ Rz(-π/2) ├──┤ √X ├────┤ Rz(-π) ├──┤0     ├──┤ Rz(π/2) ├──┤ √X ├┤ Rz(π/2) ├┤0     ├────┤ Rz(-π) ├───┤ √X ├──┤ Rz(π/2) ├──┤1     ├┤ Rz(π/2) ├──┤ √X ├─────────────────┤1     ├───┤ Rz(-π/2) ├─────────────────────────────┤1     ├───┤ Rz(-π) ├────┤ √X ├──────────────────────┤      ├──────────────────────────────────────────────┤      ├─────────────────────────────────────────┤      ├────────────────────────────────────────────────────────────────────────────────────────────────────────────────────────────────────────────────────────────────────────────────────────────────────────────────────────────────────────────────────────────────────────────────────────────────────────────────────────────────────────────────────────────────────────────────────────────────────────────────────────────────────────────────────────────────────────────────────────────────────────────────────────────────────░──╫─┤M├────────────────────────────────────\n",
       "             ├────────┤ ├────┤   ├────────┤  └──────┘└──────────┘│  Ecr ││      │┌┴────────┴┐┌┴────┴┐  ┌┴────────┤   ┌────┐  ┌─────────┐  │  Ecr │ ├─────────┬┘  ├────┤    └────────┘  │  Ecr │  ├─────────┴┐ └────┘└─────────┘│  Ecr │   ┌┴────────┤   ├────┤  ├─────────┴┐ └──────┘└─────────┘  └────┘                 └──────┘   └──────────┘                             └──────┘   └────────┘    └────┘                      │      │                                              │      │                                         │      │                                     ┌──────┐  ┌───┐                                                                                                                                                                                                                                                                                                                                                                                                                                                                                ░  ║ └╥┘┌─┐                                 \n",
       "   q_2 -> 2 ─┤ Rz(-π) ├─┤ √X ├───┤ Rz(-π) ├──────────────────────┤1     ├┤      ├┤ Rz(-π/2) ├┤0     ├──┤ Rz(π/2) ├───┤ √X ├──┤ Rz(π/2) ├──┤1     ├─┤ Rz(π/2) ├───┤ √X ├────────────────┤1     ├──┤ Rz(-π/2) ├──────────────────┤1     ├───┤ Rz(π/2) ├───┤ √X ├──┤ Rz(-π/2) ├──────────────────────────────────────────────────────────────────────────────────────────────────────────────────────────────────────────────────────┤      ├──────────────────────────────────────────────┤      ├─────────────────────────────────────────┤      ├─────────────────────────────────────┤0     ├──┤ X ├────────────────────────────────────────────────────────────────────────────────────────────────────────────────────────────────────────────────────────────────────────────────────────────────────────────────────────────────────────────────────────────────────────────────────────────────────────────────────────────────────────────────────────────────────────────────────────────────────────────────────────────────────────────────────────────────────────────────░──╫──╫─┤M├─────────────────────────────────\n",
       "            ┌┴────────┤ ├────┤ ┌─┴────────┴─┐ ┌────┐ ┌─────────┐ └──────┘│      │└──────────┘│  Ecr │┌─┴─────────┴──┐├────┤┌─┴─────────┴─┐└┬────┬┘┌┴─────────┴─┐┌┴────┴┐  ┌─────────┐  └┬────┬┘┌─┴──────────┴┐                 └──────┘   └─────────┘   └────┘  └──────────┘                                                                                                                                                      │      │              ┌──────┐  ┌─────────┐   ┌────┐  │      │            ┌──────┐┌──────────┐         │      │               ┌──────┐   ┌────────┐ │  Ecr │  └───┘                                                                                                                                                                                                                                                                                                                                                                                                                                                                                ░  ║  ║ └╥┘┌─┐                              \n",
       "   q_3 -> 3 ┤ Rz(π/2) ├─┤ √X ├─┤ Rz(-1.578) ├─┤ √X ├─┤ Rz(π/2) ├─────────┤      ├────────────┤1     ├┤ Rz(-0.86642) ├┤ √X ├┤ Rz(-1.5763) ├─┤ √X ├─┤ Rz(3.1369) ├┤1     ├──┤ Rz(π/2) ├───┤ √X ├─┤ Rz(0.86643) ├────────────────────────────────────────────────────────────────────────────────────────────────────────────────────────────────────────────────────────────────────────────────────────────────────────────────────┤      ├──────────────┤1     ├──┤ Rz(π/2) ├───┤ √X ├──┤      ├────────────┤1     ├┤ Rz(-π/2) ├─────────┤      ├───────────────┤1     ├───┤ Rz(-π) ├─┤1     ├───────────────────────────────────────────────────────────────────────────────────────────────────────────────────────────────────────────────────────────────────────────────────────────────────────────────────────────────────────────────────────────────────────────────────────────────────────────────────────────────────────────────────────────────────────────────────────────────────────────────────────────────────────────────────────────────────────────────────────░──╫──╫──╫─┤M├──────────────────────────────\n",
       "            ├─────────┤ ├────┤┌┴────────────┤ └────┘ └─────────┘         │  Ecr │            └──────┘└──────────────┘└────┘└─────────────┘ └────┘ └────────────┘│  Ecr │┌─┴─────────┴─┐ ├────┤ ├─────────────┤┌────┐┌─────────┐┌──────┐   ┌─────────┐   ┌────┐ ┌────────────┐ ┌────┐             ┌──────┐┌──────────┐     ┌────┐     ┌────────┐                   ┌──────┐ ┌─────────┐    ┌────┐   ┌─────────┐┌──────┐ ┌────────┐ │  Ecr │   ┌────┐     │  Ecr │  ├─────────┴┐  ├────┤  │  Ecr │ ┌────────┐ │  Ecr │├─────────┬┘ ┌────┐  │  Ecr │ ┌─────────┐   │  Ecr │  ┌┴────────┴┐└┬────┬┘ ┌──────┐ ┌──────────┐   ┌────┐   ┌────────┐  ┌──────┐ ┌─────────┐   ┌────┐  ┌─────────┐┌──────┐ ┌────────┐ ┌────┐┌─────────┐    ┌──────┐   ┌─────────┐   ┌────┐              ┌──────┐  ┌──────────┐                       ┌──────┐  ┌────────┐  ┌────┐ ┌──────────┐┌──────┐  ┌───┐                                                                                                                                                                                                    ░  ║  ║  ║ └╥┘┌─┐                           \n",
       "   q_4 -> 4 ┤ Rz(π/2) ├─┤ √X ├┤ Rz(-1.5059) ├────────────────────────────┤      ├───────────────────────────────────────────────────────────────────────────────┤0     ├┤ Rz(-3.0767) ├─┤ √X ├─┤ Rz(-2.1199) ├┤ √X ├┤ Rz(π/2) ├┤1     ├───┤ Rz(π/2) ├───┤ √X ├─┤ Rz(2.1199) ├─┤ √X ├─────────────┤0     ├┤ Rz(-π/2) ├─────┤ √X ├─────┤ Rz(-π) ├───────────────────┤0     ├─┤ Rz(π/2) ├────┤ √X ├───┤ Rz(π/2) ├┤0     ├─┤ Rz(-π) ├─┤      ├───┤ √X ├─────┤0     ├──┤ Rz(-π/2) ├──┤ √X ├──┤      ├─┤ Rz(-π) ├─┤0     ├┤ Rz(π/2) ├──┤ √X ├──┤      ├─┤ Rz(π/2) ├───┤0     ├──┤ Rz(-π/2) ├─┤ √X ├──┤0     ├─┤ Rz(-π/2) ├───┤ √X ├───┤ Rz(-π) ├──┤0     ├─┤ Rz(π/2) ├───┤ √X ├──┤ Rz(π/2) ├┤0     ├─┤ Rz(-π) ├─┤ √X ├┤ Rz(π/2) ├────┤1     ├───┤ Rz(π/2) ├───┤ √X ├──────────────┤1     ├──┤ Rz(-π/2) ├───────────────────────┤1     ├──┤ Rz(-π) ├──┤ √X ├─┤ Rz(-π/2) ├┤0     ├──┤ X ├────────────────────────────────────────────────────────────────────────────────────────────────────────────────────────────────────────────────────────────────────────────────────────────────────░──╫──╫──╫──╫─┤M├───────────────────────────\n",
       "            ├─────────┤ ├────┤└┬────────────┤                            │      │                                                                               └──────┘└─────────────┘ └────┘ └─────────────┘└────┘└─────────┘│  Ecr │┌──┴─────────┴──┐├────┤┌┴────────────┤ ├────┤ ┌─────────┐ │      │└─┬──────┬─┘  ┌──┴────┴─┐   └─┬────┬─┘ ┌──────────────┐  │      │ └──┬────┬─┘ ┌──┴────┴─┐ └─────────┘│      │ └────────┘ │      │   └────┘     └──────┘  └──────────┘  └────┘  │      │ └────────┘ └──────┘└─────────┘  └────┘  │      │ └─────────┘   └──────┘  └──────────┘ └────┘  │      │ └──────────┘   └────┘   └────────┘  │      │ └─────────┘   └────┘  └─────────┘│      │ └────────┘ └────┘└─────────┘    │  Ecr │   ├─────────┴┐  ├────┤  ┌────────┐  │  Ecr │  ├─────────┬┘   ┌────┐  ┌─────────┐ │  Ecr │ ┌┴────────┤  ├────┤ └┬────────┬┘│      │ ┌┴───┴─┐                                                                                                                                                                                                  ░  ║  ║  ║  ║ └╥┘┌─┐                        \n",
       "   q_5 -> 5 ┤ Rz(π/2) ├─┤ √X ├─┤ Rz(-1.643) ├────────────────────────────┤      ├──────────────────────────────────────────────────────────────────────────────────────────────────────────────────────────────────────────────┤0     ├┤ Rz(-0.072184) ├┤ √X ├┤ Rz(-2.3134) ├─┤ √X ├─┤ Rz(π/2) ├─┤      ├──┤1     ├────┤ Rz(π/2) ├─────┤ √X ├───┤ Rz(-0.82818) ├──┤      ├────┤ √X ├───┤ Rz(π/2) ├────────────┤      ├────────────┤      ├──────────────────────────────────────────────┤      ├─────────────────────────────────────────┤      ├──────────────────────────────────────────────┤      ├─────────────────────────────────────┤      ├──────────────────────────────────┤      ├─────────────────────────────────┤0     ├───┤ Rz(-π/2) ├──┤ √X ├──┤ Rz(-π) ├──┤0     ├──┤ Rz(π/2) ├────┤ √X ├──┤ Rz(π/2) ├─┤0     ├─┤ Rz(π/2) ├──┤ √X ├──┤ Rz(-π) ├─┤      ├─┤1     ├──────────────────────────────────────────────────────────────────────────────────────────────────────────────────────────────────────────────────────────────────────────────────────────────────░──╫──╫──╫──╫──╫─┤M├────────────────────────\n",
       "            ├─────────┴┐├────┤┌┴────────────┤                            │      │                                                                                                                                              └──────┘└───────────────┘└────┘└─────────────┘ └────┘ └─────────┘ │      │  │  Ecr │  ┌─┴─────────┴─┐   ├────┤   └──────────────┘  │      │    └────┘   └─────────┘            │      │            │      │                                              │      │                                         │      │                                              │      │                                     │      │                                  │      │                                 └──────┘   └──────────┘  └────┘  └────────┘  └──────┘  └─────────┘    └────┘  └─────────┘ └──────┘ └─────────┘  └────┘  └────────┘ │      │ │  Ecr │  ┌───┐                                                                                                                                                                                           ░  ║  ║  ║  ║  ║ └╥┘┌─┐                     \n",
       "   q_6 -> 6 ┤ Rz(-π/2) ├┤ √X ├┤ Rz(-1.8814) ├────────────────────────────┤      ├────────────────────────────────────────────────────────────────────────────────────────────────────────────────────────────────────────────────────────────────────────────────────────────────────────────────┤  Ecr ├──┤0     ├──┤ Rz(-0.3106) ├───┤ √X ├─────────────────────┤  Ecr ├────────────────────────────────────┤  Ecr ├────────────┤      ├──────────────────────────────────────────────┤      ├─────────────────────────────────────────┤      ├──────────────────────────────────────────────┤  Ecr ├─────────────────────────────────────┤  Ecr ├──────────────────────────────────┤  Ecr ├────────────────────────────────────────────────────────────────────────────────────────────────────────────────────────────────────────────────────────────────────┤  Ecr ├─┤0     ├──┤ X ├───────────────────────────────────────────────────────────────────────────────────────────────────────────────────────────────────────────────────────────────────────────────────────────░──╫──╫──╫──╫──╫──╫─┤M├─────────────────────\n",
       "            ├─────────┬┘├────┤├─────────────┤ ┌────┐ ┌─────────┐         │      │┌─────────┐  ┌────┐ ┌─────────────┐                                                                                                                                                                             │      │  └──────┘  └─────────────┘   └────┘                     │      │                                    │      │            │      │┌─────────┐    ┌────┐                         │      │┌──────────┐                             │      │ ┌─────────┐    ┌────┐   ┌──────────┐┌──────┐ │      │    ┌───┐                            │      │                                  │      │                                                                                                                                                                    │      │ └──────┘  └───┘                                                                                                                                                                                           ░  ║  ║  ║  ║  ║  ║ └╥┘┌─┐                  \n",
       " q_14 -> 14 ┤ Rz(π/2) ├─┤ √X ├┤ Rz(-1.8121) ├─┤ √X ├─┤ Rz(π/2) ├─────────┤1     ├┤ Rz(π/2) ├──┤ √X ├─┤ Rz(-1.3295) ├─────────────────────────────────────────────────────────────────────────────────────────────────────────────────────────────────────────────────────────────────────────────┤      ├─────────────────────────────────────────────────────────┤      ├────────────────────────────────────┤      ├────────────┤1     ├┤ Rz(π/2) ├────┤ √X ├─────────────────────────┤1     ├┤ Rz(-π/2) ├─────────────────────────────┤1     ├─┤ Rz(π/2) ├────┤ √X ├───┤ Rz(-π/2) ├┤0     ├─┤      ├────┤ X ├────────────────────────────┤      ├──────────────────────────────────┤      ├────────────────────────────────────────────────────────────────────────────────────────────────────────────────────────────────────────────────────────────────────┤      ├───────────────────────────────────────────────────────────────────────────────────────────────────────────────────────────────────────────────────────────────────────────────────────────────────────────░──╫──╫──╫──╫──╫──╫──╫─┤M├──────────────────\n",
       "            ├─────────┤ ├────┤└──┬────────┬─┘ └────┘ └─────────┘         └──────┘└─────────┘  └────┘ └─────────────┘                                                                                                                                                                             │      │┌─────────┐      ┌────┐                                  │      │ ┌──────────┐                       │      │┌──────────┐└┬────┬┘└─┬──────┬┘ ┌──┴────┴─┐    ┌────┐             ├──────┤├──────────┤                    ┌──────┐┌┴──────┴┐└──┬───┬──┘    └────┘   └──────────┘│      │ │      │ ┌──┴───┴──┐    ┌────┐               │      │ ┌──────────┐                     │      │┌──────────┐┌────┐  ┌──────┐   ┌─────────┐     ┌────┐              ┌──────┐ ┌──────────┐                         ┌──────┐ ┌────────┐                                │      │                                                                                                                                                                                                           ░  ║  ║  ║  ║  ║  ║  ║ └╥┘┌─┐               \n",
       " q_15 -> 15 ┤ Rz(π/2) ├─┤ √X ├───┤ Rz(-π) ├──────────────────────────────────────────────────────────────────────────────────────────────────────────────────────────────────────────────────────────────────────────────────────────────────────────────────────────────────────────────────────┤1     ├┤ Rz(π/2) ├──────┤ √X ├──────────────────────────────────┤1     ├─┤ Rz(-π/2) ├───────────────────────┤1     ├┤ Rz(-π/2) ├─┤ √X ├───┤1     ├──┤ Rz(π/2) ├────┤ √X ├─────────────┤1     ├┤ Rz(-π/2) ├────────────────────┤1     ├┤ Rz(-π) ├───┤ X ├────────────────────────────┤  Ecr ├─┤1     ├─┤ Rz(π/2) ├────┤ √X ├───────────────┤1     ├─┤ Rz(-π/2) ├─────────────────────┤1     ├┤ Rz(-π/2) ├┤ √X ├──┤1     ├───┤ Rz(π/2) ├─────┤ √X ├──────────────┤1     ├─┤ Rz(-π/2) ├─────────────────────────┤1     ├─┤ Rz(-π) ├────────────────────────────────┤1     ├───────────────────────────────────────────────────────────────────────────────────────────────────────────────────────────────────────────────────────────────────────────────────────────────────────────░──╫──╫──╫──╫──╫──╫──╫──╫─┤M├───────────────\n",
       "            └┬────────┤ ├────┤   ├────────┤                                                                                                                                                                                                                                                      └──────┘└─────────┘      └────┘                                  └──────┘ └──────────┘                       └──────┘└──────────┘ └────┘   │      │  └─────────┘    └────┘             │      │└──────────┘                    │      │└────────┘   └───┘                            │      │ └──────┘ └─────────┘    └────┘               └──────┘ └──────────┘                     └──────┘└──────────┘└────┘  │      │   └─────────┘     └────┘              │      │ └──────────┘                         │      │ └────────┘                                └──────┘                                                                                                                                                                                                           ░  ║  ║  ║  ║  ║  ║  ║  ║ └╥┘┌─┐            \n",
       " q_18 -> 18 ─┤ Rz(-π) ├─┤ √X ├───┤ Rz(-π) ├─────────────────────────────────────────────────────────────────────────────────────────────────────────────────────────────────────────────────────────────────────────────────────────────────────────────────────────────────────────────────────────────────────────────────────────────────────────────────────────────────────────────────────────────────────────────────────────────────┤      ├────────────────────────────────────┤      ├────────────────────────────────┤      ├──────────────────────────────────────────────┤1     ├────────────────────────────────────────────────────────────────────────────────────────────────────────────────────┤      ├───────────────────────────────────────┤      ├──────────────────────────────────────┤      ├──────────────────────────────────────────────────────────────────────────────────────────────────────────────────────────────────────────────────────────────────────────────────────────────────────────────────────────────────────────────────────────────░──╫──╫──╫──╫──╫──╫──╫──╫──╫─┤M├────────────\n",
       "             ├────────┤ ├────┤   ├────────┤                                                                                                                                                                                                                                                                                                                                                                                                 │      │                                    │      │                                │      │                                              └──────┘                                                                                                                    │      │                                       │      │                                      │      │                                                                                                                                                                                                                                                ┌──────┐      ░  ║  ║  ║  ║  ║  ║  ║  ║  ║ └╥┘┌─┐         \n",
       " q_19 -> 19 ─┤ Rz(-π) ├─┤ √X ├───┤ Rz(-π) ├─────────────────────────────────────────────────────────────────────────────────────────────────────────────────────────────────────────────────────────────────────────────────────────────────────────────────────────────────────────────────────────────────────────────────────────────────────────────────────────────────────────────────────────────────────────────────────────────────┤      ├────────────────────────────────────┤      ├────────────────────────────────┤      ├──────────────────────────────────────────────────────────────────────────────────────────────────────────────────────────────────────────────────────────────────────────┤      ├───────────────────────────────────────┤      ├──────────────────────────────────────┤      ├────────────────────────────────────────────────────────────────────────────────────────────────────────────────────────────────────────────────────────────────────────────────────────────────────────────────────────────────────────────────┤1     ├──────░──╫──╫──╫──╫──╫──╫──╫──╫──╫──╫─┤M├─────────\n",
       "            ┌┴────────┤ ├────┤┌──┴────────┴─┐ ┌────┐ ┌─────────┐                                                                                                                                                                                                                                                                                                                                                                            │  Ecr │                                    │  Ecr │                                │  Ecr │                                                                                                                                              ┌──────┐┌─────────┐ ┌────┐  │  Ecr │ ┌─────────────┐                       │  Ecr │                                      │  Ecr │                                                                                                                            ┌──────┐┌─────────┐ ┌────┐          ┌──────┐┌──────────┐                 ┌──────┐┌─────────┐   ┌────┐   ┌──────────┐│  Ecr │┌───┐ ░  ║  ║  ║  ║  ║  ║  ║  ║  ║  ║ └╥┘┌─┐      \n",
       " q_20 -> 20 ┤ Rz(π/2) ├─┤ √X ├┤ Rz(-1.8121) ├─┤ √X ├─┤ Rz(π/2) ├────────────────────────────────────────────────────────────────────────────────────────────────────────────────────────────────────────────────────────────────────────────────────────────────────────────────────────────────────────────────────────────────────────────────────────────────────────────────────────────────────────────────────────────────────────────┤      ├────────────────────────────────────┤      ├────────────────────────────────┤      ├──────────────────────────────────────────────────────────────────────────────────────────────────────────────────────────────────────────────┤1     ├┤ Rz(π/2) ├─┤ √X ├──┤      ├─┤ Rz(-1.3295) ├───────────────────────┤      ├──────────────────────────────────────┤      ├────────────────────────────────────────────────────────────────────────────────────────────────────────────────────────────┤1     ├┤ Rz(π/2) ├─┤ √X ├──────────┤1     ├┤ Rz(-π/2) ├─────────────────┤1     ├┤ Rz(π/2) ├───┤ √X ├───┤ Rz(-π/2) ├┤0     ├┤ X ├─░──╫──╫──╫──╫──╫──╫──╫──╫──╫──╫──╫─┤M├──────\n",
       "            ├─────────┤ ├────┤└─────────────┘ └────┘ └─────────┘                                                                                                                                                                                                                                                                                                                                                                            │      │                                    │      │                                │      │                        ┌──────┐  ┌──────────┐ ┌────┐ ┌────────┐  ┌──────┐  ┌─────────┐   ┌────┐  ┌─────────┐  ┌──────┐  ┌────────┐   ┌────┐  │  Ecr │└┬────────┤ ├────┤  │      │ └─┬─────────┬─┘                       │      │                                      │      │                       ┌──────┐┌──────────┐ ┌────┐ ┌────────┐┌──────┐┌─────────┐ ┌────┐┌─────────┐┌──────┐┌──────────┐┌────┐│  Ecr │├─────────┴┐├────┤┌────────┐│  Ecr │├─────────┬┘┌────┐┌─────────┐│  Ecr │└──┬────┬─┘┌──┴────┴──┐└──────────┘└──────┘└───┘ ░  ║  ║  ║  ║  ║  ║  ║  ║  ║  ║  ║ └╥┘┌─┐   \n",
       " q_21 -> 21 ┤ Rz(π/2) ├─┤ √X ├──────────────────────────────────────────────────────────────────────────────────────────────────────────────────────────────────────────────────────────────────────────────────────────────────────────────────────────────────────────────────────────────────────────────────────────────────────────────────────────────────────────────────────────────────────────────────────────────────────────────┤      ├────────────────────────────────────┤      ├────────────────────────────────┤      ├────────────────────────┤0     ├──┤ Rz(-π/2) ├─┤ √X ├─┤ Rz(-π) ├──┤0     ├──┤ Rz(π/2) ├───┤ √X ├──┤ Rz(π/2) ├──┤0     ├──┤ Rz(-π) ├───┤ √X ├──┤0     ├─┤ Rz(-π) ├─┤ √X ├──┤      ├───┤ Rz(π/2) ├─────────────────────────┤      ├──────────────────────────────────────┤      ├───────────────────────┤0     ├┤ Rz(-π/2) ├─┤ √X ├─┤ Rz(-π) ├┤0     ├┤ Rz(π/2) ├─┤ √X ├┤ Rz(π/2) ├┤0     ├┤ Rz(-π/2) ├┤ √X ├┤0     ├┤ Rz(-π/2) ├┤ √X ├┤ Rz(-π) ├┤0     ├┤ Rz(π/2) ├─┤ √X ├┤ Rz(π/2) ├┤0     ├───┤ √X ├──┤ Rz(-π/2) ├──────────────────────────░──╫──╫──╫──╫──╫──╫──╫──╫──╫──╫──╫──╫─┤M├───\n",
       "            ├─────────┤ ├────┤                                                                                                                                                                                                                                                                                                                                                                                                              │      │  ┌──────────┐   ┌────┐   ┌────────┐│      │┌─────────┐  ┌────┐ ┌─────────┐ │      │  ┌────┐  ┌──────────┐  │  Ecr │  ├─────────┬┘ ├────┤ └────────┘  │  Ecr │  ├─────────┴┐  └────┘  └─────────┘  │  Ecr │  └─┬────┬─┘   └────┘  └──────┘ └────────┘ └────┘  │      │   ├─────────┴┐    ┌────┐   ┌────────┐ │      │ ┌─────────┐    ┌────┐   ┌─────────┐  │      │   ┌───┐   ┌──────────┐│  Ecr │├─────────┬┘ ├────┤ └────────┘│  Ecr │├─────────┴┐└────┘└─────────┘│  Ecr │└┬────────┬┘├────┤└──────┘└──────────┘└────┘└────────┘└──────┘└─────────┘ └────┘└─────────┘└──────┘   └────┘  └──────────┘                          ░  ║  ║  ║  ║  ║  ║  ║  ║  ║  ║  ║  ║ └╥┘┌─┐\n",
       " q_22 -> 22 ┤ Rz(π/2) ├─┤ √X ├──────────────────────────────────────────────────────────────────────────────────────────────────────────────────────────────────────────────────────────────────────────────────────────────────────────────────────────────────────────────────────────────────────────────────────────────────────────────────────────────────────────────────────────────────────────────────────────────────────────────┤0     ├──┤ Rz(-π/2) ├───┤ √X ├───┤ Rz(-π) ├┤0     ├┤ Rz(π/2) ├──┤ √X ├─┤ Rz(π/2) ├─┤0     ├──┤ √X ├──┤ Rz(-π/2) ├──┤1     ├──┤ Rz(π/2) ├──┤ √X ├─────────────┤1     ├──┤ Rz(-π/2) ├───────────────────────┤1     ├────┤ √X ├─────────────────────────────────────────┤0     ├───┤ Rz(-π/2) ├────┤ √X ├───┤ Rz(-π) ├─┤0     ├─┤ Rz(π/2) ├────┤ √X ├───┤ Rz(π/2) ├──┤0     ├───┤ X ├───┤ Rz(-π/2) ├┤1     ├┤ Rz(π/2) ├──┤ √X ├───────────┤1     ├┤ Rz(-π/2) ├─────────────────┤1     ├─┤ Rz(-π) ├─┤ √X ├──────────────────────────────────────────────────────────────────────────────────────────────────────────────────────────────────░──╫──╫──╫──╫──╫──╫──╫──╫──╫──╫──╫──╫──╫─┤M├\n",
       "            └─────────┘ └────┘                                                                                                                                                                                                                                                                                                                                                                                                              └──────┘  └──────────┘   └────┘   └────────┘└──────┘└─────────┘  └────┘ └─────────┘ └──────┘  └────┘  └──────────┘  └──────┘  └─────────┘  └────┘             └──────┘  └──────────┘                       └──────┘    └────┘                                         └──────┘   └──────────┘    └────┘   └────────┘ └──────┘ └─────────┘    └────┘   └─────────┘  └──────┘   └───┘   └──────────┘└──────┘└─────────┘  └────┘           └──────┘└──────────┘                 └──────┘ └────────┘ └────┘                                                                                                                                  ░  ║  ║  ║  ║  ║  ║  ║  ║  ║  ║  ║  ║  ║ └╥┘\n",
       "measure: 14/════════════════════════════════════════════════════════════════════════════════════════════════════════════════════════════════════════════════════════════════════════════════════════════════════════════════════════════════════════════════════════════════════════════════════════════════════════════════════════════════════════════════════════════════════════════════════════════════════════════════════════════════════════════════════════════════════════════════════════════════════════════════════════════════════════════════════════════════════════════════════════════════════════════════════════════════════════════════════════════════════════════════════════════════════════════════════════════════════════════════════════════════════════════════════════════════════════════════════════════════════════════════════════════════════════════════════════════════════════════════════════════════════════════════════════════════════════════════════════════════════════════════════════════════════════════════════════════════════════════╩══╩══╩══╩══╩══╩══╩══╩══╩══╩══╩══╩══╩══╩═\n",
       "                                                                                                                                                                                                                                                                                                                                                                                                                                                                                                                                                                                                                                                                                                                                                                                                                                                                                                                                                                                                                                                                                        0  1  2  3  4  5  6  7  8  9  10 11 12 13"
      ]
     },
     "execution_count": 14,
     "metadata": {},
     "output_type": "execute_result"
    }
   ],
   "source": [
    "to_run[-1].draw(fold=-1, idle_wires=False)"
   ]
  },
  {
   "cell_type": "code",
   "execution_count": 15,
   "metadata": {},
   "outputs": [],
   "source": [
    "\"\"\"Run the batch.\"\"\"\n",
    "job_batch = sampler.run(\n",
    "    to_run,\n",
    "    shots=nshots,\n",
    ")\n",
    "# job_batch = service.job(job_id=\"cshov7ej0jilb25h7hgg\")"
   ]
  },
  {
   "cell_type": "code",
   "execution_count": 18,
   "metadata": {},
   "outputs": [],
   "source": [
    "all_counts = [result.data.measure.get_counts() for result in job_batch.result()]"
   ]
  },
  {
   "cell_type": "code",
   "execution_count": null,
   "metadata": {},
   "outputs": [],
   "source": [
    "# Run the post-processing.\n",
    "lst_values = []\n",
    "for i in range(len(all_counts)):\n",
    "    counts = all_counts[i]\n",
    "    elements = all_elements[i]\n",
    "    observable = all_observables[i]\n",
    "    paulis = all_paulis[i]\n",
    "\n",
    "    # Compute the error-mitigated estimate.\n",
    "    numerator = sum(\n",
    "        compute_expectation(p, counts) for p in paulis\n",
    "    ) / len(paulis)\n",
    "    denominator = sum(\n",
    "        compute_expectation(e, counts) for e in elements\n",
    "    ) / len(elements)\n",
    "\n",
    "    print(numerator / denominator)\n",
    "    lst_values.append(numerator / denominator)\n",
    "print(lst_values)"
   ]
  },
  {
   "cell_type": "code",
   "execution_count": 19,
   "metadata": {},
   "outputs": [
    {
     "name": "stdout",
     "output_type": "stream",
     "text": [
      "[0.9645080500894454, 0.9932525686244441, 0.9989622519133481]\n"
     ]
    }
   ],
   "source": [
    "# Post-process by post-selection.\n",
    "post_selection_values = []\n",
    "\n",
    "for i in range(len(nvals)):\n",
    "    num_zero_zero = all_counts[i].get(\"0\" * nvals[i] + \"0\" * nvals[i], 0)\n",
    "    num_zero_one  = all_counts[i].get(\"0\" * nvals[i] + \"1\" * nvals[i], 0)\n",
    "    num_one_zero  = all_counts[i].get(\"1\" * nvals[i] + \"0\" * nvals[i], 0)\n",
    "    num_one_one   = all_counts[i].get(\"1\" * nvals[i] + \"1\" * nvals[i], 0)\n",
    "\n",
    "    total = num_zero_zero + num_zero_one + num_one_zero + num_one_one\n",
    "\n",
    "    eval = (num_zero_zero - num_zero_one - num_one_zero + num_one_one) / total\n",
    "    post_selection_values.append(eval)\n",
    "\n",
    "print(post_selection_values)\n",
    "lst_values = post_selection_values"
   ]
  },
  {
   "cell_type": "code",
   "execution_count": 20,
   "metadata": {},
   "outputs": [
    {
     "name": "stdout",
     "output_type": "stream",
     "text": [
      "0.006046477744590952\n",
      "0.11586397907370365\n",
      "0.03880597014925373\n"
     ]
    }
   ],
   "source": [
    "for i in range(len(nvals)):\n",
    "    nzeros = all_counts[i].get(\"0\" * nvals[i] * k)\n",
    "    nones  =  all_counts[i].get(\"1\" * nvals[i] * k)\n",
    "\n",
    "    print((nzeros - nones) / (nzeros + nones))"
   ]
  },
  {
   "cell_type": "markdown",
   "metadata": {},
   "source": [
    "## Plot results"
   ]
  },
  {
   "cell_type": "code",
   "execution_count": 21,
   "metadata": {},
   "outputs": [
    {
     "data": {
      "image/png": "[encoded data removed]",
      "text/plain": [
       "<Figure size 640x480 with 1 Axes>"
      ]
     },
     "metadata": {},
     "output_type": "display_data"
    }
   ],
   "source": [
    "import numpy as np\n",
    "\n",
    "xvals = [1] + nvals\n",
    "yvals = [raw_value] + lst_values\n",
    "\n",
    "save_key = f\"{computer.name}_logical_bell_n357_depth_{depth}_{time_key}_job_id_{job.job_id()}_batch_job_id_{job_batch.job_id()}_dd\"\n",
    "\n",
    "plt.plot(xvals, yvals, \"--o\", ms=10, mec=\"black\", alpha=0.88)\n",
    "\n",
    "plt.xlabel(\"$n$\")\n",
    "plt.ylabel(r\"$\\langle \\bar{Z} \\bar{Z} \\rangle$\");\n",
    "plt.title(f\"{computer.name}\\nJob ids {job.job_id()} & {job_batch.job_id()}\")\n",
    "plt.savefig(f\"{save_key}.pdf\")"
   ]
  },
  {
   "cell_type": "code",
   "execution_count": 22,
   "metadata": {},
   "outputs": [
    {
     "name": "stdout",
     "output_type": "stream",
     "text": [
      "3 6905\n",
      "5 3626\n",
      "7 4002\n"
     ]
    }
   ],
   "source": [
    "for n, counts in zip(nvals, all_counts):\n",
    "    print(n, counts.get(\"0\" * n * k))"
   ]
  },
  {
   "cell_type": "code",
   "execution_count": 23,
   "metadata": {},
   "outputs": [
    {
     "name": "stdout",
     "output_type": "stream",
     "text": [
      "OrderedDict([('rz', 9), ('sx', 5), ('measure', 2), ('ecr', 1), ('barrier', 1)])\n",
      "Oneq: 14\n",
      "Twoq: 1\n",
      "Total: 15\n",
      "OrderedDict([('rz', 55), ('sx', 31), ('ecr', 14), ('measure', 6), ('x', 3), ('barrier', 1)])\n",
      "Oneq: 89\n",
      "Twoq: 14\n",
      "Total: 103\n",
      "OrderedDict([('rz', 147), ('sx', 83), ('ecr', 43), ('measure', 10), ('x', 5), ('barrier', 1)])\n",
      "Oneq: 235\n",
      "Twoq: 43\n",
      "Total: 278\n",
      "OrderedDict([('rz', 162), ('sx', 91), ('ecr', 49), ('measure', 14), ('x', 7), ('barrier', 1)])\n",
      "Oneq: 260\n",
      "Twoq: 49\n",
      "Total: 309\n"
     ]
    }
   ],
   "source": [
    "opcounts = []\n",
    "for nqubits, circuit in zip(xvals, [compiled_raw] + to_run):\n",
    "    print(circuit.count_ops())\n",
    "    oneq = 0\n",
    "    twoq = 0\n",
    "    for gate, count in list(circuit.count_ops().items()):\n",
    "        if gate in (\"rz\", \"sx\", \"x\"):\n",
    "            oneq += count\n",
    "        if gate in (\"ecr\", \"cz\", \"cx\"):\n",
    "            twoq += count\n",
    "    print(\"Oneq:\", oneq)\n",
    "    print(\"Twoq:\", twoq)\n",
    "    print(\"Total:\", oneq + twoq)\n",
    "    opcounts.append([nqubits, oneq, twoq])"
   ]
  },
  {
   "cell_type": "markdown",
   "metadata": {},
   "source": [
    "## Save all data"
   ]
  },
  {
   "cell_type": "code",
   "execution_count": 24,
   "metadata": {},
   "outputs": [],
   "source": [
    "# Save the opcounts.\n",
    "np.savetxt(f\"{save_key}_counts.txt\", opcounts, header=\"nqubits, one-qubit gates, two-qubit gates\")"
   ]
  },
  {
   "cell_type": "code",
   "execution_count": 25,
   "metadata": {},
   "outputs": [],
   "source": [
    "# Save the nqubits, expectation values data.\n",
    "data = np.array([xvals, yvals]).T\n",
    "\n",
    "np.savetxt(f\"{save_key}_expectation_values.txt\", data)"
   ]
  },
  {
   "cell_type": "code",
   "execution_count": 26,
   "metadata": {},
   "outputs": [],
   "source": [
    "# Save the qubits used.\n",
    "qubits = [list(x) for x in layout.values()]\n",
    "\n",
    "import pandas as pd\n",
    "\n",
    "df = pd.DataFrame(qubits)\n",
    "df.to_csv(f\"{save_key}_qubits.txt\", header=False)"
   ]
  },
  {
   "cell_type": "markdown",
   "metadata": {},
   "source": []
  }
 ],
 "metadata": {
  "kernelspec": {
   "display_name": "envlstnew",
   "language": "python",
   "name": "envlstnew"
  },
  "language_info": {
   "codemirror_mode": {
    "name": "ipython",
    "version": 3
   },
   "file_extension": ".py",
   "mimetype": "text/x-python",
   "name": "python",
   "nbconvert_exporter": "python",
   "pygments_lexer": "ipython3",
   "version": "3.10.12"
  }
 },
 "nbformat": 4,
 "nbformat_minor": 2
}
