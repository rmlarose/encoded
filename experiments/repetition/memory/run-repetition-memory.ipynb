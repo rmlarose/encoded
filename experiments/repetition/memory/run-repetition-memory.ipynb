{
 "cells": [
  {
   "cell_type": "markdown",
   "metadata": {},
   "source": [
    "# Run repetition code memory experiment on IBM"
   ]
  },
  {
   "cell_type": "code",
   "execution_count": 1,
   "metadata": {},
   "outputs": [],
   "source": [
    "import os\n",
    "\n",
    "import numpy as np\n",
    "import pickle\n",
    "\n",
    "import qiskit\n",
    "import qiskit_ibm_runtime"
   ]
  },
  {
   "cell_type": "markdown",
   "metadata": {},
   "source": [
    "## Set experiment parameters"
   ]
  },
  {
   "cell_type": "code",
   "execution_count": 2,
   "metadata": {},
   "outputs": [],
   "source": [
    "depths = np.arange(10, 101, 10)\n",
    "nvals = [3, 5, 7, 9, 11, 13, 15]\n",
    "nqubits = nvals[-1]\n",
    "physical_qubits = [113, 114, 115, 116, 117, 118, 119, 120, 121, 122, 123, 124, 125, 126, 112]\n",
    "assert len(physical_qubits) == nqubits\n",
    "nshots = 10_000"
   ]
  },
  {
   "cell_type": "code",
   "execution_count": 5,
   "metadata": {},
   "outputs": [],
   "source": [
    "service = qiskit_ibm_runtime.QiskitRuntimeService()\n",
    "\n",
    "# computer = qiskit_ibm_runtime.fake_provider.FakeSherbrooke()\n",
    "computer = service.backend(\"ibm_sherbrooke\")\n",
    "sampler = qiskit_ibm_runtime.SamplerV2(computer)"
   ]
  },
  {
   "cell_type": "code",
   "execution_count": null,
   "metadata": {},
   "outputs": [],
   "source": [
    "batch = []\n",
    "for depth in depths:\n",
    "    print(f\"Status: depth = {depth}\")\n",
    "    qreg = qiskit.QuantumRegister(nqubits)\n",
    "    circuit = qiskit.QuantumCircuit(qreg)\n",
    "\n",
    "    # circuit.delay(duration=100, unit=\"dt\")\n",
    "    for _ in range(depth):\n",
    "        circuit.x(qreg)\n",
    "    circuit.measure_all()\n",
    "\n",
    "    compiled = qiskit.transpile(\n",
    "        circuit, \n",
    "        backend=computer,\n",
    "        initial_layout=physical_qubits,\n",
    "        # routing_method=\"sabre\",\n",
    "        # scheduling_method=\"asap\",\n",
    "        optimization_level=0,\n",
    "    )\n",
    "    batch.append(compiled)\n",
    "\n",
    "batch[-1].draw(fold=-1, idle_wires=False)"
   ]
  },
  {
   "cell_type": "code",
   "execution_count": 7,
   "metadata": {},
   "outputs": [],
   "source": [
    "job = sampler.run(\n",
    "    batch,\n",
    "    shots=nshots,\n",
    ")\n",
    "# job = service.job(\"ctwgnt7seb10008x520g\")  # Get results from a Job ID."
   ]
  },
  {
   "cell_type": "code",
   "execution_count": null,
   "metadata": {},
   "outputs": [],
   "source": [
    "job.status()"
   ]
  },
  {
   "cell_type": "markdown",
   "metadata": {},
   "source": [
    "## Save data"
   ]
  },
  {
   "cell_type": "code",
   "execution_count": null,
   "metadata": {},
   "outputs": [],
   "source": [
    "dir = job.job_id()"
   ]
  },
  {
   "cell_type": "code",
   "execution_count": 11,
   "metadata": {},
   "outputs": [],
   "source": [
    "os.mkdir(dir)"
   ]
  },
  {
   "cell_type": "code",
   "execution_count": 20,
   "metadata": {},
   "outputs": [],
   "source": [
    "with open(f\"{dir}/{dir}.pkl\", \"wb\") as f:\n",
    "    pickle.dump(job.result().to_dict(), f)\n",
    "\n",
    "with open(f\"{dir}/nqubits.txt\", \"w\") as f:\n",
    "    f.write(str(nqubits))\n",
    "\n",
    "with open(f\"{dir}/nshots.txt\", \"w\") as f:\n",
    "    f.write(str(nshots))\n",
    "\n",
    "\n",
    "np.savetxt(f\"{dir}/depths.txt\", depths)\n",
    "np.savetxt(f\"{dir}/nvals.txt\", nvals)\n",
    "np.savetxt(f\"{dir}/physical_qubits.txt\", physical_qubits)"
   ]
  },
  {
   "cell_type": "markdown",
   "metadata": {},
   "source": []
  }
 ],
 "metadata": {
  "kernelspec": {
   "display_name": "envencoded",
   "language": "python",
   "name": "envencoded"
  },
  "language_info": {
   "codemirror_mode": {
    "name": "ipython",
    "version": 3
   },
   "file_extension": ".py",
   "mimetype": "text/x-python",
   "name": "python",
   "nbconvert_exporter": "python",
   "pygments_lexer": "ipython3",
   "version": "3.10.12"
  }
 },
 "nbformat": 4,
 "nbformat_minor": 2
}
