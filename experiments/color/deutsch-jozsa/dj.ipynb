{
 "cells": [
  {
   "cell_type": "code",
   "execution_count": 12,
   "metadata": {},
   "outputs": [],
   "source": [
    "import cirq\n",
    "import qsimcirq\n",
    "import numpy as np\n",
    "import qiskit\n",
    "import qiskit_ibm_runtime\n",
    "\n",
    "from qiskit.visualization import plot_histogram\n",
    "from encoded.dj import dj"
   ]
  },
  {
   "cell_type": "markdown",
   "metadata": {},
   "source": [
    "## Computer parameters"
   ]
  },
  {
   "cell_type": "code",
   "execution_count": null,
   "metadata": {},
   "outputs": [],
   "source": [
    "# Computer and qubits to use.\n",
    "# Option 1: Use saved noise characteristics.\n",
    "computer = qiskit_ibm_runtime.fake_provider.FakeKyiv()\n",
    "#computer = AerSimulator()  # Noiseless simulator - use this for a sanity check to see all computed expectation values (physical and encoded) are 1.0.\n",
    "\n",
    "# Option 2: Use noise characteristics from most recent calibration.\n",
    "# service = qiskit_ibm_runtime.QiskitRuntimeService()  # This assumes a saved account.\n",
    "# computer = service.backend(\"ibm_kyiv\")\n",
    "# computer = AerSimulator.from_backend(computer)\n",
    "\n",
    "# See calibration data at https://quantum.ibm.com/services/resources to select good qubits.\n",
    "layout = {\n",
    "    1 : [0,1],\n",
    "    7 : [61, 62, 63, 64, 65, 66, 67, 72, 73, 81, 82, 83, 84, 85],\n",
    "}"
   ]
  },
  {
   "cell_type": "markdown",
   "metadata": {},
   "source": [
    "## Oracle definition"
   ]
  },
  {
   "cell_type": "code",
   "execution_count": 8,
   "metadata": {},
   "outputs": [
    {
     "data": {
      "text/plain": [
       "(1, 7)"
      ]
     },
     "execution_count": 8,
     "metadata": {},
     "output_type": "execute_result"
    }
   ],
   "source": [
    "total_qubits = 4\n",
    "# Random case\n",
    "# oracleType, oracleValue = np.random.randint(2), np.random.randint(2)\n",
    "# if oracleType == 1:\n",
    "#     oracleValue = np.random.randint(1, 2**(total_qubits-1))\n",
    "\n",
    "\n",
    "# Fixed case\n",
    "# Here we give the more complex case\n",
    "oracleType, oracleValue = 1, 2**(total_qubits-1)-1\n",
    "oracleType,oracleValue"
   ]
  },
  {
   "cell_type": "markdown",
   "metadata": {},
   "source": [
    "## Analog version"
   ]
  },
  {
   "cell_type": "code",
   "execution_count": 19,
   "metadata": {},
   "outputs": [],
   "source": [
    "\n",
    "noise_p = 0.01\n",
    "n_shots = 10000\n",
    "\n",
    "qreg = cirq.LineQubit.range(total_qubits)\n",
    "circuit, type_, value_ = dj(qreg,oracleType,oracleValue)\n",
    "# circuit.append(cirq.measure(qreg[:total_qubits-1], key=\"m\"))\n",
    "\n",
    "# c_m = circuit.copy()\n",
    "# if noise_p > 0.0:\n",
    "#     c_m = c_m.with_noise(cirq.depolarize(p=noise_p))\n",
    "# s = qsimcirq.QSimSimulator()\n",
    "# samples = s.run(c_m, repetitions=n_shots)\n",
    "# counts = samples.histogram(key=\"m\")\n",
    "# results = {}\n",
    "# for key in counts.keys():\n",
    "#     results[key] = counts[key]\n",
    "\n",
    "# print(circuit)\n",
    "# print(\"type is \" + str(type_) + \" value is \" + str(value_))\n",
    "# print(results)"
   ]
  },
  {
   "cell_type": "code",
   "execution_count": null,
   "metadata": {},
   "outputs": [
    {
     "ename": "NameError",
     "evalue": "name 'compute_expectation' is not defined",
     "output_type": "error",
     "traceback": [
      "\u001b[0;31m---------------------------------------------------------------------------\u001b[0m",
      "\u001b[0;31mNameError\u001b[0m                                 Traceback (most recent call last)",
      "Cell \u001b[0;32mIn[20], line 15\u001b[0m\n\u001b[1;32m     13\u001b[0m job \u001b[38;5;241m=\u001b[39m computer\u001b[38;5;241m.\u001b[39mrun(compiled_raw, shots\u001b[38;5;241m=\u001b[39mn_shots)\n\u001b[1;32m     14\u001b[0m counts \u001b[38;5;241m=\u001b[39m job\u001b[38;5;241m.\u001b[39mresult()\u001b[38;5;241m.\u001b[39mget_counts()\n\u001b[0;32m---> 15\u001b[0m ev \u001b[38;5;241m=\u001b[39m \u001b[43mcompute_expectation\u001b[49m(PauliString(\u001b[38;5;124m\"\u001b[39m\u001b[38;5;124mXX\u001b[39m\u001b[38;5;124m\"\u001b[39m)\u001b[38;5;241m.\u001b[39m_pauli, counts)\n",
      "\u001b[0;31mNameError\u001b[0m: name 'compute_expectation' is not defined"
     ]
    }
   ],
   "source": [
    "circuit = qiskit.QuantumCircuit.from_qasm_str(circuit.to_qasm())\n",
    "circuit.measure_active()\n",
    "# Compile to device.\n",
    "compiled_raw = qiskit.transpile(\n",
    "    circuit, \n",
    "    backend=computer,\n",
    "    initial_layout=layout[1],  # Hardcode n = 1 (i.e., no encoding) to get layout.\n",
    "    routing_method=\"sabre\",\n",
    "    # scheduling_method=\"asap\",\n",
    "    optimization_level=0,\n",
    ")\n",
    "\n",
    "job = computer.run(compiled_raw, shots=n_shots)\n",
    "counts = job.result().get_counts()"
   ]
  },
  {
   "cell_type": "code",
   "execution_count": 21,
   "metadata": {},
   "outputs": [
    {
     "data": {
      "text/plain": [
       "{'1001': 10,\n",
       " '1010': 4,\n",
       " '0010': 8,\n",
       " '0000': 14,\n",
       " '1011': 76,\n",
       " '1111': 3613,\n",
       " '1101': 474,\n",
       " '0110': 421,\n",
       " '1100': 413,\n",
       " '0100': 396,\n",
       " '0101': 471,\n",
       " '0001': 6,\n",
       " '0011': 66,\n",
       " '0111': 3592,\n",
       " '1000': 13,\n",
       " '1110': 423}"
      ]
     },
     "execution_count": 21,
     "metadata": {},
     "output_type": "execute_result"
    }
   ],
   "source": [
    "counts"
   ]
  },
  {
   "cell_type": "code",
   "execution_count": 10,
   "metadata": {},
   "outputs": [
    {
     "data": {
      "image/png": "[encoded data removed]",
      "text/plain": [
       "<Figure size 640x480 with 1 Axes>"
      ]
     },
     "execution_count": 10,
     "metadata": {},
     "output_type": "execute_result"
    }
   ],
   "source": [
    "threshold = int(0.01 * n_shots) # the threshold of plotting significant measurements, 1% of the default number of shots, 1024\n",
    "filteredAnswer = {k: v for k,v in results.items() if v >= threshold} # filter the answer for better view of plots\n",
    "removedCounts = np.sum([ v for k,v in results.items() if v < threshold ]) # number of counts removed \n",
    "plot_histogram(filteredAnswer)"
   ]
  },
  {
   "cell_type": "code",
   "execution_count": null,
   "metadata": {},
   "outputs": [],
   "source": []
  }
 ],
 "metadata": {
  "kernelspec": {
   "display_name": "venv",
   "language": "python",
   "name": "python3"
  },
  "language_info": {
   "codemirror_mode": {
    "name": "ipython",
    "version": 3
   },
   "file_extension": ".py",
   "mimetype": "text/x-python",
   "name": "python",
   "nbconvert_exporter": "python",
   "pygments_lexer": "ipython3",
   "version": "3.12.6"
  }
 },
 "nbformat": 4,
 "nbformat_minor": 2
}
