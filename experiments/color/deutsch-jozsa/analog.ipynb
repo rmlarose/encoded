{
 "cells": [
  {
   "cell_type": "code",
   "execution_count": 1,
   "metadata": {},
   "outputs": [],
   "source": [
    "import cirq\n",
    "import qsimcirq\n",
    "import numpy as np\n",
    "from qiskit.visualization import plot_histogram\n",
    "from encoded.dj import dj"
   ]
  },
  {
   "cell_type": "code",
   "execution_count": 3,
   "metadata": {},
   "outputs": [
    {
     "name": "stdout",
     "output_type": "stream",
     "text": [
      "                  ┌──┐\n",
      "0: ───H───H──────────────────M('m')───\n",
      "                             │\n",
      "1: ───H───H──────────────────M────────\n",
      "                             │\n",
      "2: ───H───H──────────────────M────────\n",
      "                             │\n",
      "3: ───H───H──────────────────M────────\n",
      "                             │\n",
      "4: ───H───H──────────────────M────────\n",
      "                             │\n",
      "5: ───H────────────@─────H───M────────\n",
      "                   │         │\n",
      "6: ───H───────@────┼H────────M────────\n",
      "              │    │         │\n",
      "7: ───H───H───┼────┼─────────M────────\n",
      "              │    │         │\n",
      "8: ───H───H───┼────┼─────────M────────\n",
      "              │    │\n",
      "9: ───X───H───X────X──────────────────\n",
      "                  └──┘\n",
      "type is 1 value is 12\n",
      "{12: 7249, 76: 258, 260: 15, 44: 253, 28: 271, 13: 239, 15: 11, 268: 231, 140: 232, 388: 1, 4: 312, 0: 122, 276: 1, 14: 239, 30: 15, 20: 13, 332: 11, 8: 219, 133: 1, 64: 5, 142: 6, 264: 10, 265: 1, 68: 13, 300: 11, 396: 4, 7: 1, 78: 7, 72: 6, 10: 8, 77: 12, 136: 10, 5: 16, 269: 10, 172: 9, 320: 1, 92: 9, 29: 8, 45: 5, 348: 1, 9: 7, 6: 14, 60: 10, 24: 8, 1: 4, 36: 6, 156: 8, 204: 10, 141: 5, 284: 6, 270: 8, 74: 1, 256: 8, 108: 12, 46: 7, 16: 5, 132: 5, 298: 1, 40: 12, 128: 3, 37: 1, 73: 1, 32: 3, 2: 1, 100: 1, 261: 1, 79: 1, 364: 1, 69: 1, 138: 1, 3: 1, 206: 1}\n"
     ]
    }
   ],
   "source": [
    "\n",
    "noise_p = 0.01\n",
    "n_shots = 10000\n",
    "total_qubits = 10\n",
    "\n",
    "# define oracle with type = 0 (unbalanced) or 1 (balanced) and define value of oracle (for unbalanced case)\n",
    "oracleType, oracleValue = np.random.randint(2), np.random.randint(2)\n",
    "if oracleType == 1:\n",
    "    oracleValue = np.random.randint(1, 2**(total_qubits-1))\n",
    "\n",
    "qreg = cirq.LineQubit.range(total_qubits)\n",
    "circuit, type_, value_ = dj(qreg,oracleType,oracleValue)\n",
    "circuit.append(cirq.measure(qreg[:total_qubits-1], key=\"m\"))\n",
    "\n",
    "c_m = circuit.copy()\n",
    "if noise_p > 0.0:\n",
    "    c_m = c_m.with_noise(cirq.depolarize(p=noise_p))\n",
    "s = qsimcirq.QSimSimulator()\n",
    "samples = s.run(c_m, repetitions=n_shots)\n",
    "counts = samples.histogram(key=\"m\")\n",
    "results = {}\n",
    "for key in counts.keys():\n",
    "    results[key] = counts[key]\n",
    "\n",
    "print(circuit)\n",
    "print(\"type is \" + str(type_) + \" value is \" + str(value_))\n",
    "print(results)"
   ]
  },
  {
   "cell_type": "code",
   "execution_count": 4,
   "metadata": {},
   "outputs": [
    {
     "data": {
      "image/png": "[encoded data removed]",
      "text/plain": [
       "<Figure size 640x480 with 1 Axes>"
      ]
     },
     "execution_count": 4,
     "metadata": {},
     "output_type": "execute_result"
    }
   ],
   "source": [
    "threshold = int(0.01 * n_shots) # the threshold of plotting significant measurements, 1% of the default number of shots, 1024\n",
    "filteredAnswer = {k: v for k,v in results.items() if v >= threshold} # filter the answer for better view of plots\n",
    "removedCounts = np.sum([ v for k,v in results.items() if v < threshold ]) # number of counts removed \n",
    "plot_histogram(filteredAnswer)"
   ]
  },
  {
   "cell_type": "code",
   "execution_count": null,
   "metadata": {},
   "outputs": [],
   "source": []
  }
 ],
 "metadata": {
  "kernelspec": {
   "display_name": "venv",
   "language": "python",
   "name": "python3"
  },
  "language_info": {
   "codemirror_mode": {
    "name": "ipython",
    "version": 3
   },
   "file_extension": ".py",
   "mimetype": "text/x-python",
   "name": "python",
   "nbconvert_exporter": "python",
   "pygments_lexer": "ipython3",
   "version": "3.12.6"
  }
 },
 "nbformat": 4,
 "nbformat_minor": 2
}
