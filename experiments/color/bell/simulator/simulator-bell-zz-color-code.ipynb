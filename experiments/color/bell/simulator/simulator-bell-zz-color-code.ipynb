{
 "cells": [
  {
   "cell_type": "markdown",
   "metadata": {},
   "source": [
    "# Bell State Preparation experiment: Compute $\\langle \\bar{\\Phi^+} | \\bar{Z}\\bar{Z} | \\bar{\\Phi^+}\\rangle$ with color code"
   ]
  },
  {
   "cell_type": "code",
   "execution_count": 1,
   "metadata": {},
   "outputs": [],
   "source": [
    "from typing import List, Dict\n",
    "import itertools\n",
    "import functools\n",
    "import numpy as np\n",
    "from tqdm import tqdm\n",
    "import cirq\n",
    "import stim\n",
    "import stimcirq\n",
    "\n",
    "from mitiq import PauliString\n",
    "\n",
    "from encoded.diagonalize import get_stabilizer_matrix_from_paulis, get_measurement_circuit, get_paulis_from_stabilizer_matrix"
   ]
  },
  {
   "cell_type": "markdown",
   "metadata": {},
   "source": [
    "## Set parameters"
   ]
  },
  {
   "cell_type": "code",
   "execution_count": 2,
   "metadata": {},
   "outputs": [],
   "source": [
    "distance: int = 3                       # Color code distance.\n",
    "nshots = 100_000                        # Number of samples/shots\n",
    "depth = 0                               # Number of folded Bell state preparation circuits for added noise\n",
    "k = 2                                   # Number of logical qubits.\n",
    "\n",
    "noise_rate = 0.001\n",
    "noise = cirq.depolarize\n",
    "simulator = stimcirq.StimSampler()"
   ]
  },
  {
   "cell_type": "markdown",
   "metadata": {},
   "source": [
    "## Helper functions"
   ]
  },
  {
   "cell_type": "code",
   "execution_count": 3,
   "metadata": {},
   "outputs": [],
   "source": [
    "def int_to_bin_list(x, length):\n",
    "    result = [0] * length\n",
    "    for i in range(length):\n",
    "        if x & (1 << i):\n",
    "            result[length - 1 - i] = 1\n",
    "    return result\n",
    "\n",
    "def int_to_bin_str(x, length):\n",
    "    return functools.reduce(lambda a, b: a + b, [str(b) for b in int_to_bin_list(x, length)])\n",
    "\n",
    "# Expectation of pauli on bitstring measured in diagonal basis.\n",
    "def compute_expectation(\n",
    "    pauli: cirq.PauliString,\n",
    "    counts: Dict[str, int],\n",
    ") -> float:\n",
    "    if pauli is cirq.PauliString():\n",
    "        return 1.0\n",
    "\n",
    "    expectation = 0.0\n",
    "\n",
    "    indices = [q.x for q in pauli.qubits]\n",
    "    for key, value in counts.items():\n",
    "        key = list(map(int, list(key[::-1])))\n",
    "        expectation += (-1) ** sum([key[i] for i in indices]) * value\n",
    "\n",
    "    return expectation / sum(counts.values())\n",
    "\n",
    "def measure_observable(\n",
    "    pauli: cirq.PauliString,\n",
    "    bitstring: str,\n",
    ") -> float:\n",
    "    if pauli is cirq.PauliString():\n",
    "        return 1.0\n",
    "\n",
    "    indices = [q.x for q in pauli.qubits]\n",
    "    bitstring = list(map(int, list(bitstring[::-1])))\n",
    "    return (-1) ** sum([bitstring[i] for i in indices])\n",
    "\n",
    "\n",
    "def strs_to_paulis(pauli_strs : List[str]) -> List[cirq.PauliString]:\n",
    "    stab_list = []\n",
    "    for stab_str in pauli_strs:\n",
    "        stab_list.append(PauliString(stab_str)._pauli)\n",
    "    return stab_list\n",
    "\n",
    "def generate_stabilizer_elements(generators: List[cirq.PauliString]) -> List[cirq.PauliString]:\n",
    "    elements = []\n",
    "    for string in itertools.chain.from_iterable(itertools.combinations(generators, r) for r in range(len(generators) + 1)):\n",
    "        elements.append(\n",
    "            functools.reduce(lambda a, b: a * b, string, cirq.PauliString())\n",
    "        )\n",
    "    return elements\n",
    "\n",
    "def get_lst_ev(counts, observables, stabilizers):\n",
    "    k = len(list(counts)[0]) // n  # TODO: Input n or define in function.\n",
    "    nshots = sum(counts.values())\n",
    "\n",
    "    numerator = 0\n",
    "    for bitstring, count in counts.items():\n",
    "        m = 1\n",
    "        for i in range(k):\n",
    "            qubit_ev = 0\n",
    "            for ob in observables:\n",
    "                qubit_ev += measure_observable(ob, bitstring[i*n : (i+1)*n]) / len(observables)\n",
    "            m *= qubit_ev\n",
    "        numerator += m * count / nshots\n",
    "\n",
    "    denominator = 0\n",
    "    for bitstring, count in counts.items():\n",
    "        m = 1\n",
    "        for i in range(k):\n",
    "            qubit_ev = 0\n",
    "            for stab in stabilizers:\n",
    "                qubit_ev += measure_observable(stab, bitstring[i*n : (i+1)*n]) / len(stabilizers)\n",
    "            m *= qubit_ev\n",
    "        denominator += m * count / nshots\n",
    "        \n",
    "    return float(np.real_if_close(numerator / denominator))\n"
   ]
  },
  {
   "cell_type": "code",
   "execution_count": 4,
   "metadata": {},
   "outputs": [],
   "source": [
    "import dataclasses\n",
    "\n",
    "\n",
    "@dataclasses.dataclass\n",
    "class Tile:\n",
    "    qubits: list\n",
    "    color: str\n",
    "\n",
    "\n",
    "def make_color_code_tiles(*, base_data_width):\n",
    "    if not (base_data_width % 2 == 1 and base_data_width >= 3):\n",
    "        raise ValueError(f\"{base_data_width=} wasn't an odd number at least as large as 3.\")\n",
    "    w = base_data_width * 2 - 1\n",
    "\n",
    "    def is_in_bounds(q: complex) -> bool:\n",
    "\n",
    "        if q.imag < 0:\n",
    "\n",
    "            return False\n",
    "        if q.imag * 2 > q.real * 3:\n",
    "\n",
    "            return False\n",
    "        if q.imag * 2 > (w - q.real) * 3:\n",
    "\n",
    "            return False\n",
    "        return True\n",
    "\n",
    "\n",
    "    tiles = []\n",
    "    hexagon_offsets = [-1, +1j, +1j + 1, +2, -1j + 1, -1j]\n",
    "    for x in range(1, w, 2):\n",
    "        for y in range((x // 2) % 2, w, 2):\n",
    "            q = x + 1j * y\n",
    "\n",
    "            tile = Tile(\n",
    "                color=['red', 'green', 'blue'][y % 3],\n",
    "\n",
    "            \n",
    "                qubits=[\n",
    "                    q + d\n",
    "                    for d in hexagon_offsets\n",
    "                    if is_in_bounds(q + d)\n",
    "                ],\n",
    "            )\n",
    "\n",
    "            if len(tile.qubits) in [4, 6]:\n",
    "                tiles.append(tile)\n",
    "\n",
    "    return tiles\n",
    "\n",
    "def get_stabilizer_generators(distance: int):\n",
    "    tiles = make_color_code_tiles(base_data_width=distance)\n",
    "    all_qubits = {q for tile in tiles for q in tile.qubits}\n",
    "\n",
    "    # Only difference here is with the chromobius notebook that we rever\n",
    "    sorted_qubits = reversed(sorted(all_qubits, key=lambda q: (q.imag, q.real)))\n",
    "    q2i = {q: i for i, q in enumerate(sorted_qubits)}\n",
    "\n",
    "    sorted_tiles = []\n",
    "    for tile in tiles:\n",
    "        sorted_tiles.append([q2i[q] for q in tile.qubits])\n",
    "\n",
    "    stabilizers_x = []\n",
    "    stabilizers_z = []\n",
    "    for tile in sorted_tiles:\n",
    "        stab_x = \"\"\n",
    "        stab_z = \"\"\n",
    "        for i in range(int((3*distance**2+1)/4)):\n",
    "            if i in tile:\n",
    "                stab_x+=\"X\"\n",
    "                stab_z+=\"Z\"\n",
    "            else:\n",
    "                stab_x+=\"I\"\n",
    "                stab_z+=\"I\"\n",
    "        stabilizers_x.append(stab_x)\n",
    "        stabilizers_z.append(stab_z)\n",
    "\n",
    "    return stabilizers_x + stabilizers_z\n",
    "\n",
    "def stabilizers_to_encoder(stabilizers) -> stim.Circuit:\n",
    "    \n",
    "    tableau = stim.Tableau.from_stabilizers(\n",
    "        stabilizers,\n",
    "        allow_underconstrained=True,\n",
    "    )\n",
    "    # Note: Look at https://github.com/quantumlib/Stim/blob/main/doc/python_api_reference_vDev.md\n",
    "    # For the different method of encoding\n",
    "\n",
    "    return tableau.to_circuit(method='graph_state')"
   ]
  },
  {
   "cell_type": "markdown",
   "metadata": {},
   "source": [
    "### Run unmitigated experiment"
   ]
  },
  {
   "cell_type": "code",
   "execution_count": 12,
   "metadata": {},
   "outputs": [
    {
     "name": "stdout",
     "output_type": "stream",
     "text": [
      "0: ───H───D(0.001)[<virtual>]───@───D(0.001)[<virtual>]───M('z')───\n",
      "                                │                         │\n",
      "1: ───────D(0.001)[<virtual>]───X───D(0.001)[<virtual>]───M────────\n",
      "{'00': 49780, '11': 49992, '10': 119, '01': 109}\n"
     ]
    },
    {
     "ename": "TypeError",
     "evalue": "unhashable type: 'slice'",
     "output_type": "error",
     "traceback": [
      "\u001b[0;31m---------------------------------------------------------------------------\u001b[0m",
      "\u001b[0;31mTypeError\u001b[0m                                 Traceback (most recent call last)",
      "Cell \u001b[0;32mIn[12], line 15\u001b[0m\n\u001b[1;32m     12\u001b[0m counts \u001b[38;5;241m=\u001b[39m {int_to_bin_str(key, k) : val \u001b[38;5;28;01mfor\u001b[39;00m key, val \u001b[38;5;129;01min\u001b[39;00m counts\u001b[38;5;241m.\u001b[39mitems()}\n\u001b[1;32m     13\u001b[0m \u001b[38;5;28mprint\u001b[39m(counts)\n\u001b[0;32m---> 15\u001b[0m ev \u001b[38;5;241m=\u001b[39m \u001b[43mmeasure_observable\u001b[49m\u001b[43m(\u001b[49m\u001b[43mPauliString\u001b[49m\u001b[43m(\u001b[49m\u001b[38;5;124;43m\"\u001b[39;49m\u001b[38;5;124;43mZZ\u001b[39;49m\u001b[38;5;124;43m\"\u001b[39;49m\u001b[43m)\u001b[49m\u001b[38;5;241;43m.\u001b[39;49m\u001b[43m_pauli\u001b[49m\u001b[43m,\u001b[49m\u001b[43m \u001b[49m\u001b[43mcounts\u001b[49m\u001b[43m)\u001b[49m\n\u001b[1;32m     17\u001b[0m \u001b[38;5;28mprint\u001b[39m(ev)\n",
      "Cell \u001b[0;32mIn[3], line 36\u001b[0m, in \u001b[0;36mmeasure_observable\u001b[0;34m(pauli, bitstring)\u001b[0m\n\u001b[1;32m     33\u001b[0m     \u001b[38;5;28;01mreturn\u001b[39;00m \u001b[38;5;241m1.0\u001b[39m\n\u001b[1;32m     35\u001b[0m indices \u001b[38;5;241m=\u001b[39m [q\u001b[38;5;241m.\u001b[39mx \u001b[38;5;28;01mfor\u001b[39;00m q \u001b[38;5;129;01min\u001b[39;00m pauli\u001b[38;5;241m.\u001b[39mqubits]\n\u001b[0;32m---> 36\u001b[0m bitstring \u001b[38;5;241m=\u001b[39m \u001b[38;5;28mlist\u001b[39m(\u001b[38;5;28mmap\u001b[39m(\u001b[38;5;28mint\u001b[39m, \u001b[38;5;28mlist\u001b[39m(\u001b[43mbitstring\u001b[49m\u001b[43m[\u001b[49m\u001b[43m:\u001b[49m\u001b[43m:\u001b[49m\u001b[38;5;241;43m-\u001b[39;49m\u001b[38;5;241;43m1\u001b[39;49m\u001b[43m]\u001b[49m)))\n\u001b[1;32m     37\u001b[0m \u001b[38;5;28;01mreturn\u001b[39;00m (\u001b[38;5;241m-\u001b[39m\u001b[38;5;241m1\u001b[39m) \u001b[38;5;241m*\u001b[39m\u001b[38;5;241m*\u001b[39m \u001b[38;5;28msum\u001b[39m([bitstring[i] \u001b[38;5;28;01mfor\u001b[39;00m i \u001b[38;5;129;01min\u001b[39;00m indices])\n",
      "\u001b[0;31mTypeError\u001b[0m: unhashable type: 'slice'"
     ]
    }
   ],
   "source": [
    "qreg = cirq.LineQubit.range(k)\n",
    "\n",
    "circuit = cirq.Circuit()\n",
    "circuit.append(cirq.H.on(qreg[0]))\n",
    "for i in range(len(qreg)-1):\n",
    "    circuit.append(cirq.CNOT.on(qreg[i], qreg[i+1]))\n",
    "\n",
    "circuit = circuit.with_noise(noise(noise_rate))\n",
    "circuit.append(cirq.measure(*qreg, key=\"z\"))\n",
    "print(circuit)\n",
    "counts = simulator.run(circuit, repetitions=nshots).histogram(key=\"z\")\n",
    "counts = {int_to_bin_str(key, k) : val for key, val in counts.items()}\n",
    "print(counts)\n",
    "\n",
    "ev = measure_observable(PauliString(\"ZZ\")._pauli, counts)\n",
    "\n",
    "print(ev)"
   ]
  },
  {
   "cell_type": "markdown",
   "metadata": {},
   "source": [
    "## Run encoded experiment"
   ]
  },
  {
   "cell_type": "code",
   "execution_count": 6,
   "metadata": {},
   "outputs": [
    {
     "name": "stdout",
     "output_type": "stream",
     "text": [
      "64 64\n"
     ]
    }
   ],
   "source": [
    "generator_strs = get_stabilizer_generators(distance)\n",
    "\n",
    "n = len(generator_strs[0])\n",
    "\n",
    "observable = PauliString(\"Z\" * n)._pauli\n",
    "\n",
    "qreg = cirq.LineQubit.range(n * k)\n",
    "\n",
    "stabilizer_generators = strs_to_paulis(generator_strs)\n",
    "stabilizer_matrix = get_stabilizer_matrix_from_paulis(stabilizer_generators, qreg[:n])\n",
    "m_circuit, transformed_matrix = get_measurement_circuit(stabilizer_matrix)\n",
    "measurement_circuit = cirq.Circuit.concat_ragged(\n",
    "    m_circuit,\n",
    "    m_circuit.transform_qubits(dict(zip(qreg[:n], qreg[n:])))\n",
    ")\n",
    "\n",
    "transformed_generators = get_paulis_from_stabilizer_matrix(transformed_matrix)\n",
    "# print(transformed_generators)\n",
    "stabilizer_elements = generate_stabilizer_elements(transformed_generators)\n",
    "\n",
    "transformed_observable = observable.conjugated_by(m_circuit**-1)\n",
    "observable_elements = [transformed_observable * stab for stab in stabilizer_elements]\n",
    "# for ob in observable_elements: print(ob)\n",
    "print(len(stabilizer_elements), len(observable_elements))"
   ]
  },
  {
   "cell_type": "code",
   "execution_count": 7,
   "metadata": {},
   "outputs": [
    {
     "data": {
      "text/html": [
       "<pre style=\"overflow: auto; white-space: pre;\">                    ┌──┐       ┌──┐       ┌──┐\n",
       "0: ────RX───@───@────@───────────────────────────────────────────────────\n",
       "            │   │    │\n",
       "1: ────RX───┼───┼────┼@────@────@────────────────────────X───────────────\n",
       "            │   │    ││    │    │\n",
       "2: ────RX───┼───┼────┼┼────┼────┼@────@────@─────────────X───S───H───S───\n",
       "            │   │    ││    │    ││    │    │\n",
       "3: ────RX───@───┼────┼@────┼────┼@────┼────┼@────@───────────S───H───────\n",
       "                │    │     │    │     │    ││    │\n",
       "4: ────RX───────@────┼─────@────┼─────┼────┼┼────┼───────Z───────H───────\n",
       "                     │          │     │    ││    │\n",
       "5: ────RX────────────@──────────┼─────@────┼@────┼───@───Z───S───H───────\n",
       "                                │          │     │   │\n",
       "6: ────RX───────────────────────@──────────@─────@───@───────S───H───────\n",
       "\n",
       "7: ────RX───@───@────@───────────────────────────────────────────────────\n",
       "            │   │    │\n",
       "8: ────RX───┼───┼────┼@────@────@────────────────────────X───────────────\n",
       "            │   │    ││    │    │\n",
       "9: ────RX───┼───┼────┼┼────┼────┼@────@────@─────────────X───S───H───S───\n",
       "            │   │    ││    │    ││    │    │\n",
       "10: ───RX───@───┼────┼@────┼────┼@────┼────┼@────@───────────S───H───────\n",
       "                │    │     │    │     │    ││    │\n",
       "11: ───RX───────@────┼─────@────┼─────┼────┼┼────┼───────Z───────H───────\n",
       "                     │          │     │    ││    │\n",
       "12: ───RX────────────@──────────┼─────@────┼@────┼───@───Z───S───H───────\n",
       "                                │          │     │   │\n",
       "13: ───RX───────────────────────@──────────@─────@───@───────S───H───────\n",
       "                    └──┘       └──┘       └──┘</pre>"
      ],
      "text/plain": [
       "                    ┌──┐       ┌──┐       ┌──┐\n",
       "0: ────RX───@───@────@───────────────────────────────────────────────────\n",
       "            │   │    │\n",
       "1: ────RX───┼───┼────┼@────@────@────────────────────────X───────────────\n",
       "            │   │    ││    │    │\n",
       "2: ────RX───┼───┼────┼┼────┼────┼@────@────@─────────────X───S───H───S───\n",
       "            │   │    ││    │    ││    │    │\n",
       "3: ────RX───@───┼────┼@────┼────┼@────┼────┼@────@───────────S───H───────\n",
       "                │    │     │    │     │    ││    │\n",
       "4: ────RX───────@────┼─────@────┼─────┼────┼┼────┼───────Z───────H───────\n",
       "                     │          │     │    ││    │\n",
       "5: ────RX────────────@──────────┼─────@────┼@────┼───@───Z───S───H───────\n",
       "                                │          │     │   │\n",
       "6: ────RX───────────────────────@──────────@─────@───@───────S───H───────\n",
       "\n",
       "7: ────RX───@───@────@───────────────────────────────────────────────────\n",
       "            │   │    │\n",
       "8: ────RX───┼───┼────┼@────@────@────────────────────────X───────────────\n",
       "            │   │    ││    │    │\n",
       "9: ────RX───┼───┼────┼┼────┼────┼@────@────@─────────────X───S───H───S───\n",
       "            │   │    ││    │    ││    │    │\n",
       "10: ───RX───@───┼────┼@────┼────┼@────┼────┼@────@───────────S───H───────\n",
       "                │    │     │    │     │    ││    │\n",
       "11: ───RX───────@────┼─────@────┼─────┼────┼┼────┼───────Z───────H───────\n",
       "                     │          │     │    ││    │\n",
       "12: ───RX────────────@──────────┼─────@────┼@────┼───@───Z───S───H───────\n",
       "                                │          │     │   │\n",
       "13: ───RX───────────────────────@──────────@─────@───@───────S───H───────\n",
       "                    └──┘       └──┘       └──┘"
      ]
     },
     "execution_count": 7,
     "metadata": {},
     "output_type": "execute_result"
    }
   ],
   "source": [
    "encoding_circuit = stimcirq.stim_circuit_to_cirq_circuit(stabilizers_to_encoder([stim.PauliString(s) for s in generator_strs]))\n",
    "encoding = cirq.Circuit.concat_ragged(\n",
    "    encoding_circuit,\n",
    "    encoding_circuit.transform_qubits(dict(zip(qreg[:n], qreg[n:])))\n",
    ")\n",
    "encoding"
   ]
  },
  {
   "cell_type": "code",
   "execution_count": 8,
   "metadata": {},
   "outputs": [
    {
     "data": {
      "text/html": [
       "<pre style=\"overflow: auto; white-space: pre;\">                                                                                      ┌──┐                                                   ┌──┐                                                   ┌──┐                                                                                                                                                                                                               ┌───────┐                                                                             ┌──┐                                                                                                                                                                                     ┌──┐                         ┌───┐                         ┌──┐\n",
       "0: ────RX───D(0.001)[&lt;virtual&gt;]───@───D(0.001)[&lt;virtual&gt;]───@───D(0.001)[&lt;virtual&gt;]────@─────D(0.001)[&lt;virtual&gt;]───────D(0.001)[&lt;virtual&gt;]──────────D(0.001)[&lt;virtual&gt;]───────D(0.001)[&lt;virtual&gt;]──────────D(0.001)[&lt;virtual&gt;]───────D(0.001)[&lt;virtual&gt;]───────D(0.001)[&lt;virtual&gt;]───────D(0.001)[&lt;virtual&gt;]───────D(0.001)[&lt;virtual&gt;]───────D(0.001)[&lt;virtual&gt;]───────D(0.001)[&lt;virtual&gt;]───H───D(0.001)[&lt;virtual&gt;]────@──────────D(0.001)[&lt;virtual&gt;]───×───D(0.001)[&lt;virtual&gt;]───────D(0.001)[&lt;virtual&gt;]──────────D(0.001)[&lt;virtual&gt;]───X───D(0.001)[&lt;virtual&gt;]───────D(0.001)[&lt;virtual&gt;]───X───D(0.001)[&lt;virtual&gt;]───────D(0.001)[&lt;virtual&gt;]───────D(0.001)[&lt;virtual&gt;]───@───D(0.001)[&lt;virtual&gt;]─────@────D(0.001)[&lt;virtual&gt;]──────@────D(0.001)[&lt;virtual&gt;]────H─────D(0.001)[&lt;virtual&gt;]───────D(0.001)[&lt;virtual&gt;]───M(&#x27;z&#x27;)───\n",
       "                                  │                         │                          │                                                                                                                                                                                                                                                                                                                                │                                │                                                                                │                                                   │                                                                             │                           │                             │                                                                                 │\n",
       "1: ────RX───D(0.001)[&lt;virtual&gt;]───┼───D(0.001)[&lt;virtual&gt;]───┼───D(0.001)[&lt;virtual&gt;]────┼@────D(0.001)[&lt;virtual&gt;]───@───D(0.001)[&lt;virtual&gt;]────@─────D(0.001)[&lt;virtual&gt;]───────D(0.001)[&lt;virtual&gt;]──────────D(0.001)[&lt;virtual&gt;]───────D(0.001)[&lt;virtual&gt;]───────D(0.001)[&lt;virtual&gt;]───X───D(0.001)[&lt;virtual&gt;]───────D(0.001)[&lt;virtual&gt;]───────D(0.001)[&lt;virtual&gt;]───────D(0.001)[&lt;virtual&gt;]───H───D(0.001)[&lt;virtual&gt;]────┼@─────────D(0.001)[&lt;virtual&gt;]───┼───D(0.001)[&lt;virtual&gt;]───@───D(0.001)[&lt;virtual&gt;]──────────D(0.001)[&lt;virtual&gt;]───┼───D(0.001)[&lt;virtual&gt;]───X───D(0.001)[&lt;virtual&gt;]───@───D(0.001)[&lt;virtual&gt;]───────D(0.001)[&lt;virtual&gt;]───────D(0.001)[&lt;virtual&gt;]───┼───D(0.001)[&lt;virtual&gt;]────@┼────D(0.001)[&lt;virtual&gt;]─────@┼────D(0.001)[&lt;virtual&gt;]────H─────D(0.001)[&lt;virtual&gt;]───────D(0.001)[&lt;virtual&gt;]───M────────\n",
       "                                  │                         │                          ││                          │                          │                                                                                                                                                                                                                                                                         ││                               │                         │                                                      │                         │                                                                                                       │                          ││                            ││                                                                                 │\n",
       "2: ────RX───D(0.001)[&lt;virtual&gt;]───┼───D(0.001)[&lt;virtual&gt;]───┼───D(0.001)[&lt;virtual&gt;]────┼┼────D(0.001)[&lt;virtual&gt;]───┼───D(0.001)[&lt;virtual&gt;]────┼@────D(0.001)[&lt;virtual&gt;]───@───D(0.001)[&lt;virtual&gt;]────@─────D(0.001)[&lt;virtual&gt;]───────D(0.001)[&lt;virtual&gt;]───────D(0.001)[&lt;virtual&gt;]───X───D(0.001)[&lt;virtual&gt;]───S───D(0.001)[&lt;virtual&gt;]───H───D(0.001)[&lt;virtual&gt;]───S───D(0.001)[&lt;virtual&gt;]───H───D(0.001)[&lt;virtual&gt;]────┼┼@────────D(0.001)[&lt;virtual&gt;]───×───D(0.001)[&lt;virtual&gt;]───X───D(0.001)[&lt;virtual&gt;]────@─────D(0.001)[&lt;virtual&gt;]───@───D(0.001)[&lt;virtual&gt;]───@───D(0.001)[&lt;virtual&gt;]───────D(0.001)[&lt;virtual&gt;]───────D(0.001)[&lt;virtual&gt;]───────D(0.001)[&lt;virtual&gt;]───┼───D(0.001)[&lt;virtual&gt;]────┼┼────D(0.001)[&lt;virtual&gt;]────@┼┼────D(0.001)[&lt;virtual&gt;]────@─────D(0.001)[&lt;virtual&gt;]───H───D(0.001)[&lt;virtual&gt;]───M────────\n",
       "                                  │                         │                          ││                          │                          ││                          │                          │                                                                                                                                                                                                                  │││                                                                                   │                                                                                                                                                             │                          ││                           │││                           │                                                     │\n",
       "3: ────RX───D(0.001)[&lt;virtual&gt;]───@───D(0.001)[&lt;virtual&gt;]───┼───D(0.001)[&lt;virtual&gt;]────┼@────D(0.001)[&lt;virtual&gt;]───┼───D(0.001)[&lt;virtual&gt;]────┼@────D(0.001)[&lt;virtual&gt;]───┼───D(0.001)[&lt;virtual&gt;]────┼@────D(0.001)[&lt;virtual&gt;]───@───D(0.001)[&lt;virtual&gt;]───────D(0.001)[&lt;virtual&gt;]───────D(0.001)[&lt;virtual&gt;]───S───D(0.001)[&lt;virtual&gt;]───H───D(0.001)[&lt;virtual&gt;]───────D(0.001)[&lt;virtual&gt;]───H───D(0.001)[&lt;virtual&gt;]────┼┼┼@───────D(0.001)[&lt;virtual&gt;]───H───D(0.001)[&lt;virtual&gt;]───@───D(0.001)[&lt;virtual&gt;]────┼@────D(0.001)[&lt;virtual&gt;]───────D(0.001)[&lt;virtual&gt;]───────D(0.001)[&lt;virtual&gt;]───────D(0.001)[&lt;virtual&gt;]───────D(0.001)[&lt;virtual&gt;]───X───D(0.001)[&lt;virtual&gt;]───@───D(0.001)[&lt;virtual&gt;]────@┼────D(0.001)[&lt;virtual&gt;]────@┼┼────D(0.001)[&lt;virtual&gt;]────┼H────D(0.001)[&lt;virtual&gt;]───────D(0.001)[&lt;virtual&gt;]───M────────\n",
       "                                                            │                          │                           │                          │                           │                          ││                          │                                                                                                                                                                                      ││││                                                       │                          ││                                                                                                                                  │                                                     │                            ││                           │                                                     │\n",
       "4: ────RX───D(0.001)[&lt;virtual&gt;]───────D(0.001)[&lt;virtual&gt;]───@───D(0.001)[&lt;virtual&gt;]────┼─────D(0.001)[&lt;virtual&gt;]───@───D(0.001)[&lt;virtual&gt;]────┼─────D(0.001)[&lt;virtual&gt;]───┼───D(0.001)[&lt;virtual&gt;]────┼┼────D(0.001)[&lt;virtual&gt;]───┼───D(0.001)[&lt;virtual&gt;]───────D(0.001)[&lt;virtual&gt;]───Z───D(0.001)[&lt;virtual&gt;]───────D(0.001)[&lt;virtual&gt;]───H───D(0.001)[&lt;virtual&gt;]───────D(0.001)[&lt;virtual&gt;]───H───D(0.001)[&lt;virtual&gt;]────┼┼┼┼@──────D(0.001)[&lt;virtual&gt;]───────D(0.001)[&lt;virtual&gt;]───┼───D(0.001)[&lt;virtual&gt;]────X┼────D(0.001)[&lt;virtual&gt;]───×───D(0.001)[&lt;virtual&gt;]───@───D(0.001)[&lt;virtual&gt;]───────D(0.001)[&lt;virtual&gt;]───X───D(0.001)[&lt;virtual&gt;]───@───D(0.001)[&lt;virtual&gt;]───────D(0.001)[&lt;virtual&gt;]─────@────D(0.001)[&lt;virtual&gt;]─────@┼────D(0.001)[&lt;virtual&gt;]────┼H────D(0.001)[&lt;virtual&gt;]───────D(0.001)[&lt;virtual&gt;]───M────────\n",
       "                                                                                       │                                                      │                           │                          ││                          │                                                                                                                                                                                      │││││                                                      │                           │                          │                         │                                                   │                                                                                                             │                           │                                                     │\n",
       "5: ────RX───D(0.001)[&lt;virtual&gt;]───────D(0.001)[&lt;virtual&gt;]───────D(0.001)[&lt;virtual&gt;]────@─────D(0.001)[&lt;virtual&gt;]───────D(0.001)[&lt;virtual&gt;]────┼─────D(0.001)[&lt;virtual&gt;]───@───D(0.001)[&lt;virtual&gt;]────┼@────D(0.001)[&lt;virtual&gt;]───┼───D(0.001)[&lt;virtual&gt;]───@───D(0.001)[&lt;virtual&gt;]───Z───D(0.001)[&lt;virtual&gt;]───S───D(0.001)[&lt;virtual&gt;]───H───D(0.001)[&lt;virtual&gt;]───────D(0.001)[&lt;virtual&gt;]───H───D(0.001)[&lt;virtual&gt;]────┼┼┼┼┼@─────D(0.001)[&lt;virtual&gt;]───H───D(0.001)[&lt;virtual&gt;]───X───D(0.001)[&lt;virtual&gt;]─────┼────D(0.001)[&lt;virtual&gt;]───×───D(0.001)[&lt;virtual&gt;]───┼───D(0.001)[&lt;virtual&gt;]───×───D(0.001)[&lt;virtual&gt;]───@───D(0.001)[&lt;virtual&gt;]───────D(0.001)[&lt;virtual&gt;]───────D(0.001)[&lt;virtual&gt;]──────────D(0.001)[&lt;virtual&gt;]──────@────D(0.001)[&lt;virtual&gt;]────@─────D(0.001)[&lt;virtual&gt;]───H───D(0.001)[&lt;virtual&gt;]───M────────\n",
       "                                                                                                                                              │                                                      │                           │                         │                                                                                                                                                            ││││││                                                                                 │                                                    │                         │                                                                                                                                                                                                                         │\n",
       "6: ────RX───D(0.001)[&lt;virtual&gt;]───────D(0.001)[&lt;virtual&gt;]───────D(0.001)[&lt;virtual&gt;]──────────D(0.001)[&lt;virtual&gt;]───────D(0.001)[&lt;virtual&gt;]────@─────D(0.001)[&lt;virtual&gt;]───────D(0.001)[&lt;virtual&gt;]────@─────D(0.001)[&lt;virtual&gt;]───@───D(0.001)[&lt;virtual&gt;]───@───D(0.001)[&lt;virtual&gt;]───────D(0.001)[&lt;virtual&gt;]───S───D(0.001)[&lt;virtual&gt;]───H───D(0.001)[&lt;virtual&gt;]───────D(0.001)[&lt;virtual&gt;]───H───D(0.001)[&lt;virtual&gt;]────┼┼┼┼┼┼@────D(0.001)[&lt;virtual&gt;]───H───D(0.001)[&lt;virtual&gt;]───────D(0.001)[&lt;virtual&gt;]─────X────D(0.001)[&lt;virtual&gt;]───────D(0.001)[&lt;virtual&gt;]───X───D(0.001)[&lt;virtual&gt;]───×───D(0.001)[&lt;virtual&gt;]───────D(0.001)[&lt;virtual&gt;]───────D(0.001)[&lt;virtual&gt;]───────D(0.001)[&lt;virtual&gt;]──────────D(0.001)[&lt;virtual&gt;]───────────D(0.001)[&lt;virtual&gt;]──────────D(0.001)[&lt;virtual&gt;]───────D(0.001)[&lt;virtual&gt;]───M────────\n",
       "                                                                                                                                                                                                                                                                                                                                                                                                                        │││││││                                                                                                                                                                                                                                                                                                                                                                                         │\n",
       "7: ────RX───D(0.001)[&lt;virtual&gt;]───@───D(0.001)[&lt;virtual&gt;]───@───D(0.001)[&lt;virtual&gt;]────@─────D(0.001)[&lt;virtual&gt;]───────D(0.001)[&lt;virtual&gt;]──────────D(0.001)[&lt;virtual&gt;]───────D(0.001)[&lt;virtual&gt;]──────────D(0.001)[&lt;virtual&gt;]───────D(0.001)[&lt;virtual&gt;]───────D(0.001)[&lt;virtual&gt;]───────D(0.001)[&lt;virtual&gt;]───────D(0.001)[&lt;virtual&gt;]───────D(0.001)[&lt;virtual&gt;]───────D(0.001)[&lt;virtual&gt;]───────D(0.001)[&lt;virtual&gt;]────X┼┼┼┼┼┼────D(0.001)[&lt;virtual&gt;]───×───D(0.001)[&lt;virtual&gt;]───────D(0.001)[&lt;virtual&gt;]──────────D(0.001)[&lt;virtual&gt;]───X───D(0.001)[&lt;virtual&gt;]───────D(0.001)[&lt;virtual&gt;]───X───D(0.001)[&lt;virtual&gt;]───────D(0.001)[&lt;virtual&gt;]───────D(0.001)[&lt;virtual&gt;]───@───D(0.001)[&lt;virtual&gt;]─────@────D(0.001)[&lt;virtual&gt;]──────@────D(0.001)[&lt;virtual&gt;]────H─────D(0.001)[&lt;virtual&gt;]───────D(0.001)[&lt;virtual&gt;]───M────────\n",
       "                                  │                         │                          │                                                                                                                                                                                                                                                                                                                                 ││││││                          │                                                                                │                                                   │                                                                             │                           │                             │                                                                                 │\n",
       "8: ────RX───D(0.001)[&lt;virtual&gt;]───┼───D(0.001)[&lt;virtual&gt;]───┼───D(0.001)[&lt;virtual&gt;]────┼@────D(0.001)[&lt;virtual&gt;]───@───D(0.001)[&lt;virtual&gt;]────@─────D(0.001)[&lt;virtual&gt;]───────D(0.001)[&lt;virtual&gt;]──────────D(0.001)[&lt;virtual&gt;]───────D(0.001)[&lt;virtual&gt;]───────D(0.001)[&lt;virtual&gt;]───X───D(0.001)[&lt;virtual&gt;]───────D(0.001)[&lt;virtual&gt;]───────D(0.001)[&lt;virtual&gt;]───────D(0.001)[&lt;virtual&gt;]───────D(0.001)[&lt;virtual&gt;]─────X┼┼┼┼┼────D(0.001)[&lt;virtual&gt;]───┼───D(0.001)[&lt;virtual&gt;]───@───D(0.001)[&lt;virtual&gt;]──────────D(0.001)[&lt;virtual&gt;]───┼───D(0.001)[&lt;virtual&gt;]───X───D(0.001)[&lt;virtual&gt;]───@───D(0.001)[&lt;virtual&gt;]───────D(0.001)[&lt;virtual&gt;]───────D(0.001)[&lt;virtual&gt;]───┼───D(0.001)[&lt;virtual&gt;]────@┼────D(0.001)[&lt;virtual&gt;]─────@┼────D(0.001)[&lt;virtual&gt;]────H─────D(0.001)[&lt;virtual&gt;]───────D(0.001)[&lt;virtual&gt;]───M────────\n",
       "                                  │                         │                          ││                          │                          │                                                                                                                                                                                                                                                                           │││││                          │                         │                                                      │                         │                                                                                                       │                          ││                            ││                                                                                 │\n",
       "9: ────RX───D(0.001)[&lt;virtual&gt;]───┼───D(0.001)[&lt;virtual&gt;]───┼───D(0.001)[&lt;virtual&gt;]────┼┼────D(0.001)[&lt;virtual&gt;]───┼───D(0.001)[&lt;virtual&gt;]────┼@────D(0.001)[&lt;virtual&gt;]───@───D(0.001)[&lt;virtual&gt;]────@─────D(0.001)[&lt;virtual&gt;]───────D(0.001)[&lt;virtual&gt;]───────D(0.001)[&lt;virtual&gt;]───X───D(0.001)[&lt;virtual&gt;]───S───D(0.001)[&lt;virtual&gt;]───H───D(0.001)[&lt;virtual&gt;]───S───D(0.001)[&lt;virtual&gt;]───────D(0.001)[&lt;virtual&gt;]──────X┼┼┼┼────D(0.001)[&lt;virtual&gt;]───×───D(0.001)[&lt;virtual&gt;]───X───D(0.001)[&lt;virtual&gt;]────@─────D(0.001)[&lt;virtual&gt;]───@───D(0.001)[&lt;virtual&gt;]───@───D(0.001)[&lt;virtual&gt;]───────D(0.001)[&lt;virtual&gt;]───────D(0.001)[&lt;virtual&gt;]───────D(0.001)[&lt;virtual&gt;]───┼───D(0.001)[&lt;virtual&gt;]────┼┼────D(0.001)[&lt;virtual&gt;]────@┼┼────D(0.001)[&lt;virtual&gt;]────@─────D(0.001)[&lt;virtual&gt;]───H───D(0.001)[&lt;virtual&gt;]───M────────\n",
       "                                  │                         │                          ││                          │                          ││                          │                          │                                                                                                                                                                                                                     ││││                                                                               │                                                                                                                                                             │                          ││                           │││                           │                                                     │\n",
       "10: ───RX───D(0.001)[&lt;virtual&gt;]───@───D(0.001)[&lt;virtual&gt;]───┼───D(0.001)[&lt;virtual&gt;]────┼@────D(0.001)[&lt;virtual&gt;]───┼───D(0.001)[&lt;virtual&gt;]────┼@────D(0.001)[&lt;virtual&gt;]───┼───D(0.001)[&lt;virtual&gt;]────┼@────D(0.001)[&lt;virtual&gt;]───@───D(0.001)[&lt;virtual&gt;]───────D(0.001)[&lt;virtual&gt;]───────D(0.001)[&lt;virtual&gt;]───S───D(0.001)[&lt;virtual&gt;]───H───D(0.001)[&lt;virtual&gt;]───────D(0.001)[&lt;virtual&gt;]───────D(0.001)[&lt;virtual&gt;]───────X┼┼┼────D(0.001)[&lt;virtual&gt;]───H───D(0.001)[&lt;virtual&gt;]───@───D(0.001)[&lt;virtual&gt;]────┼@────D(0.001)[&lt;virtual&gt;]───────D(0.001)[&lt;virtual&gt;]───────D(0.001)[&lt;virtual&gt;]───────D(0.001)[&lt;virtual&gt;]───────D(0.001)[&lt;virtual&gt;]───X───D(0.001)[&lt;virtual&gt;]───@───D(0.001)[&lt;virtual&gt;]────@┼────D(0.001)[&lt;virtual&gt;]────@┼┼────D(0.001)[&lt;virtual&gt;]────┼H────D(0.001)[&lt;virtual&gt;]───────D(0.001)[&lt;virtual&gt;]───M────────\n",
       "                                                            │                          │                           │                          │                           │                          ││                          │                                                                                                                                                                                          │││                                                    │                          ││                                                                                                                                  │                                                     │                            ││                           │                                                     │\n",
       "11: ───RX───D(0.001)[&lt;virtual&gt;]───────D(0.001)[&lt;virtual&gt;]───@───D(0.001)[&lt;virtual&gt;]────┼─────D(0.001)[&lt;virtual&gt;]───@───D(0.001)[&lt;virtual&gt;]────┼─────D(0.001)[&lt;virtual&gt;]───┼───D(0.001)[&lt;virtual&gt;]────┼┼────D(0.001)[&lt;virtual&gt;]───┼───D(0.001)[&lt;virtual&gt;]───────D(0.001)[&lt;virtual&gt;]───Z───D(0.001)[&lt;virtual&gt;]───────D(0.001)[&lt;virtual&gt;]───H───D(0.001)[&lt;virtual&gt;]───────D(0.001)[&lt;virtual&gt;]───────D(0.001)[&lt;virtual&gt;]────────X┼┼────D(0.001)[&lt;virtual&gt;]───────D(0.001)[&lt;virtual&gt;]───┼───D(0.001)[&lt;virtual&gt;]────X┼────D(0.001)[&lt;virtual&gt;]───×───D(0.001)[&lt;virtual&gt;]───@───D(0.001)[&lt;virtual&gt;]───────D(0.001)[&lt;virtual&gt;]───X───D(0.001)[&lt;virtual&gt;]───@───D(0.001)[&lt;virtual&gt;]───────D(0.001)[&lt;virtual&gt;]─────@────D(0.001)[&lt;virtual&gt;]─────@┼────D(0.001)[&lt;virtual&gt;]────┼H────D(0.001)[&lt;virtual&gt;]───────D(0.001)[&lt;virtual&gt;]───M────────\n",
       "                                                                                       │                                                      │                           │                          ││                          │                                                                                                                                                                                           ││                                                    │                           │                          │                         │                                                   │                                                                                                             │                           │                                                     │\n",
       "12: ───RX───D(0.001)[&lt;virtual&gt;]───────D(0.001)[&lt;virtual&gt;]───────D(0.001)[&lt;virtual&gt;]────@─────D(0.001)[&lt;virtual&gt;]───────D(0.001)[&lt;virtual&gt;]────┼─────D(0.001)[&lt;virtual&gt;]───@───D(0.001)[&lt;virtual&gt;]────┼@────D(0.001)[&lt;virtual&gt;]───┼───D(0.001)[&lt;virtual&gt;]───@───D(0.001)[&lt;virtual&gt;]───Z───D(0.001)[&lt;virtual&gt;]───S───D(0.001)[&lt;virtual&gt;]───H───D(0.001)[&lt;virtual&gt;]───────D(0.001)[&lt;virtual&gt;]───────D(0.001)[&lt;virtual&gt;]─────────X┼────D(0.001)[&lt;virtual&gt;]───H───D(0.001)[&lt;virtual&gt;]───X───D(0.001)[&lt;virtual&gt;]─────┼────D(0.001)[&lt;virtual&gt;]───×───D(0.001)[&lt;virtual&gt;]───┼───D(0.001)[&lt;virtual&gt;]───×───D(0.001)[&lt;virtual&gt;]───@───D(0.001)[&lt;virtual&gt;]───────D(0.001)[&lt;virtual&gt;]───────D(0.001)[&lt;virtual&gt;]──────────D(0.001)[&lt;virtual&gt;]──────@────D(0.001)[&lt;virtual&gt;]────@─────D(0.001)[&lt;virtual&gt;]───H───D(0.001)[&lt;virtual&gt;]───M────────\n",
       "                                                                                                                                              │                                                      │                           │                         │                                                                                                                                                                  │                                                                                │                                                    │                         │                                                                                                                                                                                                                         │\n",
       "13: ───RX───D(0.001)[&lt;virtual&gt;]───────D(0.001)[&lt;virtual&gt;]───────D(0.001)[&lt;virtual&gt;]──────────D(0.001)[&lt;virtual&gt;]───────D(0.001)[&lt;virtual&gt;]────@─────D(0.001)[&lt;virtual&gt;]───────D(0.001)[&lt;virtual&gt;]────@─────D(0.001)[&lt;virtual&gt;]───@───D(0.001)[&lt;virtual&gt;]───@───D(0.001)[&lt;virtual&gt;]───────D(0.001)[&lt;virtual&gt;]───S───D(0.001)[&lt;virtual&gt;]───H───D(0.001)[&lt;virtual&gt;]───────D(0.001)[&lt;virtual&gt;]───────D(0.001)[&lt;virtual&gt;]──────────X────D(0.001)[&lt;virtual&gt;]───H───D(0.001)[&lt;virtual&gt;]───────D(0.001)[&lt;virtual&gt;]─────X────D(0.001)[&lt;virtual&gt;]───────D(0.001)[&lt;virtual&gt;]───X───D(0.001)[&lt;virtual&gt;]───×───D(0.001)[&lt;virtual&gt;]───────D(0.001)[&lt;virtual&gt;]───────D(0.001)[&lt;virtual&gt;]───────D(0.001)[&lt;virtual&gt;]──────────D(0.001)[&lt;virtual&gt;]───────────D(0.001)[&lt;virtual&gt;]──────────D(0.001)[&lt;virtual&gt;]───────D(0.001)[&lt;virtual&gt;]───M────────\n",
       "                                                                                      └──┘                                                   └──┘                                                   └──┘                                                                                                                                                                                                               └───────┘                                                                             └──┘                                                                                                                                                                                     └──┘                         └───┘                         └──┘</pre>"
      ],
      "text/plain": [
       "                                                                                      ┌──┐                                                   ┌──┐                                                   ┌──┐                                                                                                                                                                                                               ┌───────┐                                                                             ┌──┐                                                                                                                                                                                     ┌──┐                         ┌───┐                         ┌──┐\n",
       "0: ────RX───D(0.001)[<virtual>]───@───D(0.001)[<virtual>]───@───D(0.001)[<virtual>]────@─────D(0.001)[<virtual>]───────D(0.001)[<virtual>]──────────D(0.001)[<virtual>]───────D(0.001)[<virtual>]──────────D(0.001)[<virtual>]───────D(0.001)[<virtual>]───────D(0.001)[<virtual>]───────D(0.001)[<virtual>]───────D(0.001)[<virtual>]───────D(0.001)[<virtual>]───────D(0.001)[<virtual>]───H───D(0.001)[<virtual>]────@──────────D(0.001)[<virtual>]───×───D(0.001)[<virtual>]───────D(0.001)[<virtual>]──────────D(0.001)[<virtual>]───X───D(0.001)[<virtual>]───────D(0.001)[<virtual>]───X───D(0.001)[<virtual>]───────D(0.001)[<virtual>]───────D(0.001)[<virtual>]───@───D(0.001)[<virtual>]─────@────D(0.001)[<virtual>]──────@────D(0.001)[<virtual>]────H─────D(0.001)[<virtual>]───────D(0.001)[<virtual>]───M('z')───\n",
       "                                  │                         │                          │                                                                                                                                                                                                                                                                                                                                │                                │                                                                                │                                                   │                                                                             │                           │                             │                                                                                 │\n",
       "1: ────RX───D(0.001)[<virtual>]───┼───D(0.001)[<virtual>]───┼───D(0.001)[<virtual>]────┼@────D(0.001)[<virtual>]───@───D(0.001)[<virtual>]────@─────D(0.001)[<virtual>]───────D(0.001)[<virtual>]──────────D(0.001)[<virtual>]───────D(0.001)[<virtual>]───────D(0.001)[<virtual>]───X───D(0.001)[<virtual>]───────D(0.001)[<virtual>]───────D(0.001)[<virtual>]───────D(0.001)[<virtual>]───H───D(0.001)[<virtual>]────┼@─────────D(0.001)[<virtual>]───┼───D(0.001)[<virtual>]───@───D(0.001)[<virtual>]──────────D(0.001)[<virtual>]───┼───D(0.001)[<virtual>]───X───D(0.001)[<virtual>]───@───D(0.001)[<virtual>]───────D(0.001)[<virtual>]───────D(0.001)[<virtual>]───┼───D(0.001)[<virtual>]────@┼────D(0.001)[<virtual>]─────@┼────D(0.001)[<virtual>]────H─────D(0.001)[<virtual>]───────D(0.001)[<virtual>]───M────────\n",
       "                                  │                         │                          ││                          │                          │                                                                                                                                                                                                                                                                         ││                               │                         │                                                      │                         │                                                                                                       │                          ││                            ││                                                                                 │\n",
       "2: ────RX───D(0.001)[<virtual>]───┼───D(0.001)[<virtual>]───┼───D(0.001)[<virtual>]────┼┼────D(0.001)[<virtual>]───┼───D(0.001)[<virtual>]────┼@────D(0.001)[<virtual>]───@───D(0.001)[<virtual>]────@─────D(0.001)[<virtual>]───────D(0.001)[<virtual>]───────D(0.001)[<virtual>]───X───D(0.001)[<virtual>]───S───D(0.001)[<virtual>]───H───D(0.001)[<virtual>]───S───D(0.001)[<virtual>]───H───D(0.001)[<virtual>]────┼┼@────────D(0.001)[<virtual>]───×───D(0.001)[<virtual>]───X───D(0.001)[<virtual>]────@─────D(0.001)[<virtual>]───@───D(0.001)[<virtual>]───@───D(0.001)[<virtual>]───────D(0.001)[<virtual>]───────D(0.001)[<virtual>]───────D(0.001)[<virtual>]───┼───D(0.001)[<virtual>]────┼┼────D(0.001)[<virtual>]────@┼┼────D(0.001)[<virtual>]────@─────D(0.001)[<virtual>]───H───D(0.001)[<virtual>]───M────────\n",
       "                                  │                         │                          ││                          │                          ││                          │                          │                                                                                                                                                                                                                  │││                                                                                   │                                                                                                                                                             │                          ││                           │││                           │                                                     │\n",
       "3: ────RX───D(0.001)[<virtual>]───@───D(0.001)[<virtual>]───┼───D(0.001)[<virtual>]────┼@────D(0.001)[<virtual>]───┼───D(0.001)[<virtual>]────┼@────D(0.001)[<virtual>]───┼───D(0.001)[<virtual>]────┼@────D(0.001)[<virtual>]───@───D(0.001)[<virtual>]───────D(0.001)[<virtual>]───────D(0.001)[<virtual>]───S───D(0.001)[<virtual>]───H───D(0.001)[<virtual>]───────D(0.001)[<virtual>]───H───D(0.001)[<virtual>]────┼┼┼@───────D(0.001)[<virtual>]───H───D(0.001)[<virtual>]───@───D(0.001)[<virtual>]────┼@────D(0.001)[<virtual>]───────D(0.001)[<virtual>]───────D(0.001)[<virtual>]───────D(0.001)[<virtual>]───────D(0.001)[<virtual>]───X───D(0.001)[<virtual>]───@───D(0.001)[<virtual>]────@┼────D(0.001)[<virtual>]────@┼┼────D(0.001)[<virtual>]────┼H────D(0.001)[<virtual>]───────D(0.001)[<virtual>]───M────────\n",
       "                                                            │                          │                           │                          │                           │                          ││                          │                                                                                                                                                                                      ││││                                                       │                          ││                                                                                                                                  │                                                     │                            ││                           │                                                     │\n",
       "4: ────RX───D(0.001)[<virtual>]───────D(0.001)[<virtual>]───@───D(0.001)[<virtual>]────┼─────D(0.001)[<virtual>]───@───D(0.001)[<virtual>]────┼─────D(0.001)[<virtual>]───┼───D(0.001)[<virtual>]────┼┼────D(0.001)[<virtual>]───┼───D(0.001)[<virtual>]───────D(0.001)[<virtual>]───Z───D(0.001)[<virtual>]───────D(0.001)[<virtual>]───H───D(0.001)[<virtual>]───────D(0.001)[<virtual>]───H───D(0.001)[<virtual>]────┼┼┼┼@──────D(0.001)[<virtual>]───────D(0.001)[<virtual>]───┼───D(0.001)[<virtual>]────X┼────D(0.001)[<virtual>]───×───D(0.001)[<virtual>]───@───D(0.001)[<virtual>]───────D(0.001)[<virtual>]───X───D(0.001)[<virtual>]───@───D(0.001)[<virtual>]───────D(0.001)[<virtual>]─────@────D(0.001)[<virtual>]─────@┼────D(0.001)[<virtual>]────┼H────D(0.001)[<virtual>]───────D(0.001)[<virtual>]───M────────\n",
       "                                                                                       │                                                      │                           │                          ││                          │                                                                                                                                                                                      │││││                                                      │                           │                          │                         │                                                   │                                                                                                             │                           │                                                     │\n",
       "5: ────RX───D(0.001)[<virtual>]───────D(0.001)[<virtual>]───────D(0.001)[<virtual>]────@─────D(0.001)[<virtual>]───────D(0.001)[<virtual>]────┼─────D(0.001)[<virtual>]───@───D(0.001)[<virtual>]────┼@────D(0.001)[<virtual>]───┼───D(0.001)[<virtual>]───@───D(0.001)[<virtual>]───Z───D(0.001)[<virtual>]───S───D(0.001)[<virtual>]───H───D(0.001)[<virtual>]───────D(0.001)[<virtual>]───H───D(0.001)[<virtual>]────┼┼┼┼┼@─────D(0.001)[<virtual>]───H───D(0.001)[<virtual>]───X───D(0.001)[<virtual>]─────┼────D(0.001)[<virtual>]───×───D(0.001)[<virtual>]───┼───D(0.001)[<virtual>]───×───D(0.001)[<virtual>]───@───D(0.001)[<virtual>]───────D(0.001)[<virtual>]───────D(0.001)[<virtual>]──────────D(0.001)[<virtual>]──────@────D(0.001)[<virtual>]────@─────D(0.001)[<virtual>]───H───D(0.001)[<virtual>]───M────────\n",
       "                                                                                                                                              │                                                      │                           │                         │                                                                                                                                                            ││││││                                                                                 │                                                    │                         │                                                                                                                                                                                                                         │\n",
       "6: ────RX───D(0.001)[<virtual>]───────D(0.001)[<virtual>]───────D(0.001)[<virtual>]──────────D(0.001)[<virtual>]───────D(0.001)[<virtual>]────@─────D(0.001)[<virtual>]───────D(0.001)[<virtual>]────@─────D(0.001)[<virtual>]───@───D(0.001)[<virtual>]───@───D(0.001)[<virtual>]───────D(0.001)[<virtual>]───S───D(0.001)[<virtual>]───H───D(0.001)[<virtual>]───────D(0.001)[<virtual>]───H───D(0.001)[<virtual>]────┼┼┼┼┼┼@────D(0.001)[<virtual>]───H───D(0.001)[<virtual>]───────D(0.001)[<virtual>]─────X────D(0.001)[<virtual>]───────D(0.001)[<virtual>]───X───D(0.001)[<virtual>]───×───D(0.001)[<virtual>]───────D(0.001)[<virtual>]───────D(0.001)[<virtual>]───────D(0.001)[<virtual>]──────────D(0.001)[<virtual>]───────────D(0.001)[<virtual>]──────────D(0.001)[<virtual>]───────D(0.001)[<virtual>]───M────────\n",
       "                                                                                                                                                                                                                                                                                                                                                                                                                        │││││││                                                                                                                                                                                                                                                                                                                                                                                         │\n",
       "7: ────RX───D(0.001)[<virtual>]───@───D(0.001)[<virtual>]───@───D(0.001)[<virtual>]────@─────D(0.001)[<virtual>]───────D(0.001)[<virtual>]──────────D(0.001)[<virtual>]───────D(0.001)[<virtual>]──────────D(0.001)[<virtual>]───────D(0.001)[<virtual>]───────D(0.001)[<virtual>]───────D(0.001)[<virtual>]───────D(0.001)[<virtual>]───────D(0.001)[<virtual>]───────D(0.001)[<virtual>]───────D(0.001)[<virtual>]────X┼┼┼┼┼┼────D(0.001)[<virtual>]───×───D(0.001)[<virtual>]───────D(0.001)[<virtual>]──────────D(0.001)[<virtual>]───X───D(0.001)[<virtual>]───────D(0.001)[<virtual>]───X───D(0.001)[<virtual>]───────D(0.001)[<virtual>]───────D(0.001)[<virtual>]───@───D(0.001)[<virtual>]─────@────D(0.001)[<virtual>]──────@────D(0.001)[<virtual>]────H─────D(0.001)[<virtual>]───────D(0.001)[<virtual>]───M────────\n",
       "                                  │                         │                          │                                                                                                                                                                                                                                                                                                                                 ││││││                          │                                                                                │                                                   │                                                                             │                           │                             │                                                                                 │\n",
       "8: ────RX───D(0.001)[<virtual>]───┼───D(0.001)[<virtual>]───┼───D(0.001)[<virtual>]────┼@────D(0.001)[<virtual>]───@───D(0.001)[<virtual>]────@─────D(0.001)[<virtual>]───────D(0.001)[<virtual>]──────────D(0.001)[<virtual>]───────D(0.001)[<virtual>]───────D(0.001)[<virtual>]───X───D(0.001)[<virtual>]───────D(0.001)[<virtual>]───────D(0.001)[<virtual>]───────D(0.001)[<virtual>]───────D(0.001)[<virtual>]─────X┼┼┼┼┼────D(0.001)[<virtual>]───┼───D(0.001)[<virtual>]───@───D(0.001)[<virtual>]──────────D(0.001)[<virtual>]───┼───D(0.001)[<virtual>]───X───D(0.001)[<virtual>]───@───D(0.001)[<virtual>]───────D(0.001)[<virtual>]───────D(0.001)[<virtual>]───┼───D(0.001)[<virtual>]────@┼────D(0.001)[<virtual>]─────@┼────D(0.001)[<virtual>]────H─────D(0.001)[<virtual>]───────D(0.001)[<virtual>]───M────────\n",
       "                                  │                         │                          ││                          │                          │                                                                                                                                                                                                                                                                           │││││                          │                         │                                                      │                         │                                                                                                       │                          ││                            ││                                                                                 │\n",
       "9: ────RX───D(0.001)[<virtual>]───┼───D(0.001)[<virtual>]───┼───D(0.001)[<virtual>]────┼┼────D(0.001)[<virtual>]───┼───D(0.001)[<virtual>]────┼@────D(0.001)[<virtual>]───@───D(0.001)[<virtual>]────@─────D(0.001)[<virtual>]───────D(0.001)[<virtual>]───────D(0.001)[<virtual>]───X───D(0.001)[<virtual>]───S───D(0.001)[<virtual>]───H───D(0.001)[<virtual>]───S───D(0.001)[<virtual>]───────D(0.001)[<virtual>]──────X┼┼┼┼────D(0.001)[<virtual>]───×───D(0.001)[<virtual>]───X───D(0.001)[<virtual>]────@─────D(0.001)[<virtual>]───@───D(0.001)[<virtual>]───@───D(0.001)[<virtual>]───────D(0.001)[<virtual>]───────D(0.001)[<virtual>]───────D(0.001)[<virtual>]───┼───D(0.001)[<virtual>]────┼┼────D(0.001)[<virtual>]────@┼┼────D(0.001)[<virtual>]────@─────D(0.001)[<virtual>]───H───D(0.001)[<virtual>]───M────────\n",
       "                                  │                         │                          ││                          │                          ││                          │                          │                                                                                                                                                                                                                     ││││                                                                               │                                                                                                                                                             │                          ││                           │││                           │                                                     │\n",
       "10: ───RX───D(0.001)[<virtual>]───@───D(0.001)[<virtual>]───┼───D(0.001)[<virtual>]────┼@────D(0.001)[<virtual>]───┼───D(0.001)[<virtual>]────┼@────D(0.001)[<virtual>]───┼───D(0.001)[<virtual>]────┼@────D(0.001)[<virtual>]───@───D(0.001)[<virtual>]───────D(0.001)[<virtual>]───────D(0.001)[<virtual>]───S───D(0.001)[<virtual>]───H───D(0.001)[<virtual>]───────D(0.001)[<virtual>]───────D(0.001)[<virtual>]───────X┼┼┼────D(0.001)[<virtual>]───H───D(0.001)[<virtual>]───@───D(0.001)[<virtual>]────┼@────D(0.001)[<virtual>]───────D(0.001)[<virtual>]───────D(0.001)[<virtual>]───────D(0.001)[<virtual>]───────D(0.001)[<virtual>]───X───D(0.001)[<virtual>]───@───D(0.001)[<virtual>]────@┼────D(0.001)[<virtual>]────@┼┼────D(0.001)[<virtual>]────┼H────D(0.001)[<virtual>]───────D(0.001)[<virtual>]───M────────\n",
       "                                                            │                          │                           │                          │                           │                          ││                          │                                                                                                                                                                                          │││                                                    │                          ││                                                                                                                                  │                                                     │                            ││                           │                                                     │\n",
       "11: ───RX───D(0.001)[<virtual>]───────D(0.001)[<virtual>]───@───D(0.001)[<virtual>]────┼─────D(0.001)[<virtual>]───@───D(0.001)[<virtual>]────┼─────D(0.001)[<virtual>]───┼───D(0.001)[<virtual>]────┼┼────D(0.001)[<virtual>]───┼───D(0.001)[<virtual>]───────D(0.001)[<virtual>]───Z───D(0.001)[<virtual>]───────D(0.001)[<virtual>]───H───D(0.001)[<virtual>]───────D(0.001)[<virtual>]───────D(0.001)[<virtual>]────────X┼┼────D(0.001)[<virtual>]───────D(0.001)[<virtual>]───┼───D(0.001)[<virtual>]────X┼────D(0.001)[<virtual>]───×───D(0.001)[<virtual>]───@───D(0.001)[<virtual>]───────D(0.001)[<virtual>]───X───D(0.001)[<virtual>]───@───D(0.001)[<virtual>]───────D(0.001)[<virtual>]─────@────D(0.001)[<virtual>]─────@┼────D(0.001)[<virtual>]────┼H────D(0.001)[<virtual>]───────D(0.001)[<virtual>]───M────────\n",
       "                                                                                       │                                                      │                           │                          ││                          │                                                                                                                                                                                           ││                                                    │                           │                          │                         │                                                   │                                                                                                             │                           │                                                     │\n",
       "12: ───RX───D(0.001)[<virtual>]───────D(0.001)[<virtual>]───────D(0.001)[<virtual>]────@─────D(0.001)[<virtual>]───────D(0.001)[<virtual>]────┼─────D(0.001)[<virtual>]───@───D(0.001)[<virtual>]────┼@────D(0.001)[<virtual>]───┼───D(0.001)[<virtual>]───@───D(0.001)[<virtual>]───Z───D(0.001)[<virtual>]───S───D(0.001)[<virtual>]───H───D(0.001)[<virtual>]───────D(0.001)[<virtual>]───────D(0.001)[<virtual>]─────────X┼────D(0.001)[<virtual>]───H───D(0.001)[<virtual>]───X───D(0.001)[<virtual>]─────┼────D(0.001)[<virtual>]───×───D(0.001)[<virtual>]───┼───D(0.001)[<virtual>]───×───D(0.001)[<virtual>]───@───D(0.001)[<virtual>]───────D(0.001)[<virtual>]───────D(0.001)[<virtual>]──────────D(0.001)[<virtual>]──────@────D(0.001)[<virtual>]────@─────D(0.001)[<virtual>]───H───D(0.001)[<virtual>]───M────────\n",
       "                                                                                                                                              │                                                      │                           │                         │                                                                                                                                                                  │                                                                                │                                                    │                         │                                                                                                                                                                                                                         │\n",
       "13: ───RX───D(0.001)[<virtual>]───────D(0.001)[<virtual>]───────D(0.001)[<virtual>]──────────D(0.001)[<virtual>]───────D(0.001)[<virtual>]────@─────D(0.001)[<virtual>]───────D(0.001)[<virtual>]────@─────D(0.001)[<virtual>]───@───D(0.001)[<virtual>]───@───D(0.001)[<virtual>]───────D(0.001)[<virtual>]───S───D(0.001)[<virtual>]───H───D(0.001)[<virtual>]───────D(0.001)[<virtual>]───────D(0.001)[<virtual>]──────────X────D(0.001)[<virtual>]───H───D(0.001)[<virtual>]───────D(0.001)[<virtual>]─────X────D(0.001)[<virtual>]───────D(0.001)[<virtual>]───X───D(0.001)[<virtual>]───×───D(0.001)[<virtual>]───────D(0.001)[<virtual>]───────D(0.001)[<virtual>]───────D(0.001)[<virtual>]──────────D(0.001)[<virtual>]───────────D(0.001)[<virtual>]──────────D(0.001)[<virtual>]───────D(0.001)[<virtual>]───M────────\n",
       "                                                                                      └──┘                                                   └──┘                                                   └──┘                                                                                                                                                                                                               └───────┘                                                                             └──┘                                                                                                                                                                                     └──┘                         └───┘                         └──┘"
      ]
     },
     "execution_count": 8,
     "metadata": {},
     "output_type": "execute_result"
    }
   ],
   "source": [
    "encoding = cirq.Circuit.concat_ragged(\n",
    "    encoding_circuit,\n",
    "    encoding_circuit.transform_qubits({qreg[i]: qreg[i + n] for i in range(n)}),\n",
    ")\n",
    "\n",
    "# prepare Bell state\n",
    "encoding.append(cirq.Moment(cirq.H.on_each(qreg[:n])))\n",
    "encoding.append(cirq.Moment(cirq.CNOT.on_each([(qreg[i], qreg[i+n]) for i in range(n)])))\n",
    "\n",
    "\n",
    "circuit = encoding + measurement_circuit\n",
    "circuit = circuit.with_noise(noise(noise_rate))\n",
    "circuit.append(cirq.measure(qreg, key=\"z\"))\n",
    "circuit"
   ]
  },
  {
   "cell_type": "code",
   "execution_count": 9,
   "metadata": {},
   "outputs": [],
   "source": [
    "counts = simulator.run(circuit, repetitions=nshots).histogram(key=\"z\")"
   ]
  },
  {
   "cell_type": "code",
   "execution_count": 10,
   "metadata": {},
   "outputs": [],
   "source": [
    "counts = {int_to_bin_str(key, n * k) : val for key, val in counts.items()}"
   ]
  },
  {
   "cell_type": "code",
   "execution_count": 11,
   "metadata": {},
   "outputs": [
    {
     "name": "stderr",
     "output_type": "stream",
     "text": [
      "100%|██████████| 64/64 [00:00<00:00, 21793.90it/s]\n",
      "100%|██████████| 64/64 [00:01<00:00, 56.69it/s]\n"
     ]
    },
    {
     "name": "stdout",
     "output_type": "stream",
     "text": [
      "0.9784160338034602\n"
     ]
    }
   ],
   "source": [
    "ev = get_lst_ev(counts, tqdm(observable_elements), tqdm(stabilizer_elements))\n",
    "print(ev)"
   ]
  },
  {
   "cell_type": "markdown",
   "metadata": {},
   "source": []
  }
 ],
 "metadata": {
  "kernelspec": {
   "display_name": "envencoded",
   "language": "python",
   "name": "python3"
  },
  "language_info": {
   "codemirror_mode": {
    "name": "ipython",
    "version": 3
   },
   "file_extension": ".py",
   "mimetype": "text/x-python",
   "name": "python",
   "nbconvert_exporter": "python",
   "pygments_lexer": "ipython3",
   "version": "3.10.12"
  }
 },
 "nbformat": 4,
 "nbformat_minor": 2
}
