{
 "cells": [
  {
   "cell_type": "markdown",
   "metadata": {},
   "source": [
    "# Bell State Preparation experiment: Compute $\\langle \\bar{\\Phi^+} | \\bar{X}\\bar{X} | \\bar{\\Phi^+}\\rangle$ with the seven-qubit Steane code"
   ]
  },
  {
   "cell_type": "code",
   "execution_count": 1,
   "metadata": {},
   "outputs": [],
   "source": [
    "from typing import List, Dict, Sequence\n",
    "import itertools\n",
    "import functools\n",
    "import numpy as np\n",
    "from tqdm import tqdm\n",
    "import cirq\n",
    "import qiskit\n",
    "from qiskit.circuit.library import Barrier\n",
    "import qiskit_ibm_runtime\n",
    "from qiskit_aer import AerSimulator\n",
    "\n",
    "from mitiq import PauliString\n",
    "\n",
    "from encoded.diagonalize import get_stabilizer_matrix_from_paulis, get_measurement_circuit, get_paulis_from_stabilizer_matrix"
   ]
  },
  {
   "cell_type": "markdown",
   "metadata": {},
   "source": [
    "## Set parameters"
   ]
  },
  {
   "cell_type": "code",
   "execution_count": 2,
   "metadata": {},
   "outputs": [],
   "source": [
    "n = 7                                   # Number of physical qubits\n",
    "nshots = 100_000                        # Number of samples/shots\n",
    "depth = 0                               # Number of folded Bell state preparation circuits for added noise\n",
    "k = 2                                   # Number of logical qubits.\n"
   ]
  },
  {
   "cell_type": "code",
   "execution_count": 15,
   "metadata": {},
   "outputs": [],
   "source": [
    "# Computer and qubits to use.\n",
    "# Option 1: Use saved noise characteristics.\n",
    "#computer = qiskit_ibm_runtime.fake_provider.FakeKyiv()\n",
    "computer = AerSimulator()  # Noiseless simulator - use this for a sanity check to see all computed expectation values (physical and encoded) are 1.0.\n",
    "\n",
    "# Option 2: Use noise characteristics from most recent calibration.\n",
    "# service = qiskit_ibm_runtime.QiskitRuntimeService()  # This assumes a saved account.\n",
    "# computer = service.backend(\"ibm_kyiv\")\n",
    "# computer = AerSimulator.from_backend(computer)\n",
    "\n",
    "# See calibration data at https://quantum.ibm.com/services/resources to select good qubits.\n",
    "layout = {\n",
    "    1 : [0,1],\n",
    "    7 : [61, 62, 63, 64, 65, 66, 67, 72, 73, 81, 82, 83, 84, 85],\n",
    "}\n",
    "layout = {\n",
    "1 : [0,1],\n",
    "7 : [0,1,2,3,4,5,6,8,9,10,11,12,13],\n",
    "\n",
    "}"
   ]
  },
  {
   "cell_type": "markdown",
   "metadata": {},
   "source": [
    "## Helper functions"
   ]
  },
  {
   "cell_type": "code",
   "execution_count": 16,
   "metadata": {},
   "outputs": [],
   "source": [
    "# Expectation of pauli on bitstring measured in diagonal basis.\n",
    "def compute_expectation(\n",
    "    pauli: cirq.PauliString,\n",
    "    counts: Dict[str, int],\n",
    ") -> float:\n",
    "    if pauli is cirq.PauliString():\n",
    "        return 1.0\n",
    "\n",
    "    expectation = 0.0\n",
    "\n",
    "    indices = [q.x for q in pauli.qubits]\n",
    "    for key, value in counts.items():\n",
    "        key = list(map(int, list(key[::-1])))\n",
    "        expectation += (-1) ** sum([key[i] for i in indices]) * value\n",
    "\n",
    "    return expectation / sum(counts.values())\n",
    "\n",
    "# Prepares logical |0> state on Steane Code\n",
    "def encode_steane(qreg: Sequence[cirq.Qid]) -> cirq.Circuit:\n",
    "    circuit = cirq.Circuit()\n",
    "\n",
    "    circuit.append(cirq.H.on(qreg[0]))\n",
    "    circuit.append(cirq.H.on(qreg[4]))\n",
    "    circuit.append(cirq.H.on(qreg[6]))\n",
    "\n",
    "    circuit.append(cirq.CNOT.on(qreg[0], qreg[1]))\n",
    "    circuit.append(cirq.CNOT.on(qreg[4], qreg[5]))\n",
    "\n",
    "    circuit.append(cirq.CNOT.on(qreg[6], qreg[3]))\n",
    "    circuit.append(cirq.CNOT.on(qreg[6], qreg[5]))\n",
    "    circuit.append(cirq.CNOT.on(qreg[4], qreg[2]))\n",
    "    \n",
    "    circuit.append(cirq.CNOT.on(qreg[0], qreg[3]))\n",
    "    circuit.append(cirq.CNOT.on(qreg[4], qreg[1]))\n",
    "    circuit.append(cirq.CNOT.on(qreg[3], qreg[2]))\n",
    "\n",
    "    return circuit\n",
    "\n",
    "def strs_to_paulis(pauli_strs : List[str]) -> List[cirq.PauliString]:\n",
    "    stab_list = []\n",
    "    for stab_str in pauli_strs:\n",
    "        stab_list.append(PauliString(stab_str)._pauli)\n",
    "    return stab_list\n",
    "\n",
    "def generate_stabilizer_elements(generators: List[cirq.PauliString]) -> List[cirq.PauliString]:\n",
    "    elements = []\n",
    "    for string in itertools.chain.from_iterable(itertools.combinations(generators, r) for r in range(len(generators) + 1)):\n",
    "        elements.append(\n",
    "            functools.reduce(lambda a, b: a * b, string, cirq.PauliString())\n",
    "        )\n",
    "    return elements\n",
    "\n",
    "# For qiskit circuits\n",
    "def get_active_qubits(circ):\n",
    "    dag = qiskit.converters.circuit_to_dag(circ)\n",
    "    active_qubits = [qubit for qubit in circ.qubits if qubit not in dag.idle_wires()]\n",
    "    return active_qubits\n",
    "\n",
    "def get_lst_ev(counts, observables, stabilizers):\n",
    "    numerator = 0\n",
    "    for obs in observables:\n",
    "        numerator += compute_expectation(obs, counts) / len(observables)\n",
    "    denominator = 0\n",
    "    for stab in stabilizers:\n",
    "        denominator += compute_expectation(stab, counts) / len(stabilizers)\n",
    "    return float(np.real_if_close(numerator / denominator))\n"
   ]
  },
  {
   "cell_type": "markdown",
   "metadata": {},
   "source": [
    "### Run unmitigated experiment"
   ]
  },
  {
   "cell_type": "code",
   "execution_count": 17,
   "metadata": {},
   "outputs": [
    {
     "name": "stdout",
     "output_type": "stream",
     "text": [
      "0: ───H───@───H───\n",
      "          │\n",
      "1: ───────X───H───\n",
      "1.0\n"
     ]
    }
   ],
   "source": [
    "qreg = cirq.LineQubit.range(k)\n",
    "\n",
    "circuit = cirq.Circuit()\n",
    "circuit.append(cirq.H.on(qreg[0]))\n",
    "for i in range(len(qreg)-1):\n",
    "    circuit.append(cirq.CNOT.on(qreg[i], qreg[i+1]))\n",
    "circuit.append(cirq.H.on_each(qreg))\n",
    "\n",
    "print(circuit)\n",
    "\n",
    "circuit = qiskit.QuantumCircuit.from_qasm_str(circuit.to_qasm())\n",
    "circuit.measure_active()\n",
    "# Compile to device.\n",
    "compiled_raw = qiskit.transpile(\n",
    "    circuit, \n",
    "    backend=computer,\n",
    "    initial_layout=layout[1],  # Hardcode n = 1 (i.e., no encoding) to get layout.\n",
    "    routing_method=\"sabre\",\n",
    "    # scheduling_method=\"asap\",\n",
    "    optimization_level=0,\n",
    ")\n",
    "\n",
    "job = computer.run(compiled_raw, shots=nshots)\n",
    "counts = job.result().get_counts()\n",
    "ev = compute_expectation(PauliString(\"XX\")._pauli, counts)\n",
    "\n",
    "print(ev)"
   ]
  },
  {
   "cell_type": "markdown",
   "metadata": {},
   "source": [
    "## Run encoded experiment"
   ]
  },
  {
   "cell_type": "code",
   "execution_count": 18,
   "metadata": {},
   "outputs": [],
   "source": [
    "generator_strs = [\n",
    "    \"XXXXIII\",\n",
    "    \"IXXIXXI\",\n",
    "    \"IIXXIXX\",\n",
    "    \"ZZZZIII\",\n",
    "    \"IZZIZZI\",\n",
    "    \"IIZZIZZ\"\n",
    "]\n",
    "\n",
    "observable = PauliString(\"X\" * n * k)._pauli\n",
    "\n",
    "qreg = cirq.LineQubit.range(n * k)\n",
    "\n",
    "stabilizer_generators = strs_to_paulis(generator_strs)\n",
    "\n",
    "\n",
    "stabilizer_matrix = get_stabilizer_matrix_from_paulis(stabilizer_generators, qreg[:n])\n",
    "meas_circuit, transformed_matrix = get_measurement_circuit(stabilizer_matrix)\n",
    "\n",
    "\"\"\"\n",
    "Warning: Here you can insert like this the hadamard gate (logical) as the stabilizer group is non affected by this transformation. If you were going to apply it to other code you should always check that HS = S (generally work but fake hadamard gate e.g repetition code hadamard does not work).\n",
    "\"\"\"\n",
    "\n",
    "meas_circuit.insert(0, cirq.H.on_each(qreg[:n]))\n",
    "\n",
    "measurement_circuit = measurement_circuit = cirq.Circuit.concat_ragged(\n",
    "    *[meas_circuit,meas_circuit.transform_qubits(dict(zip(qreg[:n], qreg[n:2*n])))]\n",
    ")\n",
    "\n",
    "transformed_generators = get_paulis_from_stabilizer_matrix(transformed_matrix)[:-1] \n",
    "transformed_generators = [transformed_generators,transformed_generators]\n",
    "\n",
    "stabilizer_elements = generate_stabilizer_elements(\n",
    "    functools.reduce(lambda a,b : a+b, [\n",
    "        [p.map_qubits(dict(zip(qreg[:n], qreg[i*n:(i+1)*n]))) for p in transformed_generators[i]] for i in range(k)\n",
    "    ])\n",
    ")\n",
    "\n",
    "transformed_observable = observable.conjugated_by(measurement_circuit**-1)\n",
    "observable_elements = [transformed_observable * stab for stab in stabilizer_elements]"
   ]
  },
  {
   "cell_type": "code",
   "execution_count": 19,
   "metadata": {},
   "outputs": [
    {
     "data": {
      "text/html": [
       "<pre style=\"overflow: auto; white-space: pre;\">           ┌──┐   ┌──┐   ┌──┐   ┌───┐   ┌────┐                                       ┌───┐   ┌───┐   ┌──┐\n",
       "0: ────H────@───────@─────H───────@──────────────H───@───@───────────────────────@──────@─────H─────────────────\n",
       "            │       │             │                  │   │                       │      │\n",
       "1: ─────────X───────┼─────X──────H┼──────@───────H───X───┼───@───@───────────────┼─────@┼──────@──────H─────────\n",
       "                    │     │       │      │               │   │   │               │     ││      │\n",
       "2: ────────────────X┼─────┼X─────H┼──────┼@──────H───────X───X───┼───────────────┼────@┼┼─────@┼──────@─────H───\n",
       "                   ││     ││      │      ││                      │               │    │││     ││      │\n",
       "3: ──────────X─────┼X─────┼@─────H┼──────┼┼@─────H───H───────────┼───────────X───@────@┼┼─────┼┼H─────┼─────────\n",
       "             │     │      │       │      │││                     │           │         ││     ││      │\n",
       "4: ────H────@┼─────@──────@──────H┼──────┼┼┼@────H───────────────X───×───────┼───X─────@┼─────@┼──────┼H────────\n",
       "            ││                    │      ││││                        │       │   │      │      │      │\n",
       "5: ─────────X┼─────X──────H──────@┼──────┼┼┼┼────H───H───────────────×───×───@───@──────@──────@──────@─────H───\n",
       "             │     │             ││      ││││                            │\n",
       "6: ────H─────@─────@──────H──────┼┼@─────┼┼┼┼────H───H───────────────────×──────────────────────────────────────\n",
       "                                 │││     ││││\n",
       "7: ────H────@───────@────────────┼X┼─────┼┼┼┼────H───@───@───────────────────────@──────@─────H─────────────────\n",
       "            │       │            │ │     ││││        │   │                       │      │\n",
       "8: ─────────X───────┼─────X──────┼─┼─────X┼┼┼────H───X───┼───@───@───────────────┼─────@┼──────@──────H─────────\n",
       "                    │     │      │ │      │││            │   │   │               │     ││      │\n",
       "9: ────────────────X┼─────┼X─────┼─┼──────X┼┼────H───────X───X───┼───────────────┼────@┼┼─────@┼──────@─────H───\n",
       "                   ││     ││     │ │       ││                    │               │    │││     ││      │\n",
       "10: ─────────X─────┼X─────┼@─────┼─┼───────X┼────H───H───────────┼───────────X───@────@┼┼─────┼┼H─────┼─────────\n",
       "             │     │      │      │ │        │                    │           │         ││     ││      │\n",
       "11: ───H────@┼─────@──────@──────┼─┼────────X────H───────────────X───×───────┼───X─────@┼─────@┼──────┼H────────\n",
       "            ││                   │ │                                 │       │   │      │      │      │\n",
       "12: ────────X┼─────X─────────────X─┼─────────────H───H───────────────×───×───@───@──────@──────@──────@─────H───\n",
       "             │     │               │                                     │\n",
       "13: ───H─────@─────@───────────────X─────────────H───H───────────────────×──────────────────────────────────────\n",
       "           └──┘   └──┘   └──┘   └───┘   └────┘                                       └───┘   └───┘   └──┘</pre>"
      ],
      "text/plain": [
       "           ┌──┐   ┌──┐   ┌──┐   ┌───┐   ┌────┐                                       ┌───┐   ┌───┐   ┌──┐\n",
       "0: ────H────@───────@─────H───────@──────────────H───@───@───────────────────────@──────@─────H─────────────────\n",
       "            │       │             │                  │   │                       │      │\n",
       "1: ─────────X───────┼─────X──────H┼──────@───────H───X───┼───@───@───────────────┼─────@┼──────@──────H─────────\n",
       "                    │     │       │      │               │   │   │               │     ││      │\n",
       "2: ────────────────X┼─────┼X─────H┼──────┼@──────H───────X───X───┼───────────────┼────@┼┼─────@┼──────@─────H───\n",
       "                   ││     ││      │      ││                      │               │    │││     ││      │\n",
       "3: ──────────X─────┼X─────┼@─────H┼──────┼┼@─────H───H───────────┼───────────X───@────@┼┼─────┼┼H─────┼─────────\n",
       "             │     │      │       │      │││                     │           │         ││     ││      │\n",
       "4: ────H────@┼─────@──────@──────H┼──────┼┼┼@────H───────────────X───×───────┼───X─────@┼─────@┼──────┼H────────\n",
       "            ││                    │      ││││                        │       │   │      │      │      │\n",
       "5: ─────────X┼─────X──────H──────@┼──────┼┼┼┼────H───H───────────────×───×───@───@──────@──────@──────@─────H───\n",
       "             │     │             ││      ││││                            │\n",
       "6: ────H─────@─────@──────H──────┼┼@─────┼┼┼┼────H───H───────────────────×──────────────────────────────────────\n",
       "                                 │││     ││││\n",
       "7: ────H────@───────@────────────┼X┼─────┼┼┼┼────H───@───@───────────────────────@──────@─────H─────────────────\n",
       "            │       │            │ │     ││││        │   │                       │      │\n",
       "8: ─────────X───────┼─────X──────┼─┼─────X┼┼┼────H───X───┼───@───@───────────────┼─────@┼──────@──────H─────────\n",
       "                    │     │      │ │      │││            │   │   │               │     ││      │\n",
       "9: ────────────────X┼─────┼X─────┼─┼──────X┼┼────H───────X───X───┼───────────────┼────@┼┼─────@┼──────@─────H───\n",
       "                   ││     ││     │ │       ││                    │               │    │││     ││      │\n",
       "10: ─────────X─────┼X─────┼@─────┼─┼───────X┼────H───H───────────┼───────────X───@────@┼┼─────┼┼H─────┼─────────\n",
       "             │     │      │      │ │        │                    │           │         ││     ││      │\n",
       "11: ───H────@┼─────@──────@──────┼─┼────────X────H───────────────X───×───────┼───X─────@┼─────@┼──────┼H────────\n",
       "            ││                   │ │                                 │       │   │      │      │      │\n",
       "12: ────────X┼─────X─────────────X─┼─────────────H───H───────────────×───×───@───@──────@──────@──────@─────H───\n",
       "             │     │               │                                     │\n",
       "13: ───H─────@─────@───────────────X─────────────H───H───────────────────×──────────────────────────────────────\n",
       "           └──┘   └──┘   └──┘   └───┘   └────┘                                       └───┘   └───┘   └──┘"
      ]
     },
     "execution_count": 19,
     "metadata": {},
     "output_type": "execute_result"
    }
   ],
   "source": [
    "encoding = cirq.Circuit.concat_ragged(\n",
    "    encode_steane(qreg[:n]),\n",
    "    encode_steane(qreg[n:])\n",
    ")\n",
    "encoding.append(cirq.H.on_each(qreg[:n]))\n",
    "encoding.append(cirq.CNOT.on_each([(qreg[i], qreg[i+n]) for i in range(n)]))\n",
    "\n",
    "\n",
    "tot_circuit = encoding+ measurement_circuit\n",
    "tot_circuit"
   ]
  },
  {
   "cell_type": "code",
   "execution_count": 21,
   "metadata": {},
   "outputs": [
    {
     "data": {
      "text/plain": [
       "OrderedDict([('cx', 35),\n",
       "             ('h', 33),\n",
       "             ('cz', 14),\n",
       "             ('measure', 14),\n",
       "             ('barrier', 3)])"
      ]
     },
     "execution_count": 21,
     "metadata": {},
     "output_type": "execute_result"
    }
   ],
   "source": [
    "encoding = cirq.Circuit.concat_ragged(\n",
    "    encode_steane(qreg[:n]),\n",
    "    encode_steane(qreg[n:])\n",
    ")\n",
    "\n",
    "# prepare Bell state\n",
    "encoding.append(cirq.H.on_each(qreg[:n]))\n",
    "encoding.append(cirq.CNOT.on_each([(qreg[i], qreg[i+n]) for i in range(n)]))\n",
    "\n",
    "encoding = qiskit.QuantumCircuit.from_qasm_str(encoding.to_qasm())\n",
    "measurement = qiskit.QuantumCircuit.from_qasm_str(measurement_circuit.to_qasm())\n",
    "\n",
    "circ_full = encoding.compose(\n",
    "    Barrier(n*k, label=\"encoding\"), get_active_qubits(encoding)\n",
    ").compose(\n",
    "    Barrier(n*k, label=\"measurement\"), get_active_qubits(encoding)\n",
    ").compose(measurement)\n",
    "circ_full.measure_active()\n",
    "\n",
    "compiled = qiskit.transpile(\n",
    "    circ_full, \n",
    "    backend=computer,\n",
    "    # initial_layout=layout[n],\n",
    "    routing_method=\"sabre\",\n",
    "    # scheduling_method=\"asap\",\n",
    "    optimization_level=3,\n",
    ")\n",
    "\n",
    "compiled.draw(fold=-1, idle_wires=False)\n",
    "compiled.count_ops()"
   ]
  },
  {
   "cell_type": "code",
   "execution_count": 22,
   "metadata": {},
   "outputs": [
    {
     "name": "stdout",
     "output_type": "stream",
     "text": [
      "{'00000000000000': 50052, '10100001010000': 49948}\n"
     ]
    },
    {
     "name": "stderr",
     "output_type": "stream",
     "text": [
      "100%|██████████| 1024/1024 [00:00<00:00, 64537.45it/s]\n",
      "100%|██████████| 1024/1024 [00:00<00:00, 37357.29it/s]"
     ]
    },
    {
     "name": "stdout",
     "output_type": "stream",
     "text": [
      "1.0\n"
     ]
    },
    {
     "name": "stderr",
     "output_type": "stream",
     "text": [
      "\n"
     ]
    }
   ],
   "source": [
    "job = computer.run(\n",
    "    compiled,\n",
    "    shots=nshots,\n",
    ")\n",
    "\n",
    "counts = job.result().get_counts()\n",
    "print(counts)\n",
    "ev = get_lst_ev(counts, tqdm(observable_elements), tqdm(stabilizer_elements))\n",
    "print(ev)"
   ]
  },
  {
   "cell_type": "code",
   "execution_count": null,
   "metadata": {},
   "outputs": [],
   "source": []
  }
 ],
 "metadata": {
  "kernelspec": {
   "display_name": "venv",
   "language": "python",
   "name": "python3"
  },
  "language_info": {
   "codemirror_mode": {
    "name": "ipython",
    "version": 3
   },
   "file_extension": ".py",
   "mimetype": "text/x-python",
   "name": "python",
   "nbconvert_exporter": "python",
   "pygments_lexer": "ipython3",
   "version": "3.12.6"
  }
 },
 "nbformat": 4,
 "nbformat_minor": 2
}
