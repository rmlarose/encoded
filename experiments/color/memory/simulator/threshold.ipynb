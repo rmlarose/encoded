{
 "cells": [
  {
   "cell_type": "markdown",
   "metadata": {},
   "source": [
    "# Estimating the threshold of the color code with depolarizing noise"
   ]
  },
  {
   "cell_type": "markdown",
   "metadata": {},
   "source": [
    "## Setup"
   ]
  },
  {
   "cell_type": "code",
   "execution_count": 1,
   "metadata": {},
   "outputs": [],
   "source": [
    "import numpy as np\n",
    "from typing import List, Dict\n",
    "import functools\n",
    "import itertools\n",
    "import dataclasses\n",
    "\n",
    "from joblib import Parallel, delayed\n",
    "import matplotlib.pyplot as plt\n",
    "import cirq\n",
    "from mitiq import PauliString\n",
    "import stim\n",
    "import stimcirq\n",
    "\n",
    "from encoded.diagonalize import get_stabilizer_matrix_from_paulis, get_measurement_circuit, get_paulis_from_stabilizer_matrix"
   ]
  },
  {
   "cell_type": "markdown",
   "metadata": {},
   "source": [
    "## Helper functions"
   ]
  },
  {
   "cell_type": "code",
   "execution_count": 2,
   "metadata": {},
   "outputs": [],
   "source": [
    "def int_to_bin_list(x, length):\n",
    "    result = [0] * length\n",
    "    for i in range(length):\n",
    "        if x & (1 << i):\n",
    "            result[length - 1 - i] = 1\n",
    "    return result\n",
    "\n",
    "def int_to_bin_str(x, length):\n",
    "    return functools.reduce(lambda a, b: a + b, [str(b) for b in int_to_bin_list(x, length)])\n",
    "\n",
    "def compute_expectation(\n",
    "    pauli: cirq.PauliString,\n",
    "    counts: Dict[str, int],\n",
    ") -> float:\n",
    "    if pauli is cirq.PauliString():\n",
    "        return 1.0\n",
    "\n",
    "    expectation = 0.0\n",
    "\n",
    "    indices = [q.x for q in pauli.qubits]\n",
    "    for key, value in counts.items():\n",
    "        key = list(map(int, list(key)))\n",
    "        expectation += (-1) ** sum([key[i] for i in indices]) * value\n",
    "    return expectation / sum(counts.values())\n",
    "\n",
    "def noisy_identity(qreg, depth, noise) -> cirq.Circuit:\n",
    "    circuit = cirq.Circuit()\n",
    "    if depth == 0:\n",
    "        circuit.append(cirq.I.on_each(qreg))\n",
    "    for _ in range(depth):\n",
    "        circuit.append(cirq.X.on_each(qreg))\n",
    "\n",
    "    return circuit.with_noise(noise)\n",
    "\n",
    "def strs_to_paulis(pauli_strs : List[str]) -> List[cirq.PauliString]:\n",
    "    stab_list = []\n",
    "    for stab_str in pauli_strs:\n",
    "        stab_list.append(PauliString(stab_str)._pauli)\n",
    "    return stab_list\n",
    "\n",
    "def generate_stabilizer_elements(generators: List[cirq.PauliString]) -> List[cirq.PauliString]:\n",
    "    elements = []\n",
    "    for string in itertools.chain.from_iterable(itertools.combinations(generators, r) for r in range(len(generators) + 1)):\n",
    "        elements.append(\n",
    "            functools.reduce(lambda a, b: a * b, string, cirq.PauliString())\n",
    "        )\n",
    "    return elements"
   ]
  },
  {
   "cell_type": "markdown",
   "metadata": {},
   "source": [
    "### Logical state preparation / encoding"
   ]
  },
  {
   "cell_type": "code",
   "execution_count": 3,
   "metadata": {},
   "outputs": [],
   "source": [
    "@dataclasses.dataclass\n",
    "class Tile:\n",
    "    qubits: list\n",
    "    color: str\n",
    "\n",
    "\n",
    "def make_color_code_tiles(*, base_data_width):\n",
    "    if not (base_data_width % 2 == 1 and base_data_width >= 3):\n",
    "        raise ValueError(f\"{base_data_width=} wasn't an odd number at least as large as 3.\")\n",
    "    w = base_data_width * 2 - 1\n",
    "\n",
    "    def is_in_bounds(q: complex) -> bool:\n",
    "\n",
    "        if q.imag < 0:\n",
    "\n",
    "            return False\n",
    "        if q.imag * 2 > q.real * 3:\n",
    "\n",
    "            return False\n",
    "        if q.imag * 2 > (w - q.real) * 3:\n",
    "\n",
    "            return False\n",
    "        return True\n",
    "\n",
    "\n",
    "    tiles = []\n",
    "    hexagon_offsets = [-1, +1j, +1j + 1, +2, -1j + 1, -1j]\n",
    "    for x in range(1, w, 2):\n",
    "        for y in range((x // 2) % 2, w, 2):\n",
    "            q = x + 1j * y\n",
    "\n",
    "            tile = Tile(\n",
    "                color=['red', 'green', 'blue'][y % 3],\n",
    "\n",
    "            \n",
    "                qubits=[\n",
    "                    q + d\n",
    "                    for d in hexagon_offsets\n",
    "                    if is_in_bounds(q + d)\n",
    "                ],\n",
    "            )\n",
    "\n",
    "            if len(tile.qubits) in [4, 6]:\n",
    "                tiles.append(tile)\n",
    "\n",
    "    return tiles\n",
    "\n",
    "def get_stabilizer_generators(distance: int):\n",
    "    tiles = make_color_code_tiles(base_data_width=distance)\n",
    "    all_qubits = {q for tile in tiles for q in tile.qubits}\n",
    "\n",
    "    # Only difference here is with the chromobius notebook that we rever\n",
    "    sorted_qubits = reversed(sorted(all_qubits, key=lambda q: (q.imag, q.real)))\n",
    "    q2i = {q: i for i, q in enumerate(sorted_qubits)}\n",
    "\n",
    "    sorted_tiles = []\n",
    "    for tile in tiles:\n",
    "        sorted_tiles.append([q2i[q] for q in tile.qubits])\n",
    "\n",
    "    stabilizers_x = []\n",
    "    stabilizers_z = []\n",
    "    for tile in sorted_tiles:\n",
    "        stab_x = \"\"\n",
    "        stab_z = \"\"\n",
    "        for i in range(int((3*distance**2+1)/4)):\n",
    "            if i in tile:\n",
    "                stab_x+=\"X\"\n",
    "                stab_z+=\"Z\"\n",
    "            else:\n",
    "                stab_x+=\"I\"\n",
    "                stab_z+=\"I\"\n",
    "        stabilizers_x.append(stab_x)\n",
    "        stabilizers_z.append(stab_z)\n",
    "\n",
    "    return stabilizers_x + stabilizers_z\n",
    "\n",
    "def stabilizers_to_encoder(stabilizers) -> stim.Circuit:\n",
    "    \n",
    "    tableau = stim.Tableau.from_stabilizers(\n",
    "        stabilizers,\n",
    "        allow_underconstrained=True,\n",
    "    )\n",
    "    # Note: Look at https://github.com/quantumlib/Stim/blob/main/doc/python_api_reference_vDev.md\n",
    "    # For the different method of encoding\n",
    "\n",
    "    return tableau.to_circuit(method='graph_state')"
   ]
  },
  {
   "cell_type": "markdown",
   "metadata": {},
   "source": [
    "## Set experiment parameters"
   ]
  },
  {
   "cell_type": "code",
   "execution_count": 24,
   "metadata": {},
   "outputs": [
    {
     "name": "stdout",
     "output_type": "stream",
     "text": [
      "['IIXXIXX', 'XXXXIII', 'IXXIXXI', 'IIZZIZZ', 'ZZZZIII', 'IZZIZZI']\n"
     ]
    }
   ],
   "source": [
    "distance = 3\n",
    "nshots = 10_000 # number of repetitions to run circuit\n",
    "depths = np.arange(0, 100, 10) # number of X (NOT) gates to perform\n",
    "\n",
    "generator_strs = get_stabilizer_generators(distance)\n",
    "n = len(generator_strs[0])\n",
    "\n",
    "print(generator_strs)\n",
    "\n",
    "simulator = stimcirq.StimSampler()\n",
    "\n",
    "noise_rate = 0.001\n",
    "noise = cirq.depolarize\n",
    "\n",
    "PAULI_O = \"Z\"\n",
    "observable = PauliString(PAULI_O*n)._pauli"
   ]
  },
  {
   "cell_type": "markdown",
   "metadata": {},
   "source": [
    "## Run physical experiment"
   ]
  },
  {
   "cell_type": "code",
   "execution_count": 25,
   "metadata": {},
   "outputs": [
    {
     "name": "stdout",
     "output_type": "stream",
     "text": [
      "0.999\n",
      "0.9858\n",
      "0.9768\n",
      "0.9606\n",
      "0.9482\n",
      "0.9358\n",
      "0.9224\n",
      "0.9112\n",
      "0.8998\n",
      "0.8872\n"
     ]
    }
   ],
   "source": [
    "# Noisy results\n",
    "unmit_evs = []\n",
    "for depth in depths:\n",
    "    noisy_circuit = noisy_identity(cirq.LineQubit.range(1), depth, noise(p=noise_rate))\n",
    "    if PAULI_O == \"X\":\n",
    "        noisy_circuit.append(cirq.H.on(cirq.LineQubit(0)))\n",
    "    elif PAULI_O == \"Y\":\n",
    "        noisy_circuit.append(cirq.S.on(cirq.LineQubit(0))**-1)\n",
    "        noisy_circuit.append(cirq.H.on(cirq.LineQubit(0)))\n",
    "    noisy_circuit.append(cirq.measure(cirq.LineQubit(0), key=\"m\"))\n",
    "    counts = simulator.run(noisy_circuit, repetitions=nshots).histogram(key=\"m\")\n",
    "    counts = {int_to_bin_str(key, 1) : val for key, val in counts.items()}\n",
    "    ev = compute_expectation(PauliString(\"X\")._pauli, counts)\n",
    "    print(np.real_if_close(ev))\n",
    "    unmit_evs.append(np.real_if_close(ev))"
   ]
  },
  {
   "cell_type": "markdown",
   "metadata": {},
   "source": [
    "## Run encoded experiment"
   ]
  },
  {
   "cell_type": "code",
   "execution_count": 26,
   "metadata": {},
   "outputs": [
    {
     "name": "stdout",
     "output_type": "stream",
     "text": [
      "                   ┌──┐       ┌──┐       ┌──┐\n",
      "0: ───RX───@───@────@───────────────────────────────────────────────────\n",
      "           │   │    │\n",
      "1: ───RX───┼───┼────┼@────@────@────────────────────────X───────────────\n",
      "           │   │    ││    │    │\n",
      "2: ───RX───┼───┼────┼┼────┼────┼@────@────@─────────────X───S───H───S───\n",
      "           │   │    ││    │    ││    │    │\n",
      "3: ───RX───@───┼────┼@────┼────┼@────┼────┼@────@───────────S───H───────\n",
      "               │    │     │    │     │    ││    │\n",
      "4: ───RX───────@────┼─────@────┼─────┼────┼┼────┼───────Z───────H───────\n",
      "                    │          │     │    ││    │\n",
      "5: ───RX────────────@──────────┼─────@────┼@────┼───@───Z───S───H───────\n",
      "                               │          │     │   │\n",
      "6: ───RX───────────────────────@──────────@─────@───@───────S───H───────\n",
      "                   └──┘       └──┘       └──┘\n"
     ]
    }
   ],
   "source": [
    "qreg = cirq.LineQubit.range(n)\n",
    "stabilizer_generators = strs_to_paulis(generator_strs)\n",
    "stabilizer_matrix = get_stabilizer_matrix_from_paulis(stabilizer_generators, qreg)\n",
    "measurement_circuit, transformed_matrix = get_measurement_circuit(stabilizer_matrix)\n",
    "\n",
    "encoding_circuit = stimcirq.stim_circuit_to_cirq_circuit(stabilizers_to_encoder([stim.PauliString(s) for s in generator_strs]))\n",
    "print(encoding_circuit)"
   ]
  },
  {
   "cell_type": "code",
   "execution_count": 27,
   "metadata": {},
   "outputs": [
    {
     "name": "stdout",
     "output_type": "stream",
     "text": [
      "Z(q(3))*Z(q(6))\n"
     ]
    }
   ],
   "source": [
    "transformed_generators = get_paulis_from_stabilizer_matrix(transformed_matrix)\n",
    "stabilizer_elements = generate_stabilizer_elements(transformed_generators)\n",
    "# for stab in stabilizer_elements:\n",
    "#     print(stab)\n",
    "\n",
    "transformed_observable = observable.conjugated_by(measurement_circuit**-1)\n",
    "observable_elements = [transformed_observable * stab for stab in stabilizer_elements]\n",
    "print(transformed_observable)"
   ]
  },
  {
   "cell_type": "code",
   "execution_count": 28,
   "metadata": {},
   "outputs": [
    {
     "name": "stdout",
     "output_type": "stream",
     "text": [
      "depth = 0\n",
      "{'0000000': 9053, '0001000': 57, '0000101': 29, '1011010': 19, '1000000': 24, '1111110': 68, '0100000': 72, '1101100': 18, '0001100': 57, '1100000': 26, '0011100': 11, '1011000': 11, '0110101': 34, '0000001': 64, '0111100': 5, '0001010': 45, '0010000': 37, '0010001': 30, '1001000': 26, '0110000': 57, '1110000': 21, '0101100': 8, '1110010': 7, '1010000': 23, '0100111': 31, '0000111': 36, '0001110': 26, '0111001': 1, '0101011': 2, '0000110': 1, '1100010': 7, '0101101': 8, '1010010': 4, '1100110': 1, '1100111': 1, '1010100': 3, '1001010': 2, '0101010': 9, '0111000': 7, '1101000': 4, '0001111': 1, '1111000': 3, '1000010': 6, '0001101': 3, '1111011': 1, '1001110': 3, '1111010': 2, '1011110': 4, '0010101': 1, '1000110': 2, '0011000': 1, '1101110': 6, '1100100': 2, '0100001': 6, '0100101': 2, '1110001': 1, '1110100': 1, '1110111': 1, '1110110': 2, '0111101': 4, '0001001': 1, '0000010': 1, '0111110': 1}\n",
      "Finished numerator\n",
      "----------\n",
      "0.9052999999999999 0.9053\n",
      "0.9999999999999999\n",
      "----------\n",
      "depth = 10\n",
      "{'0000000': 8480, '1001000': 39, '0110101': 60, '0000111': 61, '1110000': 52, '0000001': 82, '1100100': 10, '1101100': 45, '0000010': 5, '0001100': 86, '0010000': 62, '0100111': 76, '0100000': 79, '0010001': 59, '0110000': 90, '0101010': 7, '0001010': 82, '1011010': 37, '0000101': 50, '1100010': 6, '1010000': 38, '1010010': 7, '0001000': 82, '0001110': 51, '1111110': 92, '1100000': 44, '0000100': 5, '0111000': 8, '1001110': 5, '0010010': 1, '1000000': 45, '1010100': 3, '0001101': 7, '0111001': 2, '0111010': 1, '0110001': 2, '1110001': 2, '0100001': 9, '0111101': 5, '1110101': 1, '0101100': 8, '0001011': 2, '1011000': 5, '1000010': 8, '0110100': 1, '0011100': 9, '1101000': 3, '1101110': 8, '1100110': 1, '0010111': 3, '0101000': 4, '0101111': 2, '1011110': 7, '0001001': 1, '0111011': 1, '1001010': 6, '0110110': 2, '0010100': 2, '1110010': 2, '0111100': 4, '1111000': 3, '0101110': 3, '1111111': 3, '1111100': 1, '0001111': 1, '1101111': 1, '0011001': 2, '1101010': 2, '1000110': 2, '1010110': 1, '0111111': 2, '0000110': 7, '1111010': 1, '1011001': 1, '0100010': 1, '1101011': 1, '1110111': 1, '0011010': 1, '1010111': 1, '1101001': 1, '1111101': 1, '0101011': 1, '0010110': 1, '0101101': 2, '1111001': 1, '0010101': 1}\n",
      "Finished numerator\n",
      "----------\n",
      "0.8480000000000001 0.848\n",
      "1.0000000000000002\n",
      "----------\n",
      "depth = 20\n",
      "{'0000000': 7931, '0110101': 88, '0001010': 106, '0100000': 112, '0000001': 102, '1100101': 4, '1110000': 83, '0001100': 104, '1111100': 2, '0101100': 16, '1000000': 58, '1101100': 78, '0100111': 89, '1001000': 68, '1010000': 82, '0010000': 81, '0110000': 113, '0001000': 96, '0000111': 82, '1111110': 101, '1100000': 67, '0010001': 81, '0001011': 4, '0000101': 90, '1110011': 1, '1011010': 63, '1100010': 7, '1011000': 6, '0001110': 67, '0001101': 8, '1011110': 7, '0101101': 7, '0111100': 5, '0111001': 3, '0111101': 5, '1101101': 3, '0100001': 7, '0001111': 2, '0000100': 2, '0010010': 4, '1001010': 6, '1111001': 1, '1001110': 2, '1101110': 5, '1001100': 3, '1110010': 3, '0011110': 4, '1010010': 10, '1000010': 6, '0101110': 1, '1100110': 1, '0011011': 1, '1000110': 4, '1101000': 3, '1111000': 6, '1111101': 2, '0110111': 2, '0100101': 2, '1100100': 4, '0100100': 2, '1010100': 3, '0011100': 9, '1011011': 1, '0101010': 12, '1011100': 2, '0110110': 3, '0111000': 4, '1110100': 1, '1110110': 1, '1000101': 3, '1110001': 3, '0011010': 3, '0000110': 3, '1101010': 1, '0101001': 1, '0000010': 5, '0111010': 2, '1010101': 2, '1100011': 1, '1001001': 2, '0011000': 2, '0010110': 1, '1101111': 5, '0110001': 1, '1000100': 1, '1100111': 2, '1111011': 2, '0011001': 1, '1111111': 1, '0111111': 1, '0010101': 2, '1011001': 3, '1000111': 2, '1010001': 1, '0111110': 3, '0101111': 1, '0110011': 1, '0011101': 1, '1111010': 1, '1001111': 1, '0101000': 1, '0110010': 1}\n",
      "Finished numerator\n",
      "----------\n",
      "0.7931 0.7931\n",
      "1.0\n",
      "----------\n",
      "depth = 30\n",
      "{'1111110': 122, '0000000': 7302, '0001110': 101, '1110000': 99, '0110000': 139, '0001010': 119, '0100001': 10, '0001100': 128, '0100000': 160, '1011010': 86, '0000001': 115, '0011100': 9, '1010000': 102, '1001000': 88, '0111100': 8, '1100000': 84, '0000101': 108, '0010000': 99, '0100111': 130, '1110010': 6, '0001000': 163, '1101111': 10, '1101100': 87, '1000000': 93, '0110101': 87, '0101100': 12, '0010001': 102, '0000111': 102, '0110100': 4, '1010010': 8, '0101110': 4, '1000100': 2, '0110011': 1, '1001010': 5, '0001111': 8, '0111000': 10, '1000010': 4, '0011010': 4, '0000010': 6, '0110110': 4, '1111101': 4, '1100100': 4, '0101011': 3, '0001101': 6, '0101010': 7, '1101011': 2, '0110111': 5, '0101101': 7, '0011000': 4, '0111001': 1, '1000001': 4, '1110110': 7, '1011110': 8, '1100101': 1, '1001100': 2, '1000110': 3, '1011001': 4, '1010110': 1, '0010110': 4, '1101110': 11, '0001011': 6, '1011000': 8, '1010100': 3, '1000101': 4, '0100101': 2, '1110101': 3, '1101000': 6, '0111010': 5, '0011110': 5, '1101001': 3, '1101101': 4, '0111111': 5, '0101111': 4, '1100010': 9, '1011101': 4, '1010111': 5, '0011001': 1, '1001110': 6, '0011101': 3, '1101010': 4, '0000110': 4, '1010001': 4, '0011111': 1, '0100100': 3, '1001001': 1, '1100110': 5, '0111101': 3, '0010100': 2, '1111000': 7, '1011100': 1, '1011011': 2, '1010101': 1, '1001011': 5, '1100111': 5, '1111100': 6, '0110001': 5, '1001111': 2, '1100011': 1, '1110001': 2, '0101000': 5, '0100110': 1, '0010101': 1, '1000111': 2, '1110011': 1, '1110111': 1, '1111111': 3, '0001001': 4, '0111110': 3, '0010010': 1, '0010111': 1, '0100010': 2, '1111011': 2, '0000100': 1, '1100001': 2, '0111011': 1}\n",
      "Finished numerator\n",
      "----------\n",
      "0.7302 0.7302\n",
      "1.0\n",
      "----------\n",
      "depth = 40\n",
      "{'0000000': 6946, '0001100': 130, '0010001': 129, '0101000': 14, '0000001': 118, '1001000': 100, '1010000': 143, '0010000': 122, '0100111': 114, '0001110': 107, '1000000': 129, '0001000': 129, '0000101': 109, '1111110': 124, '1100000': 111, '1011010': 93, '0110110': 13, '0100000': 148, '0110001': 5, '0111011': 4, '0010010': 6, '0001010': 149, '0110101': 124, '0110000': 139, '1101100': 101, '0000111': 113, '1000001': 4, '1100100': 2, '0001111': 9, '0101010': 11, '1000010': 9, '1001110': 8, '1010001': 7, '1110011': 1, '1110000': 114, '0101101': 5, '0001001': 6, '0111000': 14, '1011000': 12, '0010111': 6, '1010010': 5, '0101110': 9, '1000111': 6, '1110101': 2, '1111000': 6, '1001010': 4, '0001101': 9, '1011101': 4, '1101110': 13, '1100111': 8, '1101010': 4, '0101100': 14, '0000100': 10, '1001100': 5, '1100110': 6, '1001001': 2, '0100010': 3, '1101111': 7, '1011111': 5, '0110100': 4, '1000110': 4, '1100010': 7, '1110010': 2, '1111101': 8, '1111100': 14, '0110111': 4, '1110001': 2, '0101001': 5, '1110111': 2, '0110010': 3, '0101111': 5, '0100100': 7, '1101000': 13, '0011010': 4, '0011100': 12, '1000101': 3, '0100001': 8, '0000110': 10, '0100101': 4, '1001011': 8, '0011101': 1, '1111111': 3, '0011001': 5, '0111101': 2, '1010100': 1, '0111100': 6, '1011001': 8, '1011110': 4, '0000010': 6, '1110110': 3, '0011110': 4, '1010101': 5, '1010111': 3, '0010100': 4, '0111110': 5, '0111010': 2, '0111001': 2, '0010110': 3, '1110100': 3, '1111011': 4, '0001011': 7, '0111111': 1, '0100110': 1, '1100101': 5, '1001101': 7, '1010110': 1, '1011011': 1, '0010101': 4, '1111010': 2, '1011100': 4, '1111001': 3, '0011011': 2, '1101101': 1, '0101011': 3, '1101011': 1, '0011111': 1, '0011000': 2, '1100001': 1}\n",
      "Finished numerator\n",
      "----------\n",
      "0.6945999999999999 0.6946\n",
      "0.9999999999999999\n",
      "----------\n",
      "depth = 50\n",
      "{'0001010': 155, '0101010': 12, '0000000': 6490, '0000101': 119, '0011110': 10, '0010000': 136, '0110000': 162, '1010000': 132, '0000111': 123, '1000000': 115, '1101010': 8, '1100000': 162, '0001110': 124, '0000001': 128, '1010100': 8, '0001000': 154, '1111000': 14, '1101100': 128, '0100111': 129, '1111110': 146, '1101110': 9, '0100000': 163, '0110101': 137, '1101101': 4, '0010001': 129, '1111100': 7, '0110100': 3, '0001101': 15, '0101100': 18, '1110000': 146, '0110110': 14, '0000110': 13, '1011010': 131, '1011100': 10, '1010001': 5, '1001000': 131, '0001100': 124, '1110111': 3, '0011000': 6, '1011011': 5, '0110111': 6, '1011111': 4, '0001011': 14, '1010010': 8, '0011001': 7, '1001011': 8, '0011100': 9, '0111100': 12, '1110110': 7, '0111010': 16, '0100100': 6, '0010101': 6, '1100010': 7, '0011101': 6, '0111000': 14, '0010010': 9, '1001010': 8, '1111011': 3, '1010111': 3, '0111101': 5, '0000100': 13, '1001100': 6, '1000100': 4, '1101011': 6, '0001001': 6, '0111111': 9, '0011111': 2, '0010111': 10, '0101110': 4, '1111001': 2, '0100010': 2, '0100001': 9, '0111001': 3, '1001110': 6, '1101000': 5, '0100101': 7, '1100101': 5, '0011010': 4, '0101000': 10, '0101101': 7, '1110010': 5, '1111010': 7, '0001111': 8, '1100100': 10, '1000111': 7, '1000010': 6, '1001101': 4, '0000010': 7, '0101011': 5, '0110010': 6, '1011000': 10, '1111101': 4, '1000101': 3, '0010100': 4, '1100001': 6, '1001111': 2, '0100110': 5, '0111110': 4, '1100111': 9, '1000110': 4, '1011001': 8, '1110101': 4, '1101111': 3, '1010110': 4, '1110001': 5, '1100110': 5, '1111111': 4, '0110001': 6, '0101001': 4, '1000001': 4, '1110100': 2, '0101111': 3, '0011011': 6, '0010110': 1, '1011110': 2, '1101001': 4, '1000011': 2, '1011101': 3, '0000011': 3, '1001001': 2, '1010101': 1, '0010011': 1, '0110011': 1}\n",
      "Finished numerator\n",
      "----------\n",
      "0.6486999999999999 0.6493000000000001\n",
      "0.9990759279223778\n",
      "----------\n",
      "depth = 60\n",
      "{'0000000': 5985, '0110000': 193, '0100100': 18, '0001000': 162, '0100000': 189, '1010000': 149, '0000111': 124, '0011100': 18, '0000001': 175, '0110101': 147, '1001000': 118, '1000000': 148, '0000101': 147, '0001010': 160, '1011010': 154, '1111100': 12, '0001101': 27, '1101100': 144, '0000100': 10, '0010001': 126, '1100000': 142, '0010111': 11, '1000010': 9, '0001100': 151, '1011101': 5, '1110000': 164, '1111110': 156, '0010000': 146, '0110010': 10, '0110110': 10, '1110111': 9, '1010010': 9, '0100111': 153, '0001110': 136, '0011010': 6, '0000110': 19, '1000111': 8, '0110001': 14, '0101101': 14, '0101000': 6, '1011011': 5, '1110010': 8, '1000101': 5, '0111010': 14, '0001111': 13, '1001011': 13, '0111111': 8, '1001111': 3, '1101001': 6, '1100110': 5, '1010111': 7, '1000100': 8, '1110001': 9, '0111100': 15, '0011101': 7, '1100111': 9, '1100010': 10, '1011001': 15, '1010101': 7, '1110110': 4, '1100100': 6, '1101111': 9, '1001010': 6, '0100110': 10, '1110101': 7, '1110100': 3, '0101010': 20, '1111000': 9, '1011000': 7, '0010101': 11, '1000001': 4, '0100001': 9, '0110111': 4, '1001110': 9, '0000010': 15, '0101001': 4, '1001100': 4, '1011110': 8, '0111110': 11, '0111101': 9, '1000110': 11, '1101010': 8, '0101100': 17, '1101110': 11, '1010001': 10, '0011011': 7, '0001011': 8, '1111111': 3, '1111010': 11, '1101000': 10, '0001001': 14, '0101110': 10, '0010100': 5, '0110100': 11, '1100101': 3, '1001101': 4, '0011110': 6, '1011111': 1, '0010010': 12, '1011100': 9, '1001001': 4, '0011111': 4, '0111001': 3, '0011000': 10, '1101011': 2, '0111000': 14, '1100001': 5, '0100101': 12, '1111101': 6, '0010110': 5, '1101101': 5, '0111011': 3, '1110011': 2, '0101011': 3, '0100010': 9, '1111001': 4, '1010011': 1, '0101111': 5, '0011001': 3, '1010100': 3, '0110011': 1, '1100011': 1, '0010011': 1, '1111011': 1, '1010110': 2}\n",
      "Finished numerator\n",
      "----------\n",
      "0.5985 0.5984999999999999\n",
      "1.0000000000000002\n",
      "----------\n",
      "depth = 70\n",
      "{'0100000': 184, '0000000': 5649, '0001110': 155, '0011010': 6, '0100111': 144, '1110000': 166, '0110000': 184, '0010000': 148, '0001000': 170, '0010001': 155, '0101011': 14, '1100000': 178, '1111110': 177, '0011100': 15, '1010101': 5, '0011000': 8, '1010000': 136, '1100110': 5, '1001000': 141, '0001010': 183, '0011110': 17, '1001110': 11, '0101000': 16, '1101111': 17, '0000101': 140, '0101010': 14, '0101100': 17, '0100001': 8, '0001100': 169, '0110101': 147, '0000100': 19, '0100010': 6, '0000001': 157, '1011001': 16, '1011010': 146, '1000000': 169, '1000110': 6, '1010111': 11, '0000111': 185, '1011110': 16, '1110010': 7, '1001010': 11, '1101011': 8, '1000101': 12, '0011011': 7, '1100111': 8, '0101101': 7, '1101100': 158, '1000001': 11, '1101101': 6, '1011011': 9, '1111000': 10, '1111101': 14, '0100100': 13, '1100001': 5, '0001001': 12, '1101000': 13, '0001101': 20, '1101010': 11, '1110110': 9, '0111101': 6, '1111111': 7, '0100101': 3, '1110111': 11, '0110110': 13, '1011000': 18, '1111010': 7, '0010110': 5, '1011111': 1, '1000111': 7, '1010010': 10, '1010001': 8, '0011001': 7, '0001011': 16, '1001100': 13, '0111010': 10, '0111000': 17, '0111111': 5, '1100011': 3, '0000010': 11, '1010110': 4, '0000110': 12, '1001111': 7, '1100010': 9, '1001011': 11, '1011100': 14, '0011111': 3, '1001101': 11, '1001001': 6, '0010010': 19, '1000100': 9, '0101110': 14, '1110001': 13, '1101110': 12, '0001111': 10, '0111110': 7, '1010100': 7, '0110100': 9, '1010011': 1, '1110101': 6, '0110001': 9, '0101001': 3, '0111011': 13, '1100101': 7, '0011101': 5, '0110111': 14, '0010101': 13, '1110100': 11, '0110010': 6, '1111001': 6, '1100100': 8, '1000010': 5, '0010111': 15, '0111100': 8, '1101001': 6, '1111011': 4, '1111100': 8, '0010100': 8, '0000011': 3, '0101111': 3, '0100110': 9, '0111001': 5, '0100011': 1, '1011101': 6, '0110011': 1}\n",
      "Finished numerator\n",
      "----------\n",
      "0.5646 0.5651999999999999\n",
      "0.9989384288747347\n",
      "----------\n",
      "depth = 80\n",
      "{'0000000': 5187, '0001000': 175, '1010000': 148, '1111110': 181, '0111000': 19, '0100111': 154, '0010001': 180, '0001100': 169, '0111100': 15, '0100000': 186, '0000001': 197, '0110000': 184, '0001010': 174, '1100010': 9, '0010000': 185, '0000010': 19, '1001010': 16, '0110101': 143, '1100000': 183, '0101100': 27, '1011000': 21, '0011110': 20, '0101010': 16, '1110000': 178, '1000001': 19, '0100100': 13, '0001110': 164, '0000100': 25, '1101100': 183, '1001000': 163, '1110100': 14, '1110001': 15, '1101101': 7, '0000111': 153, '1101000': 29, '1000101': 18, '1111010': 11, '0011101': 7, '1011010': 141, '1110010': 8, '0001111': 18, '0000101': 172, '0001101': 27, '1101001': 6, '1000000': 161, '0100110': 8, '1110101': 14, '0101110': 10, '0011111': 9, '1100111': 11, '0101000': 14, '0001011': 12, '0011001': 11, '1100101': 11, '1101110': 27, '1110110': 9, '1010010': 12, '1011001': 19, '1001101': 11, '1100001': 16, '0110001': 14, '1100100': 14, '0001001': 15, '0101011': 8, '1101010': 11, '1010111': 14, '0010011': 3, '1001110': 14, '0010110': 6, '1111001': 5, '1111101': 18, '1011101': 5, '1011110': 15, '0101101': 5, '1100110': 9, '0000110': 16, '1101111': 22, '1110111': 18, '0010111': 11, '1011111': 8, '0110010': 9, '0110110': 20, '0101001': 7, '0100101': 16, '0011010': 14, '1111100': 16, '1010110': 9, '1001011': 12, '1011100': 18, '0100001': 15, '1001100': 20, '0111101': 6, '1000111': 13, '0100011': 2, '1010101': 11, '0010010': 23, '1001001': 8, '0010101': 11, '1111011': 9, '1010100': 12, '0011011': 6, '0000011': 5, '1001111': 4, '1000110': 8, '0111110': 13, '0011100': 9, '1010001': 8, '1111000': 14, '0101111': 5, '0110111': 9, '0110100': 6, '0011000': 14, '0111010': 11, '0111111': 12, '1000100': 10, '1000010': 6, '0100010': 5, '1111111': 8, '0010100': 7, '0111011': 5, '0110011': 1, '1011011': 9, '1101011': 3, '0111001': 3, '1110011': 2, '1100011': 1}\n",
      "Finished numerator\n",
      "----------\n",
      "0.5182 0.5192\n",
      "0.9980739599383667\n",
      "----------\n",
      "depth = 90\n",
      "{'0100111': 173, '0000000': 4912, '0010000': 180, '0000111': 185, '1000000': 181, '1100000': 199, '0000001': 166, '0110101': 211, '1101111': 24, '1100001': 14, '1011010': 175, '0001011': 20, '1010000': 200, '0100000': 200, '0001010': 179, '0001001': 20, '0100001': 16, '1101000': 19, '1101110': 14, '0100110': 15, '0110000': 199, '1001000': 158, '1010110': 10, '1101100': 165, '1101010': 19, '0011100': 13, '1111001': 10, '1001011': 10, '1010100': 10, '1110100': 12, '0110100': 10, '0001000': 191, '0111100': 18, '1111110': 178, '0001110': 154, '0000101': 183, '1110110': 16, '1011110': 27, '1100110': 6, '0100101': 24, '1101011': 4, '1010001': 11, '0100100': 17, '0010001': 169, '0111010': 10, '1001010': 21, '1110000': 164, '1010101': 9, '0001100': 159, '1111101': 18, '0001101': 20, '1011001': 21, '0111000': 19, '1010111': 11, '0101101': 7, '1011000': 19, '0110010': 6, '0101110': 15, '1110111': 14, '0001111': 24, '1011101': 14, '0011111': 7, '0101111': 7, '1111100': 19, '1000100': 17, '0010101': 17, '0111110': 12, '0000010': 17, '1011100': 13, '1100101': 13, '1101101': 12, '1100111': 18, '0010010': 8, '1101001': 12, '1100010': 19, '0011011': 9, '1010010': 12, '0111011': 6, '0011001': 6, '1111011': 11, '0111111': 6, '0000110': 22, '0000100': 26, '1100100': 9, '1001001': 5, '1111111': 13, '1000001': 14, '0101010': 19, '1111000': 16, '1110001': 14, '0110111': 7, '1001101': 10, '0010111': 11, '1000111': 15, '1110010': 9, '0101000': 20, '0110110': 25, '0101100': 25, '0011000': 10, '1011011': 8, '1001100': 13, '0111001': 8, '0101001': 5, '1000010': 9, '0011010': 18, '1110101': 9, '1011111': 9, '0101011': 7, '0110001': 11, '1000101': 12, '0100010': 6, '1010011': 3, '1001110': 22, '0010110': 7, '1000110': 1, '1111010': 11, '1001111': 7, '0010100': 5, '0011101': 12, '0100011': 1, '0011110': 16, '1110011': 2, '0111101': 12, '0000011': 3, '0110011': 1, '0010011': 1, '1100011': 2}\n",
      "Finished numerator\n",
      "----------\n",
      "0.4909 0.4915\n",
      "0.9987792472024415\n",
      "----------\n",
      "[0.9999999999999999, 1.0000000000000002, 1.0, 1.0, 0.9999999999999999, 0.9990759279223778, 1.0000000000000002, 0.9989384288747347, 0.9980739599383667, 0.9987792472024415]\n"
     ]
    }
   ],
   "source": [
    "njobs: int = 16  # For parallelization.\n",
    "\n",
    "expectation_values = []\n",
    "for depth in depths:\n",
    "    print(\"depth =\", depth)\n",
    "\n",
    "    circuit = (\n",
    "        encoding_circuit.with_noise(noise(p=noise_rate)) + \\\n",
    "        noisy_identity(qreg, depth, noise(p=noise_rate)) + \\\n",
    "        measurement_circuit\n",
    "    )\n",
    "    # steine_circuit.with_noise(noise=cirq.depolarize(p=0))\n",
    "    circuit.append(cirq.measure(qreg, key=\"result\"))\n",
    "\n",
    "    counts = simulator.run(circuit, repetitions=nshots).histogram(key=\"result\")\n",
    "    counts = {int_to_bin_str(key, n) : val for key, val in counts.items()}\n",
    "    print(counts)\n",
    "\n",
    "    def process(p):\n",
    "        return p.coefficient * compute_expectation(p, counts)\n",
    "\n",
    "    evals = Parallel(n_jobs=njobs)(delayed(process)(p) for p in observable_elements)\n",
    "    numerator = np.average(evals).real\n",
    "\n",
    "    print(\"Finished numerator\")\n",
    "    evals = Parallel(n_jobs=njobs)(delayed(process)(p) for p in stabilizer_elements)\n",
    "    denominator = np.average(evals).real\n",
    "\n",
    "    print(\"----------\")\n",
    "    print(numerator, denominator)\n",
    "    print(numerator / denominator)\n",
    "    print(\"----------\")\n",
    "    expectation_values.append(numerator / denominator)\n",
    "\n",
    "print(expectation_values)"
   ]
  },
  {
   "cell_type": "markdown",
   "metadata": {},
   "source": [
    "## Plot"
   ]
  },
  {
   "cell_type": "code",
   "execution_count": 29,
   "metadata": {},
   "outputs": [
    {
     "data": {
      "image/png": "[encoded data removed]",
      "text/plain": [
       "<Figure size 640x480 with 1 Axes>"
      ]
     },
     "metadata": {},
     "output_type": "display_data"
    }
   ],
   "source": [
    "plt.plot(depths, expectation_values, label=\"Mitigated\")\n",
    "plt.plot(depths, unmit_evs, label=\"Unmitigated\")\n",
    "plt.plot(depths, [1.0 if PAULI_O == \"Z\" else 0.0]*len(depths), \"--\", label=\"Ideal\")\n",
    "plt.legend()\n",
    "plt.xlabel(\"Depth\")\n",
    "plt.ylabel(\"$\\\\left<\\\\overline{Z}\\\\right>$\")\n",
    "plt.title(\"Measuring $\\\\left< \\\\bar{0} | \\\\overline{Z} | \\\\bar{0} \\\\right>$\" + f\" with rate p = {noise_rate} noise \\nfor the distance d = {distance} color code\");"
   ]
  },
  {
   "cell_type": "markdown",
   "metadata": {},
   "source": []
  }
 ],
 "metadata": {
  "kernelspec": {
   "display_name": "envencoded",
   "language": "python",
   "name": "envencoded"
  },
  "language_info": {
   "codemirror_mode": {
    "name": "ipython",
    "version": 3
   },
   "file_extension": ".py",
   "mimetype": "text/x-python",
   "name": "python",
   "nbconvert_exporter": "python",
   "pygments_lexer": "ipython3",
   "version": "3.10.12"
  }
 },
 "nbformat": 4,
 "nbformat_minor": 2
}
