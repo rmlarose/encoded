{
 "cells": [
  {
   "cell_type": "markdown",
   "metadata": {},
   "source": [
    "# Estimating the threshold of the color code with depolarizing noise"
   ]
  },
  {
   "cell_type": "markdown",
   "metadata": {},
   "source": [
    "## Setup"
   ]
  },
  {
   "cell_type": "code",
   "execution_count": 1,
   "metadata": {},
   "outputs": [],
   "source": [
    "import numpy as np\n",
    "from typing import List, Dict\n",
    "import functools\n",
    "import itertools\n",
    "import dataclasses\n",
    "\n",
    "from joblib import Parallel, delayed\n",
    "import matplotlib.pyplot as plt\n",
    "import cirq\n",
    "from mitiq import PauliString\n",
    "import stim\n",
    "import stimcirq\n",
    "\n",
    "from encoded.diagonalize import get_stabilizer_matrix_from_paulis, get_measurement_circuit, get_paulis_from_stabilizer_matrix"
   ]
  },
  {
   "cell_type": "markdown",
   "metadata": {},
   "source": [
    "## Set experiment parameters"
   ]
  },
  {
   "cell_type": "code",
   "execution_count": 2,
   "metadata": {},
   "outputs": [],
   "source": [
    "distance = 3\n",
    "nshots = 10_000 # number of repetitions to run circuit\n",
    "depths = np.arange(0, 100, 10) # number of X (NOT) gates to perform\n",
    "\n",
    "simulator = stimcirq.StimSampler()\n",
    "\n",
    "noise_rate = 0.001\n",
    "noise = cirq.depolarize\n",
    "\n",
    "PAULI_O = \"Z\""
   ]
  },
  {
   "cell_type": "markdown",
   "metadata": {},
   "source": [
    "## Helper functions"
   ]
  },
  {
   "cell_type": "code",
   "execution_count": 3,
   "metadata": {},
   "outputs": [],
   "source": [
    "def int_to_bin_list(x, length):\n",
    "    result = [0] * length\n",
    "    for i in range(length):\n",
    "        if x & (1 << i):\n",
    "            result[length - 1 - i] = 1\n",
    "    return result\n",
    "\n",
    "def int_to_bin_str(x, length):\n",
    "    return functools.reduce(lambda a, b: a + b, [str(b) for b in int_to_bin_list(x, length)])\n",
    "\n",
    "def compute_expectation(\n",
    "    pauli: cirq.PauliString,\n",
    "    counts: Dict[str, int],\n",
    ") -> float:\n",
    "    if pauli is cirq.PauliString():\n",
    "        return 1.0\n",
    "\n",
    "    expectation = 0.0\n",
    "\n",
    "    indices = [q.x for q in pauli.qubits]\n",
    "    for key, value in counts.items():\n",
    "        key = list(map(int, list(key)))\n",
    "        expectation += (-1) ** sum([key[i] for i in indices]) * value\n",
    "    return expectation / sum(counts.values())\n",
    "\n",
    "def noisy_identity(qreg, depth, noise) -> cirq.Circuit:\n",
    "    circuit = cirq.Circuit()\n",
    "    if depth == 0:\n",
    "        circuit.append(cirq.I.on_each(qreg))\n",
    "    for _ in range(depth):\n",
    "        circuit.append(cirq.X.on_each(qreg))\n",
    "\n",
    "    return circuit.with_noise(noise)\n",
    "\n",
    "def strs_to_paulis(pauli_strs : List[str]) -> List[cirq.PauliString]:\n",
    "    stab_list = []\n",
    "    for stab_str in pauli_strs:\n",
    "        stab_list.append(PauliString(stab_str)._pauli)\n",
    "    return stab_list\n",
    "\n",
    "def generate_stabilizer_elements(generators: List[cirq.PauliString]) -> List[cirq.PauliString]:\n",
    "    elements = []\n",
    "    for string in itertools.chain.from_iterable(itertools.combinations(generators, r) for r in range(len(generators) + 1)):\n",
    "        elements.append(\n",
    "            functools.reduce(lambda a, b: a * b, string, cirq.PauliString())\n",
    "        )\n",
    "    return elements"
   ]
  },
  {
   "cell_type": "markdown",
   "metadata": {},
   "source": [
    "### Logical state preparation / encoding"
   ]
  },
  {
   "cell_type": "code",
   "execution_count": 4,
   "metadata": {},
   "outputs": [],
   "source": [
    "@dataclasses.dataclass\n",
    "class Tile:\n",
    "    qubits: list\n",
    "    color: str\n",
    "\n",
    "\n",
    "def make_color_code_tiles(*, base_data_width):\n",
    "    if not (base_data_width % 2 == 1 and base_data_width >= 3):\n",
    "        raise ValueError(f\"{base_data_width=} wasn't an odd number at least as large as 3.\")\n",
    "    w = base_data_width * 2 - 1\n",
    "\n",
    "    def is_in_bounds(q: complex) -> bool:\n",
    "\n",
    "        if q.imag < 0:\n",
    "\n",
    "            return False\n",
    "        if q.imag * 2 > q.real * 3:\n",
    "\n",
    "            return False\n",
    "        if q.imag * 2 > (w - q.real) * 3:\n",
    "\n",
    "            return False\n",
    "        return True\n",
    "\n",
    "\n",
    "    tiles = []\n",
    "    hexagon_offsets = [-1, +1j, +1j + 1, +2, -1j + 1, -1j]\n",
    "    for x in range(1, w, 2):\n",
    "        for y in range((x // 2) % 2, w, 2):\n",
    "            q = x + 1j * y\n",
    "\n",
    "            tile = Tile(\n",
    "                color=['red', 'green', 'blue'][y % 3],\n",
    "\n",
    "            \n",
    "                qubits=[\n",
    "                    q + d\n",
    "                    for d in hexagon_offsets\n",
    "                    if is_in_bounds(q + d)\n",
    "                ],\n",
    "            )\n",
    "\n",
    "            if len(tile.qubits) in [4, 6]:\n",
    "                tiles.append(tile)\n",
    "\n",
    "    return tiles\n",
    "\n",
    "def get_stabilizer_generators(distance: int):\n",
    "    tiles = make_color_code_tiles(base_data_width=distance)\n",
    "    all_qubits = {q for tile in tiles for q in tile.qubits}\n",
    "\n",
    "    # Only difference here is with the chromobius notebook that we rever\n",
    "    sorted_qubits = reversed(sorted(all_qubits, key=lambda q: (q.imag, q.real)))\n",
    "    q2i = {q: i for i, q in enumerate(sorted_qubits)}\n",
    "\n",
    "    sorted_tiles = []\n",
    "    for tile in tiles:\n",
    "        sorted_tiles.append([q2i[q] for q in tile.qubits])\n",
    "\n",
    "    stabilizers_x = []\n",
    "    stabilizers_z = []\n",
    "    for tile in sorted_tiles:\n",
    "        stab_x = \"\"\n",
    "        stab_z = \"\"\n",
    "        for i in range(int((3*distance**2+1)/4)):\n",
    "            if i in tile:\n",
    "                stab_x+=\"X\"\n",
    "                stab_z+=\"Z\"\n",
    "            else:\n",
    "                stab_x+=\"I\"\n",
    "                stab_z+=\"I\"\n",
    "        stabilizers_x.append(stab_x)\n",
    "        stabilizers_z.append(stab_z)\n",
    "\n",
    "    return stabilizers_x + stabilizers_z\n",
    "\n",
    "def stabilizers_to_encoder(stabilizers) -> stim.Circuit:\n",
    "    \n",
    "    tableau = stim.Tableau.from_stabilizers(\n",
    "        stabilizers,\n",
    "        allow_underconstrained=True,\n",
    "    )\n",
    "    # Note: Look at https://github.com/quantumlib/Stim/blob/main/doc/python_api_reference_vDev.md\n",
    "    # For the different method of encoding\n",
    "\n",
    "    return tableau.to_circuit(method='graph_state')"
   ]
  },
  {
   "cell_type": "markdown",
   "metadata": {},
   "source": [
    "## Run physical experiment"
   ]
  },
  {
   "cell_type": "code",
   "execution_count": 5,
   "metadata": {},
   "outputs": [
    {
     "name": "stdout",
     "output_type": "stream",
     "text": [
      "0.9978\n",
      "0.9866\n",
      "0.9718\n",
      "0.961\n",
      "0.951\n",
      "0.9298\n",
      "0.9242\n",
      "0.9152\n",
      "0.9054\n",
      "0.8884\n"
     ]
    }
   ],
   "source": [
    "# Noisy results\n",
    "unmit_evs = []\n",
    "for depth in depths:\n",
    "    noisy_circuit = noisy_identity(cirq.LineQubit.range(1), depth, noise(p=noise_rate))\n",
    "    if PAULI_O == \"X\":\n",
    "        noisy_circuit.append(cirq.H.on(cirq.LineQubit(0)))\n",
    "    elif PAULI_O == \"Y\":\n",
    "        noisy_circuit.append(cirq.S.on(cirq.LineQubit(0))**-1)\n",
    "        noisy_circuit.append(cirq.H.on(cirq.LineQubit(0)))\n",
    "    noisy_circuit.append(cirq.measure(cirq.LineQubit(0), key=\"m\"))\n",
    "    counts = simulator.run(noisy_circuit, repetitions=nshots).histogram(key=\"m\")\n",
    "    counts = {int_to_bin_str(key, 1) : val for key, val in counts.items()}\n",
    "    ev = compute_expectation(PauliString(\"X\")._pauli, counts)\n",
    "    print(np.real_if_close(ev))\n",
    "    unmit_evs.append(np.real_if_close(ev))"
   ]
  },
  {
   "cell_type": "markdown",
   "metadata": {},
   "source": [
    "## Run encoded experiment"
   ]
  },
  {
   "cell_type": "code",
   "execution_count": 6,
   "metadata": {},
   "outputs": [
    {
     "name": "stdout",
     "output_type": "stream",
     "text": [
      "['IIXXIXX', 'XXXXIII', 'IXXIXXI', 'IIZZIZZ', 'ZZZZIII', 'IZZIZZI']\n"
     ]
    }
   ],
   "source": [
    "generator_strs = get_stabilizer_generators(distance)\n",
    "n = len(generator_strs[0])\n",
    "\n",
    "print(generator_strs)\n",
    "observable = PauliString(PAULI_O*n)._pauli"
   ]
  },
  {
   "cell_type": "code",
   "execution_count": 7,
   "metadata": {},
   "outputs": [
    {
     "name": "stdout",
     "output_type": "stream",
     "text": [
      "                   ┌──┐       ┌──┐       ┌──┐\n",
      "0: ───RX───@───@────@───────────────────────────────────────────────────\n",
      "           │   │    │\n",
      "1: ───RX───┼───┼────┼@────@────@────────────────────────X───────────────\n",
      "           │   │    ││    │    │\n",
      "2: ───RX───┼───┼────┼┼────┼────┼@────@────@─────────────X───S───H───S───\n",
      "           │   │    ││    │    ││    │    │\n",
      "3: ───RX───@───┼────┼@────┼────┼@────┼────┼@────@───────────S───H───────\n",
      "               │    │     │    │     │    ││    │\n",
      "4: ───RX───────@────┼─────@────┼─────┼────┼┼────┼───────Z───────H───────\n",
      "                    │          │     │    ││    │\n",
      "5: ───RX────────────@──────────┼─────@────┼@────┼───@───Z───S───H───────\n",
      "                               │          │     │   │\n",
      "6: ───RX───────────────────────@──────────@─────@───@───────S───H───────\n",
      "                   └──┘       └──┘       └──┘\n"
     ]
    }
   ],
   "source": [
    "qreg = cirq.LineQubit.range(n)\n",
    "stabilizer_generators = strs_to_paulis(generator_strs)\n",
    "stabilizer_matrix = get_stabilizer_matrix_from_paulis(stabilizer_generators, qreg)\n",
    "measurement_circuit, transformed_matrix = get_measurement_circuit(stabilizer_matrix)\n",
    "\n",
    "encoding_circuit = stimcirq.stim_circuit_to_cirq_circuit(stabilizers_to_encoder([stim.PauliString(s) for s in generator_strs]))\n",
    "print(encoding_circuit)"
   ]
  },
  {
   "cell_type": "code",
   "execution_count": 8,
   "metadata": {},
   "outputs": [
    {
     "name": "stdout",
     "output_type": "stream",
     "text": [
      "Z(q(3))*Z(q(6))\n"
     ]
    }
   ],
   "source": [
    "transformed_generators = get_paulis_from_stabilizer_matrix(transformed_matrix)\n",
    "stabilizer_elements = generate_stabilizer_elements(transformed_generators)\n",
    "# for stab in stabilizer_elements:\n",
    "#     print(stab)\n",
    "\n",
    "transformed_observable = observable.conjugated_by(measurement_circuit**-1)\n",
    "observable_elements = [transformed_observable * stab for stab in stabilizer_elements]\n",
    "print(transformed_observable)"
   ]
  },
  {
   "cell_type": "code",
   "execution_count": 9,
   "metadata": {},
   "outputs": [
    {
     "name": "stdout",
     "output_type": "stream",
     "text": [
      "depth = 0\n",
      "{'0000000': 9081, '1000000': 27, '1101101': 1, '0001110': 34, '0110000': 48, '0110101': 30, '0010000': 40, '1001000': 17, '1110000': 19, '1111110': 50, '0000111': 45, '0001000': 58, '1101100': 14, '1100000': 21, '1001110': 5, '0100111': 38, '0000001': 52, '0100000': 71, '1100100': 3, '1110010': 3, '0001010': 63, '1010000': 20, '0001100': 65, '0000101': 24, '1010010': 9, '0111100': 5, '1001100': 1, '1011010': 19, '0111010': 2, '0010001': 28, '0110100': 1, '0001101': 9, '0101101': 5, '0001001': 2, '0101010': 7, '0111101': 4, '0101100': 9, '0111000': 6, '1111000': 2, '1011110': 5, '0011110': 1, '0100001': 6, '1011001': 1, '1010110': 1, '0011100': 7, '1100001': 2, '0000100': 1, '1100010': 3, '1000010': 3, '1001001': 1, '1001010': 3, '1011000': 5, '1010100': 1, '1000110': 2, '1101110': 6, '0001011': 1, '1001011': 1, '0100100': 1, '0011000': 2, '1010111': 1, '0000010': 1, '0000110': 2, '1101000': 3, '0111111': 1, '1111100': 1}\n",
      "Finished numerator\n",
      "----------\n",
      "0.9081 0.9081\n",
      "1.0\n",
      "----------\n",
      "depth = 10\n",
      "{'0000000': 8467, '1000000': 49, '0001010': 71, '0000001': 64, '1001000': 54, '0110101': 70, '0100000': 81, '0010001': 44, '0001110': 57, '1001110': 7, '0001100': 83, '1111110': 79, '0001000': 74, '1100010': 9, '1110000': 57, '0010000': 80, '0100111': 63, '1101100': 45, '1010010': 9, '0110000': 65, '0101101': 6, '0100010': 2, '0000101': 59, '0101010': 9, '0001101': 11, '1101110': 4, '1011010': 53, '0110001': 2, '1010000': 49, '1100000': 49, '0111101': 6, '1110011': 1, '1011001': 1, '1110010': 8, '0000111': 49, '1000111': 1, '1010110': 2, '0111110': 3, '0011100': 11, '1000010': 8, '0010010': 2, '0001111': 3, '1011111': 2, '0000110': 5, '0100110': 1, '1111000': 5, '1100011': 1, '0111000': 13, '1001011': 1, '1100111': 3, '0110111': 2, '1011101': 1, '1101010': 1, '1011000': 8, '1101111': 1, '1001010': 4, '0100001': 8, '1111101': 3, '0101111': 4, '1100100': 3, '0101100': 14, '1111001': 1, '1101000': 3, '1010001': 4, '0000010': 1, '1010100': 3, '0001011': 5, '1000101': 2, '1110101': 1, '0001001': 2, '0011011': 1, '1101011': 1, '0011111': 2, '0011010': 1, '1111010': 2, '0011110': 2, '1111100': 1, '0010111': 2, '0101011': 1, '0100101': 1, '0100100': 1, '0111100': 5, '0010101': 1, '1011110': 3, '1000100': 1, '1000001': 1, '1110110': 1, '1000110': 1, '0111111': 1, '1001001': 1, '1110100': 1}\n",
      "Finished numerator\n",
      "----------\n",
      "0.8467 0.8467\n",
      "1.0\n",
      "----------\n",
      "depth = 20\n",
      "{'0000000': 8031, '0000001': 90, '0000111': 80, '0000101': 80, '0001000': 89, '1101100': 55, '0001100': 96, '1111110': 104, '1011010': 74, '0100111': 80, '0101010': 9, '0100000': 108, '1010010': 6, '1100010': 4, '0001010': 97, '0001110': 69, '1110000': 65, '0000100': 8, '1001000': 71, '0010000': 93, '0010001': 66, '1010000': 80, '0110000': 104, '0110101': 79, '1000000': 66, '0111000': 9, '1100000': 66, '0111110': 2, '1101110': 13, '0100001': 8, '1001100': 3, '1100110': 3, '0101100': 9, '1101000': 6, '1000101': 4, '1110110': 2, '1111011': 2, '1011000': 5, '0110110': 3, '1110010': 6, '0011100': 10, '1001101': 2, '1000001': 1, '1001111': 2, '0110011': 1, '0101101': 7, '1110100': 3, '1000111': 4, '0001111': 1, '1000010': 3, '0000010': 6, '0101110': 4, '0100101': 2, '1100100': 5, '1101011': 1, '1010001': 1, '0011110': 3, '1110101': 2, '1111000': 4, '1001010': 6, '1110001': 2, '1001110': 3, '0000110': 4, '0111100': 3, '1100101': 3, '0001011': 1, '1011100': 4, '1100111': 5, '1111111': 1, '1111001': 3, '1010110': 1, '1011110': 9, '0010010': 1, '1110111': 3, '1010101': 3, '0010111': 3, '1111010': 2, '1001011': 1, '0001001': 1, '0111001': 1, '1111100': 3, '0111101': 1, '0001101': 4, '0110010': 1, '1000100': 1, '1011001': 1, '0011010': 1, '1001001': 3, '0110111': 1, '0010101': 1, '0011011': 1, '0011101': 1, '0111010': 2, '0101011': 1, '1010111': 1, '1101111': 1, '0100010': 2, '0011111': 1, '0101001': 1, '1010100': 1, '1011011': 1, '1000110': 1, '0100100': 2}\n",
      "Finished numerator\n",
      "----------\n",
      "0.8031000000000001 0.8031\n",
      "1.0000000000000002\n",
      "----------\n",
      "depth = 30\n",
      "{'0000000': 7469, '1000000': 95, '1001000': 95, '1100000': 107, '1101100': 94, '1111110': 141, '1010000': 99, '0110101': 98, '1100010': 4, '1110000': 104, '0000101': 91, '1101001': 2, '0001000': 109, '0010000': 108, '0001100': 112, '0100000': 133, '0100111': 98, '0000001': 106, '0101101': 5, '0111000': 3, '0001011': 5, '0000111': 96, '0110000': 119, '0010001': 98, '1011010': 84, '0001110': 92, '0001010': 111, '1111101': 5, '1001010': 3, '0000110': 10, '1000110': 3, '0111010': 4, '0000010': 5, '1100001': 3, '1011100': 3, '1111000': 6, '1110001': 1, '1001110': 4, '1000010': 4, '0101011': 2, '0101010': 17, '0100010': 1, '1001011': 4, '1111001': 3, '1011110': 5, '1010100': 3, '1010110': 2, '0101100': 12, '0111011': 2, '0001001': 5, '0111101': 5, '0011111': 1, '1110101': 3, '0010010': 4, '0000100': 2, '1110111': 3, '1101111': 3, '0010101': 2, '1000101': 4, '1101010': 5, '1101110': 5, '0110111': 4, '1110110': 3, '1111010': 4, '0101111': 3, '0001101': 13, '0100001': 12, '0100110': 4, '0101110': 5, '1011000': 5, '0001111': 3, '0100100': 7, '1101011': 4, '0111100': 9, '1010010': 4, '1010111': 3, '1000001': 5, '1001100': 3, '1101000': 6, '1011101': 6, '0011110': 2, '1011001': 5, '0110110': 7, '1001101': 1, '1100100': 5, '0011010': 4, '1100110': 2, '1011011': 1, '1010101': 3, '0110001': 3, '0011100': 7, '0111111': 2, '1000111': 1, '0100101': 3, '0010110': 1, '1110010': 3, '0111110': 2, '1111011': 1, '1111111': 2, '0111001': 2, '0010111': 3, '0110010': 1, '0011000': 2, '1100111': 1, '0011001': 2, '0101000': 2, '0011101': 1, '1100101': 1, '1111100': 1, '1000100': 1, '1011111': 1, '0110100': 1, '0010100': 1}\n",
      "Finished numerator\n",
      "----------\n",
      "0.7469 0.7468999999999999\n",
      "1.0000000000000002\n",
      "----------\n",
      "depth = 40\n",
      "{'0000000': 6961, '1001000': 103, '0001010': 142, '0100111': 104, '0000100': 9, '1101100': 115, '0110010': 5, '0001100': 143, '1110000': 113, '0000001': 133, '0010000': 117, '0011100': 11, '1001110': 7, '0010001': 118, '0110101': 121, '0110000': 148, '1011001': 11, '0001110': 118, '0100000': 155, '0000101': 111, '1000000': 106, '0011000': 5, '1101001': 2, '1111110': 137, '0001000': 140, '1010000': 108, '1111010': 4, '0101101': 5, '1011101': 3, '1000110': 5, '1010110': 5, '1011000': 8, '0011110': 6, '1100000': 114, '0000111': 112, '1001100': 5, '1100100': 3, '1001010': 4, '1011110': 7, '0001111': 10, '0001101': 15, '0100110': 3, '1000001': 2, '1011010': 103, '0100100': 7, '0110001': 6, '1111100': 2, '0111000': 11, '1110001': 5, '0001011': 10, '1010001': 2, '0010101': 5, '0110111': 5, '1000111': 3, '0101001': 3, '0111101': 7, '0001001': 7, '0010111': 5, '1011011': 6, '1101101': 4, '1010010': 5, '1101010': 2, '1001011': 8, '0010110': 4, '1100110': 2, '1000010': 1, '0111110': 7, '0101100': 8, '1100101': 5, '0110110': 6, '1111011': 2, '1010100': 8, '0101010': 8, '0100010': 3, '1100001': 4, '0010100': 4, '1101000': 8, '0101000': 7, '1110101': 5, '0111100': 8, '1011100': 7, '1001101': 1, '0111111': 4, '0011101': 2, '0000010': 9, '0111010': 4, '1110100': 4, '1101111': 4, '0010010': 6, '1100010': 9, '1111000': 9, '1110010': 7, '0011001': 1, '0000110': 5, '1010101': 4, '0101011': 3, '1100111': 6, '0011011': 2, '0101111': 5, '1011111': 2, '1110110': 3, '1101110': 10, '1111111': 5, '1101011': 3, '1010111': 2, '0100001': 5, '1111001': 3, '1000101': 3, '1000100': 4, '1100011': 1, '0011010': 4, '0111001': 1, '0110011': 1, '1110111': 1, '0101110': 3, '1111101': 3, '0100101': 1, '1001111': 1, '0111011': 1, '1010011': 1}\n",
      "Finished numerator\n",
      "----------\n",
      "0.6960999999999999 0.6960999999999999\n",
      "1.0\n",
      "----------\n",
      "depth = 50\n",
      "{'1010000': 124, '0000000': 6516, '0100000': 160, '1001000': 127, '0001010': 149, '0000001': 153, '1000000': 136, '0010001': 138, '0000101': 119, '0001110': 124, '0000111': 151, '1111110': 156, '0001100': 136, '1101101': 8, '0010000': 152, '0111000': 8, '0100111': 125, '0110101': 141, '1011010': 115, '0001000': 137, '1100000': 124, '1010101': 9, '1101100': 111, '0110000': 154, '0100100': 6, '0001011': 12, '1101110': 3, '1011001': 11, '1000111': 5, '0000110': 17, '0101101': 10, '1110000': 137, '1100010': 7, '1011110': 14, '0011100': 8, '0011010': 6, '0000010': 6, '1010010': 7, '0001101': 11, '1001011': 8, '1110111': 9, '1001110': 5, '1001100': 8, '0110110': 8, '1011011': 2, '1111010': 10, '1110001': 7, '1111011': 1, '0011001': 3, '0101100': 17, '0110001': 8, '1000110': 3, '0111111': 6, '1101111': 10, '0010110': 3, '0010101': 6, '1101000': 11, '0100001': 10, '0001111': 9, '1111101': 7, '0111010': 8, '0011000': 5, '1001010': 7, '1101001': 4, '1110110': 3, '1111000': 4, '1111111': 8, '1011000': 12, '0101110': 5, '1101010': 4, '1001111': 2, '0101111': 6, '0010111': 4, '0101001': 4, '0111100': 15, '0110010': 3, '0101011': 5, '1110100': 6, '1000101': 3, '0111101': 6, '1100101': 10, '0010100': 2, '1011100': 9, '1010001': 4, '0111001': 8, '0101000': 7, '0101010': 20, '0110111': 6, '0011011': 4, '0111110': 5, '1100001': 6, '1101011': 2, '1011101': 3, '1010111': 11, '0010010': 7, '1110010': 8, '1001101': 2, '1110101': 3, '1111100': 5, '0001001': 7, '0111011': 4, '0100010': 4, '1100111': 3, '0011111': 4, '1100100': 4, '0110100': 6, '1000010': 5, '0100110': 4, '1011111': 4, '1000001': 2, '0000100': 4, '0000011': 1, '0100101': 2, '1010100': 6, '1111001': 5, '1001001': 2, '1010110': 4, '0011110': 4, '0110011': 1, '1100011': 1, '1100110': 3}\n",
      "Finished numerator\n",
      "----------\n",
      "0.6515 0.6517000000000002\n",
      "0.9996931103268372\n",
      "----------\n",
      "depth = 60\n",
      "{'0000000': 6103, '1010000': 139, '0010000': 150, '1110000': 163, '0100111': 142, '1000000': 137, '0000101': 161, '0110000': 133, '0001100': 163, '0010001': 147, '1100010': 6, '1101100': 117, '0100000': 191, '1111110': 167, '0001110': 137, '0111100': 9, '0100100': 13, '1100000': 155, '0010101': 5, '0101101': 11, '1010011': 2, '0000111': 147, '0001010': 184, '0001000': 184, '0110101': 133, '1011010': 128, '1100111': 17, '1011001': 6, '1001100': 7, '0000001': 168, '1101001': 5, '1010010': 9, '1110110': 4, '1010101': 5, '0011000': 7, '0101000': 5, '0010100': 2, '0101001': 6, '1111010': 11, '0001101': 12, '0110100': 5, '0001001': 14, '1001010': 7, '1001000': 132, '1000010': 6, '0111111': 4, '1000110': 7, '1101110': 8, '1101111': 10, '0010010': 12, '0000100': 15, '0011100': 11, '0101100': 14, '1000001': 4, '0011111': 3, '0001111': 13, '1101000': 18, '0000110': 18, '0111000': 7, '1011100': 11, '1100101': 7, '1101011': 4, '1010100': 7, '1001011': 11, '1110010': 11, '0101110': 9, '0001011': 8, '1111000': 9, '1000111': 7, '0000010': 12, '0011011': 5, '0101010': 13, '1011111': 2, '1010111': 6, '1111100': 5, '0010110': 7, '0111010': 6, '1110001': 5, '0010111': 9, '1101010': 5, '1100100': 4, '0011010': 9, '1111001': 5, '1010001': 7, '1111011': 5, '0110111': 8, '1000100': 6, '1110100': 6, '1000011': 1, '1111101': 6, '0100101': 5, '1110101': 10, '0110010': 2, '0100001': 17, '0110001': 5, '1001110': 8, '0110110': 14, '1100110': 6, '1001001': 5, '0101111': 5, '0100110': 3, '0111001': 5, '1000101': 6, '1011000': 10, '1100001': 7, '0011001': 4, '1011110': 10, '0111011': 3, '0011110': 7, '1110111': 5, '0111101': 5, '0111110': 4, '1001111': 6, '1101101': 4, '1111111': 3, '1001101': 2, '1010110': 4, '1011101': 2, '0101011': 5, '0011101': 6, '1011011': 3, '0010011': 1, '0000011': 2, '1100011': 1}\n",
      "Finished numerator\n",
      "----------\n",
      "0.6100999999999999 0.6105\n",
      "0.999344799344799\n",
      "----------\n",
      "depth = 70\n",
      "{'0000000': 5805, '0001000': 163, '1010101': 16, '1000100': 8, '0000101': 143, '0010101': 8, '1011001': 12, '0001110': 151, '1100000': 157, '1000010': 10, '0010000': 181, '1101001': 9, '0001100': 152, '1000000': 139, '1111110': 179, '1111101': 11, '0110000': 190, '1100100': 7, '1101100': 132, '1001000': 131, '0010111': 7, '0100111': 133, '0100000': 190, '1110000': 162, '1011010': 148, '1100001': 5, '0010010': 13, '0000010': 18, '0001101': 23, '0001010': 154, '1000111': 4, '0000001': 153, '0000111': 158, '1101010': 13, '0110101': 141, '0110110': 11, '0000100': 17, '0010001': 155, '0001011': 13, '1010000': 161, '0011100': 12, '0101011': 6, '1101000': 12, '0100100': 12, '1001100': 11, '0101000': 8, '0111001': 6, '1010100': 5, '0101100': 19, '1011111': 6, '0111110': 10, '1100101': 12, '1000001': 8, '0111010': 9, '1001011': 7, '0110100': 10, '1001010': 12, '0001111': 16, '1000110': 5, '1110001': 7, '1001110': 5, '0100110': 4, '0110001': 9, '1011100': 8, '1111011': 6, '0011001': 8, '1101011': 4, '1111100': 10, '1000101': 12, '0011110': 13, '0111000': 15, '0010110': 8, '0011101': 8, '1011000': 11, '0110111': 15, '0001001': 22, '0111011': 5, '0101110': 9, '0100101': 9, '1100010': 7, '1011110': 16, '1101111': 16, '1111000': 15, '1001001': 6, '1011101': 4, '0011000': 13, '0101010': 17, '0101001': 8, '1111010': 13, '0000110': 19, '0100001': 19, '1110100': 7, '1010010': 10, '0010100': 7, '0111100': 13, '1110010': 7, '1010111': 12, '0101111': 3, '1111001': 3, '1001101': 1, '0100010': 7, '1011011': 3, '0111111': 5, '0110010': 9, '1101101': 7, '1101110': 8, '1100110': 2, '1000011': 3, '0101101': 5, '1100111': 7, '1110110': 6, '0011010': 9, '1111111': 4, '0111101': 6, '1001111': 5, '1110101': 8, '1010011': 2, '0000011': 1, '1110111': 7, '0100011': 2, '1010001': 5, '1110011': 3, '0011111': 5, '0011011': 5, '0110011': 1, '1100011': 1, '1010110': 1}\n",
      "Finished numerator\n",
      "----------\n",
      "0.5804 0.5806\n",
      "0.9996555287633483\n",
      "----------\n",
      "depth = 80\n",
      "{'0000000': 5321, '0110000': 194, '0000101': 127, '1110000': 204, '0100111': 170, '0010001': 166, '0100000': 196, '1011110': 19, '0001110': 148, '1001000': 155, '1110100': 6, '0110101': 164, '1011010': 144, '0000010': 21, '1010000': 154, '1001100': 11, '1100111': 15, '1000001': 15, '0111000': 16, '1111110': 189, '1011100': 14, '0101111': 7, '0001100': 178, '1000000': 183, '1001001': 16, '1101100': 140, '1101001': 8, '1000111': 18, '0000001': 183, '0001010': 189, '0001000': 175, '0111101': 3, '0101010': 25, '1011011': 6, '0001101': 19, '0000111': 162, '0011111': 5, '1101011': 6, '0010011': 5, '1011001': 16, '1100000': 139, '0011000': 8, '0010000': 171, '0111010': 11, '0000110': 21, '1111111': 11, '0111100': 14, '0101000': 10, '1110010': 12, '0100001': 17, '0110001': 10, '0010111': 13, '0010100': 10, '1010010': 12, '1010111': 13, '1100010': 19, '1000100': 5, '0000100': 16, '0100010': 6, '0010010': 18, '0001011': 22, '0100100': 17, '1100100': 13, '1110001': 7, '0011100': 12, '0111001': 8, '0110100': 7, '1000101': 11, '0110111': 13, '1110101': 12, '0111110': 19, '1101101': 12, '1011000': 20, '0101100': 15, '1111000': 11, '1111010': 16, '0011010': 17, '1010001': 9, '1001010': 15, '1001101': 8, '1111100': 8, '1110011': 3, '1101010': 11, '1100001': 12, '1001011': 15, '1111011': 11, '1000010': 7, '1111101': 16, '1000110': 7, '1100110': 6, '0110110': 19, '1110110': 10, '0100110': 8, '1110111': 13, '0111111': 7, '0011110': 10, '1101000': 13, '0101110': 12, '1101111': 18, '0101101': 10, '1100101': 7, '1011101': 4, '0111011': 6, '1001110': 20, '0101011': 8, '0001001': 13, '0010101': 10, '1010100': 4, '0110010': 6, '1100011': 2, '0011001': 10, '0101001': 8, '0001111': 13, '1010101': 8, '1101110': 11, '0011101': 5, '0100101': 12, '1011111': 7, '1000011': 3, '0010110': 6, '0100011': 2, '1111001': 2, '1010110': 5, '1001111': 8, '0011011': 9, '1010011': 1, '0110011': 1}\n",
      "Finished numerator\n",
      "----------\n",
      "0.5321 0.5321\n",
      "1.0\n",
      "----------\n",
      "depth = 90\n",
      "{'0000000': 4895, '0110000': 205, '1111011': 15, '0001100': 205, '1001000': 163, '0110101': 172, '0100000': 225, '0000101': 186, '0100111': 176, '0111000': 16, '1110000': 167, '0001000': 187, '0111010': 15, '1011010': 157, '0010001': 168, '0001011': 13, '0011000': 23, '1010000': 167, '0011011': 7, '1010010': 16, '1000000': 148, '1111110': 209, '0000001': 191, '0000111': 165, '0010000': 169, '0001010': 172, '1110100': 14, '0100001': 21, '0010010': 15, '0001110': 166, '1011100': 11, '1010110': 17, '0000110': 25, '1101100': 191, '0110110': 17, '1001111': 12, '1101110': 21, '0111101': 15, '1101101': 7, '1101111': 23, '1110110': 12, '0101000': 19, '1001110': 19, '1100000': 202, '0100100': 25, '0011010': 12, '0011110': 16, '0101101': 11, '1011000': 12, '0111011': 6, '0011001': 8, '1000110': 10, '1111001': 9, '1000101': 16, '1010111': 11, '1101001': 13, '0011100': 20, '0001101': 22, '1111010': 14, '0001111': 20, '1100011': 1, '0110111': 19, '1101011': 6, '1111101': 22, '1110101': 20, '0000010': 23, '0111111': 8, '0011101': 14, '1101010': 9, '1010001': 13, '0100110': 11, '1001011': 21, '1000100': 12, '1100101': 16, '1100010': 10, '1001101': 9, '1110111': 12, '0010111': 18, '1100001': 16, '0101100': 19, '1111000': 14, '0101010': 14, '0110100': 10, '1010101': 10, '0110001': 16, '0001001': 21, '1100100': 11, '0011111': 8, '0000011': 4, '1011001': 12, '0111110': 14, '1001010': 9, '1100110': 6, '1000111': 11, '0010110': 9, '0100010': 7, '0101001': 6, '1010100': 8, '1000010': 9, '1011011': 8, '1100111': 12, '0110010': 14, '1111111': 10, '1101000': 10, '1001100': 16, '0101110': 19, '1011110': 14, '0101011': 6, '0111100': 18, '1011101': 7, '1001001': 5, '0111001': 7, '0010100': 7, '1110010': 11, '1111100': 14, '1000001': 15, '1110001': 14, '0000100': 12, '0100101': 8, '0110011': 3, '1110011': 1, '1010011': 2, '1011111': 8, '0010011': 2, '0101111': 5, '0010101': 7, '0100011': 2, '1000011': 1}\n",
      "Finished numerator\n",
      "----------\n",
      "0.4891 0.4899\n",
      "0.9983670136762605\n",
      "----------\n",
      "[1.0, 1.0, 1.0000000000000002, 1.0000000000000002, 1.0, 0.9996931103268372, 0.999344799344799, 0.9996555287633483, 1.0, 0.9983670136762605]\n"
     ]
    }
   ],
   "source": [
    "njobs: int = 16  # For parallelization.\n",
    "\n",
    "expectation_values = []\n",
    "for depth in depths:\n",
    "    print(\"depth =\", depth)\n",
    "\n",
    "    circuit = (\n",
    "        encoding_circuit.with_noise(noise(p=noise_rate)) + \\\n",
    "        noisy_identity(qreg, depth, noise(p=noise_rate)) + \\\n",
    "        measurement_circuit\n",
    "    )\n",
    "    # steine_circuit.with_noise(noise=cirq.depolarize(p=0))\n",
    "    circuit.append(cirq.measure(qreg, key=\"result\"))\n",
    "\n",
    "    counts = simulator.run(circuit, repetitions=nshots).histogram(key=\"result\")\n",
    "    counts = {int_to_bin_str(key, n) : val for key, val in counts.items()}\n",
    "    print(counts)\n",
    "\n",
    "    def process(p):\n",
    "        return p.coefficient * compute_expectation(p, counts)\n",
    "\n",
    "    evals = Parallel(n_jobs=njobs)(delayed(process)(p) for p in observable_elements)\n",
    "    numerator = np.average(evals).real\n",
    "\n",
    "    print(\"Finished numerator\")\n",
    "    evals = Parallel(n_jobs=njobs)(delayed(process)(p) for p in stabilizer_elements)\n",
    "    denominator = np.average(evals).real\n",
    "\n",
    "    print(\"----------\")\n",
    "    print(numerator, denominator)\n",
    "    print(numerator / denominator)\n",
    "    print(\"----------\")\n",
    "    expectation_values.append(numerator / denominator)\n",
    "\n",
    "print(expectation_values)"
   ]
  },
  {
   "cell_type": "markdown",
   "metadata": {},
   "source": [
    "## Plot"
   ]
  },
  {
   "cell_type": "code",
   "execution_count": 10,
   "metadata": {},
   "outputs": [
    {
     "data": {
      "image/png": "[encoded data removed]",
      "text/plain": [
       "<Figure size 640x480 with 1 Axes>"
      ]
     },
     "metadata": {},
     "output_type": "display_data"
    }
   ],
   "source": [
    "plt.plot(depths, unmit_evs, label=\"Physical\")\n",
    "plt.plot(depths, expectation_values, label=\"Encoded\")\n",
    "plt.plot(depths, [1.0 if PAULI_O == \"Z\" else 0.0]*len(depths), \"--\", label=\"Ideal\")\n",
    "plt.legend()\n",
    "plt.xlabel(\"Depth\")\n",
    "plt.ylabel(\"$\\\\left<\\\\overline{Z}\\\\right>$\")\n",
    "plt.title(\"Measuring $\\\\left< \\\\bar{0} | \\\\overline{Z} | \\\\bar{0} \\\\right>$\" + f\" with rate p = {noise_rate} noise \\nfor the distance d = {distance} color code\");"
   ]
  },
  {
   "cell_type": "markdown",
   "metadata": {},
   "source": []
  }
 ],
 "metadata": {
  "kernelspec": {
   "display_name": "envencoded",
   "language": "python",
   "name": "envencoded"
  },
  "language_info": {
   "codemirror_mode": {
    "name": "ipython",
    "version": 3
   },
   "file_extension": ".py",
   "mimetype": "text/x-python",
   "name": "python",
   "nbconvert_exporter": "python",
   "pygments_lexer": "ipython3",
   "version": "3.10.12"
  }
 },
 "nbformat": 4,
 "nbformat_minor": 2
}
