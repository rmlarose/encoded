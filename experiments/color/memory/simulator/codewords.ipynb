{
 "cells": [
  {
   "cell_type": "code",
   "execution_count": null,
   "metadata": {},
   "outputs": [],
   "source": [
    "import cirq\n",
    "import stim\n",
    "import stimcirq"
   ]
  },
  {
   "cell_type": "code",
   "execution_count": 2,
   "metadata": {},
   "outputs": [],
   "source": [
    "distances = [3, 5, 7]                       # Color code distance.\n",
    "nshots = 100_000                        # Number of samples/shots\n",
    "depths = range(10, 600, 50)\n",
    "\n",
    "noise_rate = 1e-3\n",
    "noise = cirq.depolarize\n",
    "simulator = stimcirq.StimSampler()"
   ]
  },
  {
   "cell_type": "code",
   "execution_count": 3,
   "metadata": {},
   "outputs": [],
   "source": [
    "import dataclasses\n",
    "\n",
    "\n",
    "@dataclasses.dataclass\n",
    "class Tile:\n",
    "    qubits: list\n",
    "    color: str\n",
    "\n",
    "\n",
    "def make_color_code_tiles(*, base_data_width):\n",
    "    if not (base_data_width % 2 == 1 and base_data_width >= 3):\n",
    "        raise ValueError(f\"{base_data_width=} wasn't an odd number at least as large as 3.\")\n",
    "    w = base_data_width * 2 - 1\n",
    "\n",
    "    def is_in_bounds(q: complex) -> bool:\n",
    "\n",
    "        if q.imag < 0:\n",
    "\n",
    "            return False\n",
    "        if q.imag * 2 > q.real * 3:\n",
    "\n",
    "            return False\n",
    "        if q.imag * 2 > (w - q.real) * 3:\n",
    "\n",
    "            return False\n",
    "        return True\n",
    "\n",
    "\n",
    "    tiles = []\n",
    "    hexagon_offsets = [-1, +1j, +1j + 1, +2, -1j + 1, -1j]\n",
    "    for x in range(1, w, 2):\n",
    "        for y in range((x // 2) % 2, w, 2):\n",
    "            q = x + 1j * y\n",
    "\n",
    "            tile = Tile(\n",
    "                color=['red', 'green', 'blue'][y % 3],\n",
    "\n",
    "            \n",
    "                qubits=[\n",
    "                    q + d\n",
    "                    for d in hexagon_offsets\n",
    "                    if is_in_bounds(q + d)\n",
    "                ],\n",
    "            )\n",
    "\n",
    "            if len(tile.qubits) in [4, 6]:\n",
    "                tiles.append(tile)\n",
    "\n",
    "    return tiles\n",
    "\n",
    "def get_stabilizer_generators(distance: int):\n",
    "    tiles = make_color_code_tiles(base_data_width=distance)\n",
    "    all_qubits = {q for tile in tiles for q in tile.qubits}\n",
    "\n",
    "    # Only difference here is with the chromobius notebook that we rever\n",
    "    sorted_qubits = reversed(sorted(all_qubits, key=lambda q: (q.imag, q.real)))\n",
    "    q2i = {q: i for i, q in enumerate(sorted_qubits)}\n",
    "\n",
    "    sorted_tiles = []\n",
    "    for tile in tiles:\n",
    "        sorted_tiles.append([q2i[q] for q in tile.qubits])\n",
    "\n",
    "    stabilizers_x = []\n",
    "    stabilizers_z = []\n",
    "    for tile in sorted_tiles:\n",
    "        stab_x = \"\"\n",
    "        stab_z = \"\"\n",
    "        for i in range(int((3*distance**2+1)/4)):\n",
    "            if i in tile:\n",
    "                stab_x+=\"X\"\n",
    "                stab_z+=\"Z\"\n",
    "            else:\n",
    "                stab_x+=\"I\"\n",
    "                stab_z+=\"I\"\n",
    "        stabilizers_x.append(stab_x)\n",
    "        stabilizers_z.append(stab_z)\n",
    "\n",
    "    return stabilizers_x + stabilizers_z\n",
    "\n",
    "def stabilizers_to_encoder(stabilizers) -> stim.Circuit:\n",
    "    \n",
    "    tableau = stim.Tableau.from_stabilizers(\n",
    "        stabilizers,\n",
    "        allow_underconstrained=True,\n",
    "    )\n",
    "    # Note: Look at https://github.com/quantumlib/Stim/blob/main/doc/python_api_reference_vDev.md\n",
    "    # For the different method of encoding\n",
    "\n",
    "    return tableau.to_circuit(method='graph_state')"
   ]
  },
  {
   "cell_type": "markdown",
   "metadata": {},
   "source": [
    "## Unmitigated"
   ]
  },
  {
   "cell_type": "code",
   "execution_count": 4,
   "metadata": {},
   "outputs": [
    {
     "name": "stdout",
     "output_type": "stream",
     "text": [
      "0.99334\n",
      "0.96096\n",
      "0.93004\n",
      "0.90412\n",
      "0.87964\n",
      "0.85471\n",
      "0.82824\n",
      "0.81025\n",
      "0.78969\n",
      "0.77166\n",
      "0.75379\n",
      "0.73635\n"
     ]
    }
   ],
   "source": [
    "unmit_evs = []\n",
    "for depth in depths:\n",
    "    c = cirq.Circuit([cirq.X.on(cirq.LineQubit(0))]*depth).with_noise(noise(noise_rate))\n",
    "    c.append(cirq.measure(cirq.LineQubit(0), key=\"m\"))\n",
    "    ev = simulator.run(c, repetitions=nshots).histogram(key=\"m\")[0] / nshots\n",
    "    print(ev)\n",
    "    unmit_evs.append(ev)"
   ]
  },
  {
   "cell_type": "markdown",
   "metadata": {},
   "source": [
    "## Mitigated"
   ]
  },
  {
   "cell_type": "code",
   "execution_count": 5,
   "metadata": {},
   "outputs": [],
   "source": [
    "def expectation(counts, logical0, logical1):\n",
    "    # From YLF\n",
    "    p0 = 0.0\n",
    "    p1 = 0.0\n",
    "    for state in logical0:\n",
    "        if state in counts:\n",
    "            p0 += counts[state]\n",
    "    for state in logical1:\n",
    "        if state in counts:\n",
    "            p1 += counts[state]\n",
    "    obs_value = (p0-p1)/(p0+p1) if p0+p1 > 0 else None\n",
    "    return obs_value"
   ]
  },
  {
   "cell_type": "code",
   "execution_count": 6,
   "metadata": {},
   "outputs": [
    {
     "name": "stdout",
     "output_type": "stream",
     "text": [
      "8 code words for distance 3\n",
      "0.9997763263845397\n",
      "0.9977060049516723\n",
      "0.9918677996142418\n",
      "0.9770762630466799\n",
      "0.955781788266749\n",
      "0.9201440825422021\n",
      "0.8729783037475345\n",
      "0.8178479618068307\n",
      "0.7567580013815335\n",
      "0.6790455038479417\n",
      "0.6052246368652179\n",
      "0.5257153097186548\n",
      "512 code words for distance 5\n",
      "0.9985279561432451\n",
      "0.9957693368895429\n",
      "0.9924658095160102\n",
      "0.9838846480067854\n",
      "0.9792989884733004\n",
      "0.9453338539632956\n",
      "0.9175757575757576\n",
      "0.8542056074766355\n",
      "0.779891304347826\n",
      "0.6708407871198568\n",
      "0.5650319829424307\n",
      "0.3676092544987147\n",
      "262144 code words for distance 7\n",
      "1.0\n",
      "0.9984276729559748\n",
      "1.0\n",
      "0.9877300613496932\n",
      "1.0\n",
      "0.8947368421052632\n",
      "0.8333333333333334\n",
      "0.3333333333333333\n",
      "1.0\n",
      "0.0\n",
      "0.0\n",
      "0.3333333333333333\n"
     ]
    }
   ],
   "source": [
    "all_mit_evs = []\n",
    "for distance in distances:\n",
    "    generator_strs = get_stabilizer_generators(distance)\n",
    "    n = len(generator_strs[0])\n",
    "    qreg = cirq.LineQubit.range(n)\n",
    "\n",
    "    encoding_circuit = stimcirq.stim_circuit_to_cirq_circuit(stabilizers_to_encoder([stim.PauliString(s) for s in generator_strs]))\n",
    "\n",
    "    encoding0 = encoding_circuit + [cirq.measure(qreg, key=\"m\")]\n",
    "    logical0 = simulator.run(encoding0, repetitions=100*2**(sum(sum(range(3+d)) for d in range((distance-3)//2+1)))).histogram(key='m').keys()\n",
    "    print(f\"{len(logical0)} code words for distance {distance}\")\n",
    "\n",
    "    # encoding1 = encoding_circuit + cirq.X.on_each(qreg)\n",
    "    # encoding1.append(cirq.measure(qreg, key='m'))\n",
    "    # logical1_ = simulator.run(encoding1, repetitions=nshots).histogram(key='m').keys()\n",
    "\n",
    "    logical1 = set()\n",
    "    for cw in logical0:\n",
    "        logical1.add(int(\"\".join([\"0\" if ch==\"1\" else \"1\" for ch in [\"0\"]*(n-len(bin(cw)[2:])) + list(bin(cw)[2:])]), 2))\n",
    "    # print(logical0)\n",
    "    # print(logical1)\n",
    "    # print(logical1_)\n",
    "\n",
    "    mit_evs = []\n",
    "\n",
    "    for depth in depths:\n",
    "        noisy_circuit = encoding_circuit.copy()\n",
    "        for _ in range(depth):\n",
    "            noisy_circuit.append(cirq.X.on_each(qreg))\n",
    "        noisy_circuit = noisy_circuit.with_noise(noise(noise_rate))\n",
    "        noisy_circuit.append(cirq.measure(qreg, key=\"m\"))\n",
    "\n",
    "        counts = simulator.run(noisy_circuit, repetitions=nshots).histogram(key='m')\n",
    "        ev = expectation(counts, logical0, logical1)\n",
    "        print(ev)\n",
    "        mit_evs.append(ev)\n",
    "    \n",
    "    all_mit_evs.append(mit_evs)\n",
    "\n",
    "\n",
    "\n",
    "\n",
    "\n"
   ]
  },
  {
   "cell_type": "code",
   "execution_count": 8,
   "metadata": {},
   "outputs": [
    {
     "data": {
      "text/plain": [
       "<matplotlib.legend.Legend at 0x7f0d066fc790>"
      ]
     },
     "execution_count": 8,
     "metadata": {},
     "output_type": "execute_result"
    },
    {
     "data": {
      "image/png": "[encoded data removed]",
      "text/plain": [
       "<Figure size 640x480 with 1 Axes>"
      ]
     },
     "metadata": {},
     "output_type": "display_data"
    }
   ],
   "source": [
    "import matplotlib.pyplot as plt\n",
    "\n",
    "plt.plot(depths, [1.0]*len(depths), label=\"Ideal\")\n",
    "plt.plot(depths, unmit_evs, label=\"Unmitigated\")\n",
    "\n",
    "for i, d in enumerate(distances):\n",
    "    plt.plot(depths, all_mit_evs[i], label=f\"d={d}\")\n",
    "\n",
    "plt.title(\"Measuring $\\\\langle \\\\bar{Z}\\\\rangle$ while scaling distance of TCC\")\n",
    "plt.ylabel(\"$\\\\langle \\\\bar\\{Z\\}\\\\rangle$\")\n",
    "plt.xlabel(\"Depth (logical X gates)\")\n",
    "plt.legend()"
   ]
  }
 ],
 "metadata": {
  "kernelspec": {
   "display_name": ".venv",
   "language": "python",
   "name": "python3"
  },
  "language_info": {
   "codemirror_mode": {
    "name": "ipython",
    "version": 3
   },
   "file_extension": ".py",
   "mimetype": "text/x-python",
   "name": "python",
   "nbconvert_exporter": "python",
   "pygments_lexer": "ipython3",
   "version": "3.9.5"
  }
 },
 "nbformat": 4,
 "nbformat_minor": 2
}
