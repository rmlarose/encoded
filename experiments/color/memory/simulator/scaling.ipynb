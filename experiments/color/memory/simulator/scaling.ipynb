{
 "cells": [
  {
   "cell_type": "markdown",
   "metadata": {},
   "source": [
    "# TCC Memory: Scaling physical qubits"
   ]
  },
  {
   "cell_type": "markdown",
   "metadata": {},
   "source": [
    "## Setup"
   ]
  },
  {
   "cell_type": "code",
   "execution_count": 1,
   "metadata": {},
   "outputs": [],
   "source": [
    "import numpy as np\n",
    "from typing import List, Dict\n",
    "import functools\n",
    "import itertools\n",
    "import dataclasses\n",
    "\n",
    "import pickle \n",
    "import cirq\n",
    "from mitiq import PauliString\n",
    "import stim\n",
    "import stimcirq\n",
    "from qiskit.quantum_info import StabilizerState\n",
    "\n",
    "\n",
    "from encoded.diagonalize import get_stabilizer_matrix_from_paulis, get_measurement_circuit_tcc, get_paulis_from_stabilizer_matrix"
   ]
  },
  {
   "cell_type": "markdown",
   "metadata": {},
   "source": [
    "## Set experiment parameters"
   ]
  },
  {
   "cell_type": "markdown",
   "metadata": {},
   "source": [
    "## Helper functions"
   ]
  },
  {
   "cell_type": "code",
   "execution_count": 3,
   "metadata": {},
   "outputs": [],
   "source": [
    "def int_to_bin_list(x, length):\n",
    "    result = [0] * length\n",
    "    for i in range(length):\n",
    "        if x & (1 << i):\n",
    "            result[length - 1 - i] = 1\n",
    "    return result\n",
    "\n",
    "def int_to_bin_str(x, length):\n",
    "    return functools.reduce(lambda a, b: a + b, [str(b) for b in int_to_bin_list(x, length)])\n",
    "\n",
    "def compute_expectation(\n",
    "    pauli: cirq.PauliString,\n",
    "    counts: Dict[str, int],\n",
    ") -> float:\n",
    "    if pauli is cirq.PauliString():\n",
    "        return 1.0\n",
    "\n",
    "    expectation = 0.0\n",
    "\n",
    "    indices = [q.x for q in pauli.qubits]\n",
    "    for key, value in counts.items():\n",
    "        key = list(map(int, list(key)))\n",
    "        expectation += (-1) ** sum([key[i] for i in indices]) * value\n",
    "    return expectation / sum(counts.values())\n",
    "\n",
    "def noisy_identity(qreg, depth, noise) -> cirq.Circuit:\n",
    "    circuit = cirq.Circuit()\n",
    "    if depth == 0:\n",
    "        circuit.append(cirq.I.on_each(qreg))\n",
    "    for _ in range(depth):\n",
    "        circuit.append(cirq.X.on_each(qreg))\n",
    "\n",
    "    return circuit.with_noise(noise)\n",
    "\n",
    "def strs_to_paulis(pauli_strs : List[str]) -> List[cirq.PauliString]:\n",
    "    stab_list = []\n",
    "    for stab_str in pauli_strs:\n",
    "        stab_list.append(PauliString(stab_str)._pauli)\n",
    "    return stab_list\n",
    "\n",
    "\n",
    "def measure_observable(\n",
    "    pauli: cirq.PauliString,\n",
    "    bitstring: str,\n",
    ") -> float:\n",
    "    if pauli is cirq.PauliString():\n",
    "        return 1.0\n",
    "\n",
    "    indices = [q.x for q in pauli.qubits]\n",
    "    bitstring = list(map(int, list(bitstring[::-1])))\n",
    "    return (-1) ** sum([bitstring[i] for i in indices])\n",
    "\n",
    "\n",
    "def generate_stabilizer_elements(generators: List[cirq.PauliString]) -> List[cirq.PauliString]:\n",
    "    elements = []\n",
    "    for string in itertools.chain.from_iterable(itertools.combinations(generators, r) for r in range(len(generators) + 1)):\n",
    "        elements.append(\n",
    "            functools.reduce(lambda a, b: a * b, string, cirq.PauliString())\n",
    "        )\n",
    "    return elements\n",
    "\n",
    "\n",
    "def process(bitstring, count, elements,nshots):\n",
    "    n_elements = len(elements)\n",
    "\n",
    "    values = [measure_observable(pauli, bitstring) for pauli in elements]\n",
    "    qubit_ev = sum(values)\n",
    "    m = qubit_ev / n_elements\n",
    "    return m * count / nshots"
   ]
  },
  {
   "cell_type": "markdown",
   "metadata": {},
   "source": [
    "### Logical state preparation / encoding"
   ]
  },
  {
   "cell_type": "code",
   "execution_count": 4,
   "metadata": {},
   "outputs": [],
   "source": [
    "@dataclasses.dataclass\n",
    "class Tile:\n",
    "    qubits: list\n",
    "    color: str\n",
    "\n",
    "\n",
    "def make_color_code_tiles(*, base_data_width):\n",
    "    if not (base_data_width % 2 == 1 and base_data_width >= 3):\n",
    "        raise ValueError(f\"{base_data_width=} wasn't an odd number at least as large as 3.\")\n",
    "    w = base_data_width * 2 - 1\n",
    "\n",
    "    def is_in_bounds(q: complex) -> bool:\n",
    "\n",
    "        if q.imag < 0:\n",
    "\n",
    "            return False\n",
    "        if q.imag * 2 > q.real * 3:\n",
    "\n",
    "            return False\n",
    "        if q.imag * 2 > (w - q.real) * 3:\n",
    "\n",
    "            return False\n",
    "        return True\n",
    "\n",
    "\n",
    "    tiles = []\n",
    "    hexagon_offsets = [-1, +1j, +1j + 1, +2, -1j + 1, -1j]\n",
    "    for x in range(1, w, 2):\n",
    "        for y in range((x // 2) % 2, w, 2):\n",
    "            q = x + 1j * y\n",
    "\n",
    "            tile = Tile(\n",
    "                color=['red', 'green', 'blue'][y % 3],\n",
    "\n",
    "            \n",
    "                qubits=[\n",
    "                    q + d\n",
    "                    for d in hexagon_offsets\n",
    "                    if is_in_bounds(q + d)\n",
    "                ],\n",
    "            )\n",
    "\n",
    "            if len(tile.qubits) in [4, 6]:\n",
    "                tiles.append(tile)\n",
    "\n",
    "    return tiles\n",
    "\n",
    "def get_stabilizer_generators(distance: int):\n",
    "    tiles = make_color_code_tiles(base_data_width=distance)\n",
    "    all_qubits = {q for tile in tiles for q in tile.qubits}\n",
    "\n",
    "    # Only difference here is with the chromobius notebook that we rever\n",
    "    sorted_qubits = reversed(sorted(all_qubits, key=lambda q: (q.imag, q.real)))\n",
    "    q2i = {q: i for i, q in enumerate(sorted_qubits)}\n",
    "\n",
    "    sorted_tiles = []\n",
    "    for tile in tiles:\n",
    "        sorted_tiles.append([q2i[q] for q in tile.qubits])\n",
    "\n",
    "    stabilizers_x = []\n",
    "    stabilizers_z = []\n",
    "    for tile in sorted_tiles:\n",
    "        stab_x = \"\"\n",
    "        stab_z = \"\"\n",
    "        for i in range(int((3*distance**2+1)/4)):\n",
    "            if i in tile:\n",
    "                stab_x+=\"X\"\n",
    "                stab_z+=\"Z\"\n",
    "            else:\n",
    "                stab_x+=\"I\"\n",
    "                stab_z+=\"I\"\n",
    "        stabilizers_x.append(stab_x)\n",
    "        stabilizers_z.append(stab_z)\n",
    "\n",
    "    return stabilizers_x + stabilizers_z\n",
    "\n",
    "def stabilizers_to_encoder(stabilizers) -> stim.Circuit:\n",
    "    \n",
    "    tableau = stim.Tableau.from_stabilizers(\n",
    "        stabilizers,\n",
    "        allow_underconstrained=True,\n",
    "    )\n",
    "    # Note: Look at https://github.com/quantumlib/Stim/blob/main/doc/python_api_reference_vDev.md\n",
    "    # For the different method of encoding\n",
    "\n",
    "    return tableau.to_circuit(method='graph_state')\n",
    "\n"
   ]
  },
  {
   "cell_type": "markdown",
   "metadata": {},
   "source": [
    "## Set parameters"
   ]
  },
  {
   "cell_type": "code",
   "execution_count": 103,
   "metadata": {},
   "outputs": [],
   "source": [
    "distance = 3\n",
    "nshots = 5_000_000 # number of repetitions to run circuit\n",
    "\n",
    "simulator = stimcirq.StimSampler()\n",
    "\n",
    "noise_rate = 0.001\n",
    "noise = cirq.depolarize\n",
    "PAULI_O = \"Z\""
   ]
  },
  {
   "cell_type": "markdown",
   "metadata": {},
   "source": [
    "## Run encoded experiment"
   ]
  },
  {
   "cell_type": "code",
   "execution_count": 104,
   "metadata": {},
   "outputs": [],
   "source": [
    "generator_strs = get_stabilizer_generators(distance)[::-1]\n",
    "n = len(generator_strs[0])\n",
    "\n",
    "\n",
    "observable = PauliString(PAULI_O*n)._pauli\n",
    "\n",
    "qreg = cirq.LineQubit.range(n)\n",
    "stabilizer_generators = strs_to_paulis(generator_strs)\n",
    "stabilizer_matrix = get_stabilizer_matrix_from_paulis(stabilizer_generators, qreg)\n",
    "encoding_circuit = stimcirq.stim_circuit_to_cirq_circuit(stabilizers_to_encoder([stim.PauliString(s) for s in generator_strs]))"
   ]
  },
  {
   "cell_type": "code",
   "execution_count": 105,
   "metadata": {},
   "outputs": [
    {
     "data": {
      "text/html": [
       "<pre style=\"overflow: auto; white-space: pre;\">                                                                                     ┌──┐                         ┌──┐\n",
       "0: ───RX───D(0.001)[&lt;virtual&gt;]───@───D(0.001)[&lt;virtual&gt;]───@───D(0.001)[&lt;virtual&gt;]────@─────D(0.001)[&lt;virtual&gt;]──────────D(0.001)[&lt;virtual&gt;]───────D(0.001)[&lt;virtual&gt;]───────D(0.001)[&lt;virtual&gt;]───────D(0.001)[&lt;virtual&gt;]───H───D(0.001)[&lt;virtual&gt;]───M(&#x27;z&#x27;)───\n",
       "                                 │                         │                          │                                                                                                                                                                │\n",
       "1: ───RX───D(0.001)[&lt;virtual&gt;]───┼───D(0.001)[&lt;virtual&gt;]───┼───D(0.001)[&lt;virtual&gt;]────┼@────D(0.001)[&lt;virtual&gt;]────@─────D(0.001)[&lt;virtual&gt;]───────D(0.001)[&lt;virtual&gt;]───────D(0.001)[&lt;virtual&gt;]───────D(0.001)[&lt;virtual&gt;]───H───D(0.001)[&lt;virtual&gt;]───M────────\n",
       "                                 │                         │                          ││                           │                                                                                                                                   │\n",
       "2: ───RX───D(0.001)[&lt;virtual&gt;]───┼───D(0.001)[&lt;virtual&gt;]───┼───D(0.001)[&lt;virtual&gt;]────┼┼────D(0.001)[&lt;virtual&gt;]────┼@────D(0.001)[&lt;virtual&gt;]───@───D(0.001)[&lt;virtual&gt;]───────D(0.001)[&lt;virtual&gt;]───────D(0.001)[&lt;virtual&gt;]───H───D(0.001)[&lt;virtual&gt;]───M────────\n",
       "                                 │                         │                          ││                           ││                          │                                                                                                       │\n",
       "3: ───RX───D(0.001)[&lt;virtual&gt;]───@───D(0.001)[&lt;virtual&gt;]───┼───D(0.001)[&lt;virtual&gt;]────┼@────D(0.001)[&lt;virtual&gt;]────┼@────D(0.001)[&lt;virtual&gt;]───┼───D(0.001)[&lt;virtual&gt;]───────D(0.001)[&lt;virtual&gt;]───────D(0.001)[&lt;virtual&gt;]───────D(0.001)[&lt;virtual&gt;]───M────────\n",
       "                                                           │                          │                            │                           │                                                                                                       │\n",
       "4: ───RX───D(0.001)[&lt;virtual&gt;]───────D(0.001)[&lt;virtual&gt;]───@───D(0.001)[&lt;virtual&gt;]────┼─────D(0.001)[&lt;virtual&gt;]────┼─────D(0.001)[&lt;virtual&gt;]───@───D(0.001)[&lt;virtual&gt;]───@───D(0.001)[&lt;virtual&gt;]───────D(0.001)[&lt;virtual&gt;]───────D(0.001)[&lt;virtual&gt;]───M────────\n",
       "                                                                                      │                            │                                                     │                                                                             │\n",
       "5: ───RX───D(0.001)[&lt;virtual&gt;]───────D(0.001)[&lt;virtual&gt;]───────D(0.001)[&lt;virtual&gt;]────@─────D(0.001)[&lt;virtual&gt;]────@─────D(0.001)[&lt;virtual&gt;]───────D(0.001)[&lt;virtual&gt;]───┼───D(0.001)[&lt;virtual&gt;]───@───D(0.001)[&lt;virtual&gt;]───────D(0.001)[&lt;virtual&gt;]───M────────\n",
       "                                                                                                                                                                         │                         │                                                   │\n",
       "6: ───RX───D(0.001)[&lt;virtual&gt;]───────D(0.001)[&lt;virtual&gt;]───────D(0.001)[&lt;virtual&gt;]──────────D(0.001)[&lt;virtual&gt;]──────────D(0.001)[&lt;virtual&gt;]───────D(0.001)[&lt;virtual&gt;]───@───D(0.001)[&lt;virtual&gt;]───@───D(0.001)[&lt;virtual&gt;]───H───D(0.001)[&lt;virtual&gt;]───M────────\n",
       "                                                                                     └──┘                         └──┘</pre>"
      ],
      "text/plain": [
       "                                                                                     ┌──┐                         ┌──┐\n",
       "0: ───RX───D(0.001)[<virtual>]───@───D(0.001)[<virtual>]───@───D(0.001)[<virtual>]────@─────D(0.001)[<virtual>]──────────D(0.001)[<virtual>]───────D(0.001)[<virtual>]───────D(0.001)[<virtual>]───────D(0.001)[<virtual>]───H───D(0.001)[<virtual>]───M('z')───\n",
       "                                 │                         │                          │                                                                                                                                                                │\n",
       "1: ───RX───D(0.001)[<virtual>]───┼───D(0.001)[<virtual>]───┼───D(0.001)[<virtual>]────┼@────D(0.001)[<virtual>]────@─────D(0.001)[<virtual>]───────D(0.001)[<virtual>]───────D(0.001)[<virtual>]───────D(0.001)[<virtual>]───H───D(0.001)[<virtual>]───M────────\n",
       "                                 │                         │                          ││                           │                                                                                                                                   │\n",
       "2: ───RX───D(0.001)[<virtual>]───┼───D(0.001)[<virtual>]───┼───D(0.001)[<virtual>]────┼┼────D(0.001)[<virtual>]────┼@────D(0.001)[<virtual>]───@───D(0.001)[<virtual>]───────D(0.001)[<virtual>]───────D(0.001)[<virtual>]───H───D(0.001)[<virtual>]───M────────\n",
       "                                 │                         │                          ││                           ││                          │                                                                                                       │\n",
       "3: ───RX───D(0.001)[<virtual>]───@───D(0.001)[<virtual>]───┼───D(0.001)[<virtual>]────┼@────D(0.001)[<virtual>]────┼@────D(0.001)[<virtual>]───┼───D(0.001)[<virtual>]───────D(0.001)[<virtual>]───────D(0.001)[<virtual>]───────D(0.001)[<virtual>]───M────────\n",
       "                                                           │                          │                            │                           │                                                                                                       │\n",
       "4: ───RX───D(0.001)[<virtual>]───────D(0.001)[<virtual>]───@───D(0.001)[<virtual>]────┼─────D(0.001)[<virtual>]────┼─────D(0.001)[<virtual>]───@───D(0.001)[<virtual>]───@───D(0.001)[<virtual>]───────D(0.001)[<virtual>]───────D(0.001)[<virtual>]───M────────\n",
       "                                                                                      │                            │                                                     │                                                                             │\n",
       "5: ───RX───D(0.001)[<virtual>]───────D(0.001)[<virtual>]───────D(0.001)[<virtual>]────@─────D(0.001)[<virtual>]────@─────D(0.001)[<virtual>]───────D(0.001)[<virtual>]───┼───D(0.001)[<virtual>]───@───D(0.001)[<virtual>]───────D(0.001)[<virtual>]───M────────\n",
       "                                                                                                                                                                         │                         │                                                   │\n",
       "6: ───RX───D(0.001)[<virtual>]───────D(0.001)[<virtual>]───────D(0.001)[<virtual>]──────────D(0.001)[<virtual>]──────────D(0.001)[<virtual>]───────D(0.001)[<virtual>]───@───D(0.001)[<virtual>]───@───D(0.001)[<virtual>]───H───D(0.001)[<virtual>]───M────────\n",
       "                                                                                     └──┘                         └──┘"
      ]
     },
     "execution_count": 105,
     "metadata": {},
     "output_type": "execute_result"
    }
   ],
   "source": [
    "circuit = encoding_circuit \n",
    "circuit = circuit.with_noise(noise(noise_rate))\n",
    "circuit.append(cirq.measure(qreg, key=\"z\"))\n",
    "circuit"
   ]
  },
  {
   "cell_type": "code",
   "execution_count": 106,
   "metadata": {},
   "outputs": [],
   "source": [
    "counts = simulator.run(circuit, repetitions=nshots).histogram(key=\"z\")\n",
    "counts = {int_to_bin_str(key, n) : val for key, val in counts.items()}"
   ]
  },
  {
   "cell_type": "markdown",
   "metadata": {},
   "source": [
    "## Post-processing"
   ]
  },
  {
   "cell_type": "code",
   "execution_count": 107,
   "metadata": {},
   "outputs": [],
   "source": [
    "logical0 = StabilizerState.from_stabilizer_list(generator_strs+[\"Z\"*n]).probabilities_dict()\n",
    "logical1 = [s.replace('1', '2').replace('0', '1').replace('2', '0') for s in logical0]"
   ]
  },
  {
   "cell_type": "code",
   "execution_count": 108,
   "metadata": {},
   "outputs": [
    {
     "data": {
      "text/plain": [
       "0.9999846272130322"
      ]
     },
     "execution_count": 108,
     "metadata": {},
     "output_type": "execute_result"
    }
   ],
   "source": [
    "p0 = 0.0\n",
    "p1 = 0.0\n",
    "for state in logical0:\n",
    "    if state in counts:\n",
    "        p0 += counts[state]\n",
    "for state in logical1:\n",
    "    if state in counts:\n",
    "        p1 += counts[state]\n",
    "obs_value = (p0-p1)/(p0+p1)\n",
    "obs_value"
   ]
  },
  {
   "cell_type": "markdown",
   "metadata": {},
   "source": [
    "# Scaling experiment Z"
   ]
  },
  {
   "cell_type": "markdown",
   "metadata": {},
   "source": [
    "### Unencoded"
   ]
  },
  {
   "cell_type": "code",
   "execution_count": 181,
   "metadata": {},
   "outputs": [],
   "source": [
    "d_set = [3,5]\n",
    "nshots = 100_000_000 # number of repetitions to run circuit\n",
    "\n",
    "simulator = stimcirq.StimSampler()\n",
    "\n",
    "noise_set = np.logspace(-4,-2,10)\n",
    "noise = cirq.depolarize\n",
    "\n",
    "PAULI_O = \"Z\""
   ]
  },
  {
   "cell_type": "code",
   "execution_count": 178,
   "metadata": {},
   "outputs": [],
   "source": [
    "\n",
    "obs_unencoded = []\n",
    "for noise_ratio in noise_set:\n",
    "    circuit_unencoded = cirq.Circuit()\n",
    "    qubits = cirq.LineQubit.range(1)\n",
    "    circuit_unencoded.append(cirq.I(qubits[0]))\n",
    "    circuit_unencoded = circuit_unencoded.with_noise(noise(noise_ratio))\n",
    "    circuit_unencoded.append(cirq.measure(qubits, key=\"z\"))\n",
    "    counts = simulator.run(circuit_unencoded, repetitions=nshots).histogram(key=\"z\")\n",
    "    counts = {int_to_bin_str(key, 1) : val for key, val in counts.items()}\n",
    "    obs_unencoded.append(counts[\"0\"]-counts[\"1\"])"
   ]
  },
  {
   "cell_type": "markdown",
   "metadata": {},
   "source": [
    "### Encoded"
   ]
  },
  {
   "cell_type": "code",
   "execution_count": 182,
   "metadata": {},
   "outputs": [],
   "source": [
    "\n",
    "PAULI_O = \"Z\"\n",
    "d_set = [3,5]\n",
    "generator_strs_list = [get_stabilizer_generators(distance)[::-1] for distance in d_set]\n",
    "n_set = [len(generator_str[0]) for generator_str in generator_strs_list]\n",
    "obs_set = [PauliString(PAULI_O*n)._pauli for n in n_set]\n",
    "logical0_set = [StabilizerState.from_stabilizer_list(generator_strs_list[i]+[\"Z\"*n_set[i]]).probabilities_dict() for i in range(len(d_set))]\n",
    "logical1_set = [[s.replace('1', '2').replace('0', '1').replace('2', '0') for s in logical0]for logical0 in logical0_set]\n",
    "\n",
    "\n",
    "with open('codewords0.pkl', 'wb') as f:\n",
    "    pickle.dump(logical0_set, f)\n",
    "with open('codewords1.pkl', 'wb') as f:\n",
    "    pickle.dump(logical1_set, f)"
   ]
  },
  {
   "cell_type": "code",
   "execution_count": 183,
   "metadata": {},
   "outputs": [
    {
     "name": "stdout",
     "output_type": "stream",
     "text": [
      "d = 3 noise = 0.0001 expect = 0.9999998193153062\n",
      "d = 3 noise = 0.0001668100537200059 expect = 0.9999997383504751\n",
      "d = 3 noise = 0.0002782559402207126 expect = 0.9999990298045458\n",
      "d = 3 noise = 0.00046415888336127773 expect = 0.9999972519844743\n",
      "d = 3 noise = 0.000774263682681127 expect = 0.9999924412828503\n",
      "d = 3 noise = 0.001291549665014884 expect = 0.9999763922980881\n",
      "d = 3 noise = 0.002154434690031882 expect = 0.9999262346419847\n",
      "d = 3 noise = 0.003593813663804626 expect = 0.9997708617387906\n",
      "d = 3 noise = 0.005994842503189409 expect = 0.9992301082330001\n",
      "d = 3 noise = 0.01 expect = 0.9972533974459912\n",
      "d = 5 noise = 0.0001 expect = 1.0\n",
      "d = 5 noise = 0.0001668100537200059 expect = 1.0\n",
      "d = 5 noise = 0.0002782559402207126 expect = 0.9999999776489021\n",
      "d = 5 noise = 0.00046415888336127773 expect = 0.9999997833933245\n",
      "d = 5 noise = 0.000774263682681127 expect = 0.999999129356024\n",
      "d = 5 noise = 0.001291549665014884 expect = 0.9999960654693234\n",
      "d = 5 noise = 0.002154434690031882 expect = 0.9999734585499963\n",
      "d = 5 noise = 0.003593813663804626 expect = 0.9998014504692235\n",
      "d = 5 noise = 0.005994842503189409 expect = 0.9981461047801844\n",
      "d = 5 noise = 0.01 expect = 0.9800072339985566\n"
     ]
    }
   ],
   "source": [
    "results_raw = {}\n",
    "results_post_process = {}\n",
    "\n",
    "for i in range(len(d_set)):\n",
    "    results_raw[d_set[i]] = {}\n",
    "    results_post_process[d_set[i]] = {}\n",
    "\n",
    "    for noise_ratio in noise_set:\n",
    "\n",
    "        # circuit preparation\n",
    "        generator_strs = get_stabilizer_generators(d_set[i])\n",
    "        observable = PauliString(PAULI_O*n_set[i])._pauli\n",
    "        qreg = cirq.LineQubit.range(n_set[i])\n",
    "        stabilizer_generators = strs_to_paulis(generator_strs_list[i])\n",
    "        stabilizer_matrix = get_stabilizer_matrix_from_paulis(stabilizer_generators, qreg)\n",
    "        encoding_circuit = stimcirq.stim_circuit_to_cirq_circuit(stabilizers_to_encoder([stim.PauliString(s) for s in generator_strs_list[i]]))\n",
    "        encoding_circuit = encoding_circuit.with_noise(noise(noise_ratio))\n",
    "        encoding_circuit.append(cirq.measure(qreg, key=\"z\"))\n",
    "        # running circuit\n",
    "        counts = simulator.run(encoding_circuit, repetitions=nshots).histogram(key=\"z\")\n",
    "        counts = {int_to_bin_str(key, n_set[i]) : val for key, val in counts.items()}\n",
    "        results_raw[d_set[i]][noise_ratio] = counts\n",
    "        # post-processing\n",
    "        p0 = 0.0\n",
    "        p1 = 0.0\n",
    "        for state in logical0_set[i]:\n",
    "            if state in counts:\n",
    "\n",
    "                p0 += counts[state]\n",
    "        for state in logical1_set[i]:\n",
    "            if state in counts:\n",
    "                p1 += counts[state]\n",
    "        obs_value = (p0-p1)/(p0+p1)\n",
    "        results_post_process[d_set[i]][noise_ratio] = obs_value\n",
    "\n",
    "        # saving\n",
    "        print(\"d = \" + str(d_set[i])+ \" noise = \"+str(noise_ratio) + \" expect = \"+str(obs_value))\n",
    "        with open('raw_results_Z.pkl', 'wb') as f:\n",
    "            pickle.dump(results_raw, f)\n",
    "        with open('post_process_results_Z.pkl', 'wb') as f:\n",
    "            pickle.dump(results_post_process, f)"
   ]
  },
  {
   "cell_type": "code",
   "execution_count": 198,
   "metadata": {},
   "outputs": [
    {
     "data": {
      "text/plain": [
       "<matplotlib.legend.Legend at 0x145b44260>"
      ]
     },
     "execution_count": 198,
     "metadata": {},
     "output_type": "execute_result"
    },
    {
     "data": {
      "image/png": "[encoded data removed]",
      "text/plain": [
       "<Figure size 640x480 with 1 Axes>"
      ]
     },
     "metadata": {},
     "output_type": "display_data"
    }
   ],
   "source": [
    "import matplotlib.pyplot as plt\n",
    "plt.figure()\n",
    "plt.loglog(list(results_post_process[3].keys()),np.ones(1)-obs_unencoded/(10_000_000*np.ones(10)),\"--o\",label = \"d=1\")\n",
    "plt.loglog(list(results_post_process[3].keys()),np.ones(1)-list(results_post_process[3].values()),\"--o\",label = \"d=3\")\n",
    "plt.loglog(list(results_post_process[5].keys()),np.ones(1)-list(results_post_process[5].values()),\"--o\",label = \"d=5\")\n",
    "plt.ylim(1e-8,1e-1)\n",
    "plt.xlabel(\"Depolarizing noise\")\n",
    "plt.ylabel(r\"$1-\\langle \\bar{Z} \\rangle$\")\n",
    "plt.legend()"
   ]
  },
  {
   "cell_type": "markdown",
   "metadata": {},
   "source": [
    "# Scaling experiment X"
   ]
  },
  {
   "cell_type": "markdown",
   "metadata": {},
   "source": [
    "obs_unencoded"
   ]
  },
  {
   "cell_type": "markdown",
   "metadata": {},
   "source": []
  },
  {
   "cell_type": "code",
   "execution_count": null,
   "metadata": {},
   "outputs": [
    {
     "data": {
      "text/plain": [
       "0.9998728"
      ]
     },
     "execution_count": 196,
     "metadata": {},
     "output_type": "execute_result"
    }
   ],
   "source": [
    "obs_unencoded[0]/10_000_000"
   ]
  },
  {
   "cell_type": "code",
   "execution_count": null,
   "metadata": {},
   "outputs": [],
   "source": []
  }
 ],
 "metadata": {
  "kernelspec": {
   "display_name": "venv",
   "language": "python",
   "name": "python3"
  },
  "language_info": {
   "codemirror_mode": {
    "name": "ipython",
    "version": 3
   },
   "file_extension": ".py",
   "mimetype": "text/x-python",
   "name": "python",
   "nbconvert_exporter": "python",
   "pygments_lexer": "ipython3",
   "version": "3.12.6"
  }
 },
 "nbformat": 4,
 "nbformat_minor": 2
}
