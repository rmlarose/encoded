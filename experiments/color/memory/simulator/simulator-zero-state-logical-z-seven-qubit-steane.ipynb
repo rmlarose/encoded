{
 "cells": [
  {
   "cell_type": "markdown",
   "metadata": {},
   "source": [
    "# Memory experiment: Compute $ \\langle \\bar{0} | \\bar{Z} | \\bar{0} \\rangle$ with the seven-qubit Steane code"
   ]
  },
  {
   "cell_type": "code",
   "execution_count": 2,
   "metadata": {},
   "outputs": [],
   "source": [
    "from typing import List, Dict, Sequence\n",
    "import itertools\n",
    "import functools\n",
    "import numpy as np\n",
    "import cirq\n",
    "import qiskit\n",
    "import qiskit_ibm_runtime\n",
    "from qiskit_aer import AerSimulator\n",
    "\n",
    "import matplotlib.pyplot as plt\n",
    "\n",
    "from mitiq import PauliString\n",
    "\n",
    "from encoded.diagonalize import get_stabilizer_matrix_from_paulis, get_measurement_circuit, get_paulis_from_stabilizer_matrix"
   ]
  },
  {
   "cell_type": "markdown",
   "metadata": {},
   "source": [
    "## Set parameters"
   ]
  },
  {
   "cell_type": "code",
   "execution_count": 4,
   "metadata": {},
   "outputs": [],
   "source": [
    "n = 7                                   # Number of physical qubits\n",
    "nshots = 100_000                        # Number of samples/shots\n",
    "depths = np.arange(0, 240 + 1, 20)      # Number of X (NOT) gates to perform (each depth should be even to implement a noisy identity)\n",
    "k = 1                                   # Number of logical qubits."
   ]
  },
  {
   "cell_type": "code",
   "execution_count": 15,
   "metadata": {},
   "outputs": [],
   "source": [
    "# Computer and qubits to use.\n",
    "# Option 1: Use saved noise characteristics.\n",
    "computer = qiskit_ibm_runtime.fake_provider.FakeKyiv()\n",
    "# computer = AerSimulator()  # Noiseless simulator - use this for a sanity check to see all computed expectation values (physical and encoded) are 1.0.\n",
    "\n",
    "# Option 2: Use noise characteristics from most recent calibration.\n",
    "# service = qiskit_ibm_runtime.QiskitRuntimeService()  # This assumes a saved account.\n",
    "# computer = service.backend(\"ibm_kyiv\")\n",
    "# computer = AerSimulator.from_backend(computer)\n",
    "\n",
    "# See calibration data at https://quantum.ibm.com/services/resources to select good qubits.\n",
    "layout = {\n",
    "    1 : [3],\n",
    "    7 : [3, 4, 5, 15, 21, 22, 23],\n",
    "}"
   ]
  },
  {
   "cell_type": "markdown",
   "metadata": {},
   "source": [
    "## Helper functions"
   ]
  },
  {
   "cell_type": "code",
   "execution_count": 6,
   "metadata": {},
   "outputs": [],
   "source": [
    "# Expectation of pauli on bitstring measured in diagonal basis.\n",
    "def compute_expectation(\n",
    "    pauli: cirq.PauliString,\n",
    "    counts: Dict[str, int],\n",
    ") -> float:\n",
    "    if pauli is cirq.PauliString():\n",
    "        return 1.0\n",
    "\n",
    "    expectation = 0.0\n",
    "\n",
    "    indices = [q.x for q in pauli.qubits]\n",
    "    for key, value in counts.items():\n",
    "        key = list(map(int, list(key[::-1])))\n",
    "        expectation += (-1) ** sum([key[i] for i in indices]) * value\n",
    "\n",
    "    return expectation / sum(counts.values())\n",
    "\n",
    "# Prepares logical |0> state on Steane Code\n",
    "def encode_steane(qreg: Sequence[cirq.Qid]) -> cirq.Circuit:\n",
    "    circuit = cirq.Circuit()\n",
    "\n",
    "    circuit.append(cirq.H.on(qreg[0]))\n",
    "    circuit.append(cirq.H.on(qreg[4]))\n",
    "    circuit.append(cirq.H.on(qreg[6]))\n",
    "\n",
    "    circuit.append(cirq.CNOT.on(qreg[0], qreg[1]))\n",
    "    circuit.append(cirq.CNOT.on(qreg[4], qreg[5]))\n",
    "\n",
    "    circuit.append(cirq.CNOT.on(qreg[6], qreg[3]))\n",
    "    circuit.append(cirq.CNOT.on(qreg[6], qreg[5]))\n",
    "    circuit.append(cirq.CNOT.on(qreg[4], qreg[2]))\n",
    "    \n",
    "    circuit.append(cirq.CNOT.on(qreg[0], qreg[3]))\n",
    "    circuit.append(cirq.CNOT.on(qreg[4], qreg[1]))\n",
    "    circuit.append(cirq.CNOT.on(qreg[3], qreg[2]))\n",
    "\n",
    "    return circuit\n",
    "\n",
    "def noisy_identity(qreg, depth):\n",
    "    circuit = cirq.Circuit()\n",
    "    if depth == 0:\n",
    "        circuit.append(cirq.I.on_each(qreg))\n",
    "    for _ in range(depth):\n",
    "        circuit.append(cirq.X.on_each(qreg))\n",
    "    return circuit\n",
    "\n",
    "def strs_to_paulis(pauli_strs : List[str]) -> List[cirq.PauliString]:\n",
    "    stab_list = []\n",
    "    for stab_str in pauli_strs:\n",
    "        stab_list.append(PauliString(stab_str)._pauli)\n",
    "    return stab_list\n",
    "\n",
    "def generate_stabilizer_elements(generators: List[cirq.PauliString]) -> List[cirq.PauliString]:\n",
    "    elements = []\n",
    "    for string in itertools.chain.from_iterable(itertools.combinations(generators, r) for r in range(len(generators) + 1)):\n",
    "        elements.append(\n",
    "            functools.reduce(lambda a, b: a * b, string, cirq.PauliString())\n",
    "        )\n",
    "    return elements\n",
    "\n",
    "# For qiskit circuits\n",
    "def get_active_qubits(circ):\n",
    "    dag = qiskit.converters.circuit_to_dag(circ)\n",
    "    active_qubits = [qubit for qubit in circ.qubits if qubit not in dag.idle_wires()]\n",
    "    return active_qubits\n",
    "\n",
    "def get_lst_ev(counts, observables, stabilizers):\n",
    "    numerator = 0\n",
    "    for obs in observables:\n",
    "        numerator += compute_expectation(obs, counts) / len(observables)\n",
    "    denominator = 0\n",
    "    for stab in stabilizers:\n",
    "        denominator += compute_expectation(stab, counts) / len(stabilizers)\n",
    "    return float(np.real_if_close(numerator / denominator))"
   ]
  },
  {
   "cell_type": "markdown",
   "metadata": {},
   "source": [
    "### Run unmitigated experiment"
   ]
  },
  {
   "cell_type": "code",
   "execution_count": null,
   "metadata": {},
   "outputs": [],
   "source": [
    "qreg = cirq.LineQubit.range(k)\n",
    "\n",
    "unmit_evs = []\n",
    "for depth in depths:\n",
    "    circuit = noisy_identity(qreg, depth)\n",
    "\n",
    "    circuit = qiskit.QuantumCircuit.from_qasm_str(circuit.to_qasm())\n",
    "    circuit.measure_active()\n",
    "    # Compile to device.\n",
    "    compiled_raw = qiskit.transpile(\n",
    "        circuit, \n",
    "        backend=computer,\n",
    "        initial_layout=layout[1],  # Hardcode n = 1 (i.e., no encoding) to get layout.\n",
    "        routing_method=\"sabre\",\n",
    "        # scheduling_method=\"asap\",\n",
    "        optimization_level=0,\n",
    "    )\n",
    "\n",
    "    job = computer.run(compiled_raw, shots=nshots)\n",
    "    counts = job.result().get_counts()\n",
    "    ev = compute_expectation(PauliString(\"Z\")._pauli, counts)\n",
    "\n",
    "    unmit_evs.append(ev)\n",
    "    print(ev)"
   ]
  },
  {
   "cell_type": "markdown",
   "metadata": {},
   "source": [
    "# Run encoded experiment"
   ]
  },
  {
   "cell_type": "code",
   "execution_count": 8,
   "metadata": {},
   "outputs": [],
   "source": [
    "generator_strs = [\n",
    "    \"XXXXIII\",\n",
    "    \"IXXIXXI\",\n",
    "    \"IIXXIXX\",\n",
    "    \"ZZZZIII\",\n",
    "    \"IZZIZZI\",\n",
    "    \"IIZZIZZ\"\n",
    "]\n",
    "\n",
    "observable = PauliString(\"Z\" * n)._pauli\n",
    "\n",
    "qreg = cirq.LineQubit.range(n)\n",
    "\n",
    "stabilizer_generators = strs_to_paulis(generator_strs)\n",
    "stabilizer_matrix = get_stabilizer_matrix_from_paulis(stabilizer_generators, qreg)\n",
    "measurement_circuit, transformed_matrix = get_measurement_circuit(stabilizer_matrix)\n",
    "\n",
    "transformed_generators = get_paulis_from_stabilizer_matrix(transformed_matrix)\n",
    "stabilizer_elements = generate_stabilizer_elements(transformed_generators)\n",
    "# for stab in stabilizer_elements:\n",
    "#     print(stab)\n",
    "\n",
    "transformed_observable = observable.conjugated_by(measurement_circuit**-1)\n",
    "observable_elements = [transformed_observable * stab for stab in stabilizer_elements]\n",
    "# for obs in observable_elements:\n",
    "#     print(obs)\n",
    "# print(measurement_circuit)\n"
   ]
  },
  {
   "cell_type": "code",
   "execution_count": null,
   "metadata": {},
   "outputs": [],
   "source": [
    "from qiskit.circuit.library import Barrier\n",
    "encoding = encode_steane(qreg)\n",
    "encoding = qiskit.QuantumCircuit.from_qasm_str(encoding.to_qasm())\n",
    "\n",
    "measurement = qiskit.QuantumCircuit.from_qasm_str(measurement_circuit.to_qasm())\n",
    "\n",
    "circ_full = encoding.compose(\n",
    "        Barrier(n, label=\"encoding\"), get_active_qubits(encoding)\n",
    "    ).compose(Barrier(n, label=\"measurement\"), get_active_qubits(encoding)\n",
    ").compose(measurement)\n",
    "circ_full.measure_active()\n",
    "\n",
    "noiseless_compiled = qiskit.transpile(\n",
    "    circ_full, \n",
    "    backend=computer,\n",
    "    initial_layout=layout[n],\n",
    "    routing_method=\"sabre\",\n",
    "    # scheduling_method=\"asap\",\n",
    "    optimization_level=3,\n",
    ")\n",
    "\n",
    "noiseless_compiled.draw(fold=-1, idle_wires=False)\n",
    "# encoding_compiled.count_ops()"
   ]
  },
  {
   "cell_type": "markdown",
   "metadata": {},
   "source": [
    "### Add (noisy) identity to circuit and compute expectation values"
   ]
  },
  {
   "cell_type": "code",
   "execution_count": null,
   "metadata": {},
   "outputs": [],
   "source": [
    "mit_evs = []\n",
    "for depth in depths:\n",
    "    compiled = noiseless_compiled.copy_empty_like()\n",
    "    for instruction in noiseless_compiled.data:\n",
    "        if instruction.label == \"measurement\":\n",
    "            for _ in range(depth):\n",
    "                for q in get_active_qubits(compiled):\n",
    "                    compiled.x(q)\n",
    "        compiled.append(\n",
    "            instruction, instruction.qubits\n",
    "        )\n",
    "        \n",
    "    job = computer.run(\n",
    "        compiled,\n",
    "        shots=nshots,\n",
    "    )\n",
    "    counts = job.result().get_counts()\n",
    "    ev = get_lst_ev(counts, observable_elements, stabilizer_elements)\n",
    "    mit_evs.append(ev)\n",
    "    print(ev)"
   ]
  },
  {
   "cell_type": "markdown",
   "metadata": {},
   "source": [
    "### Make the measurement/diagonalization circuit noiseless and compute expectation values"
   ]
  },
  {
   "cell_type": "code",
   "execution_count": null,
   "metadata": {},
   "outputs": [],
   "source": [
    "from qiskit.circuit.library import UnitaryGate\n",
    "from qiskit.transpiler import InstructionProperties\n",
    "\n",
    "ideal_props = {\n",
    "    (i,) : InstructionProperties(error=0.0, duration=0.0) for i in range(computer.num_qubits)\n",
    "}\n",
    "\n",
    "computer.target.add_instruction(UnitaryGate([[1, 0], [0, 1]]), ideal_props)\n",
    "print(computer.target._gate_map['unitary'])"
   ]
  },
  {
   "cell_type": "code",
   "execution_count": null,
   "metadata": {},
   "outputs": [],
   "source": [
    "from qiskit.circuit.library import UnitaryGate\n",
    "noiseless_compiled_perfect_measurment = noiseless_compiled.copy_empty_like()\n",
    "\n",
    "enc = True\n",
    "mea = False\n",
    "for instruction in noiseless_compiled.data:\n",
    "    # print(instruction)\n",
    "    if not mea and instruction.label != \"encoding\" and instruction.label != \"measurement\":\n",
    "        op = instruction\n",
    "    elif instruction.label == \"encoding\":\n",
    "        enc = False\n",
    "        op = instruction\n",
    "    elif instruction.label == \"measurement\":\n",
    "        mea = True\n",
    "        op = instruction\n",
    "    elif instruction.matrix is None:\n",
    "        op = instruction\n",
    "    else:\n",
    "        op = UnitaryGate(instruction.matrix, label=\"ideal_\" + instruction.operation.name)\n",
    "    noiseless_compiled_perfect_measurment.append(\n",
    "        op, instruction.qubits\n",
    "    )\n",
    "# print(noiseless_compiled_perfect_measurment.count_ops())\n",
    "noiseless_compiled_perfect_measurment.draw(fold=-1, idle_wires=False)"
   ]
  },
  {
   "cell_type": "code",
   "execution_count": null,
   "metadata": {},
   "outputs": [],
   "source": [
    "mit_evs_im = []\n",
    "for depth in depths:\n",
    "    compiled = noiseless_compiled_perfect_measurment.copy_empty_like()\n",
    "    for instruction in noiseless_compiled_perfect_measurment.data:\n",
    "        if instruction.label == \"measurement\":\n",
    "            for _ in range(depth):\n",
    "                for q in get_active_qubits(compiled):\n",
    "                    compiled.x(q)\n",
    "        compiled.append(\n",
    "            instruction, instruction.qubits\n",
    "        )\n",
    "\n",
    "    job = computer.run(\n",
    "        compiled,\n",
    "        shots=nshots,\n",
    "    )\n",
    "    counts = job.result().get_counts()\n",
    "    ev = get_lst_ev(counts, observable_elements, stabilizer_elements)\n",
    "\n",
    "    mit_evs_im.append(ev)\n",
    "    print(ev)"
   ]
  },
  {
   "cell_type": "code",
   "execution_count": null,
   "metadata": {},
   "outputs": [],
   "source": [
    "plt.rcParams.update({\"font.family\": \"serif\", \"font.size\": 12})\n",
    "colors = [\"xkcd:blue\", \"xkcd:orange\", \"xkcd:red\"]\n",
    "alpha: float = 0.75\n",
    "stop: int = 15\n",
    "\n",
    "# plt.title(\"Measuring $\\\\langle\\\\overline{Z}\\\\rangle$ on $|0\\\\rangle$ with Steane [[7,1,3]] Code\")\n",
    "plt.ylabel(r\"$\\langle \\bar{Z} \\rangle$\")\n",
    "plt.xlabel(\"Depth\")\n",
    "# plt.plot(depths[:stop], [1.0] * len(depths[:stop]), \"--\", label=\"Ideal\")\n",
    "plt.axhline(1.0, label=\"Ideal\", alpha=0.75, color=\"xkcd:darkgreen\")\n",
    "plt.plot(depths[:stop], unmit_evs[:stop], \"--o\", color=colors[0], alpha=alpha, mec=\"black\", ms=8, label=\"Raw\")\n",
    "plt.plot(depths[:stop], mit_evs[:stop], \"--o\", alpha=alpha, color=colors[1], mec=\"black\", ms=8, label=\"Encoded\")\n",
    "plt.plot(depths[:stop], mit_evs_im[:stop], \"--o\", alpha=alpha, color=colors[2], mec=\"black\", ms=8, label=\"Encoded with Ideal Measurement\")\n",
    "plt.legend();\n",
    "# plt.savefig(f\"color_memory_steane_[[7,1,3]]_logical_zero_logical_z_{computer.name}.pdf\")"
   ]
  },
  {
   "cell_type": "markdown",
   "metadata": {},
   "source": []
  }
 ],
 "metadata": {
  "kernelspec": {
   "display_name": "envencoded",
   "language": "python",
   "name": "envencoded"
  },
  "language_info": {
   "codemirror_mode": {
    "name": "ipython",
    "version": 3
   },
   "file_extension": ".py",
   "mimetype": "text/x-python",
   "name": "python",
   "nbconvert_exporter": "python",
   "pygments_lexer": "ipython3",
   "version": "3.10.12"
  }
 },
 "nbformat": 4,
 "nbformat_minor": 2
}
