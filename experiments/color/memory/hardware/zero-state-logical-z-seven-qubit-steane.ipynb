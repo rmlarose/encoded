{
 "cells": [
  {
   "cell_type": "markdown",
   "metadata": {},
   "source": [
    "# Memory experiment: Compute $ \\langle \\bar{0} | \\bar{Z} | \\bar{0} \\rangle$ with the seven-qubit Steane code"
   ]
  },
  {
   "cell_type": "code",
   "execution_count": 1,
   "metadata": {},
   "outputs": [],
   "source": [
    "import collections\n",
    "from typing import List, Dict, Sequence\n",
    "import itertools\n",
    "import functools\n",
    "\n",
    "import numpy as np\n",
    "import cirq\n",
    "import qiskit\n",
    "from qiskit.circuit.library import Barrier\n",
    "import qiskit_ibm_runtime\n",
    "from qiskit_ibm_runtime import SamplerV2 as Sampler\n",
    "\n",
    "import matplotlib.pyplot as plt; plt.rcParams.update({\"font.family\": \"serif\"})\n",
    "\n",
    "from mitiq import PauliString\n",
    "\n",
    "from encoded.diagonalize import get_stabilizer_matrix_from_paulis, get_measurement_circuit, get_paulis_from_stabilizer_matrix"
   ]
  },
  {
   "cell_type": "code",
   "execution_count": 2,
   "metadata": {},
   "outputs": [],
   "source": [
    "import datetime\n",
    "\n",
    "\n",
    "time_key = datetime.datetime.now().strftime(\"%m_%d_%Y_%H:%M:%S\")  # For saving results."
   ]
  },
  {
   "cell_type": "markdown",
   "metadata": {},
   "source": [
    "## Set parameters"
   ]
  },
  {
   "cell_type": "code",
   "execution_count": 3,
   "metadata": {},
   "outputs": [],
   "source": [
    "n = 7                                   # Number of physical qubits\n",
    "nshots = 20_000                         # Number of samples/shots\n",
    "depths = np.arange(0, 240 + 1, 20)      # Number of X (NOT) gates to perform (each depth should be even to implement a noisy identity)\n",
    "k = 1                                   # Number of logical qubits."
   ]
  },
  {
   "cell_type": "code",
   "execution_count": 4,
   "metadata": {},
   "outputs": [],
   "source": [
    "# Computer and qubits to use.\n",
    "service = qiskit_ibm_runtime.QiskitRuntimeService()  # This assumes a saved account.\n",
    "computer = service.backend(\"ibm_kyiv\")\n",
    "sampler = Sampler(computer)\n",
    "\n",
    "# See calibration data at https://quantum.ibm.com/services/resources to select good qubits.\n",
    "layout = {\n",
    "    1 : [103],\n",
    "    7 : [103, 104, 105, 106, 111, 121, 122],\n",
    "}"
   ]
  },
  {
   "cell_type": "markdown",
   "metadata": {},
   "source": [
    "## Helper functions"
   ]
  },
  {
   "cell_type": "code",
   "execution_count": 5,
   "metadata": {},
   "outputs": [],
   "source": [
    "def get_counts_for(qubit: int, counts: collections.Counter[str, int]) -> collections.Counter[int, int]:\n",
    "    qubit_counts = collections.Counter()\n",
    "    for key, value in counts.items():\n",
    "        k = list(key)[qubit]\n",
    "        qubit_counts[int(k)] += value\n",
    "    return qubit_counts\n",
    "\n",
    "# Expectation of pauli on bitstring measured in diagonal basis.\n",
    "def compute_expectation(\n",
    "    pauli: cirq.PauliString,\n",
    "    counts: Dict[str, int],\n",
    ") -> float:\n",
    "    if pauli is cirq.PauliString():\n",
    "        return 1.0\n",
    "\n",
    "    expectation = 0.0\n",
    "\n",
    "    indices = [q.x for q in pauli.qubits]\n",
    "    for key, value in counts.items():\n",
    "        key = list(map(int, list(key[::-1])))\n",
    "        expectation += (-1) ** sum([key[i] for i in indices]) * value\n",
    "\n",
    "    return expectation / sum(counts.values())\n",
    "\n",
    "# Prepares logical |0> state on Steane Code\n",
    "def encode_steane(qreg: Sequence[cirq.Qid]) -> cirq.Circuit:\n",
    "    circuit = cirq.Circuit()\n",
    "\n",
    "    circuit.append(cirq.H.on(qreg[0]))\n",
    "    circuit.append(cirq.H.on(qreg[4]))\n",
    "    circuit.append(cirq.H.on(qreg[6]))\n",
    "\n",
    "    circuit.append(cirq.CNOT.on(qreg[0], qreg[1]))\n",
    "    circuit.append(cirq.CNOT.on(qreg[4], qreg[5]))\n",
    "\n",
    "    circuit.append(cirq.CNOT.on(qreg[6], qreg[3]))\n",
    "    circuit.append(cirq.CNOT.on(qreg[6], qreg[5]))\n",
    "    circuit.append(cirq.CNOT.on(qreg[4], qreg[2]))\n",
    "    \n",
    "    circuit.append(cirq.CNOT.on(qreg[0], qreg[3]))\n",
    "    circuit.append(cirq.CNOT.on(qreg[4], qreg[1]))\n",
    "    circuit.append(cirq.CNOT.on(qreg[3], qreg[2]))\n",
    "\n",
    "    return circuit\n",
    "\n",
    "def noisy_identity(qreg, depth):\n",
    "    circuit = cirq.Circuit()\n",
    "    if depth == 0:\n",
    "        circuit.append(cirq.I.on_each(qreg))\n",
    "    for _ in range(depth):\n",
    "        circuit.append(cirq.X.on_each(qreg))\n",
    "    return circuit\n",
    "\n",
    "def strs_to_paulis(pauli_strs : List[str]) -> List[cirq.PauliString]:\n",
    "    stab_list = []\n",
    "    for stab_str in pauli_strs:\n",
    "        stab_list.append(PauliString(stab_str)._pauli)\n",
    "    return stab_list\n",
    "\n",
    "def generate_stabilizer_elements(generators: List[cirq.PauliString]) -> List[cirq.PauliString]:\n",
    "    elements = []\n",
    "    for string in itertools.chain.from_iterable(itertools.combinations(generators, r) for r in range(len(generators) + 1)):\n",
    "        elements.append(\n",
    "            functools.reduce(lambda a, b: a * b, string, cirq.PauliString())\n",
    "        )\n",
    "    return elements\n",
    "\n",
    "# For qiskit circuits\n",
    "def get_active_qubits(circ):\n",
    "    dag = qiskit.converters.circuit_to_dag(circ)\n",
    "    active_qubits = [qubit for qubit in circ.qubits if qubit not in dag.idle_wires()]\n",
    "    return active_qubits\n",
    "\n",
    "def get_lst_ev(counts, observables, stabilizers):\n",
    "    numerator = 0\n",
    "    for obs in observables:\n",
    "        numerator += compute_expectation(obs, counts) / len(observables)\n",
    "    denominator = 0\n",
    "    for stab in stabilizers:\n",
    "        denominator += compute_expectation(stab, counts) / len(stabilizers)\n",
    "    return float(np.real_if_close(numerator / denominator))"
   ]
  },
  {
   "cell_type": "markdown",
   "metadata": {},
   "source": [
    "### Run unmitigated experiment"
   ]
  },
  {
   "cell_type": "code",
   "execution_count": 6,
   "metadata": {},
   "outputs": [],
   "source": [
    "qreg = cirq.LineQubit.range(n)\n",
    "\n",
    "to_run_raw = []\n",
    "for depth in depths:\n",
    "    circuit = noisy_identity(qreg, depth)\n",
    "\n",
    "    circuit = qiskit.QuantumCircuit.from_qasm_str(circuit.to_qasm())\n",
    "    circuit.measure_active()\n",
    "    # Compile to device.\n",
    "    compiled_raw = qiskit.transpile(\n",
    "        circuit, \n",
    "        backend=computer,\n",
    "        initial_layout=layout[n],\n",
    "        routing_method=\"sabre\",\n",
    "        # scheduling_method=\"asap\",\n",
    "        optimization_level=0,\n",
    "    )\n",
    "    to_run_raw.append(compiled_raw)"
   ]
  },
  {
   "cell_type": "code",
   "execution_count": null,
   "metadata": {},
   "outputs": [],
   "source": [
    "to_run_raw[-1].draw(fold=-1, idle_wires=False)"
   ]
  },
  {
   "cell_type": "code",
   "execution_count": 8,
   "metadata": {},
   "outputs": [],
   "source": [
    "job_raw = sampler.run(\n",
    "    to_run_raw,\n",
    "    shots=nshots,\n",
    ")\n",
    "# job_raw = service.job(\"cu985s0tk14s73b24hog\")"
   ]
  },
  {
   "cell_type": "code",
   "execution_count": 15,
   "metadata": {},
   "outputs": [],
   "source": [
    "all_counts_raw = [result.data.measure.get_counts() for result in job_raw.result()]"
   ]
  },
  {
   "cell_type": "code",
   "execution_count": 16,
   "metadata": {},
   "outputs": [],
   "source": [
    "all_evals = {}\n",
    "\n",
    "for i, q in enumerate(layout[n]):\n",
    "    evals = []\n",
    "    for counts in all_counts_raw:\n",
    "        counts = get_counts_for(i, counts)\n",
    "        eval = (counts.get(0, 0) - counts.get(1, 0)) / nshots\n",
    "        evals.append(eval)\n",
    "    all_evals[q] = evals"
   ]
  },
  {
   "cell_type": "code",
   "execution_count": null,
   "metadata": {},
   "outputs": [],
   "source": [
    "for qubit, evals in all_evals.items():\n",
    "    plt.plot(depths, evals, \"--o\", alpha=0.5, label=f\"Qubit {qubit}\")\n",
    "\n",
    "evals_raw_avg = np.array(list(all_evals.values())).mean(axis=0)\n",
    "plt.plot(depths, evals_raw_avg, \"--o\", ms=8, lw=2, color=\"black\", label=\"Average\")\n",
    "plt.legend();"
   ]
  },
  {
   "cell_type": "markdown",
   "metadata": {},
   "source": [
    "# Run encoded experiment"
   ]
  },
  {
   "cell_type": "code",
   "execution_count": 9,
   "metadata": {},
   "outputs": [],
   "source": [
    "generator_strs = [\n",
    "    \"XXXXIII\",\n",
    "    \"IXXIXXI\",\n",
    "    \"IIXXIXX\",\n",
    "    \"ZZZZIII\",\n",
    "    \"IZZIZZI\",\n",
    "    \"IIZZIZZ\"\n",
    "]\n",
    "observable = PauliString(\"Z\" * n)._pauli\n",
    "qreg = cirq.LineQubit.range(n)\n",
    "\n",
    "stabilizer_generators = strs_to_paulis(generator_strs)\n",
    "stabilizer_matrix = get_stabilizer_matrix_from_paulis(stabilizer_generators, qreg)\n",
    "measurement_circuit, transformed_matrix = get_measurement_circuit(stabilizer_matrix)\n",
    "\n",
    "transformed_generators = get_paulis_from_stabilizer_matrix(transformed_matrix)\n",
    "stabilizer_elements = generate_stabilizer_elements(transformed_generators)\n",
    "# for stab in stabilizer_elements:\n",
    "#     print(stab)\n",
    "\n",
    "transformed_observable = observable.conjugated_by(measurement_circuit**-1)\n",
    "observable_elements = [transformed_observable * stab for stab in stabilizer_elements]\n",
    "# for obs in observable_elements:\n",
    "#     print(obs)\n",
    "# print(measurement_circuit)\n"
   ]
  },
  {
   "cell_type": "code",
   "execution_count": null,
   "metadata": {},
   "outputs": [],
   "source": [
    "encoding = encode_steane(qreg)\n",
    "encoding = qiskit.QuantumCircuit.from_qasm_str(encoding.to_qasm())\n",
    "\n",
    "measurement = qiskit.QuantumCircuit.from_qasm_str(measurement_circuit.to_qasm())\n",
    "\n",
    "circ_full = encoding.compose(\n",
    "        Barrier(n, label=\"encoding\"), get_active_qubits(encoding)\n",
    "    ).compose(Barrier(n, label=\"measurement\"), get_active_qubits(encoding)\n",
    ").compose(measurement)\n",
    "circ_full.measure_active()\n",
    "\n",
    "compiled = qiskit.transpile(\n",
    "    circ_full, \n",
    "    backend=computer,\n",
    "    initial_layout=layout[n],\n",
    "    routing_method=\"sabre\",\n",
    "    # scheduling_method=\"asap\",\n",
    "    optimization_level=3,\n",
    ")\n",
    "\n",
    "compiled.draw(fold=-1, idle_wires=False)\n",
    "# compiled.count_ops()"
   ]
  },
  {
   "cell_type": "code",
   "execution_count": 11,
   "metadata": {},
   "outputs": [],
   "source": [
    "to_run = []\n",
    "for depth in depths:\n",
    "    temp = compiled.copy_empty_like()\n",
    "    for instruction in compiled.data:\n",
    "        if instruction.label == \"measurement\":\n",
    "            for _ in range(depth):\n",
    "                for q in get_active_qubits(temp):\n",
    "                    temp.x(q)\n",
    "        temp.append(\n",
    "            instruction, instruction.qubits\n",
    "        )\n",
    "    to_run.append(temp)"
   ]
  },
  {
   "cell_type": "code",
   "execution_count": null,
   "metadata": {},
   "outputs": [],
   "source": [
    "to_run[-1].draw(fold=-1, idle_wires=False)"
   ]
  },
  {
   "cell_type": "code",
   "execution_count": null,
   "metadata": {},
   "outputs": [],
   "source": [
    "to_run[-1].count_ops()"
   ]
  },
  {
   "cell_type": "code",
   "execution_count": 14,
   "metadata": {},
   "outputs": [],
   "source": [
    "job = sampler.run(\n",
    "    to_run,\n",
    "    shots=nshots,\n",
    ")\n",
    "# job = service.job(\"cu98b8gtk14s73b255n0\")"
   ]
  },
  {
   "cell_type": "code",
   "execution_count": 18,
   "metadata": {},
   "outputs": [],
   "source": [
    "all_counts = [result.data.measure.get_counts() for result in job.result()]\n",
    "evals_encoded = [compute_expectation(observable, counts) for counts in all_counts]"
   ]
  },
  {
   "cell_type": "markdown",
   "metadata": {},
   "source": [
    "## With DD"
   ]
  },
  {
   "cell_type": "code",
   "execution_count": 20,
   "metadata": {},
   "outputs": [],
   "source": [
    "sampler.options.dynamical_decoupling.enable = True\n",
    "sampler.options.dynamical_decoupling.sequence_type = \"XpXm\""
   ]
  },
  {
   "cell_type": "code",
   "execution_count": 21,
   "metadata": {},
   "outputs": [],
   "source": [
    "job_dd = sampler.run(\n",
    "    to_run,\n",
    "    shots=nshots,\n",
    ")"
   ]
  },
  {
   "cell_type": "code",
   "execution_count": 22,
   "metadata": {},
   "outputs": [],
   "source": [
    "all_counts_dd = [result.data.measure.get_counts() for result in job_dd.result()]\n",
    "evals_dd = [compute_expectation(observable, counts) for counts in all_counts_dd]"
   ]
  },
  {
   "cell_type": "markdown",
   "metadata": {},
   "source": [
    "## Plot data"
   ]
  },
  {
   "cell_type": "code",
   "execution_count": 25,
   "metadata": {},
   "outputs": [],
   "source": [
    "save_key = f\"memory_steane_zero_state_z_{computer.name}_{time_key}_job_raw_id_{job_raw.job_id()}_job_encoded_id_{job.job_id()}_job_encoded_dd_id_{job_dd.job_id()}\""
   ]
  },
  {
   "cell_type": "code",
   "execution_count": null,
   "metadata": {},
   "outputs": [],
   "source": [
    "plt.rcParams.update({\"font.family\": \"serif\", \"font.size\": 12})\n",
    "colors = [\"xkcd:blue\", \"xkcd:orange\", \"xkcd:red\"]\n",
    "alpha: float = 0.75\n",
    "\n",
    "plt.axhline(1.0, label=\"Ideal\", alpha=alpha, color=\"xkcd:darkgreen\")\n",
    "plt.plot(depths, evals_raw_avg, \"--o\", alpha=alpha, label=\"Physical (Average)\")\n",
    "plt.plot(depths, all_evals[121], \"--o\", alpha=alpha, label=\"Physical (Best)\")\n",
    "plt.plot(depths, evals_encoded, \"--o\", alpha=alpha, label=\"Encoded\")\n",
    "plt.plot(depths, evals_dd, \"--o\", alpha=alpha, label=\"Encoded + DD\")\n",
    "\n",
    "plt.ylabel(r\"$\\langle \\bar{Z} \\rangle$\")\n",
    "plt.xlabel(\"Depth\")\n",
    "\n",
    "plt.legend();\n",
    "# plt.savefig(save_key + \".pdf\")"
   ]
  },
  {
   "cell_type": "markdown",
   "metadata": {},
   "source": [
    "## Save all data"
   ]
  },
  {
   "cell_type": "code",
   "execution_count": 27,
   "metadata": {},
   "outputs": [],
   "source": [
    "import os\n",
    "\n",
    "import pickle"
   ]
  },
  {
   "cell_type": "code",
   "execution_count": 28,
   "metadata": {},
   "outputs": [],
   "source": [
    "os.mkdir(save_key)"
   ]
  },
  {
   "cell_type": "code",
   "execution_count": 29,
   "metadata": {},
   "outputs": [],
   "source": [
    "np.savetxt(f\"{save_key}/physical_qubits.txt\", layout[n])"
   ]
  },
  {
   "cell_type": "code",
   "execution_count": 30,
   "metadata": {},
   "outputs": [],
   "source": [
    "with open(f\"{save_key}/expectation_values_raw.pkl\", \"wb\") as f:\n",
    "    pickle.dump(all_evals, f)"
   ]
  },
  {
   "cell_type": "code",
   "execution_count": 31,
   "metadata": {},
   "outputs": [],
   "source": [
    "np.savetxt(f\"{save_key}/expectation_values_encoded.txt\", evals)"
   ]
  },
  {
   "cell_type": "markdown",
   "metadata": {},
   "source": []
  }
 ],
 "metadata": {
  "kernelspec": {
   "display_name": "envencoded",
   "language": "python",
   "name": "envencoded"
  },
  "language_info": {
   "codemirror_mode": {
    "name": "ipython",
    "version": 3
   },
   "file_extension": ".py",
   "mimetype": "text/x-python",
   "name": "python",
   "nbconvert_exporter": "python",
   "pygments_lexer": "ipython3",
   "version": "3.10.12"
  }
 },
 "nbformat": 4,
 "nbformat_minor": 2
}
