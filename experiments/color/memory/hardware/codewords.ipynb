{
 "cells": [
  {
   "cell_type": "markdown",
   "metadata": {},
   "source": [
    "# Color code memory experiment on IBM"
   ]
  },
  {
   "cell_type": "code",
   "execution_count": null,
   "metadata": {},
   "outputs": [],
   "source": [
    "from collections import Counter\n",
    "import os\n",
    "import pickle\n",
    "\n",
    "import matplotlib.pyplot as plt\n",
    "import numpy as np\n",
    "\n",
    "import cirq\n",
    "import stim\n",
    "import stimcirq\n",
    "\n",
    "import qiskit\n",
    "import qiskit_ibm_runtime\n",
    "from qiskit_ibm_runtime import SamplerV2 as Sampler"
   ]
  },
  {
   "cell_type": "code",
   "execution_count": null,
   "metadata": {},
   "outputs": [],
   "source": [
    "import datetime\n",
    "\n",
    "\n",
    "time_key = datetime.datetime.now().strftime(\"%m_%d_%Y_%H:%M:%S\")  # For saving results."
   ]
  },
  {
   "cell_type": "markdown",
   "metadata": {},
   "source": [
    "## Set parameters"
   ]
  },
  {
   "cell_type": "code",
   "execution_count": null,
   "metadata": {},
   "outputs": [],
   "source": [
    "distance = 5                        # Color code distance.\n",
    "nshots = 100_000                    # Number of samples/shots\n",
    "depths = [0, 20, 40, 60, 80, 100]   # Number of times to do logical X.\n",
    "\n",
    "simulator = stimcirq.StimSampler()  # To sample codewords."
   ]
  },
  {
   "cell_type": "code",
   "execution_count": null,
   "metadata": {},
   "outputs": [],
   "source": [
    "service = qiskit_ibm_runtime.QiskitRuntimeService()  # This assumes a saved account.\n",
    "computer = service.backend(\"ibm_fez\")\n",
    "sampler = Sampler(computer)\n",
    "\n",
    "# Good qubits on Fez April 4.\n",
    "layout = {\n",
    "    3: [1, 2, 3, 4, 5, 6, 7],\n",
    "    5: [0, 1, 2, 3, 4, 5, 6, 7, 8, 16, 17, 20, 21, 22, 23, 24, 25, 26, 27],\n",
    "}"
   ]
  },
  {
   "cell_type": "markdown",
   "metadata": {},
   "source": [
    "## Helper functions"
   ]
  },
  {
   "cell_type": "code",
   "execution_count": null,
   "metadata": {},
   "outputs": [],
   "source": [
    "import dataclasses\n",
    "\n",
    "\n",
    "@dataclasses.dataclass\n",
    "class Tile:\n",
    "    qubits: list\n",
    "    color: str\n",
    "\n",
    "\n",
    "def make_color_code_tiles(*, base_data_width):\n",
    "    if not (base_data_width % 2 == 1 and base_data_width >= 3):\n",
    "        raise ValueError(f\"{base_data_width=} wasn't an odd number at least as large as 3.\")\n",
    "    w = base_data_width * 2 - 1\n",
    "\n",
    "    def is_in_bounds(q: complex) -> bool:\n",
    "\n",
    "        if q.imag < 0:\n",
    "\n",
    "            return False\n",
    "        if q.imag * 2 > q.real * 3:\n",
    "\n",
    "            return False\n",
    "        if q.imag * 2 > (w - q.real) * 3:\n",
    "\n",
    "            return False\n",
    "        return True\n",
    "\n",
    "\n",
    "    tiles = []\n",
    "    hexagon_offsets = [-1, +1j, +1j + 1, +2, -1j + 1, -1j]\n",
    "    for x in range(1, w, 2):\n",
    "        for y in range((x // 2) % 2, w, 2):\n",
    "            q = x + 1j * y\n",
    "\n",
    "            tile = Tile(\n",
    "                color=['red', 'green', 'blue'][y % 3],\n",
    "\n",
    "            \n",
    "                qubits=[\n",
    "                    q + d\n",
    "                    for d in hexagon_offsets\n",
    "                    if is_in_bounds(q + d)\n",
    "                ],\n",
    "            )\n",
    "\n",
    "            if len(tile.qubits) in [4, 6]:\n",
    "                tiles.append(tile)\n",
    "\n",
    "    return tiles\n",
    "\n",
    "def get_stabilizer_generators(distance: int):\n",
    "    tiles = make_color_code_tiles(base_data_width=distance)\n",
    "    all_qubits = {q for tile in tiles for q in tile.qubits}\n",
    "\n",
    "    # Only difference here is with the chromobius notebook that we rever\n",
    "    sorted_qubits = reversed(sorted(all_qubits, key=lambda q: (q.imag, q.real)))\n",
    "    q2i = {q: i for i, q in enumerate(sorted_qubits)}\n",
    "\n",
    "    sorted_tiles = []\n",
    "    for tile in tiles:\n",
    "        sorted_tiles.append([q2i[q] for q in tile.qubits])\n",
    "\n",
    "    stabilizers_x = []\n",
    "    stabilizers_z = []\n",
    "    for tile in sorted_tiles:\n",
    "        stab_x = \"\"\n",
    "        stab_z = \"\"\n",
    "        for i in range(int((3*distance**2+1)/4)):\n",
    "            if i in tile:\n",
    "                stab_x+=\"X\"\n",
    "                stab_z+=\"Z\"\n",
    "            else:\n",
    "                stab_x+=\"I\"\n",
    "                stab_z+=\"I\"\n",
    "        stabilizers_x.append(stab_x)\n",
    "        stabilizers_z.append(stab_z)\n",
    "\n",
    "    return stabilizers_x + stabilizers_z\n",
    "\n",
    "def stabilizers_to_encoder(stabilizers) -> stim.Circuit:\n",
    "    \n",
    "    tableau = stim.Tableau.from_stabilizers(\n",
    "        stabilizers,\n",
    "        allow_underconstrained=True,\n",
    "    )\n",
    "    # Note: Look at https://github.com/quantumlib/Stim/blob/main/doc/python_api_reference_vDev.md\n",
    "    # For the different method of encoding\n",
    "\n",
    "    return tableau.to_circuit(method='graph_state')"
   ]
  },
  {
   "cell_type": "code",
   "execution_count": null,
   "metadata": {},
   "outputs": [],
   "source": [
    "def expectation(counts, logical0, logical1):\n",
    "    # From YLF\n",
    "    p0 = 0.0\n",
    "    p1 = 0.0\n",
    "    for state in logical0:\n",
    "        if state in counts:\n",
    "            p0 += counts[state]\n",
    "    for state in logical1:\n",
    "        if state in counts:\n",
    "            p1 += counts[state]\n",
    "    obs_value = (p0-p1)/(p0+p1) if p0+p1 > 0 else None\n",
    "    return obs_value"
   ]
  },
  {
   "cell_type": "code",
   "execution_count": null,
   "metadata": {},
   "outputs": [],
   "source": [
    "all_mit_evs = []\n",
    "all_ncodewords = []\n",
    "\n",
    "generator_strs = get_stabilizer_generators(distance)\n",
    "n = len(generator_strs[0])\n",
    "qreg = cirq.LineQubit.range(n)"
   ]
  },
  {
   "cell_type": "code",
   "execution_count": null,
   "metadata": {},
   "outputs": [],
   "source": [
    "ntrials = 100\n",
    "seed = 1\n",
    "\n",
    "rng = np.random.RandomState(seed)\n",
    "\n",
    "num2_best = np.inf\n",
    "for _ in range(ntrials):\n",
    "    rng.shuffle(generator_strs)\n",
    "\n",
    "    circuit = stimcirq.stim_circuit_to_cirq_circuit(stabilizers_to_encoder([stim.PauliString(s) for s in generator_strs]))\n",
    "    for seed_compiler in range(25):\n",
    "        compiled = qiskit.transpile(\n",
    "            qiskit.QuantumCircuit.from_qasm_str(circuit.to_qasm()), \n",
    "            backend=computer,\n",
    "            initial_layout=layout[distance],\n",
    "            routing_method=\"sabre\",\n",
    "            # scheduling_method=\"asap\",\n",
    "            optimization_level=3,\n",
    "            seed_transpiler=seed_compiler,\n",
    "        )\n",
    "        gates = compiled.count_ops()\n",
    "        num2 = gates.get(\"cz\")\n",
    "        \n",
    "        if num2 < num2_best:\n",
    "            encoding_circuit = circuit\n",
    "            encoding_circuit_compiled = compiled\n",
    "            num2_best = num2\n",
    "            print(num2)"
   ]
  },
  {
   "cell_type": "code",
   "execution_count": null,
   "metadata": {},
   "outputs": [],
   "source": [
    "encoding_circuit"
   ]
  },
  {
   "cell_type": "code",
   "execution_count": null,
   "metadata": {},
   "outputs": [],
   "source": [
    "try:\n",
    "    logical0 = np.loadtxt(f\"logical0_d{distance}.txt\")\n",
    "    logical1 = np.loadtxt(f\"logical1_d{distance}.txt\")\n",
    "    print(\"Loaded codewords from memory\")\n",
    "except FileNotFoundError:\n",
    "    logical0 = simulator.run(\n",
    "        encoding_circuit + [cirq.measure(qreg, key=\"m\")],\n",
    "        repetitions=100*2**(sum(sum(range(3+d)) for d in range((distance-3)//2+1)))\n",
    "    ).histogram(key='m').keys()\n",
    "    logical1 = set()\n",
    "    for cw in logical0:\n",
    "        logical1.add(int(\"\".join([\"0\" if ch==\"1\" else \"1\" for ch in [\"0\"]*(n-len(bin(cw)[2:])) + list(bin(cw)[2:])]), 2))\n",
    "print(f\"{len(logical0)} code words for distance {distance}\")"
   ]
  },
  {
   "cell_type": "code",
   "execution_count": null,
   "metadata": {},
   "outputs": [],
   "source": [
    "encoding = qiskit.QuantumCircuit.from_qasm_str(encoding_circuit.to_qasm())\n",
    "encoding.barrier()\n",
    "encoding.draw(fold=-1, idle_wires=False)"
   ]
  },
  {
   "cell_type": "code",
   "execution_count": null,
   "metadata": {},
   "outputs": [],
   "source": [
    "to_run = []\n",
    "for depth in depths:\n",
    "    circuit = encoding.copy()\n",
    "\n",
    "    for _ in range(depth):\n",
    "        circuit.x(circuit.qubits)\n",
    "        circuit.barrier()\n",
    "\n",
    "    circuit.measure_active()\n",
    "\n",
    "    compiled = qiskit.transpile(\n",
    "        circuit, \n",
    "        backend=computer,\n",
    "        initial_layout=layout[distance],\n",
    "        routing_method=\"sabre\",\n",
    "        # scheduling_method=\"asap\",\n",
    "        optimization_level=3,\n",
    "        seed_transpiler=2,\n",
    "    )\n",
    "    to_run.append(compiled)"
   ]
  },
  {
   "cell_type": "code",
   "execution_count": null,
   "metadata": {},
   "outputs": [],
   "source": [
    "[circuit.count_ops() for circuit in to_run]"
   ]
  },
  {
   "cell_type": "code",
   "execution_count": null,
   "metadata": {},
   "outputs": [],
   "source": [
    "to_run[-1].draw(fold=-1, idle_wires=False)"
   ]
  },
  {
   "cell_type": "code",
   "execution_count": null,
   "metadata": {},
   "outputs": [],
   "source": [
    "job = sampler.run(\n",
    "    to_run,\n",
    "    shots=nshots,\n",
    ")"
   ]
  },
  {
   "cell_type": "code",
   "execution_count": null,
   "metadata": {},
   "outputs": [],
   "source": [
    "all_counts = [result.data.measure.get_counts() for result in job.result()]"
   ]
  },
  {
   "cell_type": "code",
   "execution_count": null,
   "metadata": {},
   "outputs": [],
   "source": [
    "all_counts_ints = []\n",
    "for ibm_counts in all_counts:\n",
    "    counts = Counter()\n",
    "    for bitstring, count in ibm_counts.items():\n",
    "        counts[int(bitstring[::-1], 2)] += count\n",
    "    all_counts_ints.append(counts)"
   ]
  },
  {
   "cell_type": "code",
   "execution_count": null,
   "metadata": {},
   "outputs": [],
   "source": [
    "all_counts_filtered = []\n",
    "all_counts_filtered0 = []\n",
    "all_counts_filtered1 = []\n",
    "\n",
    "for counts_ints in all_counts_ints:\n",
    "    filtered = Counter()\n",
    "    filtered0 = Counter()\n",
    "    filtered1 = Counter()\n",
    "\n",
    "    for bitstring, count in counts_ints.items():\n",
    "        if bitstring in logical0:\n",
    "            filtered[bitstring] += count\n",
    "            filtered0[bitstring] += count\n",
    "        if bitstring in logical1:\n",
    "            filtered[bitstring] += count\n",
    "            filtered1[bitstring] += count\n",
    "    all_counts_filtered.append(filtered)\n",
    "    all_counts_filtered0.append(filtered0)\n",
    "    all_counts_filtered1.append(filtered1)"
   ]
  },
  {
   "cell_type": "code",
   "execution_count": null,
   "metadata": {},
   "outputs": [],
   "source": [
    "ncodewords = np.array([sum(filtered.values()) for filtered in all_counts_filtered])\n",
    "ncodewords"
   ]
  },
  {
   "cell_type": "code",
   "execution_count": null,
   "metadata": {},
   "outputs": [],
   "source": [
    "nzeroes = np.array([sum(filtered0.values()) for filtered0 in all_counts_filtered0])\n",
    "nzeroes"
   ]
  },
  {
   "cell_type": "code",
   "execution_count": null,
   "metadata": {},
   "outputs": [],
   "source": [
    "nones = np.array([sum(filtered1.values()) for filtered1 in all_counts_filtered1])\n",
    "nones"
   ]
  },
  {
   "cell_type": "code",
   "execution_count": null,
   "metadata": {},
   "outputs": [],
   "source": [
    "p = 0.0001"
   ]
  },
  {
   "cell_type": "code",
   "execution_count": null,
   "metadata": {},
   "outputs": [],
   "source": [
    "t = (distance - 1) // 2"
   ]
  },
  {
   "cell_type": "code",
   "execution_count": null,
   "metadata": {},
   "outputs": [],
   "source": [
    "p_logical_error = 1 - (1 - p) ** n + n * p * (1 - p) ** (n - 1)"
   ]
  },
  {
   "cell_type": "code",
   "execution_count": null,
   "metadata": {},
   "outputs": [],
   "source": [
    "p_logical_error"
   ]
  },
  {
   "cell_type": "code",
   "execution_count": null,
   "metadata": {},
   "outputs": [],
   "source": [
    "plt.plot(depths, nzeroes / nshots, label=r\"$\\left| \\{ \\bar{z} : \\bar{z} \\in \\mathcal{C} \\} \\right| / N$\")\n",
    "plt.plot(depths, nones / nshots, label=r\"$\\left| \\{ \\bar{z} : \\bar{z} = \\bar{0} \\in \\mathcal{C} \\} \\right| / N $\")\n",
    "plt.plot(depths, ncodewords / nshots, label=r\"$\\left| \\{ \\bar{z} : \\bar{z} = \\bar{1} \\in \\mathcal{C} \\} \\right| / N$\")\n",
    "# plt.plot(depths, nshots * np.ones_like(depths), label=r\"$\\left| \\{ z \\} \\right|$\")\n",
    "plt.plot(depths, p_logical_error * np.array(depths) / 2)\n",
    "plt.xlabel(\"Depth\")\n",
    "plt.ylabel(\"Codeword rate\")\n",
    "\n",
    "plt.legend();"
   ]
  },
  {
   "cell_type": "code",
   "execution_count": null,
   "metadata": {},
   "outputs": [],
   "source": [
    "evals = [expectation(counts, logical0, logical1) for counts in all_counts_ints]\n",
    "evals"
   ]
  },
  {
   "cell_type": "markdown",
   "metadata": {},
   "source": [
    "### With Dynamical decoupling"
   ]
  },
  {
   "cell_type": "code",
   "execution_count": null,
   "metadata": {},
   "outputs": [],
   "source": [
    "sampler.options.dynamical_decoupling.enable = True\n",
    "sampler.options.dynamical_decoupling.sequence_type = \"XpXm\""
   ]
  },
  {
   "cell_type": "code",
   "execution_count": null,
   "metadata": {},
   "outputs": [],
   "source": [
    "job_dd = sampler.run(\n",
    "    to_run,\n",
    "    shots=nshots,\n",
    ")"
   ]
  },
  {
   "cell_type": "code",
   "execution_count": null,
   "metadata": {},
   "outputs": [],
   "source": [
    "all_counts_dd = [result.data.measure.get_counts() for result in job_dd.result()]"
   ]
  },
  {
   "cell_type": "code",
   "execution_count": null,
   "metadata": {},
   "outputs": [],
   "source": [
    "all_counts_ints_dd = []\n",
    "for ibm_counts in all_counts_dd:\n",
    "    counts = Counter()\n",
    "    for bitstring, count in ibm_counts.items():\n",
    "        counts[int(bitstring[::-1], 2)] += count\n",
    "    all_counts_ints_dd.append(counts)"
   ]
  },
  {
   "cell_type": "code",
   "execution_count": null,
   "metadata": {},
   "outputs": [],
   "source": [
    "all_counts_filtered_dd = []\n",
    "all_counts_filtered0_dd = []\n",
    "all_counts_filtered1_dd = []\n",
    "\n",
    "for counts_ints in all_counts_ints_dd:\n",
    "    filtered = Counter()\n",
    "    filtered0 = Counter()\n",
    "    filtered1 = Counter()\n",
    "\n",
    "    for bitstring, count in counts_ints.items():\n",
    "        if bitstring in logical0:\n",
    "            filtered[bitstring] += count\n",
    "            filtered0[bitstring] += count\n",
    "        if bitstring in logical1:\n",
    "            filtered[bitstring] += count\n",
    "            filtered1[bitstring] += count\n",
    "    all_counts_filtered_dd.append(filtered)\n",
    "    all_counts_filtered0_dd.append(filtered0)\n",
    "    all_counts_filtered1_dd.append(filtered1)"
   ]
  },
  {
   "cell_type": "code",
   "execution_count": null,
   "metadata": {},
   "outputs": [],
   "source": [
    "ncodewords_dd = np.array([sum(filtered.values()) for filtered in all_counts_filtered_dd])\n",
    "ncodewords_dd"
   ]
  },
  {
   "cell_type": "code",
   "execution_count": null,
   "metadata": {},
   "outputs": [],
   "source": [
    "nzeroes_dd = np.array([sum(filtered0.values()) for filtered0 in all_counts_filtered0_dd])\n",
    "nzeroes"
   ]
  },
  {
   "cell_type": "code",
   "execution_count": null,
   "metadata": {},
   "outputs": [],
   "source": [
    "nones_dd = np.array([sum(filtered.values()) for filtered in all_counts_filtered1_dd])\n",
    "nones_dd"
   ]
  },
  {
   "cell_type": "code",
   "execution_count": null,
   "metadata": {},
   "outputs": [],
   "source": [
    "plt.plot(depths, nzeroes_dd / nshots, label=r\"$\\left| \\{ \\bar{z} : \\bar{z} \\in \\mathcal{C} \\} \\right| / N$\")\n",
    "plt.plot(depths, nones_dd / nshots, label=r\"$\\left| \\{ \\bar{z} : \\bar{z} = \\bar{0} \\in \\mathcal{C} \\} \\right| / N $\")\n",
    "plt.plot(depths, ncodewords_dd / nshots, label=r\"$\\left| \\{ \\bar{z} : \\bar{z} = \\bar{1} \\in \\mathcal{C} \\} \\right| / N$\")\n",
    "# plt.plot(depths, nshots * np.ones_like(depths), label=r\"$\\left| \\{ z \\} \\right|$\")\n",
    "plt.plot(depths, p_logical_error * np.array(depths) / 2)\n",
    "plt.xlabel(\"Depth\")\n",
    "plt.ylabel(\"Codeword rate\")\n",
    "\n",
    "plt.legend();"
   ]
  },
  {
   "cell_type": "code",
   "execution_count": null,
   "metadata": {},
   "outputs": [],
   "source": [
    "evals_dd = [expectation(counts, logical0, logical1) for counts in all_counts_ints_dd]\n",
    "evals_dd"
   ]
  },
  {
   "cell_type": "code",
   "execution_count": null,
   "metadata": {},
   "outputs": [],
   "source": [
    "# np.savetxt(\"codewords_logical0_distance7.txt\", list(sorted(logical0)))\n",
    "# np.savetxt(\"codewords_logical1_distance7.txt\", list(sorted(logical1)))"
   ]
  },
  {
   "cell_type": "markdown",
   "metadata": {},
   "source": [
    "## Plotting"
   ]
  },
  {
   "cell_type": "code",
   "execution_count": null,
   "metadata": {},
   "outputs": [],
   "source": [
    "plt.plot(depths, [1.0]*len(depths), label=\"Ideal\")\n",
    "plt.plot(depths, evals, \"--o\", label=\"Encoded\")\n",
    "plt.plot(depths, evals_dd, \"--o\", label=\"Encoded + DD\")\n",
    "\n",
    "plt.legend();"
   ]
  },
  {
   "cell_type": "code",
   "execution_count": null,
   "metadata": {},
   "outputs": [],
   "source": [
    "plt.semilogy(depths, ncodewords / nshots, label=\"Encoded\")\n",
    "plt.semilogy(depths, ncodewords_dd / nshots, label=\"Encoded + DD\")\n",
    "\n",
    "plt.xlabel(\"Depth\")\n",
    "plt.ylabel(\"Codeword rate\")\n",
    "\n",
    "plt.legend();"
   ]
  },
  {
   "cell_type": "markdown",
   "metadata": {},
   "source": [
    "## Save results"
   ]
  },
  {
   "cell_type": "code",
   "execution_count": null,
   "metadata": {},
   "outputs": [],
   "source": [
    "for i, (j, counts_to_save, evals_to_save) in enumerate(zip([job, job_dd], [all_counts, all_counts_dd], [evals, evals_dd])):\n",
    "    dir = j.job_id() + time_key\n",
    "    if i == 1:\n",
    "        dir += \"_dd\"\n",
    "    os.mkdir(dir)\n",
    "\n",
    "    for depth, counts in zip(depths, counts_to_save):\n",
    "        with open(f\"{dir}/depth_{depth}_counts.pkl\", \"wb\") as f:\n",
    "            pickle.dump(counts, f)\n",
    "\n",
    "    with open(f\"{dir}/nshots.txt\", \"w\") as f:\n",
    "        f.write(str(nshots))\n",
    "    \n",
    "    with open(f\"{dir}/computer.txt\", \"w\") as f:\n",
    "        f.write(computer.name)\n",
    "\n",
    "    np.savetxt(f\"{dir}/evals.txt\", evals_to_save)\n",
    "    np.savetxt(f\"{dir}/physical_qubits.txt\", layout[distance])\n",
    "    np.savetxt(f\"{dir}/depths.txt\", depths)"
   ]
  },
  {
   "cell_type": "markdown",
   "metadata": {},
   "source": []
  }
 ],
 "metadata": {
  "kernelspec": {
   "display_name": "envencode",
   "language": "python",
   "name": "python3"
  },
  "language_info": {
   "codemirror_mode": {
    "name": "ipython",
    "version": 3
   },
   "file_extension": ".py",
   "mimetype": "text/x-python",
   "name": "python",
   "nbconvert_exporter": "python",
   "pygments_lexer": "ipython3",
   "version": "3.10.13"
  }
 },
 "nbformat": 4,
 "nbformat_minor": 2
}
